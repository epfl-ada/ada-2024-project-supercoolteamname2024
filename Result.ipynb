{
 "cells": [
  {
   "cell_type": "markdown",
   "metadata": {},
   "source": [
    "# Result\n",
    "\n",
    "Here are presented the first results of the analyse of Wikipedia RFA. For more detail about our work, method, timeline and objective, see the readme on the github reprository here: https://github.com/epfl-ada/ada-2024-project-supercoolteamname2024/tree/main"
   ]
  },
  {
   "cell_type": "markdown",
   "metadata": {},
   "source": [
    "# Categories distribution"
   ]
  },
  {
   "cell_type": "code",
   "execution_count": 1,
   "metadata": {},
   "outputs": [
    {
     "data": {
      "application/vnd.plotly.v1+json": {
       "config": {
        "plotlyServerURL": "https://plot.ly"
       },
       "data": [
        {
         "alignmentgroup": "True",
         "hovertemplate": "Categories=%{x}<br>User Count=%{y}<extra></extra>",
         "legendgroup": "",
         "marker": {
          "color": "#636efa",
          "pattern": {
           "shape": ""
          }
         },
         "name": "",
         "offsetgroup": "",
         "orientation": "v",
         "showlegend": false,
         "textposition": "auto",
         "type": "bar",
         "x": [
          "History",
          "Entertainment",
          "Culture",
          "Geography",
          "Society",
          "Technology",
          "People",
          "Politics",
          "Sports",
          "Education",
          "Science",
          "Government",
          "Religion",
          "Lists",
          "Military",
          "Health",
          "Nature",
          "Law",
          "Philosophy",
          "Business",
          "Media",
          "Music",
          "Internet",
          "Economy",
          "Mass media",
          "Literature",
          "Transportation",
          "Food and drink",
          "Concepts",
          "Information",
          "Language",
          "Television",
          "Engineering",
          "Arts",
          "Time",
          "Environment",
          "Mathematics",
          "Human behavior",
          "Biology",
          "Entities",
          "Humanities",
          "Knowledge",
          "Universe",
          "Life",
          "Energy",
          "Communication",
          "Academic disciplines"
         ],
         "xaxis": "x",
         "y": [
          2162,
          1853,
          1721,
          1551,
          1437,
          1416,
          1400,
          1148,
          1036,
          913,
          877,
          840,
          817,
          804,
          705,
          651,
          641,
          636,
          629,
          472,
          444,
          429,
          400,
          392,
          349,
          329,
          298,
          231,
          227,
          198,
          195,
          176,
          165,
          163,
          151,
          133,
          122,
          105,
          96,
          84,
          75,
          69,
          48,
          47,
          38,
          32,
          30
         ],
         "yaxis": "y"
        }
       ],
       "layout": {
        "barmode": "relative",
        "legend": {
         "tracegroupgap": 0
        },
        "template": {
         "data": {
          "bar": [
           {
            "error_x": {
             "color": "#2a3f5f"
            },
            "error_y": {
             "color": "#2a3f5f"
            },
            "marker": {
             "line": {
              "color": "white",
              "width": 0.5
             },
             "pattern": {
              "fillmode": "overlay",
              "size": 10,
              "solidity": 0.2
             }
            },
            "type": "bar"
           }
          ],
          "barpolar": [
           {
            "marker": {
             "line": {
              "color": "white",
              "width": 0.5
             },
             "pattern": {
              "fillmode": "overlay",
              "size": 10,
              "solidity": 0.2
             }
            },
            "type": "barpolar"
           }
          ],
          "carpet": [
           {
            "aaxis": {
             "endlinecolor": "#2a3f5f",
             "gridcolor": "#C8D4E3",
             "linecolor": "#C8D4E3",
             "minorgridcolor": "#C8D4E3",
             "startlinecolor": "#2a3f5f"
            },
            "baxis": {
             "endlinecolor": "#2a3f5f",
             "gridcolor": "#C8D4E3",
             "linecolor": "#C8D4E3",
             "minorgridcolor": "#C8D4E3",
             "startlinecolor": "#2a3f5f"
            },
            "type": "carpet"
           }
          ],
          "choropleth": [
           {
            "colorbar": {
             "outlinewidth": 0,
             "ticks": ""
            },
            "type": "choropleth"
           }
          ],
          "contour": [
           {
            "colorbar": {
             "outlinewidth": 0,
             "ticks": ""
            },
            "colorscale": [
             [
              0,
              "#0d0887"
             ],
             [
              0.1111111111111111,
              "#46039f"
             ],
             [
              0.2222222222222222,
              "#7201a8"
             ],
             [
              0.3333333333333333,
              "#9c179e"
             ],
             [
              0.4444444444444444,
              "#bd3786"
             ],
             [
              0.5555555555555556,
              "#d8576b"
             ],
             [
              0.6666666666666666,
              "#ed7953"
             ],
             [
              0.7777777777777778,
              "#fb9f3a"
             ],
             [
              0.8888888888888888,
              "#fdca26"
             ],
             [
              1,
              "#f0f921"
             ]
            ],
            "type": "contour"
           }
          ],
          "contourcarpet": [
           {
            "colorbar": {
             "outlinewidth": 0,
             "ticks": ""
            },
            "type": "contourcarpet"
           }
          ],
          "heatmap": [
           {
            "colorbar": {
             "outlinewidth": 0,
             "ticks": ""
            },
            "colorscale": [
             [
              0,
              "#0d0887"
             ],
             [
              0.1111111111111111,
              "#46039f"
             ],
             [
              0.2222222222222222,
              "#7201a8"
             ],
             [
              0.3333333333333333,
              "#9c179e"
             ],
             [
              0.4444444444444444,
              "#bd3786"
             ],
             [
              0.5555555555555556,
              "#d8576b"
             ],
             [
              0.6666666666666666,
              "#ed7953"
             ],
             [
              0.7777777777777778,
              "#fb9f3a"
             ],
             [
              0.8888888888888888,
              "#fdca26"
             ],
             [
              1,
              "#f0f921"
             ]
            ],
            "type": "heatmap"
           }
          ],
          "heatmapgl": [
           {
            "colorbar": {
             "outlinewidth": 0,
             "ticks": ""
            },
            "colorscale": [
             [
              0,
              "#0d0887"
             ],
             [
              0.1111111111111111,
              "#46039f"
             ],
             [
              0.2222222222222222,
              "#7201a8"
             ],
             [
              0.3333333333333333,
              "#9c179e"
             ],
             [
              0.4444444444444444,
              "#bd3786"
             ],
             [
              0.5555555555555556,
              "#d8576b"
             ],
             [
              0.6666666666666666,
              "#ed7953"
             ],
             [
              0.7777777777777778,
              "#fb9f3a"
             ],
             [
              0.8888888888888888,
              "#fdca26"
             ],
             [
              1,
              "#f0f921"
             ]
            ],
            "type": "heatmapgl"
           }
          ],
          "histogram": [
           {
            "marker": {
             "pattern": {
              "fillmode": "overlay",
              "size": 10,
              "solidity": 0.2
             }
            },
            "type": "histogram"
           }
          ],
          "histogram2d": [
           {
            "colorbar": {
             "outlinewidth": 0,
             "ticks": ""
            },
            "colorscale": [
             [
              0,
              "#0d0887"
             ],
             [
              0.1111111111111111,
              "#46039f"
             ],
             [
              0.2222222222222222,
              "#7201a8"
             ],
             [
              0.3333333333333333,
              "#9c179e"
             ],
             [
              0.4444444444444444,
              "#bd3786"
             ],
             [
              0.5555555555555556,
              "#d8576b"
             ],
             [
              0.6666666666666666,
              "#ed7953"
             ],
             [
              0.7777777777777778,
              "#fb9f3a"
             ],
             [
              0.8888888888888888,
              "#fdca26"
             ],
             [
              1,
              "#f0f921"
             ]
            ],
            "type": "histogram2d"
           }
          ],
          "histogram2dcontour": [
           {
            "colorbar": {
             "outlinewidth": 0,
             "ticks": ""
            },
            "colorscale": [
             [
              0,
              "#0d0887"
             ],
             [
              0.1111111111111111,
              "#46039f"
             ],
             [
              0.2222222222222222,
              "#7201a8"
             ],
             [
              0.3333333333333333,
              "#9c179e"
             ],
             [
              0.4444444444444444,
              "#bd3786"
             ],
             [
              0.5555555555555556,
              "#d8576b"
             ],
             [
              0.6666666666666666,
              "#ed7953"
             ],
             [
              0.7777777777777778,
              "#fb9f3a"
             ],
             [
              0.8888888888888888,
              "#fdca26"
             ],
             [
              1,
              "#f0f921"
             ]
            ],
            "type": "histogram2dcontour"
           }
          ],
          "mesh3d": [
           {
            "colorbar": {
             "outlinewidth": 0,
             "ticks": ""
            },
            "type": "mesh3d"
           }
          ],
          "parcoords": [
           {
            "line": {
             "colorbar": {
              "outlinewidth": 0,
              "ticks": ""
             }
            },
            "type": "parcoords"
           }
          ],
          "pie": [
           {
            "automargin": true,
            "type": "pie"
           }
          ],
          "scatter": [
           {
            "fillpattern": {
             "fillmode": "overlay",
             "size": 10,
             "solidity": 0.2
            },
            "type": "scatter"
           }
          ],
          "scatter3d": [
           {
            "line": {
             "colorbar": {
              "outlinewidth": 0,
              "ticks": ""
             }
            },
            "marker": {
             "colorbar": {
              "outlinewidth": 0,
              "ticks": ""
             }
            },
            "type": "scatter3d"
           }
          ],
          "scattercarpet": [
           {
            "marker": {
             "colorbar": {
              "outlinewidth": 0,
              "ticks": ""
             }
            },
            "type": "scattercarpet"
           }
          ],
          "scattergeo": [
           {
            "marker": {
             "colorbar": {
              "outlinewidth": 0,
              "ticks": ""
             }
            },
            "type": "scattergeo"
           }
          ],
          "scattergl": [
           {
            "marker": {
             "colorbar": {
              "outlinewidth": 0,
              "ticks": ""
             }
            },
            "type": "scattergl"
           }
          ],
          "scattermapbox": [
           {
            "marker": {
             "colorbar": {
              "outlinewidth": 0,
              "ticks": ""
             }
            },
            "type": "scattermapbox"
           }
          ],
          "scatterpolar": [
           {
            "marker": {
             "colorbar": {
              "outlinewidth": 0,
              "ticks": ""
             }
            },
            "type": "scatterpolar"
           }
          ],
          "scatterpolargl": [
           {
            "marker": {
             "colorbar": {
              "outlinewidth": 0,
              "ticks": ""
             }
            },
            "type": "scatterpolargl"
           }
          ],
          "scatterternary": [
           {
            "marker": {
             "colorbar": {
              "outlinewidth": 0,
              "ticks": ""
             }
            },
            "type": "scatterternary"
           }
          ],
          "surface": [
           {
            "colorbar": {
             "outlinewidth": 0,
             "ticks": ""
            },
            "colorscale": [
             [
              0,
              "#0d0887"
             ],
             [
              0.1111111111111111,
              "#46039f"
             ],
             [
              0.2222222222222222,
              "#7201a8"
             ],
             [
              0.3333333333333333,
              "#9c179e"
             ],
             [
              0.4444444444444444,
              "#bd3786"
             ],
             [
              0.5555555555555556,
              "#d8576b"
             ],
             [
              0.6666666666666666,
              "#ed7953"
             ],
             [
              0.7777777777777778,
              "#fb9f3a"
             ],
             [
              0.8888888888888888,
              "#fdca26"
             ],
             [
              1,
              "#f0f921"
             ]
            ],
            "type": "surface"
           }
          ],
          "table": [
           {
            "cells": {
             "fill": {
              "color": "#EBF0F8"
             },
             "line": {
              "color": "white"
             }
            },
            "header": {
             "fill": {
              "color": "#C8D4E3"
             },
             "line": {
              "color": "white"
             }
            },
            "type": "table"
           }
          ]
         },
         "layout": {
          "annotationdefaults": {
           "arrowcolor": "#2a3f5f",
           "arrowhead": 0,
           "arrowwidth": 1
          },
          "autotypenumbers": "strict",
          "coloraxis": {
           "colorbar": {
            "outlinewidth": 0,
            "ticks": ""
           }
          },
          "colorscale": {
           "diverging": [
            [
             0,
             "#8e0152"
            ],
            [
             0.1,
             "#c51b7d"
            ],
            [
             0.2,
             "#de77ae"
            ],
            [
             0.3,
             "#f1b6da"
            ],
            [
             0.4,
             "#fde0ef"
            ],
            [
             0.5,
             "#f7f7f7"
            ],
            [
             0.6,
             "#e6f5d0"
            ],
            [
             0.7,
             "#b8e186"
            ],
            [
             0.8,
             "#7fbc41"
            ],
            [
             0.9,
             "#4d9221"
            ],
            [
             1,
             "#276419"
            ]
           ],
           "sequential": [
            [
             0,
             "#0d0887"
            ],
            [
             0.1111111111111111,
             "#46039f"
            ],
            [
             0.2222222222222222,
             "#7201a8"
            ],
            [
             0.3333333333333333,
             "#9c179e"
            ],
            [
             0.4444444444444444,
             "#bd3786"
            ],
            [
             0.5555555555555556,
             "#d8576b"
            ],
            [
             0.6666666666666666,
             "#ed7953"
            ],
            [
             0.7777777777777778,
             "#fb9f3a"
            ],
            [
             0.8888888888888888,
             "#fdca26"
            ],
            [
             1,
             "#f0f921"
            ]
           ],
           "sequentialminus": [
            [
             0,
             "#0d0887"
            ],
            [
             0.1111111111111111,
             "#46039f"
            ],
            [
             0.2222222222222222,
             "#7201a8"
            ],
            [
             0.3333333333333333,
             "#9c179e"
            ],
            [
             0.4444444444444444,
             "#bd3786"
            ],
            [
             0.5555555555555556,
             "#d8576b"
            ],
            [
             0.6666666666666666,
             "#ed7953"
            ],
            [
             0.7777777777777778,
             "#fb9f3a"
            ],
            [
             0.8888888888888888,
             "#fdca26"
            ],
            [
             1,
             "#f0f921"
            ]
           ]
          },
          "colorway": [
           "#636efa",
           "#EF553B",
           "#00cc96",
           "#ab63fa",
           "#FFA15A",
           "#19d3f3",
           "#FF6692",
           "#B6E880",
           "#FF97FF",
           "#FECB52"
          ],
          "font": {
           "color": "#2a3f5f"
          },
          "geo": {
           "bgcolor": "white",
           "lakecolor": "white",
           "landcolor": "white",
           "showlakes": true,
           "showland": true,
           "subunitcolor": "#C8D4E3"
          },
          "hoverlabel": {
           "align": "left"
          },
          "hovermode": "closest",
          "mapbox": {
           "style": "light"
          },
          "paper_bgcolor": "white",
          "plot_bgcolor": "white",
          "polar": {
           "angularaxis": {
            "gridcolor": "#EBF0F8",
            "linecolor": "#EBF0F8",
            "ticks": ""
           },
           "bgcolor": "white",
           "radialaxis": {
            "gridcolor": "#EBF0F8",
            "linecolor": "#EBF0F8",
            "ticks": ""
           }
          },
          "scene": {
           "xaxis": {
            "backgroundcolor": "white",
            "gridcolor": "#DFE8F3",
            "gridwidth": 2,
            "linecolor": "#EBF0F8",
            "showbackground": true,
            "ticks": "",
            "zerolinecolor": "#EBF0F8"
           },
           "yaxis": {
            "backgroundcolor": "white",
            "gridcolor": "#DFE8F3",
            "gridwidth": 2,
            "linecolor": "#EBF0F8",
            "showbackground": true,
            "ticks": "",
            "zerolinecolor": "#EBF0F8"
           },
           "zaxis": {
            "backgroundcolor": "white",
            "gridcolor": "#DFE8F3",
            "gridwidth": 2,
            "linecolor": "#EBF0F8",
            "showbackground": true,
            "ticks": "",
            "zerolinecolor": "#EBF0F8"
           }
          },
          "shapedefaults": {
           "line": {
            "color": "#2a3f5f"
           }
          },
          "ternary": {
           "aaxis": {
            "gridcolor": "#DFE8F3",
            "linecolor": "#A2B1C6",
            "ticks": ""
           },
           "baxis": {
            "gridcolor": "#DFE8F3",
            "linecolor": "#A2B1C6",
            "ticks": ""
           },
           "bgcolor": "white",
           "caxis": {
            "gridcolor": "#DFE8F3",
            "linecolor": "#A2B1C6",
            "ticks": ""
           }
          },
          "title": {
           "x": 0.05
          },
          "xaxis": {
           "automargin": true,
           "gridcolor": "#EBF0F8",
           "linecolor": "#EBF0F8",
           "ticks": "",
           "title": {
            "standoff": 15
           },
           "zerolinecolor": "#EBF0F8",
           "zerolinewidth": 2
          },
          "yaxis": {
           "automargin": true,
           "gridcolor": "#EBF0F8",
           "linecolor": "#EBF0F8",
           "ticks": "",
           "title": {
            "standoff": 15
           },
           "zerolinecolor": "#EBF0F8",
           "zerolinewidth": 2
          }
         }
        },
        "title": {
         "text": "User Count by Category"
        },
        "xaxis": {
         "anchor": "y",
         "domain": [
          0,
          1
         ],
         "tickangle": 45,
         "title": {
          "text": "Categories"
         }
        },
        "yaxis": {
         "anchor": "x",
         "domain": [
          0,
          1
         ],
         "title": {
          "text": "User Count"
         }
        }
       }
      }
     },
     "metadata": {},
     "output_type": "display_data"
    }
   ],
   "source": [
    "#Load\n",
    "from src.scripts.EdPlots import *"
   ]
  },
  {
   "cell_type": "markdown",
   "metadata": {},
   "source": [
    "\n",
    "The bar chart illustrates a diverse distribution of user interests across various categories, with each user potentially belonging to up to 4 different categories. The varying sizes of these categories may be attributed to the breadth of the topics themselves, as some categories, like Technology, may encompass broader subtopics such as Internet. Notably, certain categories have significantly higher user counts, while others are relatively small. To ensure statistical significance in subsequent analyses, we plan to exclude the smallest categories where the sample size may be insufficient for robust conclusions"
   ]
  },
  {
   "cell_type": "markdown",
   "metadata": {},
   "source": [
    "# Participation rate same/different group"
   ]
  },
  {
   "cell_type": "code",
   "execution_count": 2,
   "metadata": {},
   "outputs": [
    {
     "data": {
      "application/vnd.plotly.v1+json": {
       "config": {
        "plotlyServerURL": "https://plot.ly"
       },
       "data": [
        {
         "marker": {
          "color": "blue"
         },
         "name": "Within Category",
         "text": [
          "0.00%",
          "48.24%",
          "53.84%",
          "53.04%",
          "48.69%",
          "51.70%",
          "50.46%",
          "47.63%",
          "51.82%",
          "48.79%",
          "48.41%",
          "48.38%",
          "53.86%",
          "52.66%",
          "50.55%"
         ],
         "textposition": "auto",
         "type": "bar",
         "x": [
          "",
          "History",
          "Entertainment",
          "Culture",
          "Geography",
          "Society",
          "Technology",
          "People",
          "Politics",
          "Sports",
          "Education",
          "Science",
          "Government",
          "Religion",
          "Lists"
         ],
         "y": [
          0,
          0.4823529411764706,
          0.5383580080753702,
          0.5304029304029304,
          0.4868913857677903,
          0.5170454545454546,
          0.5046329294369208,
          0.4763231197771588,
          0.5181818181818182,
          0.48787878787878786,
          0.48412698412698413,
          0.483835005574136,
          0.5386363636363637,
          0.5266272189349113,
          0.5054945054945055
         ]
        },
        {
         "marker": {
          "color": "orange"
         },
         "name": "Outside Category",
         "text": [
          "0.00%",
          "51.76%",
          "46.16%",
          "46.96%",
          "51.31%",
          "48.30%",
          "49.54%",
          "52.37%",
          "48.18%",
          "51.21%",
          "51.59%",
          "51.62%",
          "46.14%",
          "47.34%",
          "49.45%"
         ],
         "textposition": "auto",
         "type": "bar",
         "x": [
          "",
          "History",
          "Entertainment",
          "Culture",
          "Geography",
          "Society",
          "Technology",
          "People",
          "Politics",
          "Sports",
          "Education",
          "Science",
          "Government",
          "Religion",
          "Lists"
         ],
         "y": [
          0,
          0.5176470588235295,
          0.4616419919246299,
          0.4695970695970696,
          0.5131086142322098,
          0.48295454545454547,
          0.4953670705630791,
          0.5236768802228412,
          0.4818181818181818,
          0.5121212121212121,
          0.5158730158730159,
          0.5161649944258639,
          0.46136363636363636,
          0.47337278106508873,
          0.4945054945054945
         ]
        }
       ],
       "layout": {
        "barmode": "group",
        "template": {
         "data": {
          "bar": [
           {
            "error_x": {
             "color": "#2a3f5f"
            },
            "error_y": {
             "color": "#2a3f5f"
            },
            "marker": {
             "line": {
              "color": "white",
              "width": 0.5
             },
             "pattern": {
              "fillmode": "overlay",
              "size": 10,
              "solidity": 0.2
             }
            },
            "type": "bar"
           }
          ],
          "barpolar": [
           {
            "marker": {
             "line": {
              "color": "white",
              "width": 0.5
             },
             "pattern": {
              "fillmode": "overlay",
              "size": 10,
              "solidity": 0.2
             }
            },
            "type": "barpolar"
           }
          ],
          "carpet": [
           {
            "aaxis": {
             "endlinecolor": "#2a3f5f",
             "gridcolor": "#C8D4E3",
             "linecolor": "#C8D4E3",
             "minorgridcolor": "#C8D4E3",
             "startlinecolor": "#2a3f5f"
            },
            "baxis": {
             "endlinecolor": "#2a3f5f",
             "gridcolor": "#C8D4E3",
             "linecolor": "#C8D4E3",
             "minorgridcolor": "#C8D4E3",
             "startlinecolor": "#2a3f5f"
            },
            "type": "carpet"
           }
          ],
          "choropleth": [
           {
            "colorbar": {
             "outlinewidth": 0,
             "ticks": ""
            },
            "type": "choropleth"
           }
          ],
          "contour": [
           {
            "colorbar": {
             "outlinewidth": 0,
             "ticks": ""
            },
            "colorscale": [
             [
              0,
              "#0d0887"
             ],
             [
              0.1111111111111111,
              "#46039f"
             ],
             [
              0.2222222222222222,
              "#7201a8"
             ],
             [
              0.3333333333333333,
              "#9c179e"
             ],
             [
              0.4444444444444444,
              "#bd3786"
             ],
             [
              0.5555555555555556,
              "#d8576b"
             ],
             [
              0.6666666666666666,
              "#ed7953"
             ],
             [
              0.7777777777777778,
              "#fb9f3a"
             ],
             [
              0.8888888888888888,
              "#fdca26"
             ],
             [
              1,
              "#f0f921"
             ]
            ],
            "type": "contour"
           }
          ],
          "contourcarpet": [
           {
            "colorbar": {
             "outlinewidth": 0,
             "ticks": ""
            },
            "type": "contourcarpet"
           }
          ],
          "heatmap": [
           {
            "colorbar": {
             "outlinewidth": 0,
             "ticks": ""
            },
            "colorscale": [
             [
              0,
              "#0d0887"
             ],
             [
              0.1111111111111111,
              "#46039f"
             ],
             [
              0.2222222222222222,
              "#7201a8"
             ],
             [
              0.3333333333333333,
              "#9c179e"
             ],
             [
              0.4444444444444444,
              "#bd3786"
             ],
             [
              0.5555555555555556,
              "#d8576b"
             ],
             [
              0.6666666666666666,
              "#ed7953"
             ],
             [
              0.7777777777777778,
              "#fb9f3a"
             ],
             [
              0.8888888888888888,
              "#fdca26"
             ],
             [
              1,
              "#f0f921"
             ]
            ],
            "type": "heatmap"
           }
          ],
          "heatmapgl": [
           {
            "colorbar": {
             "outlinewidth": 0,
             "ticks": ""
            },
            "colorscale": [
             [
              0,
              "#0d0887"
             ],
             [
              0.1111111111111111,
              "#46039f"
             ],
             [
              0.2222222222222222,
              "#7201a8"
             ],
             [
              0.3333333333333333,
              "#9c179e"
             ],
             [
              0.4444444444444444,
              "#bd3786"
             ],
             [
              0.5555555555555556,
              "#d8576b"
             ],
             [
              0.6666666666666666,
              "#ed7953"
             ],
             [
              0.7777777777777778,
              "#fb9f3a"
             ],
             [
              0.8888888888888888,
              "#fdca26"
             ],
             [
              1,
              "#f0f921"
             ]
            ],
            "type": "heatmapgl"
           }
          ],
          "histogram": [
           {
            "marker": {
             "pattern": {
              "fillmode": "overlay",
              "size": 10,
              "solidity": 0.2
             }
            },
            "type": "histogram"
           }
          ],
          "histogram2d": [
           {
            "colorbar": {
             "outlinewidth": 0,
             "ticks": ""
            },
            "colorscale": [
             [
              0,
              "#0d0887"
             ],
             [
              0.1111111111111111,
              "#46039f"
             ],
             [
              0.2222222222222222,
              "#7201a8"
             ],
             [
              0.3333333333333333,
              "#9c179e"
             ],
             [
              0.4444444444444444,
              "#bd3786"
             ],
             [
              0.5555555555555556,
              "#d8576b"
             ],
             [
              0.6666666666666666,
              "#ed7953"
             ],
             [
              0.7777777777777778,
              "#fb9f3a"
             ],
             [
              0.8888888888888888,
              "#fdca26"
             ],
             [
              1,
              "#f0f921"
             ]
            ],
            "type": "histogram2d"
           }
          ],
          "histogram2dcontour": [
           {
            "colorbar": {
             "outlinewidth": 0,
             "ticks": ""
            },
            "colorscale": [
             [
              0,
              "#0d0887"
             ],
             [
              0.1111111111111111,
              "#46039f"
             ],
             [
              0.2222222222222222,
              "#7201a8"
             ],
             [
              0.3333333333333333,
              "#9c179e"
             ],
             [
              0.4444444444444444,
              "#bd3786"
             ],
             [
              0.5555555555555556,
              "#d8576b"
             ],
             [
              0.6666666666666666,
              "#ed7953"
             ],
             [
              0.7777777777777778,
              "#fb9f3a"
             ],
             [
              0.8888888888888888,
              "#fdca26"
             ],
             [
              1,
              "#f0f921"
             ]
            ],
            "type": "histogram2dcontour"
           }
          ],
          "mesh3d": [
           {
            "colorbar": {
             "outlinewidth": 0,
             "ticks": ""
            },
            "type": "mesh3d"
           }
          ],
          "parcoords": [
           {
            "line": {
             "colorbar": {
              "outlinewidth": 0,
              "ticks": ""
             }
            },
            "type": "parcoords"
           }
          ],
          "pie": [
           {
            "automargin": true,
            "type": "pie"
           }
          ],
          "scatter": [
           {
            "fillpattern": {
             "fillmode": "overlay",
             "size": 10,
             "solidity": 0.2
            },
            "type": "scatter"
           }
          ],
          "scatter3d": [
           {
            "line": {
             "colorbar": {
              "outlinewidth": 0,
              "ticks": ""
             }
            },
            "marker": {
             "colorbar": {
              "outlinewidth": 0,
              "ticks": ""
             }
            },
            "type": "scatter3d"
           }
          ],
          "scattercarpet": [
           {
            "marker": {
             "colorbar": {
              "outlinewidth": 0,
              "ticks": ""
             }
            },
            "type": "scattercarpet"
           }
          ],
          "scattergeo": [
           {
            "marker": {
             "colorbar": {
              "outlinewidth": 0,
              "ticks": ""
             }
            },
            "type": "scattergeo"
           }
          ],
          "scattergl": [
           {
            "marker": {
             "colorbar": {
              "outlinewidth": 0,
              "ticks": ""
             }
            },
            "type": "scattergl"
           }
          ],
          "scattermapbox": [
           {
            "marker": {
             "colorbar": {
              "outlinewidth": 0,
              "ticks": ""
             }
            },
            "type": "scattermapbox"
           }
          ],
          "scatterpolar": [
           {
            "marker": {
             "colorbar": {
              "outlinewidth": 0,
              "ticks": ""
             }
            },
            "type": "scatterpolar"
           }
          ],
          "scatterpolargl": [
           {
            "marker": {
             "colorbar": {
              "outlinewidth": 0,
              "ticks": ""
             }
            },
            "type": "scatterpolargl"
           }
          ],
          "scatterternary": [
           {
            "marker": {
             "colorbar": {
              "outlinewidth": 0,
              "ticks": ""
             }
            },
            "type": "scatterternary"
           }
          ],
          "surface": [
           {
            "colorbar": {
             "outlinewidth": 0,
             "ticks": ""
            },
            "colorscale": [
             [
              0,
              "#0d0887"
             ],
             [
              0.1111111111111111,
              "#46039f"
             ],
             [
              0.2222222222222222,
              "#7201a8"
             ],
             [
              0.3333333333333333,
              "#9c179e"
             ],
             [
              0.4444444444444444,
              "#bd3786"
             ],
             [
              0.5555555555555556,
              "#d8576b"
             ],
             [
              0.6666666666666666,
              "#ed7953"
             ],
             [
              0.7777777777777778,
              "#fb9f3a"
             ],
             [
              0.8888888888888888,
              "#fdca26"
             ],
             [
              1,
              "#f0f921"
             ]
            ],
            "type": "surface"
           }
          ],
          "table": [
           {
            "cells": {
             "fill": {
              "color": "#EBF0F8"
             },
             "line": {
              "color": "white"
             }
            },
            "header": {
             "fill": {
              "color": "#C8D4E3"
             },
             "line": {
              "color": "white"
             }
            },
            "type": "table"
           }
          ]
         },
         "layout": {
          "annotationdefaults": {
           "arrowcolor": "#2a3f5f",
           "arrowhead": 0,
           "arrowwidth": 1
          },
          "autotypenumbers": "strict",
          "coloraxis": {
           "colorbar": {
            "outlinewidth": 0,
            "ticks": ""
           }
          },
          "colorscale": {
           "diverging": [
            [
             0,
             "#8e0152"
            ],
            [
             0.1,
             "#c51b7d"
            ],
            [
             0.2,
             "#de77ae"
            ],
            [
             0.3,
             "#f1b6da"
            ],
            [
             0.4,
             "#fde0ef"
            ],
            [
             0.5,
             "#f7f7f7"
            ],
            [
             0.6,
             "#e6f5d0"
            ],
            [
             0.7,
             "#b8e186"
            ],
            [
             0.8,
             "#7fbc41"
            ],
            [
             0.9,
             "#4d9221"
            ],
            [
             1,
             "#276419"
            ]
           ],
           "sequential": [
            [
             0,
             "#0d0887"
            ],
            [
             0.1111111111111111,
             "#46039f"
            ],
            [
             0.2222222222222222,
             "#7201a8"
            ],
            [
             0.3333333333333333,
             "#9c179e"
            ],
            [
             0.4444444444444444,
             "#bd3786"
            ],
            [
             0.5555555555555556,
             "#d8576b"
            ],
            [
             0.6666666666666666,
             "#ed7953"
            ],
            [
             0.7777777777777778,
             "#fb9f3a"
            ],
            [
             0.8888888888888888,
             "#fdca26"
            ],
            [
             1,
             "#f0f921"
            ]
           ],
           "sequentialminus": [
            [
             0,
             "#0d0887"
            ],
            [
             0.1111111111111111,
             "#46039f"
            ],
            [
             0.2222222222222222,
             "#7201a8"
            ],
            [
             0.3333333333333333,
             "#9c179e"
            ],
            [
             0.4444444444444444,
             "#bd3786"
            ],
            [
             0.5555555555555556,
             "#d8576b"
            ],
            [
             0.6666666666666666,
             "#ed7953"
            ],
            [
             0.7777777777777778,
             "#fb9f3a"
            ],
            [
             0.8888888888888888,
             "#fdca26"
            ],
            [
             1,
             "#f0f921"
            ]
           ]
          },
          "colorway": [
           "#636efa",
           "#EF553B",
           "#00cc96",
           "#ab63fa",
           "#FFA15A",
           "#19d3f3",
           "#FF6692",
           "#B6E880",
           "#FF97FF",
           "#FECB52"
          ],
          "font": {
           "color": "#2a3f5f"
          },
          "geo": {
           "bgcolor": "white",
           "lakecolor": "white",
           "landcolor": "white",
           "showlakes": true,
           "showland": true,
           "subunitcolor": "#C8D4E3"
          },
          "hoverlabel": {
           "align": "left"
          },
          "hovermode": "closest",
          "mapbox": {
           "style": "light"
          },
          "paper_bgcolor": "white",
          "plot_bgcolor": "white",
          "polar": {
           "angularaxis": {
            "gridcolor": "#EBF0F8",
            "linecolor": "#EBF0F8",
            "ticks": ""
           },
           "bgcolor": "white",
           "radialaxis": {
            "gridcolor": "#EBF0F8",
            "linecolor": "#EBF0F8",
            "ticks": ""
           }
          },
          "scene": {
           "xaxis": {
            "backgroundcolor": "white",
            "gridcolor": "#DFE8F3",
            "gridwidth": 2,
            "linecolor": "#EBF0F8",
            "showbackground": true,
            "ticks": "",
            "zerolinecolor": "#EBF0F8"
           },
           "yaxis": {
            "backgroundcolor": "white",
            "gridcolor": "#DFE8F3",
            "gridwidth": 2,
            "linecolor": "#EBF0F8",
            "showbackground": true,
            "ticks": "",
            "zerolinecolor": "#EBF0F8"
           },
           "zaxis": {
            "backgroundcolor": "white",
            "gridcolor": "#DFE8F3",
            "gridwidth": 2,
            "linecolor": "#EBF0F8",
            "showbackground": true,
            "ticks": "",
            "zerolinecolor": "#EBF0F8"
           }
          },
          "shapedefaults": {
           "line": {
            "color": "#2a3f5f"
           }
          },
          "ternary": {
           "aaxis": {
            "gridcolor": "#DFE8F3",
            "linecolor": "#A2B1C6",
            "ticks": ""
           },
           "baxis": {
            "gridcolor": "#DFE8F3",
            "linecolor": "#A2B1C6",
            "ticks": ""
           },
           "bgcolor": "white",
           "caxis": {
            "gridcolor": "#DFE8F3",
            "linecolor": "#A2B1C6",
            "ticks": ""
           }
          },
          "title": {
           "x": 0.05
          },
          "xaxis": {
           "automargin": true,
           "gridcolor": "#EBF0F8",
           "linecolor": "#EBF0F8",
           "ticks": "",
           "title": {
            "standoff": 15
           },
           "zerolinecolor": "#EBF0F8",
           "zerolinewidth": 2
          },
          "yaxis": {
           "automargin": true,
           "gridcolor": "#EBF0F8",
           "linecolor": "#EBF0F8",
           "ticks": "",
           "title": {
            "standoff": 15
           },
           "zerolinecolor": "#EBF0F8",
           "zerolinewidth": 2
          }
         }
        },
        "title": {
         "text": "Participation Rates by Category (Top 15)"
        },
        "xaxis": {
         "tickangle": 45,
         "title": {
          "text": "Categories"
         }
        },
        "yaxis": {
         "title": {
          "text": "Participation Rate"
         }
        }
       }
      }
     },
     "metadata": {},
     "output_type": "display_data"
    }
   ],
   "source": [
    "plot_participation_rates(df_vote, top_15_categories, title=\"Participation Rates by Category (Top 15)\", top_n=15)"
   ]
  },
  {
   "cell_type": "markdown",
   "metadata": {},
   "source": [
    "# Tolerance across same/different categories"
   ]
  },
  {
   "cell_type": "code",
   "execution_count": 3,
   "metadata": {},
   "outputs": [
    {
     "data": {
      "application/vnd.plotly.v1+json": {
       "config": {
        "plotlyServerURL": "https://plot.ly"
       },
       "data": [
        {
         "marker": {
          "color": "orange"
         },
         "name": "Support Rate Within Same (%)",
         "text": [
          "0.00%",
          "78.51%",
          "79.44%",
          "81.46%",
          "83.73%",
          "69.83%",
          "82.36%",
          "82.85%",
          "78.69%",
          "80.50%",
          "79.44%",
          "83.95%",
          "84.51%",
          "81.21%",
          "86.79%"
         ],
         "textposition": "auto",
         "type": "bar",
         "x": [
          "",
          "History",
          "Entertainment",
          "Culture",
          "Geography",
          "Society",
          "Technology",
          "People",
          "Politics",
          "Sports",
          "Education",
          "Science",
          "Government",
          "Religion",
          "Lists"
         ],
         "y": [
          0,
          78.51282051282051,
          79.44275020792902,
          81.45619013834693,
          83.73094764744864,
          69.82817869415807,
          82.36076622915928,
          82.84858853721128,
          78.68721232739644,
          80.49645390070921,
          79.43786982248521,
          83.95230406160725,
          84.50765864332604,
          81.20996441281139,
          86.7892016082711
         ]
        },
        {
         "marker": {
          "color": "blue"
         },
         "name": "Support Rate Within Different (%)",
         "text": [
          "81.33%",
          "81.40%",
          "81.76%",
          "81.31%",
          "81.23%",
          "81.55%",
          "81.15%",
          "81.28%",
          "81.51%",
          "81.37%",
          "81.40%",
          "81.03%",
          "81.13%",
          "81.34%",
          "81.20%"
         ],
         "textposition": "auto",
         "type": "bar",
         "x": [
          "",
          "History",
          "Entertainment",
          "Culture",
          "Geography",
          "Society",
          "Technology",
          "People",
          "Politics",
          "Sports",
          "Education",
          "Science",
          "Government",
          "Religion",
          "Lists"
         ],
         "y": [
          81.32842177967076,
          81.40044337753991,
          81.75515645831699,
          81.30688866635778,
          81.2319563626688,
          81.54650192889167,
          81.15443825010836,
          81.2815610785154,
          81.50875850572514,
          81.36606104359684,
          81.396149922495,
          81.02720584041522,
          81.1310502221075,
          81.33517196625569,
          81.20405012950995
         ]
        }
       ],
       "layout": {
        "barmode": "group",
        "template": {
         "data": {
          "bar": [
           {
            "error_x": {
             "color": "#2a3f5f"
            },
            "error_y": {
             "color": "#2a3f5f"
            },
            "marker": {
             "line": {
              "color": "white",
              "width": 0.5
             },
             "pattern": {
              "fillmode": "overlay",
              "size": 10,
              "solidity": 0.2
             }
            },
            "type": "bar"
           }
          ],
          "barpolar": [
           {
            "marker": {
             "line": {
              "color": "white",
              "width": 0.5
             },
             "pattern": {
              "fillmode": "overlay",
              "size": 10,
              "solidity": 0.2
             }
            },
            "type": "barpolar"
           }
          ],
          "carpet": [
           {
            "aaxis": {
             "endlinecolor": "#2a3f5f",
             "gridcolor": "#C8D4E3",
             "linecolor": "#C8D4E3",
             "minorgridcolor": "#C8D4E3",
             "startlinecolor": "#2a3f5f"
            },
            "baxis": {
             "endlinecolor": "#2a3f5f",
             "gridcolor": "#C8D4E3",
             "linecolor": "#C8D4E3",
             "minorgridcolor": "#C8D4E3",
             "startlinecolor": "#2a3f5f"
            },
            "type": "carpet"
           }
          ],
          "choropleth": [
           {
            "colorbar": {
             "outlinewidth": 0,
             "ticks": ""
            },
            "type": "choropleth"
           }
          ],
          "contour": [
           {
            "colorbar": {
             "outlinewidth": 0,
             "ticks": ""
            },
            "colorscale": [
             [
              0,
              "#0d0887"
             ],
             [
              0.1111111111111111,
              "#46039f"
             ],
             [
              0.2222222222222222,
              "#7201a8"
             ],
             [
              0.3333333333333333,
              "#9c179e"
             ],
             [
              0.4444444444444444,
              "#bd3786"
             ],
             [
              0.5555555555555556,
              "#d8576b"
             ],
             [
              0.6666666666666666,
              "#ed7953"
             ],
             [
              0.7777777777777778,
              "#fb9f3a"
             ],
             [
              0.8888888888888888,
              "#fdca26"
             ],
             [
              1,
              "#f0f921"
             ]
            ],
            "type": "contour"
           }
          ],
          "contourcarpet": [
           {
            "colorbar": {
             "outlinewidth": 0,
             "ticks": ""
            },
            "type": "contourcarpet"
           }
          ],
          "heatmap": [
           {
            "colorbar": {
             "outlinewidth": 0,
             "ticks": ""
            },
            "colorscale": [
             [
              0,
              "#0d0887"
             ],
             [
              0.1111111111111111,
              "#46039f"
             ],
             [
              0.2222222222222222,
              "#7201a8"
             ],
             [
              0.3333333333333333,
              "#9c179e"
             ],
             [
              0.4444444444444444,
              "#bd3786"
             ],
             [
              0.5555555555555556,
              "#d8576b"
             ],
             [
              0.6666666666666666,
              "#ed7953"
             ],
             [
              0.7777777777777778,
              "#fb9f3a"
             ],
             [
              0.8888888888888888,
              "#fdca26"
             ],
             [
              1,
              "#f0f921"
             ]
            ],
            "type": "heatmap"
           }
          ],
          "heatmapgl": [
           {
            "colorbar": {
             "outlinewidth": 0,
             "ticks": ""
            },
            "colorscale": [
             [
              0,
              "#0d0887"
             ],
             [
              0.1111111111111111,
              "#46039f"
             ],
             [
              0.2222222222222222,
              "#7201a8"
             ],
             [
              0.3333333333333333,
              "#9c179e"
             ],
             [
              0.4444444444444444,
              "#bd3786"
             ],
             [
              0.5555555555555556,
              "#d8576b"
             ],
             [
              0.6666666666666666,
              "#ed7953"
             ],
             [
              0.7777777777777778,
              "#fb9f3a"
             ],
             [
              0.8888888888888888,
              "#fdca26"
             ],
             [
              1,
              "#f0f921"
             ]
            ],
            "type": "heatmapgl"
           }
          ],
          "histogram": [
           {
            "marker": {
             "pattern": {
              "fillmode": "overlay",
              "size": 10,
              "solidity": 0.2
             }
            },
            "type": "histogram"
           }
          ],
          "histogram2d": [
           {
            "colorbar": {
             "outlinewidth": 0,
             "ticks": ""
            },
            "colorscale": [
             [
              0,
              "#0d0887"
             ],
             [
              0.1111111111111111,
              "#46039f"
             ],
             [
              0.2222222222222222,
              "#7201a8"
             ],
             [
              0.3333333333333333,
              "#9c179e"
             ],
             [
              0.4444444444444444,
              "#bd3786"
             ],
             [
              0.5555555555555556,
              "#d8576b"
             ],
             [
              0.6666666666666666,
              "#ed7953"
             ],
             [
              0.7777777777777778,
              "#fb9f3a"
             ],
             [
              0.8888888888888888,
              "#fdca26"
             ],
             [
              1,
              "#f0f921"
             ]
            ],
            "type": "histogram2d"
           }
          ],
          "histogram2dcontour": [
           {
            "colorbar": {
             "outlinewidth": 0,
             "ticks": ""
            },
            "colorscale": [
             [
              0,
              "#0d0887"
             ],
             [
              0.1111111111111111,
              "#46039f"
             ],
             [
              0.2222222222222222,
              "#7201a8"
             ],
             [
              0.3333333333333333,
              "#9c179e"
             ],
             [
              0.4444444444444444,
              "#bd3786"
             ],
             [
              0.5555555555555556,
              "#d8576b"
             ],
             [
              0.6666666666666666,
              "#ed7953"
             ],
             [
              0.7777777777777778,
              "#fb9f3a"
             ],
             [
              0.8888888888888888,
              "#fdca26"
             ],
             [
              1,
              "#f0f921"
             ]
            ],
            "type": "histogram2dcontour"
           }
          ],
          "mesh3d": [
           {
            "colorbar": {
             "outlinewidth": 0,
             "ticks": ""
            },
            "type": "mesh3d"
           }
          ],
          "parcoords": [
           {
            "line": {
             "colorbar": {
              "outlinewidth": 0,
              "ticks": ""
             }
            },
            "type": "parcoords"
           }
          ],
          "pie": [
           {
            "automargin": true,
            "type": "pie"
           }
          ],
          "scatter": [
           {
            "fillpattern": {
             "fillmode": "overlay",
             "size": 10,
             "solidity": 0.2
            },
            "type": "scatter"
           }
          ],
          "scatter3d": [
           {
            "line": {
             "colorbar": {
              "outlinewidth": 0,
              "ticks": ""
             }
            },
            "marker": {
             "colorbar": {
              "outlinewidth": 0,
              "ticks": ""
             }
            },
            "type": "scatter3d"
           }
          ],
          "scattercarpet": [
           {
            "marker": {
             "colorbar": {
              "outlinewidth": 0,
              "ticks": ""
             }
            },
            "type": "scattercarpet"
           }
          ],
          "scattergeo": [
           {
            "marker": {
             "colorbar": {
              "outlinewidth": 0,
              "ticks": ""
             }
            },
            "type": "scattergeo"
           }
          ],
          "scattergl": [
           {
            "marker": {
             "colorbar": {
              "outlinewidth": 0,
              "ticks": ""
             }
            },
            "type": "scattergl"
           }
          ],
          "scattermapbox": [
           {
            "marker": {
             "colorbar": {
              "outlinewidth": 0,
              "ticks": ""
             }
            },
            "type": "scattermapbox"
           }
          ],
          "scatterpolar": [
           {
            "marker": {
             "colorbar": {
              "outlinewidth": 0,
              "ticks": ""
             }
            },
            "type": "scatterpolar"
           }
          ],
          "scatterpolargl": [
           {
            "marker": {
             "colorbar": {
              "outlinewidth": 0,
              "ticks": ""
             }
            },
            "type": "scatterpolargl"
           }
          ],
          "scatterternary": [
           {
            "marker": {
             "colorbar": {
              "outlinewidth": 0,
              "ticks": ""
             }
            },
            "type": "scatterternary"
           }
          ],
          "surface": [
           {
            "colorbar": {
             "outlinewidth": 0,
             "ticks": ""
            },
            "colorscale": [
             [
              0,
              "#0d0887"
             ],
             [
              0.1111111111111111,
              "#46039f"
             ],
             [
              0.2222222222222222,
              "#7201a8"
             ],
             [
              0.3333333333333333,
              "#9c179e"
             ],
             [
              0.4444444444444444,
              "#bd3786"
             ],
             [
              0.5555555555555556,
              "#d8576b"
             ],
             [
              0.6666666666666666,
              "#ed7953"
             ],
             [
              0.7777777777777778,
              "#fb9f3a"
             ],
             [
              0.8888888888888888,
              "#fdca26"
             ],
             [
              1,
              "#f0f921"
             ]
            ],
            "type": "surface"
           }
          ],
          "table": [
           {
            "cells": {
             "fill": {
              "color": "#EBF0F8"
             },
             "line": {
              "color": "white"
             }
            },
            "header": {
             "fill": {
              "color": "#C8D4E3"
             },
             "line": {
              "color": "white"
             }
            },
            "type": "table"
           }
          ]
         },
         "layout": {
          "annotationdefaults": {
           "arrowcolor": "#2a3f5f",
           "arrowhead": 0,
           "arrowwidth": 1
          },
          "autotypenumbers": "strict",
          "coloraxis": {
           "colorbar": {
            "outlinewidth": 0,
            "ticks": ""
           }
          },
          "colorscale": {
           "diverging": [
            [
             0,
             "#8e0152"
            ],
            [
             0.1,
             "#c51b7d"
            ],
            [
             0.2,
             "#de77ae"
            ],
            [
             0.3,
             "#f1b6da"
            ],
            [
             0.4,
             "#fde0ef"
            ],
            [
             0.5,
             "#f7f7f7"
            ],
            [
             0.6,
             "#e6f5d0"
            ],
            [
             0.7,
             "#b8e186"
            ],
            [
             0.8,
             "#7fbc41"
            ],
            [
             0.9,
             "#4d9221"
            ],
            [
             1,
             "#276419"
            ]
           ],
           "sequential": [
            [
             0,
             "#0d0887"
            ],
            [
             0.1111111111111111,
             "#46039f"
            ],
            [
             0.2222222222222222,
             "#7201a8"
            ],
            [
             0.3333333333333333,
             "#9c179e"
            ],
            [
             0.4444444444444444,
             "#bd3786"
            ],
            [
             0.5555555555555556,
             "#d8576b"
            ],
            [
             0.6666666666666666,
             "#ed7953"
            ],
            [
             0.7777777777777778,
             "#fb9f3a"
            ],
            [
             0.8888888888888888,
             "#fdca26"
            ],
            [
             1,
             "#f0f921"
            ]
           ],
           "sequentialminus": [
            [
             0,
             "#0d0887"
            ],
            [
             0.1111111111111111,
             "#46039f"
            ],
            [
             0.2222222222222222,
             "#7201a8"
            ],
            [
             0.3333333333333333,
             "#9c179e"
            ],
            [
             0.4444444444444444,
             "#bd3786"
            ],
            [
             0.5555555555555556,
             "#d8576b"
            ],
            [
             0.6666666666666666,
             "#ed7953"
            ],
            [
             0.7777777777777778,
             "#fb9f3a"
            ],
            [
             0.8888888888888888,
             "#fdca26"
            ],
            [
             1,
             "#f0f921"
            ]
           ]
          },
          "colorway": [
           "#636efa",
           "#EF553B",
           "#00cc96",
           "#ab63fa",
           "#FFA15A",
           "#19d3f3",
           "#FF6692",
           "#B6E880",
           "#FF97FF",
           "#FECB52"
          ],
          "font": {
           "color": "#2a3f5f"
          },
          "geo": {
           "bgcolor": "white",
           "lakecolor": "white",
           "landcolor": "white",
           "showlakes": true,
           "showland": true,
           "subunitcolor": "#C8D4E3"
          },
          "hoverlabel": {
           "align": "left"
          },
          "hovermode": "closest",
          "mapbox": {
           "style": "light"
          },
          "paper_bgcolor": "white",
          "plot_bgcolor": "white",
          "polar": {
           "angularaxis": {
            "gridcolor": "#EBF0F8",
            "linecolor": "#EBF0F8",
            "ticks": ""
           },
           "bgcolor": "white",
           "radialaxis": {
            "gridcolor": "#EBF0F8",
            "linecolor": "#EBF0F8",
            "ticks": ""
           }
          },
          "scene": {
           "xaxis": {
            "backgroundcolor": "white",
            "gridcolor": "#DFE8F3",
            "gridwidth": 2,
            "linecolor": "#EBF0F8",
            "showbackground": true,
            "ticks": "",
            "zerolinecolor": "#EBF0F8"
           },
           "yaxis": {
            "backgroundcolor": "white",
            "gridcolor": "#DFE8F3",
            "gridwidth": 2,
            "linecolor": "#EBF0F8",
            "showbackground": true,
            "ticks": "",
            "zerolinecolor": "#EBF0F8"
           },
           "zaxis": {
            "backgroundcolor": "white",
            "gridcolor": "#DFE8F3",
            "gridwidth": 2,
            "linecolor": "#EBF0F8",
            "showbackground": true,
            "ticks": "",
            "zerolinecolor": "#EBF0F8"
           }
          },
          "shapedefaults": {
           "line": {
            "color": "#2a3f5f"
           }
          },
          "ternary": {
           "aaxis": {
            "gridcolor": "#DFE8F3",
            "linecolor": "#A2B1C6",
            "ticks": ""
           },
           "baxis": {
            "gridcolor": "#DFE8F3",
            "linecolor": "#A2B1C6",
            "ticks": ""
           },
           "bgcolor": "white",
           "caxis": {
            "gridcolor": "#DFE8F3",
            "linecolor": "#A2B1C6",
            "ticks": ""
           }
          },
          "title": {
           "x": 0.05
          },
          "xaxis": {
           "automargin": true,
           "gridcolor": "#EBF0F8",
           "linecolor": "#EBF0F8",
           "ticks": "",
           "title": {
            "standoff": 15
           },
           "zerolinecolor": "#EBF0F8",
           "zerolinewidth": 2
          },
          "yaxis": {
           "automargin": true,
           "gridcolor": "#EBF0F8",
           "linecolor": "#EBF0F8",
           "ticks": "",
           "title": {
            "standoff": 15
           },
           "zerolinecolor": "#EBF0F8",
           "zerolinewidth": 2
          }
         }
        },
        "title": {
         "text": "Support Rates by Category (Top 15)"
        },
        "xaxis": {
         "tickangle": 45,
         "title": {
          "text": "Category"
         }
        },
        "yaxis": {
         "title": {
          "text": "Support Rate (%)"
         }
        }
       }
      }
     },
     "metadata": {},
     "output_type": "display_data"
    }
   ],
   "source": [
    "support_rates_df = plot_support_rates(df_vote, top_15_categories, title=\"Support Rates by Category (Top 15)\",top_n=15)"
   ]
  },
  {
   "cell_type": "markdown",
   "metadata": {},
   "source": [
    "Analyzing the top 10 largest categories, we observe that users are more inclined to participate in votes related to topics that align with their own interests. This can be explained by the fact that individuals are likely to feel more knowledgeable or proficient in certain areas, making them more comfortable expressing their opinions or casting votes. This trend persists, even in the mid-sized categories ranked 10 to 20, suggesting a consistent preference for engaging with familiar topics across the user base.\n"
   ]
  },
  {
   "cell_type": "markdown",
   "metadata": {},
   "source": [
    "## Code\n"
   ]
  },
  {
   "cell_type": "code",
   "execution_count": 4,
   "metadata": {},
   "outputs": [
    {
     "name": "stdout",
     "output_type": "stream",
     "text": [
      "Total voters analyzed for trends: 1074\n",
      "Trend\n",
      "No Significant Change    1021\n",
      "More Chill                 30\n",
      "More Strict                23\n",
      "Name: count, dtype: int64\n"
     ]
    },
    {
     "data": {
      "application/vnd.plotly.v1+json": {
       "config": {
        "plotlyServerURL": "https://plot.ly"
       },
       "data": [
        {
         "alignmentgroup": "True",
         "hovertemplate": "Trend=%{x}<br>Number of Voters=%{text}<extra></extra>",
         "legendgroup": "No Significant Change",
         "marker": {
          "color": "#636efa",
          "pattern": {
           "shape": ""
          }
         },
         "name": "No Significant Change",
         "offsetgroup": "No Significant Change",
         "orientation": "v",
         "showlegend": true,
         "text": [
          1021
         ],
         "textposition": "auto",
         "type": "bar",
         "x": [
          "No Significant Change"
         ],
         "xaxis": "x",
         "y": [
          1021
         ],
         "yaxis": "y"
        },
        {
         "alignmentgroup": "True",
         "hovertemplate": "Trend=%{x}<br>Number of Voters=%{text}<extra></extra>",
         "legendgroup": "More Chill",
         "marker": {
          "color": "#EF553B",
          "pattern": {
           "shape": ""
          }
         },
         "name": "More Chill",
         "offsetgroup": "More Chill",
         "orientation": "v",
         "showlegend": true,
         "text": [
          30
         ],
         "textposition": "auto",
         "type": "bar",
         "x": [
          "More Chill"
         ],
         "xaxis": "x",
         "y": [
          30
         ],
         "yaxis": "y"
        },
        {
         "alignmentgroup": "True",
         "hovertemplate": "Trend=%{x}<br>Number of Voters=%{text}<extra></extra>",
         "legendgroup": "More Strict",
         "marker": {
          "color": "#00cc96",
          "pattern": {
           "shape": ""
          }
         },
         "name": "More Strict",
         "offsetgroup": "More Strict",
         "orientation": "v",
         "showlegend": true,
         "text": [
          23
         ],
         "textposition": "auto",
         "type": "bar",
         "x": [
          "More Strict"
         ],
         "xaxis": "x",
         "y": [
          23
         ],
         "yaxis": "y"
        }
       ],
       "layout": {
        "barmode": "relative",
        "legend": {
         "title": {
          "text": "Trend"
         },
         "tracegroupgap": 0
        },
        "template": {
         "data": {
          "bar": [
           {
            "error_x": {
             "color": "#2a3f5f"
            },
            "error_y": {
             "color": "#2a3f5f"
            },
            "marker": {
             "line": {
              "color": "white",
              "width": 0.5
             },
             "pattern": {
              "fillmode": "overlay",
              "size": 10,
              "solidity": 0.2
             }
            },
            "type": "bar"
           }
          ],
          "barpolar": [
           {
            "marker": {
             "line": {
              "color": "white",
              "width": 0.5
             },
             "pattern": {
              "fillmode": "overlay",
              "size": 10,
              "solidity": 0.2
             }
            },
            "type": "barpolar"
           }
          ],
          "carpet": [
           {
            "aaxis": {
             "endlinecolor": "#2a3f5f",
             "gridcolor": "#C8D4E3",
             "linecolor": "#C8D4E3",
             "minorgridcolor": "#C8D4E3",
             "startlinecolor": "#2a3f5f"
            },
            "baxis": {
             "endlinecolor": "#2a3f5f",
             "gridcolor": "#C8D4E3",
             "linecolor": "#C8D4E3",
             "minorgridcolor": "#C8D4E3",
             "startlinecolor": "#2a3f5f"
            },
            "type": "carpet"
           }
          ],
          "choropleth": [
           {
            "colorbar": {
             "outlinewidth": 0,
             "ticks": ""
            },
            "type": "choropleth"
           }
          ],
          "contour": [
           {
            "colorbar": {
             "outlinewidth": 0,
             "ticks": ""
            },
            "colorscale": [
             [
              0,
              "#0d0887"
             ],
             [
              0.1111111111111111,
              "#46039f"
             ],
             [
              0.2222222222222222,
              "#7201a8"
             ],
             [
              0.3333333333333333,
              "#9c179e"
             ],
             [
              0.4444444444444444,
              "#bd3786"
             ],
             [
              0.5555555555555556,
              "#d8576b"
             ],
             [
              0.6666666666666666,
              "#ed7953"
             ],
             [
              0.7777777777777778,
              "#fb9f3a"
             ],
             [
              0.8888888888888888,
              "#fdca26"
             ],
             [
              1,
              "#f0f921"
             ]
            ],
            "type": "contour"
           }
          ],
          "contourcarpet": [
           {
            "colorbar": {
             "outlinewidth": 0,
             "ticks": ""
            },
            "type": "contourcarpet"
           }
          ],
          "heatmap": [
           {
            "colorbar": {
             "outlinewidth": 0,
             "ticks": ""
            },
            "colorscale": [
             [
              0,
              "#0d0887"
             ],
             [
              0.1111111111111111,
              "#46039f"
             ],
             [
              0.2222222222222222,
              "#7201a8"
             ],
             [
              0.3333333333333333,
              "#9c179e"
             ],
             [
              0.4444444444444444,
              "#bd3786"
             ],
             [
              0.5555555555555556,
              "#d8576b"
             ],
             [
              0.6666666666666666,
              "#ed7953"
             ],
             [
              0.7777777777777778,
              "#fb9f3a"
             ],
             [
              0.8888888888888888,
              "#fdca26"
             ],
             [
              1,
              "#f0f921"
             ]
            ],
            "type": "heatmap"
           }
          ],
          "heatmapgl": [
           {
            "colorbar": {
             "outlinewidth": 0,
             "ticks": ""
            },
            "colorscale": [
             [
              0,
              "#0d0887"
             ],
             [
              0.1111111111111111,
              "#46039f"
             ],
             [
              0.2222222222222222,
              "#7201a8"
             ],
             [
              0.3333333333333333,
              "#9c179e"
             ],
             [
              0.4444444444444444,
              "#bd3786"
             ],
             [
              0.5555555555555556,
              "#d8576b"
             ],
             [
              0.6666666666666666,
              "#ed7953"
             ],
             [
              0.7777777777777778,
              "#fb9f3a"
             ],
             [
              0.8888888888888888,
              "#fdca26"
             ],
             [
              1,
              "#f0f921"
             ]
            ],
            "type": "heatmapgl"
           }
          ],
          "histogram": [
           {
            "marker": {
             "pattern": {
              "fillmode": "overlay",
              "size": 10,
              "solidity": 0.2
             }
            },
            "type": "histogram"
           }
          ],
          "histogram2d": [
           {
            "colorbar": {
             "outlinewidth": 0,
             "ticks": ""
            },
            "colorscale": [
             [
              0,
              "#0d0887"
             ],
             [
              0.1111111111111111,
              "#46039f"
             ],
             [
              0.2222222222222222,
              "#7201a8"
             ],
             [
              0.3333333333333333,
              "#9c179e"
             ],
             [
              0.4444444444444444,
              "#bd3786"
             ],
             [
              0.5555555555555556,
              "#d8576b"
             ],
             [
              0.6666666666666666,
              "#ed7953"
             ],
             [
              0.7777777777777778,
              "#fb9f3a"
             ],
             [
              0.8888888888888888,
              "#fdca26"
             ],
             [
              1,
              "#f0f921"
             ]
            ],
            "type": "histogram2d"
           }
          ],
          "histogram2dcontour": [
           {
            "colorbar": {
             "outlinewidth": 0,
             "ticks": ""
            },
            "colorscale": [
             [
              0,
              "#0d0887"
             ],
             [
              0.1111111111111111,
              "#46039f"
             ],
             [
              0.2222222222222222,
              "#7201a8"
             ],
             [
              0.3333333333333333,
              "#9c179e"
             ],
             [
              0.4444444444444444,
              "#bd3786"
             ],
             [
              0.5555555555555556,
              "#d8576b"
             ],
             [
              0.6666666666666666,
              "#ed7953"
             ],
             [
              0.7777777777777778,
              "#fb9f3a"
             ],
             [
              0.8888888888888888,
              "#fdca26"
             ],
             [
              1,
              "#f0f921"
             ]
            ],
            "type": "histogram2dcontour"
           }
          ],
          "mesh3d": [
           {
            "colorbar": {
             "outlinewidth": 0,
             "ticks": ""
            },
            "type": "mesh3d"
           }
          ],
          "parcoords": [
           {
            "line": {
             "colorbar": {
              "outlinewidth": 0,
              "ticks": ""
             }
            },
            "type": "parcoords"
           }
          ],
          "pie": [
           {
            "automargin": true,
            "type": "pie"
           }
          ],
          "scatter": [
           {
            "fillpattern": {
             "fillmode": "overlay",
             "size": 10,
             "solidity": 0.2
            },
            "type": "scatter"
           }
          ],
          "scatter3d": [
           {
            "line": {
             "colorbar": {
              "outlinewidth": 0,
              "ticks": ""
             }
            },
            "marker": {
             "colorbar": {
              "outlinewidth": 0,
              "ticks": ""
             }
            },
            "type": "scatter3d"
           }
          ],
          "scattercarpet": [
           {
            "marker": {
             "colorbar": {
              "outlinewidth": 0,
              "ticks": ""
             }
            },
            "type": "scattercarpet"
           }
          ],
          "scattergeo": [
           {
            "marker": {
             "colorbar": {
              "outlinewidth": 0,
              "ticks": ""
             }
            },
            "type": "scattergeo"
           }
          ],
          "scattergl": [
           {
            "marker": {
             "colorbar": {
              "outlinewidth": 0,
              "ticks": ""
             }
            },
            "type": "scattergl"
           }
          ],
          "scattermapbox": [
           {
            "marker": {
             "colorbar": {
              "outlinewidth": 0,
              "ticks": ""
             }
            },
            "type": "scattermapbox"
           }
          ],
          "scatterpolar": [
           {
            "marker": {
             "colorbar": {
              "outlinewidth": 0,
              "ticks": ""
             }
            },
            "type": "scatterpolar"
           }
          ],
          "scatterpolargl": [
           {
            "marker": {
             "colorbar": {
              "outlinewidth": 0,
              "ticks": ""
             }
            },
            "type": "scatterpolargl"
           }
          ],
          "scatterternary": [
           {
            "marker": {
             "colorbar": {
              "outlinewidth": 0,
              "ticks": ""
             }
            },
            "type": "scatterternary"
           }
          ],
          "surface": [
           {
            "colorbar": {
             "outlinewidth": 0,
             "ticks": ""
            },
            "colorscale": [
             [
              0,
              "#0d0887"
             ],
             [
              0.1111111111111111,
              "#46039f"
             ],
             [
              0.2222222222222222,
              "#7201a8"
             ],
             [
              0.3333333333333333,
              "#9c179e"
             ],
             [
              0.4444444444444444,
              "#bd3786"
             ],
             [
              0.5555555555555556,
              "#d8576b"
             ],
             [
              0.6666666666666666,
              "#ed7953"
             ],
             [
              0.7777777777777778,
              "#fb9f3a"
             ],
             [
              0.8888888888888888,
              "#fdca26"
             ],
             [
              1,
              "#f0f921"
             ]
            ],
            "type": "surface"
           }
          ],
          "table": [
           {
            "cells": {
             "fill": {
              "color": "#EBF0F8"
             },
             "line": {
              "color": "white"
             }
            },
            "header": {
             "fill": {
              "color": "#C8D4E3"
             },
             "line": {
              "color": "white"
             }
            },
            "type": "table"
           }
          ]
         },
         "layout": {
          "annotationdefaults": {
           "arrowcolor": "#2a3f5f",
           "arrowhead": 0,
           "arrowwidth": 1
          },
          "autotypenumbers": "strict",
          "coloraxis": {
           "colorbar": {
            "outlinewidth": 0,
            "ticks": ""
           }
          },
          "colorscale": {
           "diverging": [
            [
             0,
             "#8e0152"
            ],
            [
             0.1,
             "#c51b7d"
            ],
            [
             0.2,
             "#de77ae"
            ],
            [
             0.3,
             "#f1b6da"
            ],
            [
             0.4,
             "#fde0ef"
            ],
            [
             0.5,
             "#f7f7f7"
            ],
            [
             0.6,
             "#e6f5d0"
            ],
            [
             0.7,
             "#b8e186"
            ],
            [
             0.8,
             "#7fbc41"
            ],
            [
             0.9,
             "#4d9221"
            ],
            [
             1,
             "#276419"
            ]
           ],
           "sequential": [
            [
             0,
             "#0d0887"
            ],
            [
             0.1111111111111111,
             "#46039f"
            ],
            [
             0.2222222222222222,
             "#7201a8"
            ],
            [
             0.3333333333333333,
             "#9c179e"
            ],
            [
             0.4444444444444444,
             "#bd3786"
            ],
            [
             0.5555555555555556,
             "#d8576b"
            ],
            [
             0.6666666666666666,
             "#ed7953"
            ],
            [
             0.7777777777777778,
             "#fb9f3a"
            ],
            [
             0.8888888888888888,
             "#fdca26"
            ],
            [
             1,
             "#f0f921"
            ]
           ],
           "sequentialminus": [
            [
             0,
             "#0d0887"
            ],
            [
             0.1111111111111111,
             "#46039f"
            ],
            [
             0.2222222222222222,
             "#7201a8"
            ],
            [
             0.3333333333333333,
             "#9c179e"
            ],
            [
             0.4444444444444444,
             "#bd3786"
            ],
            [
             0.5555555555555556,
             "#d8576b"
            ],
            [
             0.6666666666666666,
             "#ed7953"
            ],
            [
             0.7777777777777778,
             "#fb9f3a"
            ],
            [
             0.8888888888888888,
             "#fdca26"
            ],
            [
             1,
             "#f0f921"
            ]
           ]
          },
          "colorway": [
           "#636efa",
           "#EF553B",
           "#00cc96",
           "#ab63fa",
           "#FFA15A",
           "#19d3f3",
           "#FF6692",
           "#B6E880",
           "#FF97FF",
           "#FECB52"
          ],
          "font": {
           "color": "#2a3f5f"
          },
          "geo": {
           "bgcolor": "white",
           "lakecolor": "white",
           "landcolor": "white",
           "showlakes": true,
           "showland": true,
           "subunitcolor": "#C8D4E3"
          },
          "hoverlabel": {
           "align": "left"
          },
          "hovermode": "closest",
          "mapbox": {
           "style": "light"
          },
          "paper_bgcolor": "white",
          "plot_bgcolor": "white",
          "polar": {
           "angularaxis": {
            "gridcolor": "#EBF0F8",
            "linecolor": "#EBF0F8",
            "ticks": ""
           },
           "bgcolor": "white",
           "radialaxis": {
            "gridcolor": "#EBF0F8",
            "linecolor": "#EBF0F8",
            "ticks": ""
           }
          },
          "scene": {
           "xaxis": {
            "backgroundcolor": "white",
            "gridcolor": "#DFE8F3",
            "gridwidth": 2,
            "linecolor": "#EBF0F8",
            "showbackground": true,
            "ticks": "",
            "zerolinecolor": "#EBF0F8"
           },
           "yaxis": {
            "backgroundcolor": "white",
            "gridcolor": "#DFE8F3",
            "gridwidth": 2,
            "linecolor": "#EBF0F8",
            "showbackground": true,
            "ticks": "",
            "zerolinecolor": "#EBF0F8"
           },
           "zaxis": {
            "backgroundcolor": "white",
            "gridcolor": "#DFE8F3",
            "gridwidth": 2,
            "linecolor": "#EBF0F8",
            "showbackground": true,
            "ticks": "",
            "zerolinecolor": "#EBF0F8"
           }
          },
          "shapedefaults": {
           "line": {
            "color": "#2a3f5f"
           }
          },
          "ternary": {
           "aaxis": {
            "gridcolor": "#DFE8F3",
            "linecolor": "#A2B1C6",
            "ticks": ""
           },
           "baxis": {
            "gridcolor": "#DFE8F3",
            "linecolor": "#A2B1C6",
            "ticks": ""
           },
           "bgcolor": "white",
           "caxis": {
            "gridcolor": "#DFE8F3",
            "linecolor": "#A2B1C6",
            "ticks": ""
           }
          },
          "title": {
           "x": 0.05
          },
          "xaxis": {
           "automargin": true,
           "gridcolor": "#EBF0F8",
           "linecolor": "#EBF0F8",
           "ticks": "",
           "title": {
            "standoff": 15
           },
           "zerolinecolor": "#EBF0F8",
           "zerolinewidth": 2
          },
          "yaxis": {
           "automargin": true,
           "gridcolor": "#EBF0F8",
           "linecolor": "#EBF0F8",
           "ticks": "",
           "title": {
            "standoff": 15
           },
           "zerolinecolor": "#EBF0F8",
           "zerolinewidth": 2
          }
         }
        },
        "title": {
         "text": "Trend Analysis of Voter Positivity"
        },
        "xaxis": {
         "anchor": "y",
         "categoryarray": [
          "No Significant Change",
          "More Chill",
          "More Strict"
         ],
         "categoryorder": "array",
         "domain": [
          0,
          1
         ],
         "tickangle": 0,
         "title": {
          "text": "Trend"
         }
        },
        "yaxis": {
         "anchor": "x",
         "domain": [
          0,
          1
         ],
         "title": {
          "text": "Number of Voters"
         }
        }
       }
      }
     },
     "metadata": {},
     "output_type": "display_data"
    },
    {
     "data": {
      "text/html": [
       "<div>\n",
       "<style scoped>\n",
       "    .dataframe tbody tr th:only-of-type {\n",
       "        vertical-align: middle;\n",
       "    }\n",
       "\n",
       "    .dataframe tbody tr th {\n",
       "        vertical-align: top;\n",
       "    }\n",
       "\n",
       "    .dataframe thead th {\n",
       "        text-align: right;\n",
       "    }\n",
       "</style>\n",
       "<table border=\"1\" class=\"dataframe\">\n",
       "  <thead>\n",
       "    <tr style=\"text-align: right;\">\n",
       "      <th></th>\n",
       "      <th>Voter</th>\n",
       "      <th>Trend</th>\n",
       "      <th>Slope</th>\n",
       "      <th>p_value</th>\n",
       "    </tr>\n",
       "  </thead>\n",
       "  <tbody>\n",
       "    <tr>\n",
       "      <th>0</th>\n",
       "      <td>*drew</td>\n",
       "      <td>No Significant Change</td>\n",
       "      <td>-0.250000</td>\n",
       "      <td>0.121038</td>\n",
       "    </tr>\n",
       "    <tr>\n",
       "      <th>1</th>\n",
       "      <td>172</td>\n",
       "      <td>No Significant Change</td>\n",
       "      <td>-0.008929</td>\n",
       "      <td>0.620802</td>\n",
       "    </tr>\n",
       "    <tr>\n",
       "      <th>2</th>\n",
       "      <td>28bytes</td>\n",
       "      <td>No Significant Change</td>\n",
       "      <td>-0.001001</td>\n",
       "      <td>0.994441</td>\n",
       "    </tr>\n",
       "    <tr>\n",
       "      <th>3</th>\n",
       "      <td>2over0</td>\n",
       "      <td>No Significant Change</td>\n",
       "      <td>0.000000</td>\n",
       "      <td>1.000000</td>\n",
       "    </tr>\n",
       "    <tr>\n",
       "      <th>4</th>\n",
       "      <td>6SJ7</td>\n",
       "      <td>No Significant Change</td>\n",
       "      <td>0.162500</td>\n",
       "      <td>0.243111</td>\n",
       "    </tr>\n",
       "    <tr>\n",
       "      <th>...</th>\n",
       "      <td>...</td>\n",
       "      <td>...</td>\n",
       "      <td>...</td>\n",
       "      <td>...</td>\n",
       "    </tr>\n",
       "    <tr>\n",
       "      <th>1069</th>\n",
       "      <td>thumperward</td>\n",
       "      <td>No Significant Change</td>\n",
       "      <td>0.016667</td>\n",
       "      <td>0.865160</td>\n",
       "    </tr>\n",
       "    <tr>\n",
       "      <th>1070</th>\n",
       "      <td>thunderboltz</td>\n",
       "      <td>No Significant Change</td>\n",
       "      <td>0.000000</td>\n",
       "      <td>1.000000</td>\n",
       "    </tr>\n",
       "    <tr>\n",
       "      <th>1071</th>\n",
       "      <td>violetriga</td>\n",
       "      <td>No Significant Change</td>\n",
       "      <td>0.500000</td>\n",
       "      <td>0.333333</td>\n",
       "    </tr>\n",
       "    <tr>\n",
       "      <th>1072</th>\n",
       "      <td>xeno</td>\n",
       "      <td>No Significant Change</td>\n",
       "      <td>0.027778</td>\n",
       "      <td>0.807272</td>\n",
       "    </tr>\n",
       "    <tr>\n",
       "      <th>1073</th>\n",
       "      <td>zzuuzz</td>\n",
       "      <td>No Significant Change</td>\n",
       "      <td>0.000000</td>\n",
       "      <td>1.000000</td>\n",
       "    </tr>\n",
       "  </tbody>\n",
       "</table>\n",
       "<p>1074 rows × 4 columns</p>\n",
       "</div>"
      ],
      "text/plain": [
       "             Voter                  Trend     Slope   p_value\n",
       "0            *drew  No Significant Change -0.250000  0.121038\n",
       "1              172  No Significant Change -0.008929  0.620802\n",
       "2          28bytes  No Significant Change -0.001001  0.994441\n",
       "3           2over0  No Significant Change  0.000000  1.000000\n",
       "4             6SJ7  No Significant Change  0.162500  0.243111\n",
       "...            ...                    ...       ...       ...\n",
       "1069   thumperward  No Significant Change  0.016667  0.865160\n",
       "1070  thunderboltz  No Significant Change  0.000000  1.000000\n",
       "1071    violetriga  No Significant Change  0.500000  0.333333\n",
       "1072          xeno  No Significant Change  0.027778  0.807272\n",
       "1073        zzuuzz  No Significant Change  0.000000  1.000000\n",
       "\n",
       "[1074 rows x 4 columns]"
      ]
     },
     "metadata": {},
     "output_type": "display_data"
    }
   ],
   "source": [
    "# Call the function with df_vote\n",
    "trends_df = analyze_voter_trends(df_vote)\n",
    "\n",
    "# Optionally, inspect the returned DataFrame\n",
    "display(trends_df)\n"
   ]
  },
  {
   "cell_type": "markdown",
   "metadata": {},
   "source": [
    "## Table\n",
    " We tried to test the null hypothesis that tolerance rate is the same whether they are in the same/different category, p-values are on the last collumn."
   ]
  },
  {
   "cell_type": "markdown",
   "metadata": {},
   "source": [
    "# Code"
   ]
  },
  {
   "cell_type": "markdown",
   "metadata": {},
   "source": [
    "# Votants Behavior \n",
    "\n",
    "We are studying behavior of votants, trying to see if they became more or less strict over the years, for that we look at voters that have voted in more than 1 year."
   ]
  },
  {
   "cell_type": "markdown",
   "metadata": {},
   "source": [
    "## Difference of behavior in the differents groups?\n",
    "\n",
    "To test this we run the test with the null hypothesis is that the distribution of people being more strict/less strict and constant is the same among the groups than among the overall, the p-values are stored in the last collumn."
   ]
  },
  {
   "cell_type": "markdown",
   "metadata": {},
   "source": [
    "We see that there is not a huge difference in the distribution of behavior among groups"
   ]
  },
  {
   "cell_type": "markdown",
   "metadata": {},
   "source": [
    "# Code"
   ]
  },
  {
   "cell_type": "code",
   "execution_count": 5,
   "metadata": {},
   "outputs": [
    {
     "name": "stdout",
     "output_type": "stream",
     "text": [
      "Chi-Square Statistic: 325.3702173236142\n",
      "P-Value: 1.1608856886361114e-61\n"
     ]
    }
   ],
   "source": [
    "# Call the function with df_vote\n",
    "success_failure_df = analyze_success_failure(df_vote, title=\"Success and Failure Analysis by Category\")"
   ]
  },
  {
   "cell_type": "markdown",
   "metadata": {},
   "source": [
    "# Does your subject of interest have an influence on your chance of admission??"
   ]
  },
  {
   "cell_type": "code",
   "execution_count": 6,
   "metadata": {},
   "outputs": [
    {
     "name": "stdout",
     "output_type": "stream",
     "text": [
      "Chi-square test result: chi2 = 325.37, p-value = 0.0000\n",
      "Statistically significant association between category and RfA success.\n"
     ]
    },
    {
     "data": {
      "application/vnd.plotly.v1+json": {
       "config": {
        "plotlyServerURL": "https://plot.ly"
       },
       "data": [
        {
         "alignmentgroup": "True",
         "hovertemplate": "Success Rate (%)=%{x}<br>SRC_Category=%{y}<br>text=%{text}<extra></extra>",
         "legendgroup": "",
         "marker": {
          "color": "skyblue",
          "pattern": {
           "shape": ""
          }
         },
         "name": "",
         "offsetgroup": "",
         "orientation": "h",
         "showlegend": false,
         "text": [
          "86.79%",
          "84.51%",
          "83.95%",
          "83.73%",
          "82.85%",
          "82.36%",
          "81.46%",
          "81.21%",
          "80.50%",
          "79.44%",
          "79.44%",
          "78.69%",
          "78.51%",
          "69.83%"
         ],
         "textposition": "auto",
         "type": "bar",
         "x": [
          0.867892016082711,
          0.8450765864332604,
          0.8395230406160725,
          0.8373094764744864,
          0.8284858853721129,
          0.8236076622915928,
          0.8145619013834693,
          0.8120996441281139,
          0.8049645390070922,
          0.7944275020792902,
          0.7943786982248521,
          0.7868721232739644,
          0.7851282051282051,
          0.6982817869415807
         ],
         "xaxis": "x",
         "y": [
          "Lists",
          "Government",
          "Science",
          "Geography",
          "People",
          "Technology",
          "Culture",
          "Religion",
          "Sports",
          "Entertainment",
          "Education",
          "Politics",
          "History",
          "Society"
         ],
         "yaxis": "y"
        }
       ],
       "layout": {
        "barmode": "relative",
        "legend": {
         "tracegroupgap": 0
        },
        "template": {
         "data": {
          "bar": [
           {
            "error_x": {
             "color": "#2a3f5f"
            },
            "error_y": {
             "color": "#2a3f5f"
            },
            "marker": {
             "line": {
              "color": "white",
              "width": 0.5
             },
             "pattern": {
              "fillmode": "overlay",
              "size": 10,
              "solidity": 0.2
             }
            },
            "type": "bar"
           }
          ],
          "barpolar": [
           {
            "marker": {
             "line": {
              "color": "white",
              "width": 0.5
             },
             "pattern": {
              "fillmode": "overlay",
              "size": 10,
              "solidity": 0.2
             }
            },
            "type": "barpolar"
           }
          ],
          "carpet": [
           {
            "aaxis": {
             "endlinecolor": "#2a3f5f",
             "gridcolor": "#C8D4E3",
             "linecolor": "#C8D4E3",
             "minorgridcolor": "#C8D4E3",
             "startlinecolor": "#2a3f5f"
            },
            "baxis": {
             "endlinecolor": "#2a3f5f",
             "gridcolor": "#C8D4E3",
             "linecolor": "#C8D4E3",
             "minorgridcolor": "#C8D4E3",
             "startlinecolor": "#2a3f5f"
            },
            "type": "carpet"
           }
          ],
          "choropleth": [
           {
            "colorbar": {
             "outlinewidth": 0,
             "ticks": ""
            },
            "type": "choropleth"
           }
          ],
          "contour": [
           {
            "colorbar": {
             "outlinewidth": 0,
             "ticks": ""
            },
            "colorscale": [
             [
              0,
              "#0d0887"
             ],
             [
              0.1111111111111111,
              "#46039f"
             ],
             [
              0.2222222222222222,
              "#7201a8"
             ],
             [
              0.3333333333333333,
              "#9c179e"
             ],
             [
              0.4444444444444444,
              "#bd3786"
             ],
             [
              0.5555555555555556,
              "#d8576b"
             ],
             [
              0.6666666666666666,
              "#ed7953"
             ],
             [
              0.7777777777777778,
              "#fb9f3a"
             ],
             [
              0.8888888888888888,
              "#fdca26"
             ],
             [
              1,
              "#f0f921"
             ]
            ],
            "type": "contour"
           }
          ],
          "contourcarpet": [
           {
            "colorbar": {
             "outlinewidth": 0,
             "ticks": ""
            },
            "type": "contourcarpet"
           }
          ],
          "heatmap": [
           {
            "colorbar": {
             "outlinewidth": 0,
             "ticks": ""
            },
            "colorscale": [
             [
              0,
              "#0d0887"
             ],
             [
              0.1111111111111111,
              "#46039f"
             ],
             [
              0.2222222222222222,
              "#7201a8"
             ],
             [
              0.3333333333333333,
              "#9c179e"
             ],
             [
              0.4444444444444444,
              "#bd3786"
             ],
             [
              0.5555555555555556,
              "#d8576b"
             ],
             [
              0.6666666666666666,
              "#ed7953"
             ],
             [
              0.7777777777777778,
              "#fb9f3a"
             ],
             [
              0.8888888888888888,
              "#fdca26"
             ],
             [
              1,
              "#f0f921"
             ]
            ],
            "type": "heatmap"
           }
          ],
          "heatmapgl": [
           {
            "colorbar": {
             "outlinewidth": 0,
             "ticks": ""
            },
            "colorscale": [
             [
              0,
              "#0d0887"
             ],
             [
              0.1111111111111111,
              "#46039f"
             ],
             [
              0.2222222222222222,
              "#7201a8"
             ],
             [
              0.3333333333333333,
              "#9c179e"
             ],
             [
              0.4444444444444444,
              "#bd3786"
             ],
             [
              0.5555555555555556,
              "#d8576b"
             ],
             [
              0.6666666666666666,
              "#ed7953"
             ],
             [
              0.7777777777777778,
              "#fb9f3a"
             ],
             [
              0.8888888888888888,
              "#fdca26"
             ],
             [
              1,
              "#f0f921"
             ]
            ],
            "type": "heatmapgl"
           }
          ],
          "histogram": [
           {
            "marker": {
             "pattern": {
              "fillmode": "overlay",
              "size": 10,
              "solidity": 0.2
             }
            },
            "type": "histogram"
           }
          ],
          "histogram2d": [
           {
            "colorbar": {
             "outlinewidth": 0,
             "ticks": ""
            },
            "colorscale": [
             [
              0,
              "#0d0887"
             ],
             [
              0.1111111111111111,
              "#46039f"
             ],
             [
              0.2222222222222222,
              "#7201a8"
             ],
             [
              0.3333333333333333,
              "#9c179e"
             ],
             [
              0.4444444444444444,
              "#bd3786"
             ],
             [
              0.5555555555555556,
              "#d8576b"
             ],
             [
              0.6666666666666666,
              "#ed7953"
             ],
             [
              0.7777777777777778,
              "#fb9f3a"
             ],
             [
              0.8888888888888888,
              "#fdca26"
             ],
             [
              1,
              "#f0f921"
             ]
            ],
            "type": "histogram2d"
           }
          ],
          "histogram2dcontour": [
           {
            "colorbar": {
             "outlinewidth": 0,
             "ticks": ""
            },
            "colorscale": [
             [
              0,
              "#0d0887"
             ],
             [
              0.1111111111111111,
              "#46039f"
             ],
             [
              0.2222222222222222,
              "#7201a8"
             ],
             [
              0.3333333333333333,
              "#9c179e"
             ],
             [
              0.4444444444444444,
              "#bd3786"
             ],
             [
              0.5555555555555556,
              "#d8576b"
             ],
             [
              0.6666666666666666,
              "#ed7953"
             ],
             [
              0.7777777777777778,
              "#fb9f3a"
             ],
             [
              0.8888888888888888,
              "#fdca26"
             ],
             [
              1,
              "#f0f921"
             ]
            ],
            "type": "histogram2dcontour"
           }
          ],
          "mesh3d": [
           {
            "colorbar": {
             "outlinewidth": 0,
             "ticks": ""
            },
            "type": "mesh3d"
           }
          ],
          "parcoords": [
           {
            "line": {
             "colorbar": {
              "outlinewidth": 0,
              "ticks": ""
             }
            },
            "type": "parcoords"
           }
          ],
          "pie": [
           {
            "automargin": true,
            "type": "pie"
           }
          ],
          "scatter": [
           {
            "fillpattern": {
             "fillmode": "overlay",
             "size": 10,
             "solidity": 0.2
            },
            "type": "scatter"
           }
          ],
          "scatter3d": [
           {
            "line": {
             "colorbar": {
              "outlinewidth": 0,
              "ticks": ""
             }
            },
            "marker": {
             "colorbar": {
              "outlinewidth": 0,
              "ticks": ""
             }
            },
            "type": "scatter3d"
           }
          ],
          "scattercarpet": [
           {
            "marker": {
             "colorbar": {
              "outlinewidth": 0,
              "ticks": ""
             }
            },
            "type": "scattercarpet"
           }
          ],
          "scattergeo": [
           {
            "marker": {
             "colorbar": {
              "outlinewidth": 0,
              "ticks": ""
             }
            },
            "type": "scattergeo"
           }
          ],
          "scattergl": [
           {
            "marker": {
             "colorbar": {
              "outlinewidth": 0,
              "ticks": ""
             }
            },
            "type": "scattergl"
           }
          ],
          "scattermapbox": [
           {
            "marker": {
             "colorbar": {
              "outlinewidth": 0,
              "ticks": ""
             }
            },
            "type": "scattermapbox"
           }
          ],
          "scatterpolar": [
           {
            "marker": {
             "colorbar": {
              "outlinewidth": 0,
              "ticks": ""
             }
            },
            "type": "scatterpolar"
           }
          ],
          "scatterpolargl": [
           {
            "marker": {
             "colorbar": {
              "outlinewidth": 0,
              "ticks": ""
             }
            },
            "type": "scatterpolargl"
           }
          ],
          "scatterternary": [
           {
            "marker": {
             "colorbar": {
              "outlinewidth": 0,
              "ticks": ""
             }
            },
            "type": "scatterternary"
           }
          ],
          "surface": [
           {
            "colorbar": {
             "outlinewidth": 0,
             "ticks": ""
            },
            "colorscale": [
             [
              0,
              "#0d0887"
             ],
             [
              0.1111111111111111,
              "#46039f"
             ],
             [
              0.2222222222222222,
              "#7201a8"
             ],
             [
              0.3333333333333333,
              "#9c179e"
             ],
             [
              0.4444444444444444,
              "#bd3786"
             ],
             [
              0.5555555555555556,
              "#d8576b"
             ],
             [
              0.6666666666666666,
              "#ed7953"
             ],
             [
              0.7777777777777778,
              "#fb9f3a"
             ],
             [
              0.8888888888888888,
              "#fdca26"
             ],
             [
              1,
              "#f0f921"
             ]
            ],
            "type": "surface"
           }
          ],
          "table": [
           {
            "cells": {
             "fill": {
              "color": "#EBF0F8"
             },
             "line": {
              "color": "white"
             }
            },
            "header": {
             "fill": {
              "color": "#C8D4E3"
             },
             "line": {
              "color": "white"
             }
            },
            "type": "table"
           }
          ]
         },
         "layout": {
          "annotationdefaults": {
           "arrowcolor": "#2a3f5f",
           "arrowhead": 0,
           "arrowwidth": 1
          },
          "autotypenumbers": "strict",
          "coloraxis": {
           "colorbar": {
            "outlinewidth": 0,
            "ticks": ""
           }
          },
          "colorscale": {
           "diverging": [
            [
             0,
             "#8e0152"
            ],
            [
             0.1,
             "#c51b7d"
            ],
            [
             0.2,
             "#de77ae"
            ],
            [
             0.3,
             "#f1b6da"
            ],
            [
             0.4,
             "#fde0ef"
            ],
            [
             0.5,
             "#f7f7f7"
            ],
            [
             0.6,
             "#e6f5d0"
            ],
            [
             0.7,
             "#b8e186"
            ],
            [
             0.8,
             "#7fbc41"
            ],
            [
             0.9,
             "#4d9221"
            ],
            [
             1,
             "#276419"
            ]
           ],
           "sequential": [
            [
             0,
             "#0d0887"
            ],
            [
             0.1111111111111111,
             "#46039f"
            ],
            [
             0.2222222222222222,
             "#7201a8"
            ],
            [
             0.3333333333333333,
             "#9c179e"
            ],
            [
             0.4444444444444444,
             "#bd3786"
            ],
            [
             0.5555555555555556,
             "#d8576b"
            ],
            [
             0.6666666666666666,
             "#ed7953"
            ],
            [
             0.7777777777777778,
             "#fb9f3a"
            ],
            [
             0.8888888888888888,
             "#fdca26"
            ],
            [
             1,
             "#f0f921"
            ]
           ],
           "sequentialminus": [
            [
             0,
             "#0d0887"
            ],
            [
             0.1111111111111111,
             "#46039f"
            ],
            [
             0.2222222222222222,
             "#7201a8"
            ],
            [
             0.3333333333333333,
             "#9c179e"
            ],
            [
             0.4444444444444444,
             "#bd3786"
            ],
            [
             0.5555555555555556,
             "#d8576b"
            ],
            [
             0.6666666666666666,
             "#ed7953"
            ],
            [
             0.7777777777777778,
             "#fb9f3a"
            ],
            [
             0.8888888888888888,
             "#fdca26"
            ],
            [
             1,
             "#f0f921"
            ]
           ]
          },
          "colorway": [
           "#636efa",
           "#EF553B",
           "#00cc96",
           "#ab63fa",
           "#FFA15A",
           "#19d3f3",
           "#FF6692",
           "#B6E880",
           "#FF97FF",
           "#FECB52"
          ],
          "font": {
           "color": "#2a3f5f"
          },
          "geo": {
           "bgcolor": "white",
           "lakecolor": "white",
           "landcolor": "white",
           "showlakes": true,
           "showland": true,
           "subunitcolor": "#C8D4E3"
          },
          "hoverlabel": {
           "align": "left"
          },
          "hovermode": "closest",
          "mapbox": {
           "style": "light"
          },
          "paper_bgcolor": "white",
          "plot_bgcolor": "white",
          "polar": {
           "angularaxis": {
            "gridcolor": "#EBF0F8",
            "linecolor": "#EBF0F8",
            "ticks": ""
           },
           "bgcolor": "white",
           "radialaxis": {
            "gridcolor": "#EBF0F8",
            "linecolor": "#EBF0F8",
            "ticks": ""
           }
          },
          "scene": {
           "xaxis": {
            "backgroundcolor": "white",
            "gridcolor": "#DFE8F3",
            "gridwidth": 2,
            "linecolor": "#EBF0F8",
            "showbackground": true,
            "ticks": "",
            "zerolinecolor": "#EBF0F8"
           },
           "yaxis": {
            "backgroundcolor": "white",
            "gridcolor": "#DFE8F3",
            "gridwidth": 2,
            "linecolor": "#EBF0F8",
            "showbackground": true,
            "ticks": "",
            "zerolinecolor": "#EBF0F8"
           },
           "zaxis": {
            "backgroundcolor": "white",
            "gridcolor": "#DFE8F3",
            "gridwidth": 2,
            "linecolor": "#EBF0F8",
            "showbackground": true,
            "ticks": "",
            "zerolinecolor": "#EBF0F8"
           }
          },
          "shapedefaults": {
           "line": {
            "color": "#2a3f5f"
           }
          },
          "ternary": {
           "aaxis": {
            "gridcolor": "#DFE8F3",
            "linecolor": "#A2B1C6",
            "ticks": ""
           },
           "baxis": {
            "gridcolor": "#DFE8F3",
            "linecolor": "#A2B1C6",
            "ticks": ""
           },
           "bgcolor": "white",
           "caxis": {
            "gridcolor": "#DFE8F3",
            "linecolor": "#A2B1C6",
            "ticks": ""
           }
          },
          "title": {
           "x": 0.05
          },
          "xaxis": {
           "automargin": true,
           "gridcolor": "#EBF0F8",
           "linecolor": "#EBF0F8",
           "ticks": "",
           "title": {
            "standoff": 15
           },
           "zerolinecolor": "#EBF0F8",
           "zerolinewidth": 2
          },
          "yaxis": {
           "automargin": true,
           "gridcolor": "#EBF0F8",
           "linecolor": "#EBF0F8",
           "ticks": "",
           "title": {
            "standoff": 15
           },
           "zerolinecolor": "#EBF0F8",
           "zerolinewidth": 2
          }
         }
        },
        "title": {
         "text": "RFA Success Rates by Category"
        },
        "xaxis": {
         "anchor": "y",
         "domain": [
          0,
          1
         ],
         "title": {
          "text": "Success Rate (%)"
         }
        },
        "yaxis": {
         "anchor": "x",
         "autorange": "reversed",
         "domain": [
          0,
          1
         ],
         "title": {
          "text": "Category"
         }
        }
       }
      }
     },
     "metadata": {},
     "output_type": "display_data"
    }
   ],
   "source": [
    "# Call the function with the success_data DataFrame\n",
    "analyze_and_plot_success_rates(\n",
    "    success_failure_df, \n",
    "    title=\"RFA Success Rates by Category\"\n",
    ")"
   ]
  },
  {
   "cell_type": "markdown",
   "metadata": {},
   "source": [
    "# Code"
   ]
  },
  {
   "cell_type": "markdown",
   "metadata": {},
   "source": [
    "# Admin scores distribution\n",
    "\n",
    "We first plot the distribution of adminscores over the data set."
   ]
  },
  {
   "cell_type": "markdown",
   "metadata": {},
   "source": [
    "Let us notice that the boxplot for categories like, time, universe and others are not really significant since there are not enough users in these categories to fair results"
   ]
  },
  {
   "cell_type": "markdown",
   "metadata": {},
   "source": [
    "## Approbation rates vs outcome"
   ]
  },
  {
   "cell_type": "code",
   "execution_count": 7,
   "metadata": {},
   "outputs": [
    {
     "data": {
      "image/png": "[encoded data removed]",
      "text/plain": [
       "<Figure size 1000x600 with 1 Axes>"
      ]
     },
     "metadata": {},
     "output_type": "display_data"
    }
   ],
   "source": [
    "from src.scripts.GalPlots import *\n",
    "plot_outcomes_approbation_rates(\"data/wiki-RfA.txt\")"
   ]
  },
  {
   "cell_type": "markdown",
   "metadata": {},
   "source": [
    "## Succes rate over years"
   ]
  },
  {
   "cell_type": "code",
   "execution_count": 8,
   "metadata": {},
   "outputs": [
    {
     "data": {
      "application/vnd.plotly.v1+json": {
       "config": {
        "plotlyServerURL": "https://plot.ly"
       },
       "data": [
        {
         "hovertemplate": "Year: %{x}<br>Success Rate: %{y:.2%}<extra></extra>",
         "line": {
          "width": 2
         },
         "marker": {
          "size": 8
         },
         "mode": "lines+markers",
         "name": "Success Rate",
         "type": "scatter",
         "x": [
          "2003",
          "2004",
          "2005",
          "2006",
          "2007",
          "2008",
          "2009",
          "2010",
          "2011",
          "2012",
          "2013"
         ],
         "y": [
          1,
          0.8027210884353742,
          0.672566371681416,
          0.42317073170731706,
          0.47820965842167257,
          0.37640449438202245,
          0.364741641337386,
          0.3472222222222222,
          0.3851851851851852,
          0.3010752688172043,
          0.5428571428571428
         ],
         "yaxis": "y"
        },
        {
         "hovertemplate": "Year: %{x}<br>RFAs: %{y}<extra></extra>",
         "line": {
          "width": 2
         },
         "marker": {
          "size": 8
         },
         "mode": "lines+markers",
         "name": "Number of RFAs",
         "type": "scatter",
         "x": [
          "2003",
          "2004",
          "2005",
          "2006",
          "2007",
          "2008",
          "2009",
          "2010",
          "2011",
          "2012",
          "2013"
         ],
         "y": [
          58,
          294,
          565,
          820,
          849,
          534,
          329,
          216,
          135,
          93,
          35
         ],
         "yaxis": "y2"
        }
       ],
       "layout": {
        "height": 600,
        "legend": {
         "orientation": "h",
         "x": 0.5,
         "xanchor": "center",
         "y": 1.15
        },
        "margin": {
         "b": 50,
         "l": 50,
         "r": 50,
         "t": 80
        },
        "template": {
         "data": {
          "bar": [
           {
            "error_x": {
             "color": "#2a3f5f"
            },
            "error_y": {
             "color": "#2a3f5f"
            },
            "marker": {
             "line": {
              "color": "white",
              "width": 0.5
             },
             "pattern": {
              "fillmode": "overlay",
              "size": 10,
              "solidity": 0.2
             }
            },
            "type": "bar"
           }
          ],
          "barpolar": [
           {
            "marker": {
             "line": {
              "color": "white",
              "width": 0.5
             },
             "pattern": {
              "fillmode": "overlay",
              "size": 10,
              "solidity": 0.2
             }
            },
            "type": "barpolar"
           }
          ],
          "carpet": [
           {
            "aaxis": {
             "endlinecolor": "#2a3f5f",
             "gridcolor": "#C8D4E3",
             "linecolor": "#C8D4E3",
             "minorgridcolor": "#C8D4E3",
             "startlinecolor": "#2a3f5f"
            },
            "baxis": {
             "endlinecolor": "#2a3f5f",
             "gridcolor": "#C8D4E3",
             "linecolor": "#C8D4E3",
             "minorgridcolor": "#C8D4E3",
             "startlinecolor": "#2a3f5f"
            },
            "type": "carpet"
           }
          ],
          "choropleth": [
           {
            "colorbar": {
             "outlinewidth": 0,
             "ticks": ""
            },
            "type": "choropleth"
           }
          ],
          "contour": [
           {
            "colorbar": {
             "outlinewidth": 0,
             "ticks": ""
            },
            "colorscale": [
             [
              0,
              "#0d0887"
             ],
             [
              0.1111111111111111,
              "#46039f"
             ],
             [
              0.2222222222222222,
              "#7201a8"
             ],
             [
              0.3333333333333333,
              "#9c179e"
             ],
             [
              0.4444444444444444,
              "#bd3786"
             ],
             [
              0.5555555555555556,
              "#d8576b"
             ],
             [
              0.6666666666666666,
              "#ed7953"
             ],
             [
              0.7777777777777778,
              "#fb9f3a"
             ],
             [
              0.8888888888888888,
              "#fdca26"
             ],
             [
              1,
              "#f0f921"
             ]
            ],
            "type": "contour"
           }
          ],
          "contourcarpet": [
           {
            "colorbar": {
             "outlinewidth": 0,
             "ticks": ""
            },
            "type": "contourcarpet"
           }
          ],
          "heatmap": [
           {
            "colorbar": {
             "outlinewidth": 0,
             "ticks": ""
            },
            "colorscale": [
             [
              0,
              "#0d0887"
             ],
             [
              0.1111111111111111,
              "#46039f"
             ],
             [
              0.2222222222222222,
              "#7201a8"
             ],
             [
              0.3333333333333333,
              "#9c179e"
             ],
             [
              0.4444444444444444,
              "#bd3786"
             ],
             [
              0.5555555555555556,
              "#d8576b"
             ],
             [
              0.6666666666666666,
              "#ed7953"
             ],
             [
              0.7777777777777778,
              "#fb9f3a"
             ],
             [
              0.8888888888888888,
              "#fdca26"
             ],
             [
              1,
              "#f0f921"
             ]
            ],
            "type": "heatmap"
           }
          ],
          "heatmapgl": [
           {
            "colorbar": {
             "outlinewidth": 0,
             "ticks": ""
            },
            "colorscale": [
             [
              0,
              "#0d0887"
             ],
             [
              0.1111111111111111,
              "#46039f"
             ],
             [
              0.2222222222222222,
              "#7201a8"
             ],
             [
              0.3333333333333333,
              "#9c179e"
             ],
             [
              0.4444444444444444,
              "#bd3786"
             ],
             [
              0.5555555555555556,
              "#d8576b"
             ],
             [
              0.6666666666666666,
              "#ed7953"
             ],
             [
              0.7777777777777778,
              "#fb9f3a"
             ],
             [
              0.8888888888888888,
              "#fdca26"
             ],
             [
              1,
              "#f0f921"
             ]
            ],
            "type": "heatmapgl"
           }
          ],
          "histogram": [
           {
            "marker": {
             "pattern": {
              "fillmode": "overlay",
              "size": 10,
              "solidity": 0.2
             }
            },
            "type": "histogram"
           }
          ],
          "histogram2d": [
           {
            "colorbar": {
             "outlinewidth": 0,
             "ticks": ""
            },
            "colorscale": [
             [
              0,
              "#0d0887"
             ],
             [
              0.1111111111111111,
              "#46039f"
             ],
             [
              0.2222222222222222,
              "#7201a8"
             ],
             [
              0.3333333333333333,
              "#9c179e"
             ],
             [
              0.4444444444444444,
              "#bd3786"
             ],
             [
              0.5555555555555556,
              "#d8576b"
             ],
             [
              0.6666666666666666,
              "#ed7953"
             ],
             [
              0.7777777777777778,
              "#fb9f3a"
             ],
             [
              0.8888888888888888,
              "#fdca26"
             ],
             [
              1,
              "#f0f921"
             ]
            ],
            "type": "histogram2d"
           }
          ],
          "histogram2dcontour": [
           {
            "colorbar": {
             "outlinewidth": 0,
             "ticks": ""
            },
            "colorscale": [
             [
              0,
              "#0d0887"
             ],
             [
              0.1111111111111111,
              "#46039f"
             ],
             [
              0.2222222222222222,
              "#7201a8"
             ],
             [
              0.3333333333333333,
              "#9c179e"
             ],
             [
              0.4444444444444444,
              "#bd3786"
             ],
             [
              0.5555555555555556,
              "#d8576b"
             ],
             [
              0.6666666666666666,
              "#ed7953"
             ],
             [
              0.7777777777777778,
              "#fb9f3a"
             ],
             [
              0.8888888888888888,
              "#fdca26"
             ],
             [
              1,
              "#f0f921"
             ]
            ],
            "type": "histogram2dcontour"
           }
          ],
          "mesh3d": [
           {
            "colorbar": {
             "outlinewidth": 0,
             "ticks": ""
            },
            "type": "mesh3d"
           }
          ],
          "parcoords": [
           {
            "line": {
             "colorbar": {
              "outlinewidth": 0,
              "ticks": ""
             }
            },
            "type": "parcoords"
           }
          ],
          "pie": [
           {
            "automargin": true,
            "type": "pie"
           }
          ],
          "scatter": [
           {
            "fillpattern": {
             "fillmode": "overlay",
             "size": 10,
             "solidity": 0.2
            },
            "type": "scatter"
           }
          ],
          "scatter3d": [
           {
            "line": {
             "colorbar": {
              "outlinewidth": 0,
              "ticks": ""
             }
            },
            "marker": {
             "colorbar": {
              "outlinewidth": 0,
              "ticks": ""
             }
            },
            "type": "scatter3d"
           }
          ],
          "scattercarpet": [
           {
            "marker": {
             "colorbar": {
              "outlinewidth": 0,
              "ticks": ""
             }
            },
            "type": "scattercarpet"
           }
          ],
          "scattergeo": [
           {
            "marker": {
             "colorbar": {
              "outlinewidth": 0,
              "ticks": ""
             }
            },
            "type": "scattergeo"
           }
          ],
          "scattergl": [
           {
            "marker": {
             "colorbar": {
              "outlinewidth": 0,
              "ticks": ""
             }
            },
            "type": "scattergl"
           }
          ],
          "scattermapbox": [
           {
            "marker": {
             "colorbar": {
              "outlinewidth": 0,
              "ticks": ""
             }
            },
            "type": "scattermapbox"
           }
          ],
          "scatterpolar": [
           {
            "marker": {
             "colorbar": {
              "outlinewidth": 0,
              "ticks": ""
             }
            },
            "type": "scatterpolar"
           }
          ],
          "scatterpolargl": [
           {
            "marker": {
             "colorbar": {
              "outlinewidth": 0,
              "ticks": ""
             }
            },
            "type": "scatterpolargl"
           }
          ],
          "scatterternary": [
           {
            "marker": {
             "colorbar": {
              "outlinewidth": 0,
              "ticks": ""
             }
            },
            "type": "scatterternary"
           }
          ],
          "surface": [
           {
            "colorbar": {
             "outlinewidth": 0,
             "ticks": ""
            },
            "colorscale": [
             [
              0,
              "#0d0887"
             ],
             [
              0.1111111111111111,
              "#46039f"
             ],
             [
              0.2222222222222222,
              "#7201a8"
             ],
             [
              0.3333333333333333,
              "#9c179e"
             ],
             [
              0.4444444444444444,
              "#bd3786"
             ],
             [
              0.5555555555555556,
              "#d8576b"
             ],
             [
              0.6666666666666666,
              "#ed7953"
             ],
             [
              0.7777777777777778,
              "#fb9f3a"
             ],
             [
              0.8888888888888888,
              "#fdca26"
             ],
             [
              1,
              "#f0f921"
             ]
            ],
            "type": "surface"
           }
          ],
          "table": [
           {
            "cells": {
             "fill": {
              "color": "#EBF0F8"
             },
             "line": {
              "color": "white"
             }
            },
            "header": {
             "fill": {
              "color": "#C8D4E3"
             },
             "line": {
              "color": "white"
             }
            },
            "type": "table"
           }
          ]
         },
         "layout": {
          "annotationdefaults": {
           "arrowcolor": "#2a3f5f",
           "arrowhead": 0,
           "arrowwidth": 1
          },
          "autotypenumbers": "strict",
          "coloraxis": {
           "colorbar": {
            "outlinewidth": 0,
            "ticks": ""
           }
          },
          "colorscale": {
           "diverging": [
            [
             0,
             "#8e0152"
            ],
            [
             0.1,
             "#c51b7d"
            ],
            [
             0.2,
             "#de77ae"
            ],
            [
             0.3,
             "#f1b6da"
            ],
            [
             0.4,
             "#fde0ef"
            ],
            [
             0.5,
             "#f7f7f7"
            ],
            [
             0.6,
             "#e6f5d0"
            ],
            [
             0.7,
             "#b8e186"
            ],
            [
             0.8,
             "#7fbc41"
            ],
            [
             0.9,
             "#4d9221"
            ],
            [
             1,
             "#276419"
            ]
           ],
           "sequential": [
            [
             0,
             "#0d0887"
            ],
            [
             0.1111111111111111,
             "#46039f"
            ],
            [
             0.2222222222222222,
             "#7201a8"
            ],
            [
             0.3333333333333333,
             "#9c179e"
            ],
            [
             0.4444444444444444,
             "#bd3786"
            ],
            [
             0.5555555555555556,
             "#d8576b"
            ],
            [
             0.6666666666666666,
             "#ed7953"
            ],
            [
             0.7777777777777778,
             "#fb9f3a"
            ],
            [
             0.8888888888888888,
             "#fdca26"
            ],
            [
             1,
             "#f0f921"
            ]
           ],
           "sequentialminus": [
            [
             0,
             "#0d0887"
            ],
            [
             0.1111111111111111,
             "#46039f"
            ],
            [
             0.2222222222222222,
             "#7201a8"
            ],
            [
             0.3333333333333333,
             "#9c179e"
            ],
            [
             0.4444444444444444,
             "#bd3786"
            ],
            [
             0.5555555555555556,
             "#d8576b"
            ],
            [
             0.6666666666666666,
             "#ed7953"
            ],
            [
             0.7777777777777778,
             "#fb9f3a"
            ],
            [
             0.8888888888888888,
             "#fdca26"
            ],
            [
             1,
             "#f0f921"
            ]
           ]
          },
          "colorway": [
           "#636efa",
           "#EF553B",
           "#00cc96",
           "#ab63fa",
           "#FFA15A",
           "#19d3f3",
           "#FF6692",
           "#B6E880",
           "#FF97FF",
           "#FECB52"
          ],
          "font": {
           "color": "#2a3f5f"
          },
          "geo": {
           "bgcolor": "white",
           "lakecolor": "white",
           "landcolor": "white",
           "showlakes": true,
           "showland": true,
           "subunitcolor": "#C8D4E3"
          },
          "hoverlabel": {
           "align": "left"
          },
          "hovermode": "closest",
          "mapbox": {
           "style": "light"
          },
          "paper_bgcolor": "white",
          "plot_bgcolor": "white",
          "polar": {
           "angularaxis": {
            "gridcolor": "#EBF0F8",
            "linecolor": "#EBF0F8",
            "ticks": ""
           },
           "bgcolor": "white",
           "radialaxis": {
            "gridcolor": "#EBF0F8",
            "linecolor": "#EBF0F8",
            "ticks": ""
           }
          },
          "scene": {
           "xaxis": {
            "backgroundcolor": "white",
            "gridcolor": "#DFE8F3",
            "gridwidth": 2,
            "linecolor": "#EBF0F8",
            "showbackground": true,
            "ticks": "",
            "zerolinecolor": "#EBF0F8"
           },
           "yaxis": {
            "backgroundcolor": "white",
            "gridcolor": "#DFE8F3",
            "gridwidth": 2,
            "linecolor": "#EBF0F8",
            "showbackground": true,
            "ticks": "",
            "zerolinecolor": "#EBF0F8"
           },
           "zaxis": {
            "backgroundcolor": "white",
            "gridcolor": "#DFE8F3",
            "gridwidth": 2,
            "linecolor": "#EBF0F8",
            "showbackground": true,
            "ticks": "",
            "zerolinecolor": "#EBF0F8"
           }
          },
          "shapedefaults": {
           "line": {
            "color": "#2a3f5f"
           }
          },
          "ternary": {
           "aaxis": {
            "gridcolor": "#DFE8F3",
            "linecolor": "#A2B1C6",
            "ticks": ""
           },
           "baxis": {
            "gridcolor": "#DFE8F3",
            "linecolor": "#A2B1C6",
            "ticks": ""
           },
           "bgcolor": "white",
           "caxis": {
            "gridcolor": "#DFE8F3",
            "linecolor": "#A2B1C6",
            "ticks": ""
           }
          },
          "title": {
           "x": 0.05
          },
          "xaxis": {
           "automargin": true,
           "gridcolor": "#EBF0F8",
           "linecolor": "#EBF0F8",
           "ticks": "",
           "title": {
            "standoff": 15
           },
           "zerolinecolor": "#EBF0F8",
           "zerolinewidth": 2
          },
          "yaxis": {
           "automargin": true,
           "gridcolor": "#EBF0F8",
           "linecolor": "#EBF0F8",
           "ticks": "",
           "title": {
            "standoff": 15
           },
           "zerolinecolor": "#EBF0F8",
           "zerolinewidth": 2
          }
         }
        },
        "width": 1000,
        "xaxis": {
         "title": {
          "text": "Year"
         }
        },
        "yaxis": {
         "range": [
          0,
          1
         ],
         "title": {
          "text": "Success Rate"
         }
        },
        "yaxis2": {
         "overlaying": "y",
         "side": "right",
         "title": {
          "text": "Number of RFAs"
         }
        }
       }
      }
     },
     "metadata": {},
     "output_type": "display_data"
    }
   ],
   "source": [
    "from src.scripts.GalPlots import *\n",
    "plot_success_rates(\"data/wiki-RfA.txt\")"
   ]
  },
  {
   "cell_type": "markdown",
   "metadata": {},
   "source": [
    "## Admin score hist"
   ]
  },
  {
   "cell_type": "code",
   "execution_count": 9,
   "metadata": {},
   "outputs": [
    {
     "data": {
      "application/vnd.plotly.v1+json": {
       "config": {
        "plotlyServerURL": "https://plot.ly"
       },
       "data": [
        {
         "alignmentgroup": "True",
         "bingroup": "x",
         "hovertemplate": "Admin score=%{x}<br>count=%{y}<extra></extra>",
         "legendgroup": "",
         "marker": {
          "color": "dodgerblue",
          "opacity": 0.7,
          "pattern": {
           "shape": ""
          }
         },
         "name": "",
         "nbinsx": 20,
         "offsetgroup": "",
         "orientation": "v",
         "showlegend": false,
         "type": "histogram",
         "x": [
          592,
          693,
          108,
          864,
          649,
          30,
          102,
          10,
          708,
          134,
          1,
          992,
          0,
          733,
          410,
          100,
          0,
          589,
          718,
          516,
          656,
          746,
          591,
          198,
          761,
          110,
          657,
          619,
          615,
          643,
          1186,
          104,
          664,
          420,
          626,
          1300,
          100,
          971,
          879,
          728,
          493,
          639,
          649,
          129,
          102,
          554,
          855,
          757,
          1174,
          805,
          1022,
          930,
          1017,
          924,
          177,
          727,
          102,
          390,
          100,
          100,
          901,
          787,
          626,
          651,
          100,
          544,
          771,
          519,
          806,
          1009,
          579,
          517,
          702,
          465,
          750,
          1191,
          477,
          100,
          125,
          164,
          100,
          765,
          516,
          526,
          954,
          582,
          528,
          1038,
          1019,
          100,
          844,
          720,
          2,
          733,
          831,
          601,
          100,
          424,
          913,
          705,
          286,
          720,
          138,
          623,
          290,
          715,
          535,
          734,
          602,
          463,
          900,
          552,
          365,
          688,
          768,
          508,
          551,
          756,
          910,
          732,
          343,
          444,
          551,
          784,
          483,
          612,
          794,
          190,
          574,
          847,
          465,
          719,
          715,
          758,
          102,
          1200,
          141,
          1058,
          664,
          577,
          752,
          281,
          703,
          605,
          526,
          624,
          824,
          504,
          745,
          517,
          750,
          784,
          548,
          788,
          102,
          498,
          497,
          328,
          557,
          623,
          885,
          584,
          685,
          721,
          544,
          734,
          664,
          1081,
          930,
          817,
          1029,
          614,
          703,
          429,
          102,
          105,
          107,
          707,
          412,
          916,
          516,
          103,
          555,
          991,
          580,
          100,
          761,
          489,
          1097,
          835,
          149,
          656,
          430,
          989,
          271,
          1068,
          856,
          358,
          617,
          704,
          437,
          261,
          1200,
          813,
          567,
          100,
          549,
          627,
          510,
          819,
          986,
          1071,
          1037,
          809,
          740,
          620,
          1026,
          656,
          449,
          617,
          725,
          721,
          863,
          1005,
          949,
          411,
          953,
          605,
          627,
          648,
          274,
          885,
          102,
          567,
          0,
          313,
          1018,
          629,
          751,
          666,
          677,
          478,
          1093,
          120,
          472,
          972,
          643,
          874,
          104,
          1097,
          565,
          100,
          965,
          625,
          412,
          860,
          749,
          773,
          708,
          413,
          851,
          602,
          771,
          576,
          100,
          585,
          444,
          101,
          423,
          743,
          1002,
          1055,
          100,
          102,
          725,
          966,
          410,
          621,
          561,
          518,
          100,
          905,
          548,
          287,
          835,
          1100,
          1115,
          538,
          1095,
          646,
          102,
          648,
          372,
          100,
          870,
          450,
          888,
          824,
          805,
          911,
          143,
          484,
          100,
          490,
          367,
          831,
          512,
          836,
          707,
          524,
          432,
          675,
          126,
          712,
          0,
          103,
          599,
          731,
          596,
          816,
          814,
          901,
          503,
          422,
          411,
          976,
          759,
          727,
          100,
          153,
          1022,
          809,
          904,
          430,
          514,
          820,
          730,
          325,
          904,
          813,
          107,
          600,
          544,
          512,
          893,
          879,
          440,
          449,
          833,
          1103,
          588,
          720,
          105,
          700,
          659,
          628,
          100,
          626,
          871,
          614,
          666,
          1008,
          102,
          514,
          102,
          612,
          896,
          100,
          566,
          759,
          812,
          1176,
          963,
          507,
          100,
          606,
          626,
          800,
          1152,
          688,
          288,
          830,
          645,
          714,
          649,
          528,
          321,
          688,
          401,
          692,
          445,
          657,
          753,
          933,
          748,
          464,
          672,
          748,
          814,
          768,
          774,
          611,
          573,
          653,
          750,
          751,
          545,
          109,
          929,
          523,
          540,
          216,
          590,
          260,
          715,
          881,
          544,
          628,
          126,
          102,
          608,
          523,
          705,
          100,
          685,
          724,
          431,
          841,
          385,
          484,
          841,
          1109,
          732,
          523,
          541,
          569,
          693,
          526,
          295,
          101,
          448,
          808,
          448,
          900,
          731,
          579,
          883,
          361,
          103,
          287,
          585,
          730,
          282,
          618,
          749,
          313,
          786,
          859,
          565,
          1045,
          571,
          531,
          872,
          100,
          660,
          731,
          554,
          430,
          420,
          942,
          632,
          840,
          918,
          560,
          861,
          787,
          541,
          621,
          584,
          104,
          972,
          723,
          760,
          0,
          545,
          943,
          783,
          1186,
          532,
          454,
          1050,
          633,
          502,
          247,
          422,
          100,
          207,
          1061,
          246,
          611,
          717,
          775,
          778,
          644,
          1189,
          720,
          318,
          1025,
          432,
          689,
          638,
          660,
          538,
          907,
          858,
          100,
          681,
          846,
          528,
          719,
          646,
          757,
          601,
          430,
          1022,
          709,
          582,
          949,
          867,
          760,
          567,
          918,
          493,
          104,
          407,
          596,
          520,
          637,
          524,
          1026,
          638,
          102,
          610,
          701,
          200,
          359,
          555,
          432,
          805,
          917,
          706,
          713,
          114,
          844,
          717,
          557,
          113,
          812,
          875,
          704,
          612,
          580,
          604,
          455,
          503,
          565,
          593,
          549,
          1049,
          112,
          240,
          930,
          579,
          831,
          524,
          100,
          826,
          976,
          656,
          641,
          549,
          989,
          662,
          506,
          834,
          170,
          382,
          417,
          120,
          584,
          713,
          771,
          223,
          526,
          658,
          628,
          634,
          662,
          780,
          152,
          669,
          627,
          539,
          482,
          735,
          607,
          854,
          1000,
          641,
          674,
          684,
          545,
          694,
          104,
          903,
          298,
          931,
          846,
          103,
          499,
          746,
          1047,
          616,
          704,
          671,
          796,
          608,
          900,
          790,
          192,
          387,
          640,
          967,
          978,
          883,
          1109,
          742,
          492,
          647,
          111,
          454,
          575,
          698,
          428,
          610,
          838,
          230,
          542,
          925,
          635,
          446,
          1100,
          950,
          393,
          730,
          593,
          744,
          704,
          1026,
          524,
          826,
          1001,
          479,
          481,
          523,
          835,
          952,
          100,
          806,
          1030,
          1112,
          813,
          346,
          553,
          321,
          558,
          419,
          587,
          536,
          106,
          0,
          904,
          715,
          693,
          554,
          104,
          985,
          628,
          688,
          467,
          748,
          754,
          586,
          856,
          963,
          942,
          502,
          437,
          100,
          146,
          854,
          797,
          644,
          916,
          100,
          902,
          767,
          679,
          632,
          102,
          1124,
          289,
          365,
          589,
          750,
          618,
          1006,
          620,
          385,
          645,
          804,
          626,
          457,
          945,
          594,
          622,
          933,
          604,
          533,
          639,
          395,
          866,
          671,
          706,
          723,
          825,
          476,
          100,
          884,
          713,
          245,
          1084,
          715,
          716,
          804,
          101,
          393,
          671,
          864,
          717,
          373,
          697,
          727,
          828,
          173,
          615,
          851,
          530,
          536,
          687,
          1035,
          911,
          651,
          501,
          706,
          674,
          894,
          1151,
          737,
          605,
          763,
          892,
          746,
          585,
          105,
          752,
          102,
          752,
          707,
          677,
          592,
          708,
          725,
          605,
          114,
          103,
          748,
          640,
          944,
          771,
          914,
          623,
          918,
          616,
          464,
          746,
          917,
          129,
          877,
          612,
          100,
          930,
          848,
          103,
          623,
          1058,
          765,
          100,
          865,
          103,
          844,
          100,
          678,
          666,
          409,
          468,
          635,
          837,
          991,
          831,
          100,
          743,
          585,
          605,
          508,
          447,
          730,
          658,
          454,
          871,
          492,
          710,
          744,
          652,
          592,
          712,
          580,
          164,
          632,
          629,
          525,
          978,
          744,
          585,
          704,
          690,
          1054,
          571,
          948,
          140,
          845,
          103,
          638,
          567,
          502,
          619,
          855,
          674,
          703,
          131,
          851,
          558,
          102,
          845,
          667,
          609,
          938,
          529,
          419,
          433,
          1149,
          670,
          144,
          783,
          727,
          513,
          719,
          629,
          807,
          762,
          687,
          1193,
          242,
          599,
          414,
          417,
          125,
          421,
          130,
          1027,
          100,
          631,
          176,
          154,
          743,
          447,
          603,
          713,
          672,
          686,
          821,
          148,
          270,
          842,
          543,
          1008,
          826,
          617,
          592,
          1115,
          814,
          526,
          710,
          635,
          720,
          792,
          829,
          808,
          453,
          1131,
          565,
          567,
          599,
          636,
          923,
          421,
          109,
          1017,
          513,
          725,
          843,
          586,
          416,
          526,
          757,
          555,
          545,
          614,
          499,
          106,
          746,
          997,
          102,
          705,
          102,
          640,
          160,
          139,
          828,
          438,
          1120,
          368,
          564,
          734,
          408,
          502,
          673,
          100,
          214,
          1149,
          904,
          548,
          645,
          585,
          102,
          1100,
          232,
          416,
          100,
          674,
          1259,
          463,
          500,
          493,
          574,
          583,
          924,
          603,
          639,
          719,
          1031,
          537,
          809,
          448,
          948,
          273,
          727,
          102,
          504,
          517,
          328,
          690,
          569,
          925,
          725,
          634,
          807,
          522,
          698,
          965,
          566,
          100,
          100,
          818,
          727,
          533,
          459,
          656,
          1297,
          503,
          729,
          513,
          155,
          100,
          466,
          566,
          1004,
          437,
          361,
          679,
          833,
          100,
          584,
          1140,
          187,
          604,
          603,
          100,
          425,
          1146,
          667,
          821,
          641,
          922,
          488,
          210,
          431,
          656,
          613,
          568,
          1198,
          838,
          100,
          825,
          1015,
          894,
          781,
          100,
          1177,
          635,
          615,
          932,
          465,
          742,
          858,
          601,
          100,
          280,
          338,
          601,
          543,
          656,
          1108,
          131,
          645,
          714,
          205,
          867,
          759,
          573,
          806,
          103,
          323,
          621,
          125,
          955,
          953,
          258,
          588,
          1037,
          602,
          103,
          659,
          513,
          782,
          1106,
          201,
          732,
          1069,
          847,
          976,
          425,
          816,
          783,
          828,
          519,
          103,
          623,
          652,
          860,
          263,
          607,
          637,
          902,
          721,
          1007,
          957,
          943,
          761,
          1032,
          402,
          154,
          823,
          653,
          401,
          661,
          473,
          452,
          102,
          694,
          816,
          642,
          523,
          562,
          983,
          958,
          439,
          552,
          911,
          967,
          1123,
          346,
          736,
          607,
          115,
          711,
          644,
          150,
          107,
          589,
          470,
          615,
          436,
          486,
          559,
          879,
          695,
          940,
          490,
          879,
          505,
          695,
          889,
          909,
          638,
          110,
          590,
          806,
          673,
          204,
          502,
          127,
          586,
          642,
          115,
          874,
          1269,
          768,
          571,
          816,
          707,
          635,
          578,
          538,
          679,
          626,
          734,
          139,
          647,
          484,
          108,
          822,
          817,
          908,
          637,
          733,
          525,
          666,
          700,
          578,
          113,
          107,
          623,
          597,
          792,
          485,
          893,
          603,
          421,
          177,
          1019,
          558,
          101,
          912,
          846,
          793,
          100,
          523,
          752,
          639,
          1045,
          582,
          562,
          655,
          536,
          1291,
          600,
          486,
          514,
          811,
          566,
          706,
          784,
          919,
          676,
          530,
          102,
          870,
          216,
          850,
          771,
          524,
          736,
          805,
          679,
          663,
          851,
          499,
          186,
          666,
          441,
          544,
          349,
          127,
          713,
          624,
          1019,
          173,
          1176,
          771,
          449,
          648,
          151,
          1044,
          302,
          100,
          100,
          1282,
          940,
          778,
          822,
          550,
          942,
          413,
          629,
          592,
          810,
          230,
          550,
          365,
          173,
          235,
          684,
          100,
          552,
          1001,
          646,
          913,
          1017,
          654,
          726,
          751,
          1145,
          102,
          467,
          650,
          725,
          1104,
          627,
          536,
          635,
          711,
          898,
          1214,
          532,
          1200,
          895,
          687,
          1220,
          1090,
          692,
          668,
          1157,
          584,
          1061,
          811,
          1256,
          790,
          881,
          1045,
          673,
          703,
          670,
          1058,
          624,
          1074,
          1002,
          956,
          765,
          829,
          1006,
          747,
          910,
          674,
          947,
          621,
          612,
          795,
          776,
          257,
          469,
          736,
          706,
          870,
          676,
          1140,
          919,
          701,
          944,
          899,
          1210,
          961,
          747,
          885,
          693,
          1004,
          986,
          781,
          611,
          1149,
          773,
          699,
          483,
          512,
          728,
          763,
          482,
          652,
          1063,
          1022,
          1087,
          620,
          810,
          809,
          1171,
          538,
          618,
          593,
          775,
          862,
          729,
          1043,
          632,
          830,
          872,
          1103,
          709,
          529,
          602,
          550,
          1086,
          825,
          990,
          888,
          756,
          418,
          848,
          687,
          654,
          707,
          1139,
          922,
          923,
          515,
          849,
          867,
          657,
          1044,
          1282,
          659,
          930,
          1071,
          811,
          899,
          1016,
          496,
          734,
          719,
          739,
          803,
          668,
          746,
          1097,
          376,
          801,
          1029,
          847,
          727,
          932,
          617,
          495,
          861,
          731,
          1241,
          522,
          537,
          679,
          662,
          698,
          686,
          747,
          581,
          646,
          745,
          620,
          858,
          1005,
          821,
          932,
          804,
          1077,
          756,
          1113,
          612,
          514,
          836,
          1051,
          346,
          602,
          619,
          638,
          906,
          722,
          392,
          518,
          467,
          985,
          1063,
          965,
          705,
          604,
          1300,
          706,
          712,
          826,
          1144,
          1165,
          670,
          656,
          762,
          1133,
          614,
          728,
          903,
          947,
          213,
          975,
          934,
          526,
          721,
          683,
          651,
          641,
          991,
          350,
          817,
          1051,
          730,
          706,
          771,
          808,
          845,
          625,
          1086,
          744,
          1022,
          816,
          1119,
          744,
          953,
          694,
          911,
          443,
          626,
          766,
          645,
          802,
          712,
          537,
          673,
          887,
          778,
          604,
          742,
          1141,
          683,
          1030,
          716,
          812,
          376,
          894,
          1059,
          613,
          562,
          813,
          748,
          615,
          918,
          897,
          708,
          871,
          759,
          451,
          633,
          916,
          1236,
          715,
          1202,
          864,
          949,
          514,
          628,
          844,
          742,
          743,
          794,
          776,
          810,
          975,
          796,
          891,
          1144,
          1027,
          827,
          1087,
          762,
          989,
          1103,
          960,
          728,
          1300,
          637,
          631,
          1036,
          1129,
          541,
          381,
          350,
          443,
          898,
          1154,
          771,
          823,
          588,
          1052,
          1072,
          1029,
          830,
          1222,
          1205,
          690,
          742,
          767,
          760,
          835,
          727,
          711,
          514,
          1151,
          1016,
          831,
          1003,
          615,
          717,
          1008,
          659,
          790,
          886,
          927,
          271,
          701,
          1010,
          707,
          783,
          783,
          779,
          1025,
          773,
          766,
          628,
          911,
          942,
          714,
          508,
          584,
          1059,
          900,
          828,
          579,
          814,
          757,
          730,
          1022,
          720,
          1274,
          508,
          991,
          728,
          925,
          1044,
          880,
          777,
          884,
          817,
          444,
          642,
          809,
          650,
          725,
          950,
          1107,
          929,
          1031,
          724,
          1009,
          508,
          792,
          1067,
          676,
          674,
          526,
          1178,
          870,
          809,
          607,
          714,
          750,
          735,
          531,
          1126,
          557,
          547,
          901,
          539,
          783,
          847,
          705,
          512,
          807,
          679,
          830,
          706,
          1227,
          835,
          917,
          1020,
          606,
          1015,
          1025,
          730,
          1035,
          1066,
          834,
          885,
          969,
          789,
          662,
          865,
          1115,
          616,
          954,
          543,
          855,
          937,
          1213,
          809,
          1181,
          1001,
          1085,
          863,
          551,
          569,
          898,
          908,
          1074,
          714,
          964,
          953,
          928,
          879,
          870,
          667,
          813,
          1038,
          878,
          568,
          1198,
          823,
          535,
          724,
          749,
          766,
          513,
          808,
          678,
          1092,
          796,
          990,
          824,
          648,
          700,
          705,
          665,
          1213,
          816,
          1182,
          537,
          1017,
          916,
          1111,
          929,
          873,
          917,
          234,
          770,
          877,
          564,
          1219,
          704,
          451,
          822,
          886,
          255,
          774,
          673,
          870,
          877,
          746,
          639,
          849,
          684,
          910,
          1300,
          394,
          665,
          195,
          131,
          592,
          955,
          682,
          681,
          693,
          642,
          541,
          108,
          601,
          554,
          508,
          323,
          864,
          561,
          439,
          649,
          577,
          207,
          0,
          0,
          30,
          34,
          102,
          0,
          423,
          102,
          842,
          296,
          23,
          332,
          1,
          0,
          109,
          444,
          204,
          690,
          227,
          1086,
          540,
          368,
          514,
          28,
          1,
          42,
          385,
          151,
          732,
          675,
          801,
          619,
          627,
          612,
          909,
          102,
          679,
          626,
          684,
          670,
          437,
          558,
          100,
          453,
          932,
          117,
          121,
          724,
          869,
          747,
          125,
          818,
          1029,
          130,
          188,
          699,
          531,
          100,
          710,
          588,
          786,
          573,
          102,
          498,
          788,
          518,
          912,
          543,
          572,
          419,
          100,
          534,
          817,
          648,
          911,
          580,
          165,
          601,
          518,
          641,
          728,
          421,
          106,
          677,
          619,
          605,
          662,
          102,
          102,
          641,
          1017,
          796,
          106,
          615,
          1038,
          500,
          652,
          446,
          1067,
          549,
          921,
          427,
          589,
          894,
          102,
          438,
          887,
          609,
          636,
          488,
          780,
          711,
          373,
          535,
          883,
          523,
          708,
          424,
          524,
          615,
          502,
          137,
          100,
          115,
          685,
          808,
          612,
          0,
          466,
          607,
          676,
          566,
          596,
          789,
          737,
          409,
          453,
          952,
          100,
          1050,
          396,
          686,
          660,
          636,
          659,
          796,
          647,
          711,
          1179,
          430,
          1035,
          972,
          508,
          1051,
          546,
          802,
          867,
          543,
          643,
          962,
          414,
          817,
          1116,
          445,
          706,
          948,
          621,
          763,
          716,
          652,
          609,
          589,
          165,
          444,
          524,
          892,
          913,
          1279,
          862,
          254,
          119,
          1146,
          1044,
          583,
          586,
          699,
          776,
          540,
          652,
          393,
          814,
          430,
          679,
          158,
          904,
          772,
          549,
          694,
          785,
          1113,
          800,
          245,
          876,
          869,
          158,
          924,
          696,
          619,
          617,
          852,
          686,
          906,
          707,
          767,
          508,
          410,
          101,
          919,
          546,
          718,
          1022,
          673,
          689,
          993,
          648,
          895,
          666,
          206,
          962,
          100,
          539,
          420,
          720,
          539,
          838,
          701,
          776,
          403,
          836,
          709,
          1300,
          101,
          100,
          102,
          900,
          549,
          776,
          557,
          189,
          591,
          630,
          719,
          902,
          449,
          707,
          102,
          462,
          662,
          691,
          1018,
          901,
          635,
          643,
          1162,
          1069,
          733,
          730,
          820,
          948,
          866,
          723,
          578,
          100,
          852,
          434,
          618,
          505,
          522,
          760,
          1063,
          701,
          790,
          674,
          827,
          762,
          424,
          719,
          417,
          575,
          752,
          674,
          521,
          641,
          741,
          1279,
          285,
          661,
          815,
          510,
          426,
          805,
          727,
          643,
          706,
          108,
          805,
          1234,
          848,
          762,
          100,
          416,
          559,
          132,
          869,
          835,
          806,
          872,
          123,
          713,
          500,
          707,
          630,
          100,
          662,
          744,
          893,
          103,
          588,
          896,
          882,
          1171,
          844,
          1014,
          900,
          711,
          605,
          498,
          744,
          374,
          763,
          155,
          682,
          498,
          219,
          100,
          169,
          815,
          670,
          968,
          432,
          772,
          561,
          608,
          1041,
          645,
          788,
          216,
          603,
          1014,
          515,
          669,
          764,
          100,
          655,
          473,
          998,
          727,
          419,
          626,
          709,
          496,
          894,
          744,
          862,
          876,
          994,
          858,
          100,
          534,
          206,
          100,
          496,
          787,
          102,
          420,
          387,
          646,
          540,
          1072,
          776,
          653,
          100,
          514,
          903,
          523,
          109,
          680,
          500,
          298,
          446,
          421,
          532,
          1149,
          102,
          655,
          728,
          797,
          111,
          192,
          893,
          302,
          643,
          509,
          500,
          104,
          106,
          661,
          836,
          222,
          634,
          470,
          102,
          1003,
          611,
          356,
          339,
          382,
          612,
          108,
          628,
          614,
          1017,
          100,
          208,
          1111,
          1033,
          814,
          1012,
          740,
          608,
          608,
          676,
          449,
          809,
          801,
          607,
          221,
          490,
          410,
          202,
          690,
          656,
          542,
          127,
          616,
          613,
          535,
          101,
          758,
          800,
          467,
          799,
          1119,
          1002,
          854,
          371,
          100,
          853,
          769,
          705,
          415,
          319,
          102,
          903,
          518,
          117,
          849,
          409,
          878,
          892,
          482,
          682,
          546,
          811,
          681,
          493,
          586,
          416,
          791,
          525,
          990,
          596,
          931,
          100,
          1051,
          1160,
          682,
          468,
          737,
          850,
          1108,
          359,
          882,
          409,
          524,
          893,
          610,
          716,
          546,
          102,
          655,
          132,
          613,
          635,
          399,
          937,
          598,
          934,
          672,
          978,
          100,
          1014,
          117,
          489,
          105,
          701,
          855,
          681,
          163,
          925,
          1094,
          713,
          894,
          798,
          838,
          112,
          659,
          720,
          680,
          515,
          809,
          573,
          897,
          671,
          573,
          429,
          643,
          751,
          639,
          863,
          538,
          626,
          1106,
          730,
          737,
          624,
          419,
          939,
          1002,
          954,
          468,
          348,
          820,
          764,
          506,
          845,
          100,
          0,
          955,
          916,
          540,
          819,
          836,
          100,
          171,
          1040,
          568,
          786,
          1131,
          0,
          199,
          886,
          424,
          614,
          656,
          944,
          238,
          741,
          508,
          590,
          441,
          873,
          800,
          188,
          719,
          189,
          565,
          665,
          763,
          936,
          1197,
          631,
          1128,
          253,
          551,
          909,
          716,
          104,
          608,
          697,
          102,
          321,
          708,
          826,
          611,
          927,
          104,
          1300,
          102,
          845,
          102,
          562,
          251,
          664,
          372,
          1112,
          795,
          650,
          676,
          326,
          108,
          793,
          108,
          468,
          672,
          775,
          538,
          1015,
          186,
          754,
          386,
          0,
          524,
          801,
          106,
          105,
          506,
          829,
          700,
          435,
          765,
          885,
          520,
          1102,
          126,
          108,
          551,
          952,
          832,
          103,
          881,
          757,
          836,
          132,
          698,
          691,
          916,
          891,
          810,
          679,
          374,
          401,
          708,
          103,
          748,
          720,
          375,
          963,
          707,
          648,
          940,
          615,
          642,
          816,
          100,
          860,
          969,
          792,
          126,
          730,
          1039,
          977,
          997,
          532,
          841,
          765,
          502,
          669,
          1014,
          883,
          604,
          661,
          467,
          747,
          576,
          704,
          971,
          1113,
          985,
          512,
          706,
          727,
          717,
          814,
          703,
          809,
          968,
          499,
          740,
          521,
          707,
          583,
          558,
          152,
          1140,
          738,
          105,
          919,
          607,
          802,
          103,
          510,
          489,
          0,
          926,
          811,
          832,
          587,
          145,
          1081,
          724,
          876,
          630,
          892,
          402,
          883,
          589,
          1067,
          832,
          103,
          2,
          722,
          809,
          687,
          115,
          1035,
          627,
          844,
          940,
          762,
          1048,
          766,
          778,
          469,
          1158,
          623,
          658,
          639,
          853,
          668,
          120,
          100,
          845,
          569,
          863,
          754,
          906,
          398,
          209,
          975,
          116,
          660,
          146,
          608,
          865,
          1205,
          545,
          504,
          702,
          839,
          727,
          808,
          547,
          887,
          102,
          573,
          100,
          715,
          617,
          857,
          553,
          189,
          505,
          454,
          698,
          839,
          162,
          805,
          822,
          130,
          0,
          116,
          103,
          102,
          978,
          561,
          656,
          846,
          733,
          1154,
          694,
          169,
          799,
          811,
          688,
          447,
          682,
          634,
          432,
          129,
          142,
          100,
          160,
          270,
          520,
          212,
          540,
          863,
          941,
          571,
          636,
          739,
          749,
          100,
          667,
          728,
          784,
          108,
          630,
          506,
          690,
          620,
          615,
          668,
          629,
          660,
          824,
          215,
          574,
          106,
          103,
          542,
          505,
          458,
          100,
          307,
          685,
          1149,
          792,
          616,
          907,
          644,
          690,
          808,
          1001,
          878,
          1039,
          1212,
          109,
          1034,
          1021,
          844,
          362,
          566,
          420,
          1058,
          620,
          718,
          519,
          583,
          924,
          169,
          657,
          500,
          350,
          717,
          874,
          466,
          755,
          682,
          608,
          299,
          590,
          430,
          669,
          852,
          435,
          1016,
          829,
          751,
          264,
          552,
          100,
          798,
          814,
          538,
          682,
          103,
          538,
          114,
          635,
          737,
          764,
          1191,
          565,
          836,
          691,
          100,
          973,
          376,
          133,
          103,
          105,
          802,
          515,
          100,
          747,
          744,
          402,
          644,
          639,
          513,
          329,
          516,
          680,
          373,
          101,
          1078,
          613,
          367,
          678,
          780,
          100,
          641,
          663,
          792,
          794,
          115,
          654,
          610,
          753,
          890,
          100,
          105,
          631,
          587,
          113,
          583,
          1198,
          478,
          536,
          837,
          1081,
          1101,
          804,
          719,
          822,
          125,
          290,
          525,
          169,
          848,
          871,
          615,
          772,
          1101,
          380,
          625,
          103,
          684,
          762,
          320,
          803,
          720,
          731,
          102,
          669,
          100,
          593,
          1197,
          560,
          870,
          1180,
          711,
          704,
          788,
          613,
          952,
          308,
          509,
          647,
          967,
          625,
          624,
          513,
          315,
          1165,
          563,
          166,
          558,
          205,
          941,
          695,
          542,
          621,
          1031,
          102,
          912,
          138,
          660,
          100,
          515,
          845,
          515,
          292,
          418,
          563,
          563,
          471,
          614,
          593,
          555,
          826,
          504,
          880,
          541,
          540,
          795,
          40,
          819,
          955,
          103,
          734,
          864,
          668,
          443,
          750,
          875,
          152,
          659,
          723,
          512,
          634,
          506,
          440,
          510,
          634,
          104,
          776,
          654,
          538,
          1052,
          663,
          471,
          746,
          728,
          111,
          921,
          104,
          805,
          752,
          570,
          552,
          662,
          623,
          502,
          433,
          534,
          116,
          501,
          657,
          819,
          937,
          885,
          702,
          1156,
          825,
          104,
          100,
          125,
          447,
          839,
          504,
          817,
          312,
          102,
          239,
          556,
          837,
          1066,
          504,
          711,
          929,
          973,
          108,
          650,
          798,
          314,
          642,
          625,
          100,
          600,
          711,
          468,
          413,
          570,
          587,
          208,
          558,
          643,
          608,
          103,
          104,
          723,
          937,
          1019,
          686,
          642,
          674,
          899,
          835,
          572,
          828,
          680,
          608,
          102,
          487,
          926,
          798,
          810,
          446,
          525,
          528,
          1060,
          592,
          523,
          356,
          647,
          1072,
          651,
          437,
          717,
          707,
          519,
          870,
          102,
          511,
          771,
          304,
          843,
          573,
          802,
          897,
          180,
          565,
          580,
          115,
          875,
          681,
          631,
          555,
          452,
          760,
          619,
          1058,
          398,
          802,
          702,
          475,
          600,
          132,
          816,
          544,
          400,
          506,
          898,
          746,
          799,
          1227,
          755,
          1030,
          1054,
          361,
          323,
          954,
          171,
          676,
          864,
          843,
          712,
          115,
          901,
          39,
          318,
          484,
          888,
          804,
          913,
          910,
          1071,
          1200,
          476,
          722,
          1139,
          102,
          104,
          209,
          872,
          1007,
          1077,
          601,
          102,
          516,
          838,
          632,
          539,
          574,
          473,
          686,
          100,
          809,
          1002,
          752,
          625,
          948,
          102,
          701,
          524,
          519,
          871,
          794,
          762,
          804,
          1053,
          100,
          350,
          1074,
          1037,
          964,
          858,
          558,
          839,
          744,
          1019,
          904,
          790,
          1148,
          975,
          764,
          733,
          418,
          941,
          490,
          109,
          650,
          823,
          0,
          1084,
          799,
          694,
          131,
          727,
          561,
          136,
          115,
          303,
          325,
          625,
          468,
          875,
          718,
          100,
          641,
          748,
          644,
          851,
          571,
          112,
          622,
          668,
          578,
          343,
          581,
          835,
          512,
          1106,
          803,
          519,
          466,
          1121,
          508,
          621,
          599,
          383,
          738,
          463,
          542,
          958,
          766,
          265,
          732,
          104,
          974,
          622,
          879,
          1071,
          831,
          916,
          1062,
          660,
          702,
          869,
          333,
          529,
          898,
          705,
          535,
          711,
          724,
          1074,
          594,
          890,
          954,
          439,
          250,
          878,
          148,
          787,
          634,
          622,
          592,
          911,
          908,
          294,
          798,
          1182,
          533,
          718,
          595,
          514,
          697,
          659,
          105,
          323,
          674,
          100,
          527,
          1020,
          445,
          796,
          385,
          612,
          710,
          780,
          497,
          573,
          1158,
          557,
          791,
          870,
          659,
          454,
          489,
          620,
          835,
          423,
          825,
          674,
          1132,
          104,
          529,
          964,
          821,
          812,
          1012,
          606,
          666,
          108,
          851,
          500,
          563,
          710,
          678,
          835,
          102,
          485,
          768,
          781,
          493,
          890,
          363,
          325,
          1034,
          544,
          418,
          856,
          900,
          511,
          701,
          567,
          597,
          906,
          600,
          573,
          552,
          691,
          962,
          768,
          102,
          142,
          414,
          803,
          100,
          636,
          1119,
          731,
          628,
          879,
          874,
          455,
          698,
          514,
          605,
          904,
          1016,
          246,
          555,
          100,
          823,
          593,
          917,
          103,
          916,
          575,
          740,
          956,
          296,
          809,
          347,
          747,
          653,
          144,
          549,
          1091,
          445,
          767,
          606,
          171,
          457,
          576,
          458,
          681,
          708,
          100,
          656,
          645,
          568,
          787,
          1200,
          523,
          628,
          870,
          164,
          878,
          868,
          1130,
          478,
          107,
          540,
          1009,
          659,
          1086,
          140,
          904,
          102,
          878,
          544,
          1007,
          1110,
          713,
          921,
          462,
          488,
          917,
          102,
          921,
          579,
          737,
          141,
          401,
          103,
          473,
          462,
          436,
          845,
          844,
          1019,
          108,
          735,
          727,
          849,
          467,
          743,
          736,
          778,
          735,
          820,
          719,
          776,
          488,
          713,
          1033,
          569,
          579,
          704,
          731,
          701,
          560,
          678,
          615,
          1124,
          211,
          549,
          101,
          739,
          913,
          509,
          212,
          684,
          700,
          606,
          253,
          806,
          546,
          100,
          896,
          591,
          634,
          110,
          840,
          298,
          682,
          925,
          609,
          599,
          779,
          1007,
          1108,
          657,
          300,
          909,
          435,
          588,
          718,
          859,
          723,
          161,
          805,
          740,
          903,
          782,
          649,
          587,
          656,
          339,
          1104,
          103,
          608,
          970,
          577,
          669,
          704,
          361,
          576,
          643,
          730,
          611,
          100,
          239,
          864,
          856,
          100,
          773,
          700,
          1089,
          714,
          957,
          816,
          617,
          430,
          945,
          968,
          104,
          822,
          616,
          727,
          1207,
          615,
          844,
          688,
          972,
          629,
          769,
          112,
          583,
          654,
          1101,
          774,
          742,
          573,
          591,
          1007,
          874,
          567,
          1153,
          742,
          100,
          414,
          296,
          394,
          665,
          195,
          131,
          592,
          955,
          682,
          681,
          693,
          642,
          541,
          108,
          601,
          554,
          508,
          323,
          864,
          561,
          439,
          649,
          577,
          207,
          0,
          0,
          30,
          34,
          102,
          0,
          423,
          102,
          842,
          296,
          23,
          332,
          1,
          0,
          109,
          444,
          204,
          690,
          227,
          730,
          5,
          662,
          5,
          634,
          205,
          464,
          616,
          243,
          10,
          547,
          1273,
          437,
          739,
          590,
          1010,
          757,
          537,
          113,
          571,
          638,
          605,
          505,
          763,
          673,
          455,
          876,
          547,
          105,
          4,
          473,
          722,
          766,
          1263,
          902,
          1087,
          581,
          853,
          441,
          636,
          8,
          521,
          713,
          502,
          778,
          565,
          589,
          490,
          726,
          636,
          541,
          933,
          734,
          1056,
          718,
          1059,
          1044,
          914,
          586,
          779,
          941,
          338,
          677,
          162,
          106,
          602,
          927,
          728,
          589,
          711,
          705,
          120,
          652,
          1183,
          690,
          712,
          904,
          438,
          989,
          809,
          682,
          103,
          592,
          632,
          654,
          630,
          542,
          599,
          911,
          441,
          750,
          728,
          914,
          547,
          234,
          223,
          618,
          100,
          110,
          103,
          531,
          805,
          354,
          835,
          574,
          907,
          833,
          518,
          610,
          534,
          692,
          727,
          562,
          561,
          957,
          100,
          359,
          690,
          551,
          801,
          597,
          830,
          588,
          108,
          110,
          102,
          837,
          530,
          600,
          103,
          483,
          757,
          662,
          258,
          625,
          589,
          582,
          100,
          355,
          714,
          415,
          365,
          750,
          809,
          136,
          124,
          632,
          104,
          571,
          750,
          490,
          1103,
          644,
          963,
          581,
          832,
          513,
          917,
          815,
          610,
          700,
          560,
          103,
          100,
          1005,
          624,
          759,
          808,
          832,
          724,
          114,
          1105,
          821,
          1002,
          941,
          529,
          112,
          612,
          858,
          639,
          739,
          106,
          202,
          1300,
          940,
          736,
          635,
          1081,
          605,
          700,
          757,
          436,
          537,
          102,
          417,
          683,
          472,
          104,
          132,
          638,
          707,
          717,
          516,
          830,
          104,
          107,
          568,
          919,
          540,
          663,
          100,
          145,
          676,
          102,
          834,
          112,
          858,
          1041,
          710,
          782,
          804,
          584,
          616,
          216,
          638,
          218,
          836,
          762,
          802,
          879,
          0,
          1003,
          100,
          538,
          563,
          1030,
          587,
          838,
          643,
          856,
          100,
          431,
          1042,
          817,
          638,
          103,
          839,
          1141,
          695,
          490,
          460,
          599,
          104,
          107,
          676,
          623,
          175,
          306,
          104,
          865,
          119,
          1107,
          969,
          548,
          925,
          781,
          957,
          636,
          855,
          684,
          643,
          516,
          568,
          541,
          967,
          995,
          678,
          600,
          400,
          523,
          449,
          170,
          707,
          103,
          516,
          968,
          100,
          839,
          997,
          844,
          121,
          567,
          809,
          807,
          103,
          1042,
          471,
          637,
          803,
          566,
          699,
          295,
          422,
          721,
          662,
          841,
          175,
          100,
          409,
          487,
          348,
          738,
          465,
          103,
          707,
          260,
          818,
          108,
          713,
          483,
          217,
          1199,
          654,
          750,
          816,
          628,
          607,
          108,
          496,
          551,
          627,
          427,
          532,
          1142,
          832,
          751,
          688,
          467,
          755,
          323,
          903,
          552,
          866,
          672,
          839,
          825,
          673,
          121,
          702,
          765,
          694,
          953,
          487,
          1117,
          779,
          766,
          630,
          1063,
          667,
          890,
          381,
          980,
          807,
          113,
          589,
          672,
          662,
          970,
          1123,
          618,
          394,
          414,
          413,
          738,
          102,
          100,
          813,
          665,
          105,
          793,
          703,
          631,
          609,
          100,
          604,
          643,
          921,
          1097,
          617,
          530,
          457,
          580,
          419,
          1011,
          845,
          586,
          712,
          449,
          851,
          545,
          766,
          711,
          104,
          892,
          657,
          100,
          704,
          925,
          705,
          902,
          817,
          738,
          778,
          503,
          1039,
          458,
          110,
          760,
          724,
          888,
          741,
          1252,
          726,
          529,
          164,
          321,
          695,
          442,
          629,
          716,
          1095,
          102,
          593,
          597,
          100,
          1076,
          751,
          849,
          637,
          1221,
          742,
          831,
          1173,
          739,
          977,
          102,
          761,
          115,
          860,
          524,
          560,
          425,
          100,
          798,
          876,
          677,
          625,
          549,
          803,
          121,
          840,
          638,
          627,
          582,
          724,
          539,
          250,
          100,
          611,
          578,
          727,
          646,
          777,
          690,
          805,
          1150,
          131,
          723,
          161,
          617,
          623,
          105,
          167,
          591,
          975,
          928,
          870,
          457,
          1103,
          614,
          636,
          625,
          721,
          431,
          440,
          100,
          100,
          806,
          704,
          105,
          108,
          610,
          488,
          798,
          769,
          525,
          550,
          617,
          863,
          554,
          775,
          277,
          658,
          114,
          102,
          634,
          688,
          113,
          914,
          108,
          0,
          612,
          427,
          277,
          600,
          409,
          181,
          582,
          651,
          701,
          104,
          532,
          637,
          1190,
          846,
          1100,
          1246,
          801,
          637,
          939,
          100,
          588,
          937,
          677,
          1108,
          704,
          523,
          556,
          522,
          1174,
          875,
          832,
          674,
          114,
          1300,
          633,
          174,
          287,
          406,
          569,
          978,
          630,
          182,
          719,
          829,
          552,
          422,
          1017,
          781,
          852,
          945,
          341,
          860,
          100,
          702,
          100,
          451,
          647,
          628,
          712,
          486,
          805,
          978,
          603,
          100,
          100,
          725,
          780,
          461,
          396,
          106,
          502,
          636,
          860,
          744,
          0,
          640,
          968,
          594,
          629,
          949,
          593,
          851,
          503,
          895,
          168,
          760,
          465,
          427,
          695,
          802,
          656,
          686,
          613,
          685,
          961,
          715,
          984,
          733,
          185,
          1018,
          943,
          549,
          759,
          219,
          602,
          618,
          702,
          786,
          984,
          123,
          168,
          636,
          146,
          442,
          104,
          548,
          240,
          607,
          102,
          937,
          194,
          309,
          1002,
          404,
          739,
          662,
          568,
          107,
          478,
          970,
          100,
          519,
          576,
          610,
          453,
          1191,
          704,
          652,
          248,
          469,
          794,
          1018,
          808,
          468,
          1062,
          746,
          811,
          661,
          834,
          249,
          137,
          1021,
          721,
          771,
          103,
          470,
          432,
          495,
          702,
          1136,
          1102,
          688,
          786,
          736,
          232,
          557,
          449,
          970,
          705,
          621,
          744,
          1002,
          173,
          900,
          712,
          755,
          899,
          720,
          547,
          443,
          1162,
          1021,
          114,
          819,
          690,
          517,
          481,
          337,
          100,
          713,
          102,
          522,
          652,
          733,
          773,
          930,
          573,
          638,
          770,
          974,
          629,
          413,
          756,
          866,
          567,
          659,
          103,
          658,
          105,
          808,
          105,
          537,
          495,
          832,
          185,
          841,
          421,
          655,
          549,
          533,
          421,
          696,
          488,
          569,
          412,
          991,
          721,
          993,
          890,
          537,
          543,
          610,
          813,
          852,
          122,
          749,
          102,
          580,
          103,
          633,
          994,
          729,
          657,
          1026,
          927,
          934,
          778,
          1108,
          1300,
          765,
          621,
          849,
          566,
          625,
          312,
          219,
          228,
          747,
          1158,
          867,
          158,
          650,
          0,
          630,
          237,
          1114,
          640,
          419,
          703,
          752,
          157,
          560,
          484,
          517,
          748,
          410,
          695,
          857,
          513,
          140,
          865,
          641,
          313,
          826,
          611,
          680,
          113,
          123,
          744,
          927,
          561,
          589,
          812,
          621,
          276,
          867,
          542,
          818,
          594,
          763,
          338,
          906,
          745,
          1192,
          104,
          480,
          504,
          647,
          509,
          811,
          714,
          869,
          100,
          835,
          507,
          676,
          716,
          639,
          130,
          624,
          522,
          623,
          461,
          722,
          552,
          107,
          701,
          620,
          856,
          654,
          422,
          783,
          905,
          634,
          104,
          636,
          673,
          990,
          986,
          673,
          1180,
          574,
          454,
          102,
          103,
          141,
          850,
          188,
          466,
          119,
          736,
          439,
          586,
          100,
          519,
          102,
          636,
          117,
          819,
          634,
          884,
          505,
          356,
          646,
          563,
          1072,
          1233,
          553,
          1118,
          532,
          897,
          687,
          104,
          564,
          669,
          518,
          1221,
          827,
          748,
          729,
          682,
          603,
          587,
          1110,
          435,
          604,
          780,
          650,
          686,
          549,
          1097,
          1105,
          615,
          548,
          526,
          404,
          837,
          669,
          103,
          568,
          625,
          265,
          1003,
          201,
          607,
          100,
          817,
          905,
          641,
          421,
          624,
          737,
          611,
          812,
          903,
          466,
          823,
          766,
          713,
          142,
          266,
          431,
          427,
          527,
          790,
          100,
          671,
          770,
          190,
          434,
          459,
          499,
          100,
          775,
          469,
          410,
          883,
          722,
          699,
          604,
          583,
          624,
          423,
          517,
          767,
          488,
          252,
          899,
          657,
          721,
          633,
          748,
          108,
          1086,
          536,
          536,
          1017,
          934,
          606,
          113,
          638,
          621,
          439,
          1213,
          695,
          330,
          605,
          544,
          1114,
          556,
          502,
          769,
          517,
          709,
          436,
          646,
          471,
          556,
          556,
          644,
          343,
          712,
          523,
          701,
          469,
          768,
          1097,
          910,
          776,
          124,
          822,
          1248,
          441,
          457,
          945,
          551,
          390,
          1255,
          794,
          1004,
          752,
          639,
          692,
          794,
          621,
          102,
          688,
          1188,
          111,
          592,
          766,
          697,
          640,
          505,
          171,
          1010,
          625,
          483,
          701,
          104,
          620,
          719,
          628,
          883,
          669,
          401,
          627,
          902,
          108,
          450,
          960,
          855,
          771,
          801,
          147,
          114,
          865,
          851,
          605,
          660,
          860,
          647,
          1130,
          100,
          113,
          243,
          1040,
          465,
          100,
          102,
          653,
          814,
          629,
          828,
          103,
          662,
          312,
          654,
          885,
          662,
          295,
          103,
          102,
          265,
          858,
          880,
          787,
          1108,
          648,
          879,
          783,
          715,
          524,
          688,
          100,
          1186,
          227,
          1112,
          118,
          575,
          811,
          1042,
          949,
          100,
          738,
          106,
          888,
          435,
          725,
          886,
          554,
          960,
          217,
          495,
          674,
          730,
          100,
          524,
          905,
          102,
          942,
          830,
          692,
          486,
          801,
          517,
          775,
          100,
          505,
          645,
          501,
          703,
          696,
          703,
          782,
          597,
          759,
          102,
          763,
          547,
          546,
          764,
          889,
          506,
          727,
          105,
          738,
          312,
          917,
          944,
          812,
          734,
          664,
          576,
          507,
          807,
          790,
          886,
          209,
          1101,
          107,
          891,
          558,
          567,
          1101,
          268,
          1006,
          103,
          361,
          821,
          885,
          0,
          187,
          1058,
          107,
          735,
          411,
          907,
          902,
          1206,
          622,
          562,
          615,
          102,
          847,
          665,
          896,
          934,
          838,
          830,
          104,
          811,
          915,
          630,
          917,
          614,
          642,
          550,
          806,
          192,
          781,
          890,
          105,
          561,
          100,
          1200,
          757,
          714,
          1163,
          629,
          405,
          412,
          727,
          702,
          528,
          644,
          724,
          548,
          752,
          884,
          117,
          590,
          626,
          441,
          990,
          100,
          100,
          556,
          665,
          727,
          373,
          839,
          145,
          521,
          645,
          702,
          764,
          103,
          624,
          1154,
          771,
          210,
          225,
          819,
          849,
          877,
          100,
          513,
          711,
          140,
          706,
          468,
          1124,
          100,
          994,
          987,
          117,
          787,
          102,
          689,
          625,
          751,
          159,
          776,
          1025,
          742,
          737,
          152,
          104,
          984,
          1300,
          536,
          252,
          828,
          632,
          605,
          102,
          557,
          530,
          635,
          110,
          589,
          675,
          881,
          406,
          498,
          100,
          609,
          135,
          528,
          707,
          711,
          699,
          1087,
          743,
          395,
          622,
          677,
          562,
          827,
          829,
          768,
          845,
          778,
          102,
          370,
          656,
          760,
          161,
          750,
          864,
          947,
          534,
          1067,
          676,
          518,
          546,
          761,
          653,
          811,
          659,
          103,
          434,
          672,
          261,
          1300,
          424,
          103,
          515,
          102,
          109,
          846,
          1033,
          104,
          599,
          112,
          656,
          610,
          259,
          672,
          564,
          1050,
          532,
          1113,
          135,
          695,
          1237,
          511,
          468,
          560,
          607,
          419,
          885,
          654,
          567,
          690,
          1106,
          521,
          124,
          277,
          700,
          719,
          731,
          651,
          134,
          691,
          751,
          595,
          103,
          730,
          103,
          614,
          201,
          751,
          1021,
          590,
          917,
          101,
          677,
          616,
          468,
          719,
          440,
          1008,
          1028,
          111,
          534,
          127,
          705,
          300,
          743,
          1100,
          1018,
          434,
          472,
          1200,
          946,
          909,
          146,
          589,
          865,
          101,
          667,
          555,
          807,
          577,
          589,
          102,
          1031,
          544,
          234,
          601,
          853,
          538,
          822,
          826,
          103,
          1004,
          334,
          394,
          716,
          0,
          752,
          100,
          100,
          252,
          788,
          978,
          100,
          641,
          719,
          927,
          656,
          713,
          687,
          641,
          673,
          633,
          776,
          410,
          506,
          710,
          901,
          629,
          1093,
          604,
          860,
          851,
          560,
          141,
          657,
          665,
          990,
          521,
          141,
          132,
          210,
          1038,
          692,
          567,
          669,
          554,
          632,
          623,
          906,
          104,
          1089,
          770,
          322,
          522,
          830,
          737,
          102,
          430,
          543,
          646,
          345,
          904,
          630,
          565,
          112,
          516,
          920,
          570,
          114,
          787,
          231,
          948,
          655,
          870,
          623,
          636,
          585,
          946,
          463,
          724,
          907,
          152,
          1088,
          743,
          269,
          663,
          544,
          467,
          747,
          618,
          1213,
          582,
          606,
          732,
          1022,
          110,
          485,
          342,
          100,
          1161,
          678,
          798,
          816,
          1049,
          541,
          687,
          653,
          555,
          715,
          439,
          690,
          560,
          102,
          632,
          103,
          778,
          595,
          703,
          559,
          724,
          718,
          436,
          728,
          613,
          468,
          812,
          336,
          746,
          837,
          699,
          977,
          1153,
          173,
          930,
          668,
          651,
          813,
          856,
          995,
          894,
          623,
          694,
          107,
          862,
          105,
          1054,
          956,
          533,
          610,
          957,
          739,
          106,
          104,
          616,
          531,
          821,
          664,
          932,
          531,
          940,
          1004,
          115,
          702,
          554,
          879,
          831,
          703,
          607,
          590,
          294,
          322,
          394,
          665,
          195,
          131,
          592,
          955,
          682,
          681,
          693,
          642,
          541,
          108,
          601,
          554,
          508,
          323,
          864,
          561,
          439,
          649,
          577,
          207,
          0,
          0,
          30,
          34,
          102,
          0,
          423,
          102,
          842,
          296,
          23,
          332,
          1,
          0,
          109,
          444,
          204,
          690,
          227,
          460,
          861,
          105,
          101,
          0,
          1122,
          207,
          3,
          610,
          516,
          757,
          604,
          616,
          100,
          299,
          654,
          100,
          717,
          736,
          532,
          911,
          859,
          638,
          605,
          596,
          1112,
          886,
          681,
          488,
          162,
          104,
          790,
          954,
          629,
          469,
          627,
          631,
          787,
          399,
          100,
          400,
          764,
          617,
          669,
          755,
          668,
          597,
          863,
          923,
          696,
          443,
          702,
          104,
          355,
          100,
          711,
          101,
          1088,
          880,
          634,
          963,
          100,
          679,
          680,
          3,
          1064,
          609,
          108,
          422,
          591,
          100,
          991,
          1058,
          707,
          416,
          917,
          100,
          640,
          771,
          977,
          466,
          930,
          778,
          113,
          139,
          719,
          845,
          716,
          1059,
          909,
          557,
          669,
          219,
          448,
          1020,
          752,
          643,
          645,
          579,
          538,
          643,
          197,
          650,
          231,
          809,
          101,
          714,
          214,
          847,
          640,
          103,
          624,
          104,
          584,
          846,
          934,
          127,
          905,
          533,
          564,
          498,
          695,
          651,
          466,
          827,
          481,
          790,
          708,
          533,
          497,
          616,
          892,
          638,
          868,
          598,
          712,
          100,
          947,
          360,
          232,
          438,
          100,
          690,
          831,
          507,
          646,
          679,
          715,
          231,
          461,
          566,
          308,
          305,
          724,
          593,
          436,
          760,
          1001,
          613,
          611,
          103,
          757,
          597,
          1186,
          529,
          391,
          533,
          731,
          180,
          100,
          910,
          420,
          460,
          634,
          103,
          295,
          115,
          697,
          766,
          913,
          154,
          118,
          140,
          704,
          907,
          818,
          514,
          842,
          989,
          100,
          660,
          534,
          1045,
          302,
          100,
          672,
          548,
          383,
          606,
          1031,
          279,
          625,
          973,
          411,
          697,
          786,
          554,
          626,
          105,
          116,
          478,
          530,
          861,
          825,
          549,
          872,
          642,
          818,
          894,
          529,
          1125,
          235,
          311,
          908,
          422,
          462,
          700,
          102,
          479,
          696,
          876,
          963,
          495,
          578,
          782,
          776,
          233,
          308,
          919,
          773,
          1001,
          882,
          855,
          469,
          842,
          698,
          597,
          623,
          1131,
          103,
          909,
          593,
          570,
          413,
          900,
          710,
          521,
          112,
          111,
          647,
          982,
          906,
          506,
          608,
          364,
          779,
          566,
          592,
          109,
          651,
          789,
          100,
          1013,
          797,
          516,
          607,
          254,
          432,
          347,
          465,
          161,
          1005,
          729,
          1127,
          540,
          755,
          102,
          682,
          120,
          1200,
          718,
          100,
          456,
          781,
          100,
          714,
          396,
          535,
          746,
          312,
          119,
          181,
          431,
          100,
          1068,
          371,
          936,
          488,
          103,
          621,
          237,
          887,
          959,
          1075,
          766,
          563,
          524,
          385,
          1031,
          1155,
          102,
          890,
          368,
          392,
          1001,
          711,
          552,
          1039,
          119,
          100,
          406,
          901,
          713,
          516,
          677,
          103,
          563,
          110,
          793,
          778,
          200,
          516,
          355,
          882,
          482,
          262,
          556,
          1205,
          596,
          118,
          674,
          862,
          925,
          429,
          519,
          699,
          736,
          576,
          285,
          710,
          100,
          103,
          122,
          816,
          707,
          604,
          510,
          573,
          101,
          836,
          469,
          617,
          539,
          367,
          419,
          644,
          467,
          730,
          253,
          100,
          977,
          781,
          394,
          544,
          618,
          522,
          559,
          103,
          707,
          641,
          398,
          888,
          100,
          654,
          621,
          987,
          707,
          725,
          583,
          1145,
          797,
          246,
          637,
          1109,
          100,
          669,
          682,
          664,
          525,
          826,
          387,
          102,
          960,
          531,
          801,
          904,
          1167,
          636,
          100,
          749,
          932,
          107,
          524,
          371,
          912,
          1281,
          940,
          957,
          671,
          720,
          821,
          641,
          949,
          1030,
          655,
          892,
          369,
          929,
          547,
          114,
          427,
          324,
          579,
          134,
          445,
          455,
          858,
          1105,
          748,
          541,
          674,
          802,
          729,
          446,
          769,
          562,
          919,
          714,
          993,
          1007,
          737,
          1003,
          631,
          976,
          596,
          773,
          100,
          447,
          133,
          668,
          1300,
          790,
          832,
          357,
          224,
          602,
          115,
          637,
          782,
          175,
          708,
          939,
          628,
          728,
          100,
          674,
          314,
          821,
          657,
          1103,
          582,
          729,
          583,
          794,
          627,
          102,
          1034,
          645,
          736,
          604,
          755,
          145,
          932,
          658,
          509,
          108,
          1113,
          831,
          904,
          646,
          257,
          610,
          587,
          252,
          113,
          614,
          779,
          645,
          862,
          655,
          1041,
          806,
          744,
          105,
          752,
          942,
          634,
          706,
          424,
          507,
          100,
          766,
          797,
          1059,
          686,
          824,
          883,
          705,
          639,
          1132,
          809,
          850,
          558,
          422,
          482,
          680,
          706,
          616,
          705,
          782,
          670,
          532,
          611,
          730,
          832,
          100,
          518,
          934,
          527,
          702,
          491,
          1200,
          471,
          542,
          877,
          930,
          734,
          737,
          528,
          101,
          846,
          862,
          100,
          105,
          458,
          713,
          100,
          631,
          1010,
          619,
          665,
          560,
          729,
          243,
          922,
          374,
          821,
          518,
          718,
          804,
          103,
          672,
          647,
          959,
          111,
          102,
          422,
          480,
          522,
          851,
          241,
          1054,
          838,
          1014,
          668,
          1030,
          156,
          315,
          753,
          826,
          857,
          666,
          558,
          100,
          783,
          717,
          678,
          1112,
          752,
          893,
          719,
          1053,
          756,
          637,
          798,
          140,
          798,
          827,
          530,
          232,
          100,
          570,
          172,
          1046,
          639,
          506,
          1101,
          719,
          749,
          723,
          103,
          530,
          453,
          910,
          638,
          552,
          127,
          111,
          270,
          448,
          644,
          135,
          765,
          530,
          849,
          640,
          437,
          810,
          880,
          829,
          501,
          569,
          651,
          432,
          726,
          635,
          915,
          102,
          1008,
          587,
          124,
          450,
          738,
          718,
          425,
          1149,
          605,
          490,
          768,
          1200,
          717,
          1007,
          450,
          838,
          580,
          932,
          327,
          714,
          701,
          667,
          547,
          249,
          786,
          1002,
          932,
          606,
          1171,
          374,
          530,
          412,
          851,
          905,
          425,
          1248,
          101,
          947,
          1019,
          700,
          221,
          104,
          773,
          475,
          606,
          953,
          103,
          879,
          992,
          955,
          818,
          956,
          758,
          838,
          245,
          361,
          608,
          483,
          349,
          616,
          912,
          473,
          516,
          932,
          713,
          612,
          722,
          1001,
          657,
          856,
          106,
          870,
          723,
          105,
          1063,
          708,
          634,
          860,
          935,
          726,
          650,
          415,
          1040,
          565,
          553,
          617,
          103,
          745,
          611,
          659,
          728,
          1166,
          694,
          872,
          258,
          992,
          488,
          1095,
          907,
          817,
          618,
          612,
          672,
          694,
          543,
          856,
          623,
          565,
          465,
          122,
          119,
          636,
          480,
          812,
          443,
          826,
          814,
          831,
          450,
          1010,
          100,
          1016,
          1159,
          636,
          668,
          684,
          755,
          647,
          1125,
          775,
          730,
          483,
          731,
          709,
          313,
          464,
          801,
          736,
          327,
          629,
          104,
          871,
          913,
          891,
          1221,
          100,
          346,
          103,
          954,
          551,
          100,
          1157,
          478,
          507,
          629,
          813,
          709,
          512,
          615,
          1195,
          679,
          602,
          931,
          810,
          701,
          15,
          300,
          843,
          536,
          882,
          744,
          587,
          456,
          555,
          254,
          882,
          493,
          0,
          105,
          526,
          844,
          667,
          426,
          651,
          100,
          713,
          908,
          522,
          130,
          554,
          668,
          368,
          522,
          146,
          873,
          527,
          100,
          794,
          268,
          863,
          124,
          491,
          859,
          116,
          333,
          533,
          422,
          926,
          746,
          591,
          100,
          607,
          719,
          173,
          1300,
          766,
          742,
          712,
          100,
          834,
          358,
          796,
          296,
          502,
          313,
          800,
          827,
          737,
          108,
          784,
          700,
          267,
          580,
          582,
          157,
          733,
          615,
          800,
          721,
          827,
          861,
          1007,
          606,
          885,
          659,
          789,
          657,
          563,
          105,
          140,
          821,
          646,
          474,
          100,
          937,
          689,
          506,
          918,
          103,
          655,
          1224,
          1071,
          715,
          188,
          544,
          534,
          572,
          886,
          597,
          161,
          733,
          773,
          835,
          102,
          615,
          545,
          525,
          509,
          566,
          510,
          898,
          944,
          721,
          902,
          580,
          972,
          709,
          100,
          170,
          703,
          920,
          409,
          558,
          694,
          620,
          1000,
          616,
          565,
          955,
          504,
          1201,
          663,
          425,
          715,
          785,
          410,
          592,
          839,
          775,
          494,
          523,
          853,
          615,
          605,
          743,
          1072,
          844,
          102,
          776,
          775,
          606,
          609,
          685,
          338,
          623,
          617,
          100,
          850,
          102,
          178,
          529,
          532,
          1004,
          682,
          688,
          519,
          490,
          3,
          878,
          100,
          623,
          667,
          580,
          446,
          102,
          474,
          892,
          551,
          781,
          569,
          905,
          802,
          696,
          1146,
          588,
          729,
          701,
          657,
          879,
          754,
          502,
          626,
          606,
          276,
          708,
          379,
          781,
          706,
          733,
          833,
          115,
          353,
          861,
          752,
          495,
          657,
          568,
          502,
          220,
          915,
          863,
          117,
          544,
          890,
          617,
          677,
          519,
          102,
          472,
          115,
          703,
          812,
          909,
          685,
          642,
          985,
          701,
          110,
          516,
          815,
          545,
          867,
          561,
          543,
          600,
          607,
          803,
          622,
          979,
          631,
          709,
          554,
          306,
          747,
          1002,
          707,
          555,
          473,
          879,
          134,
          622,
          679,
          972,
          742,
          464,
          828,
          735,
          853,
          543,
          704,
          1300,
          630,
          1220,
          648,
          733,
          886,
          742,
          627,
          633,
          556,
          454,
          830,
          187,
          736,
          696,
          524,
          946,
          759,
          110,
          988,
          627,
          701,
          103,
          605,
          249,
          682,
          777,
          830,
          486,
          704,
          696,
          482,
          822,
          677,
          162,
          875,
          370,
          932,
          100,
          517,
          606,
          195,
          984,
          467,
          558,
          100,
          700,
          642,
          576,
          241,
          750,
          922,
          448,
          628,
          714,
          450,
          149,
          709,
          1154,
          604,
          652,
          545,
          246,
          778,
          349,
          100,
          359,
          118,
          561,
          486,
          485,
          626,
          380,
          474,
          791,
          1003,
          914,
          640,
          549,
          1178,
          848,
          1003,
          115,
          128,
          718,
          811,
          539,
          1009,
          736,
          1148,
          765,
          649,
          520,
          100,
          1056,
          411,
          751,
          1068,
          618,
          652,
          557,
          863,
          747,
          732,
          1062,
          354,
          703,
          144,
          100,
          248,
          557,
          899,
          863,
          972,
          271,
          486,
          414,
          706,
          444,
          577,
          855,
          477,
          1039,
          817,
          825,
          719,
          532,
          737,
          933,
          778,
          887,
          581,
          122,
          100,
          764,
          543,
          103,
          735,
          1052,
          743,
          596,
          899,
          621,
          109,
          702,
          511,
          100,
          1300,
          775,
          1026,
          104,
          845,
          168,
          648,
          391,
          429,
          771,
          123,
          783,
          594,
          1029,
          706,
          622,
          931,
          0,
          793,
          686,
          100,
          573,
          723,
          957,
          282,
          599,
          1019,
          902,
          753,
          562,
          484,
          565,
          724,
          527,
          105,
          348,
          426,
          101,
          848,
          893,
          936,
          595,
          1186,
          510,
          855,
          996,
          532,
          111,
          1033,
          124,
          1060,
          100,
          101,
          760,
          608,
          665,
          638,
          568,
          952,
          682,
          524,
          536,
          1057,
          100,
          781,
          910,
          319,
          104,
          885,
          837,
          626,
          653,
          877,
          373,
          707,
          650,
          432,
          832,
          261,
          100,
          100,
          622,
          621,
          612,
          797,
          1260,
          106,
          1066,
          650,
          579,
          1027,
          636,
          711,
          619,
          646,
          836,
          641,
          712,
          540,
          432,
          649,
          1070,
          598,
          611,
          369,
          814,
          548,
          103,
          607,
          297,
          877,
          848,
          797,
          631,
          956,
          411,
          633,
          726,
          688,
          717,
          557,
          111,
          437,
          844,
          684,
          673,
          580,
          236,
          716,
          439,
          726,
          718,
          628,
          0,
          494,
          102,
          813,
          1038,
          102,
          589,
          581,
          827,
          687,
          555,
          890,
          102,
          987,
          534,
          558,
          1142,
          618,
          349,
          100,
          452,
          310,
          765,
          745,
          637,
          320,
          586,
          738,
          447,
          212,
          761,
          738,
          586,
          676,
          571,
          432,
          1125,
          619,
          721,
          637,
          681,
          1127,
          659,
          528,
          606,
          573,
          1180,
          708,
          524,
          561,
          236,
          495,
          1200,
          970,
          738,
          791,
          704,
          100,
          261,
          577,
          120,
          1109,
          844,
          542,
          446,
          100,
          537,
          813,
          682,
          447,
          754,
          565,
          486,
          100,
          903,
          100,
          823,
          727,
          108,
          830,
          1050,
          655,
          289,
          910,
          135,
          706,
          626,
          621,
          328,
          700,
          1172,
          593,
          429,
          434,
          105,
          1069,
          760,
          601,
          713,
          609,
          650,
          102,
          544,
          756,
          690,
          1148,
          120,
          740,
          112,
          779,
          818,
          100,
          757,
          1123,
          100,
          723,
          558,
          102,
          547,
          638,
          736,
          638,
          570,
          770,
          539,
          631,
          539,
          730,
          421,
          488,
          727,
          258,
          621,
          839,
          229,
          661,
          132,
          593,
          102,
          729,
          722,
          612,
          568,
          616,
          794,
          343,
          709,
          665,
          623,
          870,
          1066,
          630,
          990,
          843,
          1175,
          812,
          573,
          370,
          830,
          894,
          879,
          598,
          102,
          272,
          669,
          827,
          651,
          917,
          100,
          458,
          215,
          820,
          415,
          636,
          1054,
          567,
          831,
          829,
          1082,
          853,
          724,
          686,
          976,
          830,
          426,
          454,
          628,
          741,
          613,
          435,
          719,
          638,
          716,
          542,
          823,
          134,
          723,
          208,
          540,
          1040,
          1049,
          783,
          2,
          671,
          703,
          103,
          663,
          574,
          282,
          1192,
          809,
          1067,
          446,
          705,
          744,
          740,
          616,
          712,
          127,
          430,
          904,
          548,
          1059,
          547,
          487,
          671,
          1068,
          100,
          749,
          1042,
          100,
          766,
          567,
          1112,
          567,
          1150,
          716,
          640,
          108,
          671,
          648,
          576,
          978,
          244,
          851,
          714,
          118,
          639,
          102,
          442,
          523,
          697,
          944,
          102,
          917,
          1088,
          1291,
          110,
          100,
          1002,
          626,
          819,
          394,
          665,
          195,
          131,
          592,
          955,
          682,
          681,
          693,
          642,
          541,
          108,
          601,
          554,
          508,
          323,
          864,
          561,
          439,
          649,
          577,
          207,
          0,
          0,
          30,
          34,
          102,
          0,
          423,
          102,
          842,
          296,
          23,
          332,
          1,
          0,
          109,
          444,
          204,
          690,
          227,
          0,
          486,
          857,
          323,
          234,
          236,
          899,
          539,
          852,
          389,
          37,
          37,
          7,
          411,
          740,
          820,
          547,
          686,
          744,
          851,
          37,
          702,
          100,
          557,
          822,
          0,
          419,
          612,
          118,
          466,
          100,
          710,
          846,
          576,
          771,
          551,
          536,
          532,
          898,
          100,
          415,
          473,
          100,
          190,
          831,
          812,
          646,
          412,
          902,
          224,
          1250,
          103,
          757,
          558,
          898,
          734,
          685,
          128,
          101,
          424,
          837,
          997,
          744,
          721,
          370,
          476,
          974,
          862,
          623,
          1042,
          596,
          792,
          790,
          881,
          552,
          952,
          478,
          652,
          593,
          568,
          102,
          671,
          747,
          441,
          821,
          1035,
          492,
          821,
          666,
          136,
          487,
          982,
          822,
          104,
          1146,
          844,
          283,
          608,
          635,
          658,
          264,
          647,
          733,
          915,
          1141,
          643,
          100,
          621,
          639,
          556,
          826,
          1004,
          1025,
          693,
          691,
          527,
          702,
          133,
          559,
          696,
          638,
          523,
          103,
          770,
          631,
          902,
          802,
          0,
          1050,
          618,
          615,
          580,
          725,
          988,
          445,
          103,
          606,
          418,
          1207,
          218,
          656,
          103,
          692,
          864,
          630,
          902,
          708,
          806,
          801,
          1001,
          360,
          539,
          911,
          879,
          713,
          696,
          906,
          693,
          739,
          1300,
          363,
          104,
          957,
          1013,
          530,
          378,
          730,
          0,
          663,
          438,
          705,
          0,
          820,
          445,
          1026,
          627,
          765,
          721,
          453,
          523,
          594,
          746,
          512,
          857,
          587,
          100,
          491,
          491,
          736,
          652,
          781,
          637,
          460,
          618,
          1103,
          920,
          470,
          760,
          670,
          804,
          652,
          540,
          586,
          550,
          100,
          114,
          645,
          940,
          811,
          151,
          577,
          105,
          574,
          100,
          914,
          851,
          822,
          636,
          1290,
          651,
          772,
          615,
          1169,
          591,
          734,
          763,
          933,
          618,
          698,
          1064,
          757,
          540,
          495,
          684,
          976,
          758,
          531,
          100,
          105,
          1060,
          103,
          870,
          694,
          465,
          100,
          520,
          926,
          852,
          580,
          647,
          788,
          679,
          682,
          738,
          977,
          1236,
          316,
          531,
          513,
          100,
          485,
          1133,
          720,
          627,
          431,
          545,
          922,
          610,
          611,
          809,
          869,
          597,
          1015,
          811,
          0,
          644,
          805,
          910,
          430,
          100,
          616,
          786,
          812,
          100,
          817,
          100,
          513,
          372,
          172,
          855,
          580,
          914,
          102,
          516,
          916,
          981,
          541,
          498,
          735,
          525,
          623,
          492,
          691,
          848,
          641,
          574,
          332,
          108,
          102,
          720,
          497,
          100,
          1042,
          1065,
          530,
          717,
          648,
          737,
          866,
          505,
          915,
          512,
          1025,
          846,
          104,
          600,
          597,
          729,
          192,
          759,
          719,
          922,
          103,
          541,
          191,
          286,
          812,
          557,
          100,
          1282,
          729,
          613,
          103,
          169,
          961,
          306,
          517,
          106,
          488,
          566,
          735,
          707,
          847,
          468,
          117,
          858,
          627,
          470,
          476,
          100,
          1001,
          312,
          736,
          336,
          535,
          975,
          300,
          802,
          950,
          104,
          610,
          1032,
          716,
          275,
          530,
          854,
          576,
          600,
          100,
          226,
          873,
          115,
          145,
          934,
          627,
          816,
          376,
          475,
          1004,
          1054,
          638,
          797,
          456,
          677,
          498,
          701,
          607,
          908,
          642,
          689,
          471,
          426,
          269,
          575,
          573,
          684,
          412,
          633,
          739,
          670,
          811,
          936,
          904,
          526,
          625,
          525,
          829,
          969,
          584,
          420,
          108,
          569,
          1183,
          107,
          763,
          152,
          1011,
          183,
          795,
          876,
          102,
          980,
          841,
          880,
          881,
          996,
          548,
          485,
          635,
          700,
          967,
          100,
          729,
          690,
          540,
          1035,
          611,
          570,
          831,
          629,
          527,
          785,
          706,
          626,
          1101,
          596,
          574,
          100,
          495,
          687,
          1097,
          473,
          100,
          849,
          737,
          472,
          555,
          940,
          547,
          806,
          324,
          550,
          735,
          763,
          626,
          1133,
          783,
          472,
          139,
          100,
          102,
          694,
          694,
          737,
          564,
          756,
          102,
          622,
          638,
          723,
          656,
          543,
          100,
          617,
          644,
          626,
          463,
          100,
          725,
          640,
          464,
          102,
          660,
          118,
          100,
          721,
          1051,
          432,
          862,
          103,
          626,
          946,
          598,
          104,
          116,
          606,
          321,
          908,
          1188,
          192,
          749,
          672,
          802,
          146,
          609,
          904,
          103,
          599,
          822,
          652,
          499,
          139,
          102,
          715,
          441,
          103,
          930,
          478,
          108,
          281,
          949,
          694,
          598,
          114,
          100,
          1100,
          975,
          887,
          145,
          700,
          347,
          529,
          1099,
          900,
          145,
          216,
          558,
          461,
          103,
          330,
          712,
          1018,
          443,
          740,
          860,
          636,
          102,
          720,
          626,
          666,
          855,
          812,
          818,
          578,
          104,
          645,
          618,
          310,
          662,
          783,
          1065,
          729,
          620,
          636,
          337,
          898,
          546,
          889,
          530,
          251,
          944,
          707,
          1003,
          871,
          664,
          617,
          820,
          678,
          895,
          1095,
          531,
          100,
          604,
          562,
          480,
          658,
          647,
          567,
          723,
          1124,
          1240,
          639,
          754,
          612,
          719,
          1200,
          106,
          554,
          813,
          1086,
          760,
          522,
          953,
          106,
          1041,
          549,
          685,
          597,
          742,
          630,
          701,
          289,
          882,
          102,
          276,
          1014,
          899,
          507,
          567,
          552,
          722,
          771,
          100,
          928,
          102,
          238,
          737,
          101,
          403,
          190,
          802,
          585,
          36,
          640,
          482,
          147,
          704,
          704,
          626,
          709,
          711,
          381,
          429,
          106,
          624,
          610,
          567,
          747,
          646,
          644,
          844,
          715,
          178,
          1032,
          704,
          884,
          891,
          1118,
          810,
          757,
          254,
          865,
          581,
          474,
          474,
          1000,
          238,
          874,
          705,
          115,
          106,
          532,
          793,
          917,
          104,
          505,
          530,
          479,
          988,
          525,
          621,
          446,
          1048,
          439,
          102,
          811,
          777,
          655,
          511,
          223,
          653,
          618,
          403,
          468,
          570,
          475,
          720,
          671,
          490,
          727,
          100,
          163,
          887,
          530,
          100,
          1189,
          701,
          514,
          827,
          103,
          869,
          625,
          795,
          673,
          132,
          923,
          1173,
          972,
          860,
          541,
          263,
          720,
          717,
          1277,
          301,
          790,
          403,
          767,
          836,
          312,
          695,
          507,
          973,
          933,
          708,
          453,
          612,
          477,
          553,
          615,
          638,
          707,
          727,
          914,
          835,
          212,
          654,
          1207,
          531,
          552,
          626,
          1089,
          651,
          528,
          124,
          454,
          488,
          100,
          1086,
          1027,
          328,
          760,
          637,
          972,
          590,
          696,
          584,
          109,
          920,
          622,
          831,
          640,
          608,
          850,
          694,
          714,
          275,
          1300,
          773,
          1300,
          729,
          1116,
          694,
          837,
          749,
          811,
          732,
          785,
          664,
          132,
          0,
          110,
          916,
          1086,
          940,
          100,
          100,
          531,
          804,
          718,
          1300,
          676,
          104,
          103,
          730,
          624,
          105,
          932,
          102,
          818,
          603,
          432,
          100,
          776,
          726,
          805,
          627,
          133,
          589,
          590,
          715,
          538,
          901,
          268,
          620,
          105,
          624,
          301,
          434,
          1202,
          668,
          817,
          716,
          732,
          268,
          100,
          602,
          104,
          712,
          757,
          108,
          1087,
          115,
          729,
          634,
          775,
          909,
          631,
          246,
          1052,
          920,
          111,
          664,
          710,
          528,
          184,
          995,
          868,
          727,
          717,
          530,
          697,
          105,
          103,
          938,
          606,
          423,
          945,
          110,
          653,
          692,
          439,
          100,
          609,
          809,
          612,
          820,
          100,
          868,
          553,
          708,
          691,
          747,
          473,
          473,
          986,
          466,
          456,
          427,
          1060,
          886,
          547,
          673,
          933,
          103,
          556,
          107,
          635,
          633,
          836,
          898,
          1049,
          639,
          461,
          873,
          706,
          607,
          126,
          534,
          207,
          117,
          669,
          1118,
          110,
          541,
          896,
          474,
          670,
          100,
          1020,
          535,
          573,
          556,
          3,
          642,
          659,
          528,
          544,
          140,
          1127,
          664,
          145,
          646,
          878,
          108,
          725,
          100,
          905,
          100,
          539,
          769,
          322,
          100,
          595,
          460,
          701,
          841,
          113,
          681,
          681,
          592,
          633,
          378,
          983,
          1046,
          720,
          1151,
          935,
          650,
          734,
          1016,
          227,
          757,
          100,
          250,
          553,
          673,
          242,
          103,
          899,
          501,
          654,
          729,
          455,
          134,
          870,
          510,
          446,
          667,
          927,
          1095,
          1034,
          771,
          815,
          640,
          100,
          756,
          409,
          787,
          839,
          851,
          477,
          140,
          348,
          551,
          710,
          776,
          745,
          809,
          430,
          692,
          596,
          705,
          618,
          1212,
          103,
          618,
          491,
          635,
          794,
          944,
          662,
          815,
          793,
          818,
          624,
          456,
          830,
          100,
          641,
          781,
          620,
          741,
          196,
          100,
          940,
          795,
          102,
          107,
          982,
          213,
          106,
          603,
          215,
          520,
          722,
          857,
          725,
          491,
          510,
          103,
          759,
          526,
          982,
          686,
          773,
          769,
          857,
          714,
          103,
          917,
          702,
          613,
          1011,
          821,
          674,
          615,
          745,
          385,
          712,
          1300,
          1044,
          608,
          621,
          590,
          458,
          561,
          100,
          803,
          746,
          111,
          655,
          635,
          1068,
          745,
          649,
          605,
          104,
          497,
          653,
          577,
          639,
          219,
          1014,
          815,
          734,
          726,
          624,
          805,
          817,
          738,
          546,
          1205,
          810,
          806,
          624,
          496,
          245,
          511,
          835,
          218,
          103,
          628,
          642,
          870,
          214,
          439,
          102,
          919,
          877,
          855,
          735,
          1020,
          756,
          831,
          715,
          584,
          660,
          700,
          594,
          674,
          518,
          911,
          1108,
          544,
          776,
          386,
          952,
          202,
          105,
          441,
          642,
          223,
          664,
          728,
          1120,
          795,
          758,
          246,
          831,
          685,
          197,
          359,
          752,
          495,
          122,
          113,
          1033,
          650,
          739,
          554,
          469,
          863,
          392,
          827,
          495,
          156,
          624,
          842,
          533,
          1256,
          100,
          1201,
          409,
          1234,
          100,
          100,
          257,
          670,
          950,
          732,
          344,
          104,
          1055,
          932,
          117,
          674,
          582,
          599,
          105,
          929,
          403,
          886,
          132,
          103,
          567,
          768,
          711,
          1001,
          888,
          109,
          870,
          1047,
          706,
          609,
          192,
          258,
          491,
          712,
          1022,
          102,
          107,
          439,
          1000,
          612,
          474,
          245,
          559,
          767,
          715,
          901,
          987,
          424,
          403,
          858,
          791,
          274,
          999,
          780,
          1161,
          104,
          700,
          567,
          403,
          862,
          584,
          143,
          104,
          949,
          568,
          759,
          615,
          406,
          730,
          100,
          1116,
          804,
          110,
          511,
          950,
          934,
          713,
          764,
          844,
          653,
          920,
          335,
          717,
          669,
          700,
          817,
          420,
          504,
          135,
          637,
          757,
          582,
          178,
          753,
          918,
          115,
          451,
          678,
          611,
          621,
          120,
          1040,
          1119,
          860,
          521,
          802,
          773,
          480,
          112,
          572,
          625,
          840,
          129,
          100,
          883,
          421,
          558,
          621,
          841,
          737,
          765,
          586,
          846,
          921,
          651,
          1145,
          637,
          720,
          673,
          104,
          330,
          724,
          403,
          835,
          107,
          219,
          1300,
          108,
          964,
          869,
          859,
          900,
          1300,
          941,
          1033,
          731,
          103,
          687,
          975,
          771,
          420,
          724,
          750,
          723,
          103,
          350,
          934,
          707,
          739,
          660,
          532,
          709,
          1028,
          667,
          102,
          594,
          869,
          102,
          511,
          422,
          642,
          632,
          682,
          727,
          307,
          777,
          750,
          555,
          746,
          223,
          1200,
          629,
          1174,
          528,
          106,
          545,
          481,
          583,
          562,
          1054,
          706,
          574,
          100,
          741,
          0,
          505,
          543,
          757,
          399,
          713,
          725,
          654,
          105,
          102,
          806,
          565,
          102,
          114,
          917,
          521,
          748,
          621,
          638,
          714,
          979,
          550,
          788,
          135,
          619,
          611,
          677,
          688,
          702,
          436,
          478,
          333,
          740,
          739,
          814,
          443,
          488,
          712,
          938,
          716,
          506,
          100,
          1003,
          572,
          696,
          641,
          811,
          974,
          100,
          435,
          711,
          614,
          599,
          732,
          554,
          593,
          948,
          822,
          1252,
          679,
          323,
          513,
          679,
          865,
          753,
          102,
          725,
          100,
          636,
          739,
          778,
          261,
          392,
          100,
          705,
          813,
          937,
          508,
          810,
          358,
          653,
          501,
          1156,
          964,
          758,
          420,
          1085,
          780,
          273,
          606,
          508,
          1012,
          687,
          569,
          854,
          713,
          551,
          750,
          758,
          937,
          771,
          516,
          778,
          159,
          415,
          165,
          967,
          609,
          896,
          249,
          721,
          720,
          1019,
          283,
          836,
          829,
          731,
          168,
          254,
          230,
          1036,
          633,
          859,
          712,
          613,
          657,
          899,
          103,
          657,
          576,
          889,
          710,
          107,
          100,
          472,
          104,
          704,
          897,
          623,
          544,
          755,
          533,
          629,
          420
         ],
         "xaxis": "x",
         "yaxis": "y"
        }
       ],
       "layout": {
        "bargap": 0.1,
        "barmode": "relative",
        "legend": {
         "tracegroupgap": 0
        },
        "margin": {
         "t": 60
        },
        "template": {
         "data": {
          "bar": [
           {
            "error_x": {
             "color": "#2a3f5f"
            },
            "error_y": {
             "color": "#2a3f5f"
            },
            "marker": {
             "line": {
              "color": "white",
              "width": 0.5
             },
             "pattern": {
              "fillmode": "overlay",
              "size": 10,
              "solidity": 0.2
             }
            },
            "type": "bar"
           }
          ],
          "barpolar": [
           {
            "marker": {
             "line": {
              "color": "white",
              "width": 0.5
             },
             "pattern": {
              "fillmode": "overlay",
              "size": 10,
              "solidity": 0.2
             }
            },
            "type": "barpolar"
           }
          ],
          "carpet": [
           {
            "aaxis": {
             "endlinecolor": "#2a3f5f",
             "gridcolor": "#C8D4E3",
             "linecolor": "#C8D4E3",
             "minorgridcolor": "#C8D4E3",
             "startlinecolor": "#2a3f5f"
            },
            "baxis": {
             "endlinecolor": "#2a3f5f",
             "gridcolor": "#C8D4E3",
             "linecolor": "#C8D4E3",
             "minorgridcolor": "#C8D4E3",
             "startlinecolor": "#2a3f5f"
            },
            "type": "carpet"
           }
          ],
          "choropleth": [
           {
            "colorbar": {
             "outlinewidth": 0,
             "ticks": ""
            },
            "type": "choropleth"
           }
          ],
          "contour": [
           {
            "colorbar": {
             "outlinewidth": 0,
             "ticks": ""
            },
            "colorscale": [
             [
              0,
              "#0d0887"
             ],
             [
              0.1111111111111111,
              "#46039f"
             ],
             [
              0.2222222222222222,
              "#7201a8"
             ],
             [
              0.3333333333333333,
              "#9c179e"
             ],
             [
              0.4444444444444444,
              "#bd3786"
             ],
             [
              0.5555555555555556,
              "#d8576b"
             ],
             [
              0.6666666666666666,
              "#ed7953"
             ],
             [
              0.7777777777777778,
              "#fb9f3a"
             ],
             [
              0.8888888888888888,
              "#fdca26"
             ],
             [
              1,
              "#f0f921"
             ]
            ],
            "type": "contour"
           }
          ],
          "contourcarpet": [
           {
            "colorbar": {
             "outlinewidth": 0,
             "ticks": ""
            },
            "type": "contourcarpet"
           }
          ],
          "heatmap": [
           {
            "colorbar": {
             "outlinewidth": 0,
             "ticks": ""
            },
            "colorscale": [
             [
              0,
              "#0d0887"
             ],
             [
              0.1111111111111111,
              "#46039f"
             ],
             [
              0.2222222222222222,
              "#7201a8"
             ],
             [
              0.3333333333333333,
              "#9c179e"
             ],
             [
              0.4444444444444444,
              "#bd3786"
             ],
             [
              0.5555555555555556,
              "#d8576b"
             ],
             [
              0.6666666666666666,
              "#ed7953"
             ],
             [
              0.7777777777777778,
              "#fb9f3a"
             ],
             [
              0.8888888888888888,
              "#fdca26"
             ],
             [
              1,
              "#f0f921"
             ]
            ],
            "type": "heatmap"
           }
          ],
          "heatmapgl": [
           {
            "colorbar": {
             "outlinewidth": 0,
             "ticks": ""
            },
            "colorscale": [
             [
              0,
              "#0d0887"
             ],
             [
              0.1111111111111111,
              "#46039f"
             ],
             [
              0.2222222222222222,
              "#7201a8"
             ],
             [
              0.3333333333333333,
              "#9c179e"
             ],
             [
              0.4444444444444444,
              "#bd3786"
             ],
             [
              0.5555555555555556,
              "#d8576b"
             ],
             [
              0.6666666666666666,
              "#ed7953"
             ],
             [
              0.7777777777777778,
              "#fb9f3a"
             ],
             [
              0.8888888888888888,
              "#fdca26"
             ],
             [
              1,
              "#f0f921"
             ]
            ],
            "type": "heatmapgl"
           }
          ],
          "histogram": [
           {
            "marker": {
             "pattern": {
              "fillmode": "overlay",
              "size": 10,
              "solidity": 0.2
             }
            },
            "type": "histogram"
           }
          ],
          "histogram2d": [
           {
            "colorbar": {
             "outlinewidth": 0,
             "ticks": ""
            },
            "colorscale": [
             [
              0,
              "#0d0887"
             ],
             [
              0.1111111111111111,
              "#46039f"
             ],
             [
              0.2222222222222222,
              "#7201a8"
             ],
             [
              0.3333333333333333,
              "#9c179e"
             ],
             [
              0.4444444444444444,
              "#bd3786"
             ],
             [
              0.5555555555555556,
              "#d8576b"
             ],
             [
              0.6666666666666666,
              "#ed7953"
             ],
             [
              0.7777777777777778,
              "#fb9f3a"
             ],
             [
              0.8888888888888888,
              "#fdca26"
             ],
             [
              1,
              "#f0f921"
             ]
            ],
            "type": "histogram2d"
           }
          ],
          "histogram2dcontour": [
           {
            "colorbar": {
             "outlinewidth": 0,
             "ticks": ""
            },
            "colorscale": [
             [
              0,
              "#0d0887"
             ],
             [
              0.1111111111111111,
              "#46039f"
             ],
             [
              0.2222222222222222,
              "#7201a8"
             ],
             [
              0.3333333333333333,
              "#9c179e"
             ],
             [
              0.4444444444444444,
              "#bd3786"
             ],
             [
              0.5555555555555556,
              "#d8576b"
             ],
             [
              0.6666666666666666,
              "#ed7953"
             ],
             [
              0.7777777777777778,
              "#fb9f3a"
             ],
             [
              0.8888888888888888,
              "#fdca26"
             ],
             [
              1,
              "#f0f921"
             ]
            ],
            "type": "histogram2dcontour"
           }
          ],
          "mesh3d": [
           {
            "colorbar": {
             "outlinewidth": 0,
             "ticks": ""
            },
            "type": "mesh3d"
           }
          ],
          "parcoords": [
           {
            "line": {
             "colorbar": {
              "outlinewidth": 0,
              "ticks": ""
             }
            },
            "type": "parcoords"
           }
          ],
          "pie": [
           {
            "automargin": true,
            "type": "pie"
           }
          ],
          "scatter": [
           {
            "fillpattern": {
             "fillmode": "overlay",
             "size": 10,
             "solidity": 0.2
            },
            "type": "scatter"
           }
          ],
          "scatter3d": [
           {
            "line": {
             "colorbar": {
              "outlinewidth": 0,
              "ticks": ""
             }
            },
            "marker": {
             "colorbar": {
              "outlinewidth": 0,
              "ticks": ""
             }
            },
            "type": "scatter3d"
           }
          ],
          "scattercarpet": [
           {
            "marker": {
             "colorbar": {
              "outlinewidth": 0,
              "ticks": ""
             }
            },
            "type": "scattercarpet"
           }
          ],
          "scattergeo": [
           {
            "marker": {
             "colorbar": {
              "outlinewidth": 0,
              "ticks": ""
             }
            },
            "type": "scattergeo"
           }
          ],
          "scattergl": [
           {
            "marker": {
             "colorbar": {
              "outlinewidth": 0,
              "ticks": ""
             }
            },
            "type": "scattergl"
           }
          ],
          "scattermapbox": [
           {
            "marker": {
             "colorbar": {
              "outlinewidth": 0,
              "ticks": ""
             }
            },
            "type": "scattermapbox"
           }
          ],
          "scatterpolar": [
           {
            "marker": {
             "colorbar": {
              "outlinewidth": 0,
              "ticks": ""
             }
            },
            "type": "scatterpolar"
           }
          ],
          "scatterpolargl": [
           {
            "marker": {
             "colorbar": {
              "outlinewidth": 0,
              "ticks": ""
             }
            },
            "type": "scatterpolargl"
           }
          ],
          "scatterternary": [
           {
            "marker": {
             "colorbar": {
              "outlinewidth": 0,
              "ticks": ""
             }
            },
            "type": "scatterternary"
           }
          ],
          "surface": [
           {
            "colorbar": {
             "outlinewidth": 0,
             "ticks": ""
            },
            "colorscale": [
             [
              0,
              "#0d0887"
             ],
             [
              0.1111111111111111,
              "#46039f"
             ],
             [
              0.2222222222222222,
              "#7201a8"
             ],
             [
              0.3333333333333333,
              "#9c179e"
             ],
             [
              0.4444444444444444,
              "#bd3786"
             ],
             [
              0.5555555555555556,
              "#d8576b"
             ],
             [
              0.6666666666666666,
              "#ed7953"
             ],
             [
              0.7777777777777778,
              "#fb9f3a"
             ],
             [
              0.8888888888888888,
              "#fdca26"
             ],
             [
              1,
              "#f0f921"
             ]
            ],
            "type": "surface"
           }
          ],
          "table": [
           {
            "cells": {
             "fill": {
              "color": "#EBF0F8"
             },
             "line": {
              "color": "white"
             }
            },
            "header": {
             "fill": {
              "color": "#C8D4E3"
             },
             "line": {
              "color": "white"
             }
            },
            "type": "table"
           }
          ]
         },
         "layout": {
          "annotationdefaults": {
           "arrowcolor": "#2a3f5f",
           "arrowhead": 0,
           "arrowwidth": 1
          },
          "autotypenumbers": "strict",
          "coloraxis": {
           "colorbar": {
            "outlinewidth": 0,
            "ticks": ""
           }
          },
          "colorscale": {
           "diverging": [
            [
             0,
             "#8e0152"
            ],
            [
             0.1,
             "#c51b7d"
            ],
            [
             0.2,
             "#de77ae"
            ],
            [
             0.3,
             "#f1b6da"
            ],
            [
             0.4,
             "#fde0ef"
            ],
            [
             0.5,
             "#f7f7f7"
            ],
            [
             0.6,
             "#e6f5d0"
            ],
            [
             0.7,
             "#b8e186"
            ],
            [
             0.8,
             "#7fbc41"
            ],
            [
             0.9,
             "#4d9221"
            ],
            [
             1,
             "#276419"
            ]
           ],
           "sequential": [
            [
             0,
             "#0d0887"
            ],
            [
             0.1111111111111111,
             "#46039f"
            ],
            [
             0.2222222222222222,
             "#7201a8"
            ],
            [
             0.3333333333333333,
             "#9c179e"
            ],
            [
             0.4444444444444444,
             "#bd3786"
            ],
            [
             0.5555555555555556,
             "#d8576b"
            ],
            [
             0.6666666666666666,
             "#ed7953"
            ],
            [
             0.7777777777777778,
             "#fb9f3a"
            ],
            [
             0.8888888888888888,
             "#fdca26"
            ],
            [
             1,
             "#f0f921"
            ]
           ],
           "sequentialminus": [
            [
             0,
             "#0d0887"
            ],
            [
             0.1111111111111111,
             "#46039f"
            ],
            [
             0.2222222222222222,
             "#7201a8"
            ],
            [
             0.3333333333333333,
             "#9c179e"
            ],
            [
             0.4444444444444444,
             "#bd3786"
            ],
            [
             0.5555555555555556,
             "#d8576b"
            ],
            [
             0.6666666666666666,
             "#ed7953"
            ],
            [
             0.7777777777777778,
             "#fb9f3a"
            ],
            [
             0.8888888888888888,
             "#fdca26"
            ],
            [
             1,
             "#f0f921"
            ]
           ]
          },
          "colorway": [
           "#636efa",
           "#EF553B",
           "#00cc96",
           "#ab63fa",
           "#FFA15A",
           "#19d3f3",
           "#FF6692",
           "#B6E880",
           "#FF97FF",
           "#FECB52"
          ],
          "font": {
           "color": "#2a3f5f"
          },
          "geo": {
           "bgcolor": "white",
           "lakecolor": "white",
           "landcolor": "white",
           "showlakes": true,
           "showland": true,
           "subunitcolor": "#C8D4E3"
          },
          "hoverlabel": {
           "align": "left"
          },
          "hovermode": "closest",
          "mapbox": {
           "style": "light"
          },
          "paper_bgcolor": "white",
          "plot_bgcolor": "white",
          "polar": {
           "angularaxis": {
            "gridcolor": "#EBF0F8",
            "linecolor": "#EBF0F8",
            "ticks": ""
           },
           "bgcolor": "white",
           "radialaxis": {
            "gridcolor": "#EBF0F8",
            "linecolor": "#EBF0F8",
            "ticks": ""
           }
          },
          "scene": {
           "xaxis": {
            "backgroundcolor": "white",
            "gridcolor": "#DFE8F3",
            "gridwidth": 2,
            "linecolor": "#EBF0F8",
            "showbackground": true,
            "ticks": "",
            "zerolinecolor": "#EBF0F8"
           },
           "yaxis": {
            "backgroundcolor": "white",
            "gridcolor": "#DFE8F3",
            "gridwidth": 2,
            "linecolor": "#EBF0F8",
            "showbackground": true,
            "ticks": "",
            "zerolinecolor": "#EBF0F8"
           },
           "zaxis": {
            "backgroundcolor": "white",
            "gridcolor": "#DFE8F3",
            "gridwidth": 2,
            "linecolor": "#EBF0F8",
            "showbackground": true,
            "ticks": "",
            "zerolinecolor": "#EBF0F8"
           }
          },
          "shapedefaults": {
           "line": {
            "color": "#2a3f5f"
           }
          },
          "ternary": {
           "aaxis": {
            "gridcolor": "#DFE8F3",
            "linecolor": "#A2B1C6",
            "ticks": ""
           },
           "baxis": {
            "gridcolor": "#DFE8F3",
            "linecolor": "#A2B1C6",
            "ticks": ""
           },
           "bgcolor": "white",
           "caxis": {
            "gridcolor": "#DFE8F3",
            "linecolor": "#A2B1C6",
            "ticks": ""
           }
          },
          "title": {
           "x": 0.05
          },
          "xaxis": {
           "automargin": true,
           "gridcolor": "#EBF0F8",
           "linecolor": "#EBF0F8",
           "ticks": "",
           "title": {
            "standoff": 15
           },
           "zerolinecolor": "#EBF0F8",
           "zerolinewidth": 2
          },
          "yaxis": {
           "automargin": true,
           "gridcolor": "#EBF0F8",
           "linecolor": "#EBF0F8",
           "ticks": "",
           "title": {
            "standoff": 15
           },
           "zerolinecolor": "#EBF0F8",
           "zerolinewidth": 2
          }
         }
        },
        "title": {
         "font": {
          "color": "black",
          "family": "Arial",
          "size": 16
         },
         "pad": {
          "b": 20
         }
        },
        "xaxis": {
         "anchor": "y",
         "domain": [
          0,
          1
         ],
         "tickfont": {
          "size": 12
         },
         "title": {
          "font": {
           "color": "black",
           "size": 14
          },
          "text": "Admin Score"
         }
        },
        "yaxis": {
         "anchor": "x",
         "domain": [
          0,
          1
         ],
         "tickfont": {
          "size": 12
         },
         "title": {
          "font": {
           "color": "black",
           "size": 14
          },
          "text": "Frequency"
         }
        }
       }
      }
     },
     "metadata": {},
     "output_type": "display_data"
    }
   ],
   "source": [
    "from src.scripts.GalPlots import *\n",
    "plot_admin_scores_hist(\"data/scores.csv\")"
   ]
  },
  {
   "cell_type": "code",
   "execution_count": 10,
   "metadata": {},
   "outputs": [
    {
     "name": "stderr",
     "output_type": "stream",
     "text": [
      "/Users/edou/Documents/GitHub/ada-2024-project-supercoolteamname2024/src/scripts/TallulaPlots.py:65: FutureWarning:\n",
      "\n",
      "\n",
      "\n",
      "Passing `palette` without assigning `hue` is deprecated and will be removed in v0.14.0. Assign the `x` variable to `hue` and set `legend=False` for the same effect.\n",
      "\n",
      "\n"
     ]
    },
    {
     "data": {
      "image/png": "[encoded data removed]",
      "text/plain": [
       "<Figure size 1000x700 with 1 Axes>"
      ]
     },
     "metadata": {},
     "output_type": "display_data"
    }
   ],
   "source": [
    "from src.scripts.TallulaPlots import *\n",
    "Distribution_Admin_Scores('data/wiki-RfA.txt')"
   ]
  },
  {
   "cell_type": "code",
   "execution_count": null,
   "metadata": {},
   "outputs": [],
   "source": []
  }
 ],
 "metadata": {
  "kernelspec": {
   "display_name": "Python 3",
   "language": "python",
   "name": "python3"
  },
  "language_info": {
   "codemirror_mode": {
    "name": "ipython",
    "version": 3
   },
   "file_extension": ".py",
   "mimetype": "text/x-python",
   "name": "python",
   "nbconvert_exporter": "python",
   "pygments_lexer": "ipython3",
   "version": "3.12.2"
  }
 },
 "nbformat": 4,
 "nbformat_minor": 4
}
