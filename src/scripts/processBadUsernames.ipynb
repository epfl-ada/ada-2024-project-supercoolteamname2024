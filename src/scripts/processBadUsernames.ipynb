{
 "cells": [
  {
   "cell_type": "code",
   "execution_count": null,
   "id": "7a90e87e-9d73-4afe-8f8c-6acc8d2dbc6b",
   "metadata": {},
   "outputs": [],
   "source": [
    "import pandas as pd\n",
    "\n",
    "# Lire le fichier texte et créer un DataFrame\n",
    "df = pd.read_json('../../data/usernames_without_data.json')"
   ]
  },
  {
   "cell_type": "code",
   "execution_count": null,
   "id": "c8f6bae9-53d3-4072-951f-911e826de690",
   "metadata": {},
   "outputs": [
    {
     "name": "stdout",
     "output_type": "stream",
     "text": [
      "https://en.wikipedia.org/wiki/User:*Spark*\n",
      "<Response [200]>\n",
      "https://en.wikipedia.org/wiki/User:-Slash-\n",
      "<Response [200]>\n",
      "https://en.wikipedia.org/wiki/User:-The\n",
      "<Response [404]>\n",
      "https://en.wikipedia.org/wiki/User:0L1\n",
      "<Response [404]>\n",
      "https://en.wikipedia.org/wiki/User:12\n",
      "<Response [404]>\n",
      "https://en.wikipedia.org/wiki/User:128.83.101.111\n",
      "<Response [200]>\n",
      "https://en.wikipedia.org/wiki/User:129.177.19.120\n",
      "<Response [200]>\n",
      "https://en.wikipedia.org/wiki/User:1362\n",
      "<Response [200]>\n",
      "https://en.wikipedia.org/wiki/User:154.20.253.177\n",
      "<Response [200]>\n",
      "https://en.wikipedia.org/wiki/User:1568\n",
      "<Response [200]>\n",
      "https://en.wikipedia.org/wiki/User:172.144.137.135\n",
      "<Response [200]>\n",
      "https://en.wikipedia.org/wiki/User:172.162.10.219\n",
      "<Response [200]>\n",
      "https://en.wikipedia.org/wiki/User:1ne\n",
      "<Response [404]>\n",
      "https://en.wikipedia.org/wiki/User:24.93.170.23\n",
      "<Response [200]>\n",
      "https://en.wikipedia.org/wiki/User:2eschew\n",
      "<Response [404]>\n",
      "https://en.wikipedia.org/wiki/User:5\n",
      "<Response [200]>\n",
      "https://en.wikipedia.org/wiki/User:52\n",
      "<Response [200]>\n",
      "https://en.wikipedia.org/wiki/User:64.230.2.27\n",
      "<Response [200]>\n",
      "https://en.wikipedia.org/wiki/User:68.148.134.201\n",
      "<Response [200]>\n",
      "https://en.wikipedia.org/wiki/User:999\n",
      "<Response [404]>\n",
      "{'*Spark*': '*Spark*', '-Slash-': '-Slash-', '-The': '-The', '0L1': '0L1', '12': '12', '128.83.101.111': '128.83.101.111', '129.177.19.120': '129.177.19.120', '1362': '1362', '154.20.253.177': '154.20.253.177', '1568': '1568', '172.144.137.135': '172.144.137.135', '172.162.10.219': '172.162.10.219', '1ne': '1ne', '24.93.170.23': '24.93.170.23', '2eschew': '2eschew', '5': '5', '52': '52', '64.230.2.27': '64.230.2.27', '68.148.134.201': '68.148.134.201', '999': '999'}\n"
     ]
    }
   ],
   "source": [
    "import requests\n",
    "\n",
    "def get_new_username(old_username):\n",
    "    url = f\"https://en.wikipedia.org/wiki/User:{old_username}\"\n",
    "    \n",
    "    try:\n",
    "        # Envoyer une requête pour obtenir l'URL redirigée\n",
    "        response = requests.get(url, allow_redirects=True)\n",
    "        print(url)\n",
    "        # Extraire le nouvel username de l'URL redirigée\n",
    "        new_url = response.url\n",
    "        print(response)\n",
    "        if new_url != url:\n",
    "            new_username = new_url.split(\":\")[-1]\n",
    "            return new_username\n",
    "        else:\n",
    "            # Pas de redirection, l'username est inchangé\n",
    "            return old_username\n",
    "    except requests.RequestException as e:\n",
    "        print(f\"Erreur lors de la requête pour l'utilisateur {old_username}: {e}\")\n",
    "        return None\n",
    "\n",
    "# Exemple avec une liste d'anciens usernames\n",
    "new_usernames = {old: get_new_username(old) for old in df['data/usernames_without_data'].tolist()[:20]}\n",
    "\n",
    "print(new_usernames)\n"
   ]
  }
 ],
 "metadata": {
  "kernelspec": {
   "display_name": "Python 3 (ipykernel)",
   "language": "python",
   "name": "python3"
  },
  "language_info": {
   "codemirror_mode": {
    "name": "ipython",
    "version": 3
   },
   "file_extension": ".py",
   "mimetype": "text/x-python",
   "name": "python",
   "nbconvert_exporter": "python",
   "pygments_lexer": "ipython3",
   "version": "3.11.9"
  }
 },
 "nbformat": 4,
 "nbformat_minor": 5
}
