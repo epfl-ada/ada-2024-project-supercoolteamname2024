{
 "cells": [
  {
   "cell_type": "markdown",
   "metadata": {},
   "source": [
    "## Use of Data Wrangler extension recommended"
   ]
  },
  {
   "cell_type": "code",
   "execution_count": 56,
   "metadata": {},
   "outputs": [],
   "source": [
    "import pandas as pd\n",
    "from itertools import combinations\n",
    "from scipy.sparse import dok_matrix\n",
    "\n",
    "# File path\n",
    "file_path = \"../../data/wiki-RfA.txt\"\n",
    "\n",
    "# Read and parse the file\n",
    "data = []\n",
    "with open(file_path, \"r\", encoding=\"utf-8\") as file:\n",
    "    current_session = None\n",
    "    for line in file:\n",
    "        if line.startswith(\"SRC:\"):\n",
    "            src = line.split(\"SRC:\")[1].strip()\n",
    "        elif line.startswith(\"TGT:\"):\n",
    "            tgt = line.split(\"TGT:\")[1].strip()\n",
    "            # Check if it's a new session (new TGT indicates a new voting session)\n",
    "            if tgt != current_session:\n",
    "                current_session = tgt\n",
    "                session_id = len(data)  # Increment session ID\n",
    "                data.append({\"Session\": session_id, \"TGT\": tgt, \"SRCs\": []})\n",
    "        elif line.startswith(\"VOT:\"):\n",
    "            vot = int(line.split(\"VOT:\")[1].strip())\n",
    "        elif line.startswith(\"RES:\"):\n",
    "            res = int(line.split(\"RES:\")[1].strip())\n",
    "        elif line.startswith(\"YEA:\"):\n",
    "            yea = int(line.split(\"YEA:\")[1].strip())\n",
    "        elif line.startswith(\"DAT:\"):\n",
    "            dat = line.split(\"DAT:\")[1].strip()\n",
    "        elif line.startswith(\"TXT:\"):\n",
    "            # Add the SRC to the current session's SRC list\n",
    "            if data and \"SRCs\" in data[-1]:\n",
    "                data[-1][\"SRCs\"].append(src)\n",
    "\n",
    "# Create a flat DataFrame\n",
    "records = []\n",
    "for session in data:\n",
    "    for src in session[\"SRCs\"]:\n",
    "        records.append({\"Session\": session[\"Session\"], \"TGT\": session[\"TGT\"], \"SRC\": src})\n",
    "\n",
    "df = pd.DataFrame(records)\n",
    "\n",
    "# Group SRC values by session\n",
    "grouped = df.groupby(\"Session\")[\"SRC\"].apply(list)\n",
    "\n",
    "# Create a list of all unique SRCs and a mapping to indices\n",
    "users = sorted(df[\"SRC\"].unique())\n",
    "user_to_idx = {user: idx for idx, user in enumerate(users)}\n",
    "idx_to_user = {idx: user for user, idx in user_to_idx.items()}\n",
    "\n",
    "# Initialize a sparse matrix\n",
    "n_users = len(users)\n",
    "co_occurrence = dok_matrix((n_users, n_users), dtype=int)\n",
    "\n",
    "# Populate the co-occurrence matrix\n",
    "for user_list in grouped:\n",
    "    for user1, user2 in combinations(user_list, 2):\n",
    "        idx1, idx2 = user_to_idx[user1], user_to_idx[user2]\n",
    "        co_occurrence[idx1, idx2] += 1\n",
    "        co_occurrence[idx2, idx1] += 1\n",
    "\n",
    "# Convert the sparse matrix to a DataFrame for display\n",
    "co_occurrence_df = pd.DataFrame.sparse.from_spmatrix(\n",
    "    co_occurrence, index=users, columns=users\n",
    ")\n"
   ]
  },
  {
   "cell_type": "code",
   "execution_count": 57,
   "metadata": {},
   "outputs": [
    {
     "data": {
      "text/html": [
       "<div>\n",
       "<style scoped>\n",
       "    .dataframe tbody tr th:only-of-type {\n",
       "        vertical-align: middle;\n",
       "    }\n",
       "\n",
       "    .dataframe tbody tr th {\n",
       "        vertical-align: top;\n",
       "    }\n",
       "\n",
       "    .dataframe thead th {\n",
       "        text-align: right;\n",
       "    }\n",
       "</style>\n",
       "<table border=\"1\" class=\"dataframe\">\n",
       "  <thead>\n",
       "    <tr style=\"text-align: right;\">\n",
       "      <th></th>\n",
       "      <th></th>\n",
       "      <th>!---slappdash---!</th>\n",
       "      <th>%D0%90</th>\n",
       "      <th>'sed</th>\n",
       "      <th>(.Y.)</th>\n",
       "      <th>(:Julien:)</th>\n",
       "      <th>(aeropagitica)</th>\n",
       "      <th>*Kat*</th>\n",
       "      <th>*Spark*</th>\n",
       "      <th>*drew</th>\n",
       "      <th>...</th>\n",
       "      <th>ברוקולי</th>\n",
       "      <th>כתר</th>\n",
       "      <th>පසිඳු කාවින්ද</th>\n",
       "      <th>බිඟුවා</th>\n",
       "      <th>‎Jetijonez</th>\n",
       "      <th>とある白い猫</th>\n",
       "      <th>シ</th>\n",
       "      <th>石</th>\n",
       "      <th>龗</th>\n",
       "      <th>완젬스</th>\n",
       "    </tr>\n",
       "  </thead>\n",
       "  <tbody>\n",
       "    <tr>\n",
       "      <th></th>\n",
       "      <td>5020</td>\n",
       "      <td>0</td>\n",
       "      <td>9</td>\n",
       "      <td>0</td>\n",
       "      <td>0</td>\n",
       "      <td>0</td>\n",
       "      <td>282</td>\n",
       "      <td>3</td>\n",
       "      <td>0</td>\n",
       "      <td>30</td>\n",
       "      <td>...</td>\n",
       "      <td>0</td>\n",
       "      <td>0</td>\n",
       "      <td>1</td>\n",
       "      <td>0</td>\n",
       "      <td>1</td>\n",
       "      <td>1</td>\n",
       "      <td>3</td>\n",
       "      <td>0</td>\n",
       "      <td>1</td>\n",
       "      <td>0</td>\n",
       "    </tr>\n",
       "    <tr>\n",
       "      <th>!---slappdash---!</th>\n",
       "      <td>0</td>\n",
       "      <td>0</td>\n",
       "      <td>0</td>\n",
       "      <td>0</td>\n",
       "      <td>0</td>\n",
       "      <td>0</td>\n",
       "      <td>0</td>\n",
       "      <td>0</td>\n",
       "      <td>0</td>\n",
       "      <td>0</td>\n",
       "      <td>...</td>\n",
       "      <td>0</td>\n",
       "      <td>0</td>\n",
       "      <td>0</td>\n",
       "      <td>0</td>\n",
       "      <td>0</td>\n",
       "      <td>0</td>\n",
       "      <td>0</td>\n",
       "      <td>0</td>\n",
       "      <td>0</td>\n",
       "      <td>0</td>\n",
       "    </tr>\n",
       "    <tr>\n",
       "      <th>%D0%90</th>\n",
       "      <td>9</td>\n",
       "      <td>0</td>\n",
       "      <td>0</td>\n",
       "      <td>0</td>\n",
       "      <td>0</td>\n",
       "      <td>0</td>\n",
       "      <td>0</td>\n",
       "      <td>0</td>\n",
       "      <td>0</td>\n",
       "      <td>2</td>\n",
       "      <td>...</td>\n",
       "      <td>0</td>\n",
       "      <td>0</td>\n",
       "      <td>0</td>\n",
       "      <td>0</td>\n",
       "      <td>0</td>\n",
       "      <td>0</td>\n",
       "      <td>0</td>\n",
       "      <td>0</td>\n",
       "      <td>0</td>\n",
       "      <td>0</td>\n",
       "    </tr>\n",
       "    <tr>\n",
       "      <th>'sed</th>\n",
       "      <td>0</td>\n",
       "      <td>0</td>\n",
       "      <td>0</td>\n",
       "      <td>0</td>\n",
       "      <td>0</td>\n",
       "      <td>0</td>\n",
       "      <td>1</td>\n",
       "      <td>0</td>\n",
       "      <td>0</td>\n",
       "      <td>0</td>\n",
       "      <td>...</td>\n",
       "      <td>0</td>\n",
       "      <td>0</td>\n",
       "      <td>0</td>\n",
       "      <td>0</td>\n",
       "      <td>0</td>\n",
       "      <td>0</td>\n",
       "      <td>0</td>\n",
       "      <td>0</td>\n",
       "      <td>0</td>\n",
       "      <td>0</td>\n",
       "    </tr>\n",
       "    <tr>\n",
       "      <th>(.Y.)</th>\n",
       "      <td>0</td>\n",
       "      <td>0</td>\n",
       "      <td>0</td>\n",
       "      <td>0</td>\n",
       "      <td>0</td>\n",
       "      <td>0</td>\n",
       "      <td>1</td>\n",
       "      <td>0</td>\n",
       "      <td>0</td>\n",
       "      <td>0</td>\n",
       "      <td>...</td>\n",
       "      <td>0</td>\n",
       "      <td>0</td>\n",
       "      <td>0</td>\n",
       "      <td>0</td>\n",
       "      <td>0</td>\n",
       "      <td>0</td>\n",
       "      <td>0</td>\n",
       "      <td>0</td>\n",
       "      <td>0</td>\n",
       "      <td>0</td>\n",
       "    </tr>\n",
       "    <tr>\n",
       "      <th>...</th>\n",
       "      <td>...</td>\n",
       "      <td>...</td>\n",
       "      <td>...</td>\n",
       "      <td>...</td>\n",
       "      <td>...</td>\n",
       "      <td>...</td>\n",
       "      <td>...</td>\n",
       "      <td>...</td>\n",
       "      <td>...</td>\n",
       "      <td>...</td>\n",
       "      <td>...</td>\n",
       "      <td>...</td>\n",
       "      <td>...</td>\n",
       "      <td>...</td>\n",
       "      <td>...</td>\n",
       "      <td>...</td>\n",
       "      <td>...</td>\n",
       "      <td>...</td>\n",
       "      <td>...</td>\n",
       "      <td>...</td>\n",
       "      <td>...</td>\n",
       "    </tr>\n",
       "    <tr>\n",
       "      <th>とある白い猫</th>\n",
       "      <td>1</td>\n",
       "      <td>0</td>\n",
       "      <td>0</td>\n",
       "      <td>0</td>\n",
       "      <td>0</td>\n",
       "      <td>0</td>\n",
       "      <td>0</td>\n",
       "      <td>0</td>\n",
       "      <td>0</td>\n",
       "      <td>0</td>\n",
       "      <td>...</td>\n",
       "      <td>0</td>\n",
       "      <td>0</td>\n",
       "      <td>0</td>\n",
       "      <td>0</td>\n",
       "      <td>0</td>\n",
       "      <td>0</td>\n",
       "      <td>0</td>\n",
       "      <td>0</td>\n",
       "      <td>0</td>\n",
       "      <td>0</td>\n",
       "    </tr>\n",
       "    <tr>\n",
       "      <th>シ</th>\n",
       "      <td>3</td>\n",
       "      <td>0</td>\n",
       "      <td>0</td>\n",
       "      <td>0</td>\n",
       "      <td>0</td>\n",
       "      <td>0</td>\n",
       "      <td>0</td>\n",
       "      <td>0</td>\n",
       "      <td>0</td>\n",
       "      <td>0</td>\n",
       "      <td>...</td>\n",
       "      <td>0</td>\n",
       "      <td>0</td>\n",
       "      <td>0</td>\n",
       "      <td>0</td>\n",
       "      <td>0</td>\n",
       "      <td>0</td>\n",
       "      <td>0</td>\n",
       "      <td>0</td>\n",
       "      <td>0</td>\n",
       "      <td>0</td>\n",
       "    </tr>\n",
       "    <tr>\n",
       "      <th>石</th>\n",
       "      <td>0</td>\n",
       "      <td>0</td>\n",
       "      <td>0</td>\n",
       "      <td>0</td>\n",
       "      <td>0</td>\n",
       "      <td>0</td>\n",
       "      <td>0</td>\n",
       "      <td>0</td>\n",
       "      <td>0</td>\n",
       "      <td>0</td>\n",
       "      <td>...</td>\n",
       "      <td>0</td>\n",
       "      <td>0</td>\n",
       "      <td>0</td>\n",
       "      <td>0</td>\n",
       "      <td>0</td>\n",
       "      <td>0</td>\n",
       "      <td>0</td>\n",
       "      <td>0</td>\n",
       "      <td>0</td>\n",
       "      <td>0</td>\n",
       "    </tr>\n",
       "    <tr>\n",
       "      <th>龗</th>\n",
       "      <td>1</td>\n",
       "      <td>0</td>\n",
       "      <td>0</td>\n",
       "      <td>0</td>\n",
       "      <td>0</td>\n",
       "      <td>0</td>\n",
       "      <td>0</td>\n",
       "      <td>0</td>\n",
       "      <td>0</td>\n",
       "      <td>0</td>\n",
       "      <td>...</td>\n",
       "      <td>0</td>\n",
       "      <td>0</td>\n",
       "      <td>0</td>\n",
       "      <td>0</td>\n",
       "      <td>0</td>\n",
       "      <td>0</td>\n",
       "      <td>0</td>\n",
       "      <td>0</td>\n",
       "      <td>0</td>\n",
       "      <td>0</td>\n",
       "    </tr>\n",
       "    <tr>\n",
       "      <th>완젬스</th>\n",
       "      <td>0</td>\n",
       "      <td>0</td>\n",
       "      <td>0</td>\n",
       "      <td>0</td>\n",
       "      <td>0</td>\n",
       "      <td>0</td>\n",
       "      <td>0</td>\n",
       "      <td>0</td>\n",
       "      <td>0</td>\n",
       "      <td>0</td>\n",
       "      <td>...</td>\n",
       "      <td>0</td>\n",
       "      <td>0</td>\n",
       "      <td>0</td>\n",
       "      <td>0</td>\n",
       "      <td>0</td>\n",
       "      <td>0</td>\n",
       "      <td>0</td>\n",
       "      <td>0</td>\n",
       "      <td>0</td>\n",
       "      <td>0</td>\n",
       "    </tr>\n",
       "  </tbody>\n",
       "</table>\n",
       "<p>10417 rows × 10417 columns</p>\n",
       "</div>"
      ],
      "text/plain": [
       "                         !---slappdash---!  %D0%90  'sed  (.Y.)  (:Julien:)  \\\n",
       "                   5020                  0       9     0      0           0   \n",
       "!---slappdash---!     0                  0       0     0      0           0   \n",
       "%D0%90                9                  0       0     0      0           0   \n",
       "'sed                  0                  0       0     0      0           0   \n",
       "(.Y.)                 0                  0       0     0      0           0   \n",
       "...                 ...                ...     ...   ...    ...         ...   \n",
       "とある白い猫                1                  0       0     0      0           0   \n",
       "シ                     3                  0       0     0      0           0   \n",
       "石                     0                  0       0     0      0           0   \n",
       "龗                     1                  0       0     0      0           0   \n",
       "완젬스                   0                  0       0     0      0           0   \n",
       "\n",
       "                   (aeropagitica)  *Kat*  *Spark*  *drew  ...  ברוקולי  כתר  \\\n",
       "                              282      3        0     30  ...        0    0   \n",
       "!---slappdash---!               0      0        0      0  ...        0    0   \n",
       "%D0%90                          0      0        0      2  ...        0    0   \n",
       "'sed                            1      0        0      0  ...        0    0   \n",
       "(.Y.)                           1      0        0      0  ...        0    0   \n",
       "...                           ...    ...      ...    ...  ...      ...  ...   \n",
       "とある白い猫                          0      0        0      0  ...        0    0   \n",
       "シ                               0      0        0      0  ...        0    0   \n",
       "石                               0      0        0      0  ...        0    0   \n",
       "龗                               0      0        0      0  ...        0    0   \n",
       "완젬스                             0      0        0      0  ...        0    0   \n",
       "\n",
       "                   පසිඳු කාවින්ද  බිඟුවා  ‎Jetijonez  とある白い猫  シ  石  龗  완젬스  \n",
       "                               1       0           1       1  3  0  1    0  \n",
       "!---slappdash---!              0       0           0       0  0  0  0    0  \n",
       "%D0%90                         0       0           0       0  0  0  0    0  \n",
       "'sed                           0       0           0       0  0  0  0    0  \n",
       "(.Y.)                          0       0           0       0  0  0  0    0  \n",
       "...                          ...     ...         ...     ... .. .. ..  ...  \n",
       "とある白い猫                         0       0           0       0  0  0  0    0  \n",
       "シ                              0       0           0       0  0  0  0    0  \n",
       "石                              0       0           0       0  0  0  0    0  \n",
       "龗                              0       0           0       0  0  0  0    0  \n",
       "완젬스                            0       0           0       0  0  0  0    0  \n",
       "\n",
       "[10417 rows x 10417 columns]"
      ]
     },
     "execution_count": 57,
     "metadata": {},
     "output_type": "execute_result"
    }
   ],
   "source": [
    "co_occurrence_df"
   ]
  },
  {
   "cell_type": "code",
   "execution_count": 58,
   "metadata": {},
   "outputs": [
    {
     "name": "stdout",
     "output_type": "stream",
     "text": [
      "True\n"
     ]
    }
   ],
   "source": [
    "print(co_occurrence_df.index.is_unique)"
   ]
  },
  {
   "cell_type": "code",
   "execution_count": 59,
   "metadata": {},
   "outputs": [
    {
     "name": "stdout",
     "output_type": "stream",
     "text": [
      "True\n",
      "False\n",
      "True\n",
      "True\n"
     ]
    }
   ],
   "source": [
    "import pandas as pd\n",
    "from sklearn.preprocessing import MinMaxScaler\n",
    "\n",
    "\n",
    "# Calculate Participation (sum of co-occurrence values)\n",
    "participation = co_occurrence_df.sum(axis=1)\n",
    "\n",
    "# Combine results into a DataFrame for ranking\n",
    "power_voters = pd.DataFrame({\n",
    "    \"User\": co_occurrence_df.index,\n",
    "    \"Participation\": participation\n",
    "})\n",
    "\n",
    "print(power_voters['User'].is_unique)\n",
    "\n",
    "# Load scores.csv\n",
    "scores = pd.read_csv(\"../../data/scores.csv\")  # Update the path as needed\n",
    "\n",
    "print(scores['username'].is_unique)\n",
    "scores = scores.drop_duplicates(subset='username', keep='first')\n",
    "print(scores['username'].is_unique)\n",
    "\n",
    "\n",
    "# Merge the power voters DataFrame with the scores DataFrame\n",
    "power_voters = power_voters.merge(scores, left_on=\"User\", right_on=\"username\", how=\"left\")\n",
    "\n",
    "# Remove rows with missing data (users without total_score or Participation)\n",
    "power_voters = power_voters.dropna(subset=[\"Participation\", \"total_score\"])\n",
    "print(power_voters['User'].is_unique)\n",
    "\n",
    "# Initialize the scaler\n",
    "scaler = MinMaxScaler()\n",
    "\n",
    "# Normalize and calculate Power Score\n",
    "power_voters['Power Score'] = scaler.fit_transform(power_voters[['Participation']].to_numpy()) + \\\n",
    "                              scaler.fit_transform(power_voters[['total_score']].to_numpy())\n",
    "power_voters['Power Score'] /= 2\n",
    "\n",
    "# Sort primarily by Participation and then by Admin Score (total_score)\n",
    "power_voters = power_voters.sort_values(\n",
    "    by=['Power Score'],\n",
    "    ascending=[False]\n",
    ")\n",
    "\n",
    "# Reset index for better readability\n",
    "power_voters.reset_index(drop=True, inplace=True)\n",
    "power_voters.drop(columns=['username'], inplace=True)"
   ]
  },
  {
   "cell_type": "code",
   "execution_count": 60,
   "metadata": {},
   "outputs": [
    {
     "data": {
      "text/html": [
       "<div>\n",
       "<style scoped>\n",
       "    .dataframe tbody tr th:only-of-type {\n",
       "        vertical-align: middle;\n",
       "    }\n",
       "\n",
       "    .dataframe tbody tr th {\n",
       "        vertical-align: top;\n",
       "    }\n",
       "\n",
       "    .dataframe thead th {\n",
       "        text-align: right;\n",
       "    }\n",
       "</style>\n",
       "<table border=\"1\" class=\"dataframe\">\n",
       "  <thead>\n",
       "    <tr style=\"text-align: right;\">\n",
       "      <th></th>\n",
       "      <th>User</th>\n",
       "      <th>Participation</th>\n",
       "      <th>total_score</th>\n",
       "      <th>Power Score</th>\n",
       "    </tr>\n",
       "  </thead>\n",
       "  <tbody>\n",
       "    <tr>\n",
       "      <th>0</th>\n",
       "      <td>Acalamari</td>\n",
       "      <td>61987</td>\n",
       "      <td>1300.0</td>\n",
       "      <td>0.847043</td>\n",
       "    </tr>\n",
       "    <tr>\n",
       "      <th>1</th>\n",
       "      <td>Stifle</td>\n",
       "      <td>57998</td>\n",
       "      <td>1297.0</td>\n",
       "      <td>0.823556</td>\n",
       "    </tr>\n",
       "    <tr>\n",
       "      <th>2</th>\n",
       "      <td>Siva1979</td>\n",
       "      <td>89307</td>\n",
       "      <td>827.0</td>\n",
       "      <td>0.818077</td>\n",
       "    </tr>\n",
       "    <tr>\n",
       "      <th>3</th>\n",
       "      <td>Bearian</td>\n",
       "      <td>56537</td>\n",
       "      <td>1300.0</td>\n",
       "      <td>0.816530</td>\n",
       "    </tr>\n",
       "    <tr>\n",
       "      <th>4</th>\n",
       "      <td>Juliancolton</td>\n",
       "      <td>41846</td>\n",
       "      <td>1277.0</td>\n",
       "      <td>0.725433</td>\n",
       "    </tr>\n",
       "    <tr>\n",
       "      <th>...</th>\n",
       "      <td>...</td>\n",
       "      <td>...</td>\n",
       "      <td>...</td>\n",
       "      <td>...</td>\n",
       "    </tr>\n",
       "    <tr>\n",
       "      <th>7216</th>\n",
       "      <td>64.230.2.27</td>\n",
       "      <td>62</td>\n",
       "      <td>0.0</td>\n",
       "      <td>0.000342</td>\n",
       "    </tr>\n",
       "    <tr>\n",
       "      <th>7217</th>\n",
       "      <td>129.177.19.120</td>\n",
       "      <td>41</td>\n",
       "      <td>0.0</td>\n",
       "      <td>0.000224</td>\n",
       "    </tr>\n",
       "    <tr>\n",
       "      <th>7218</th>\n",
       "      <td>128.83.101.111</td>\n",
       "      <td>29</td>\n",
       "      <td>0.0</td>\n",
       "      <td>0.000157</td>\n",
       "    </tr>\n",
       "    <tr>\n",
       "      <th>7219</th>\n",
       "      <td>172.162.10.219</td>\n",
       "      <td>25</td>\n",
       "      <td>0.0</td>\n",
       "      <td>0.000134</td>\n",
       "    </tr>\n",
       "    <tr>\n",
       "      <th>7220</th>\n",
       "      <td>Cranberry</td>\n",
       "      <td>22</td>\n",
       "      <td>0.0</td>\n",
       "      <td>0.000118</td>\n",
       "    </tr>\n",
       "  </tbody>\n",
       "</table>\n",
       "<p>7221 rows × 4 columns</p>\n",
       "</div>"
      ],
      "text/plain": [
       "                User  Participation  total_score  Power Score\n",
       "0          Acalamari          61987       1300.0     0.847043\n",
       "1             Stifle          57998       1297.0     0.823556\n",
       "2           Siva1979          89307        827.0     0.818077\n",
       "3            Bearian          56537       1300.0     0.816530\n",
       "4       Juliancolton          41846       1277.0     0.725433\n",
       "...              ...            ...          ...          ...\n",
       "7216     64.230.2.27             62          0.0     0.000342\n",
       "7217  129.177.19.120             41          0.0     0.000224\n",
       "7218  128.83.101.111             29          0.0     0.000157\n",
       "7219  172.162.10.219             25          0.0     0.000134\n",
       "7220       Cranberry             22          0.0     0.000118\n",
       "\n",
       "[7221 rows x 4 columns]"
      ]
     },
     "execution_count": 60,
     "metadata": {},
     "output_type": "execute_result"
    }
   ],
   "source": [
    "power_voters"
   ]
  },
  {
   "cell_type": "code",
   "execution_count": 61,
   "metadata": {},
   "outputs": [],
   "source": [
    "# Save the results to a CSV file\n",
    "power_voters.to_csv(\"../../data/power_voters_with_scores.csv\", index=False)"
   ]
  },
  {
   "cell_type": "code",
   "execution_count": 62,
   "metadata": {},
   "outputs": [
    {
     "name": "stdout",
     "output_type": "stream",
     "text": [
      "Loading and parsing data...\n",
      "Parsed 198275 votes.\n",
      "Filtering users with sufficient voting history...\n",
      "Filtered down to 1021 users.\n",
      "Analyzing sentiment...\n",
      "Calculating correlation metrics...\n",
      "Correlation coefficient: 0.52\n"
     ]
    }
   ],
   "source": [
    "import pandas as pd\n",
    "from GalPlots import *\n",
    "from textblob import TextBlob\n",
    "import nltk\n",
    "import os\n",
    "from vaderSentiment.vaderSentiment import SentimentIntensityAnalyzer\n",
    "\n",
    "global df_sentiment_verification\n",
    "\n",
    "# Step 1: Parse the dataset\n",
    "def parse_rfa_file(file_path):\n",
    "    \"\"\"\n",
    "    Reads and parses the wiki-RfA.txt file, returning a DataFrame.\n",
    "\n",
    "    Args:\n",
    "        file_path (str): Path to the input file.\n",
    "\n",
    "    Returns:\n",
    "        pd.DataFrame: Parsed data as a DataFrame.\n",
    "    \"\"\"\n",
    "    if not os.path.exists(file_path):\n",
    "        raise FileNotFoundError(f\"The file {file_path} does not exist.\")\n",
    "\n",
    "    with open(file_path, 'r', encoding='utf-8') as file:\n",
    "        raw_data = file.read()\n",
    "\n",
    "    entries = raw_data.strip().split('\\n\\n')\n",
    "    votes = []\n",
    "\n",
    "    for entry in entries:\n",
    "        vote = {}\n",
    "        lines = entry.strip().split('\\n')\n",
    "        for line in lines:\n",
    "            if ':' not in line:\n",
    "                continue\n",
    "            key, value = line.split(':', 1)\n",
    "            key = key.strip()\n",
    "            value = value.strip().strip(\"'''\").strip('\"').strip(\"'\")\n",
    "            vote[key] = value\n",
    "        votes.append(vote)\n",
    "\n",
    "    df = pd.DataFrame(votes)\n",
    "\n",
    "    numeric_fields = ['VOT', 'RES', 'YEA']\n",
    "    for field in numeric_fields:\n",
    "        if field in df.columns:\n",
    "            df[field] = pd.to_numeric(df[field], errors='coerce')\n",
    "   \n",
    "    return df\n",
    "\n",
    "# Step 2: Filter users with diverse voting history\n",
    "def filter_users(df, min_years=4):\n",
    "    \"\"\"\n",
    "    Keeps users with votes spanning at least a minimum number of years.\n",
    "\n",
    "    Args:\n",
    "        df (pd.DataFrame): Input DataFrame.\n",
    "        min_years (int): Minimum distinct voting years.\n",
    "\n",
    "    Returns:\n",
    "        pd.DataFrame: Filtered data.\n",
    "    \"\"\"\n",
    "    vote_counts = df.groupby('SRC')['YEA'].nunique().reset_index()\n",
    "    eligible_users = vote_counts[vote_counts['YEA'] >= min_years]['SRC']\n",
    "    return df[df['SRC'].isin(eligible_users)]\n",
    "\n",
    "# Step 3: Analyze sentiment of votes\n",
    "def analyze_sentiment(df):\n",
    "    \"\"\"\n",
    "    Adds a sentiment polarity score for each vote.\n",
    "\n",
    "    Args:\n",
    "        df (pd.DataFrame): Input DataFrame.\n",
    "\n",
    "    Returns:\n",
    "        pd.DataFrame: DataFrame with sentiment polarity.\n",
    "    \"\"\"\n",
    "    analyzer = SentimentIntensityAnalyzer()\n",
    "\n",
    "    def analyze_sentiment_vader(text):\n",
    "        global df_sentiment_verification\n",
    "        sentiment_scores = analyzer.polarity_scores(text)\n",
    "        \n",
    "        new_row = pd.DataFrame([{'Text': text, 'Sentiment': sentiment_scores['compound']}])\n",
    "        df_sentiment_verification = pd.concat([df_sentiment_verification, new_row], ignore_index=True)\n",
    "\n",
    "        return sentiment_scores['compound']\n",
    "\n",
    "    df = df.copy()  # Create a copy to avoid chained assignment issues\n",
    "    df['Polarity'] = df['TXT'].apply(analyze_sentiment_vader)\n",
    "    return df\n",
    "\n",
    "\n",
    "# Step 4: Calculate correlation metrics\n",
    "def compute_correlation_ratio(df):\n",
    "    \"\"\"\n",
    "    Computes the correlation between sentiment polarity and vote positivity.\n",
    "\n",
    "    Args:\n",
    "        df (pd.DataFrame): DataFrame with sentiment data.\n",
    "\n",
    "    Returns:\n",
    "        pd.DataFrame: Aggregated data.\n",
    "        float: Correlation coefficient.\n",
    "    \"\"\"\n",
    "    vote_aggregation = df.groupby('SRC').agg(\n",
    "        Positive_Votes=('VOT', lambda x: (x > 0).sum()),\n",
    "        Negative_Votes=('VOT', lambda x: (x < 0).sum())\n",
    "    ).reset_index()\n",
    "\n",
    "    vote_aggregation['Positive_Vote_Ratio'] = vote_aggregation.apply(\n",
    "        lambda row: row['Positive_Votes'] / (row['Positive_Votes'] + row['Negative_Votes'])\n",
    "        if (row['Positive_Votes'] + row['Negative_Votes']) > 0 else None,\n",
    "        axis=1\n",
    "    )\n",
    "\n",
    "\n",
    "    vote_aggregation.dropna(subset=['Positive_Vote_Ratio'], inplace=True)\n",
    "\n",
    "    avg_polarity = df.groupby('SRC')['Polarity'].mean().reset_index().rename(columns={'Polarity': 'Average_Polarity'})\n",
    "    merged_df = pd.merge(vote_aggregation, avg_polarity, on='SRC')\n",
    "\n",
    "    correlation = merged_df['Average_Polarity'].corr(merged_df['Positive_Vote_Ratio'])\n",
    "    return merged_df, correlation\n",
    "\n",
    "\n",
    "\n",
    "\n",
    "file_path = '../../data/wiki-RfA.txt'\n",
    "\n",
    "print(\"Loading and parsing data...\")\n",
    "df = parse_rfa_file(file_path)\n",
    "print(f\"Parsed {len(df)} votes.\")\n",
    "\n",
    "print(\"Filtering users with sufficient voting history...\")\n",
    "filtered_df = filter_users(df, min_years=4)\n",
    "print(f\"Filtered down to {filtered_df['SRC'].nunique()} users.\")\n",
    "\n",
    "if filtered_df.empty:\n",
    "    print(\"No users meet the criteria for analysis.\")\n",
    "    \n",
    "else:\n",
    "    print(\"Analyzing sentiment...\")\n",
    "    filtered_df = analyze_sentiment(filtered_df)\n",
    "\n",
    "    print(\"Calculating correlation metrics...\")\n",
    "    merged_df, correlation = compute_correlation_ratio(filtered_df)\n",
    "    print(f\"Correlation coefficient: {correlation:.2f}\")\n",
    "\n",
    "\n"
   ]
  },
  {
   "cell_type": "code",
   "execution_count": 63,
   "metadata": {},
   "outputs": [
    {
     "data": {
      "text/html": [
       "<div>\n",
       "<style scoped>\n",
       "    .dataframe tbody tr th:only-of-type {\n",
       "        vertical-align: middle;\n",
       "    }\n",
       "\n",
       "    .dataframe tbody tr th {\n",
       "        vertical-align: top;\n",
       "    }\n",
       "\n",
       "    .dataframe thead th {\n",
       "        text-align: right;\n",
       "    }\n",
       "</style>\n",
       "<table border=\"1\" class=\"dataframe\">\n",
       "  <thead>\n",
       "    <tr style=\"text-align: right;\">\n",
       "      <th></th>\n",
       "      <th>Text</th>\n",
       "      <th>Sentiment</th>\n",
       "    </tr>\n",
       "  </thead>\n",
       "  <tbody>\n",
       "    <tr>\n",
       "      <th>0</th>\n",
       "      <td>Support''' There are plenty of important roles...</td>\n",
       "      <td>0.7083</td>\n",
       "    </tr>\n",
       "    <tr>\n",
       "      <th>1</th>\n",
       "      <td>Support''' barring a completely unexpected ans...</td>\n",
       "      <td>0.9801</td>\n",
       "    </tr>\n",
       "    <tr>\n",
       "      <th>2</th>\n",
       "      <td>Support''' because I see no good reason not to.</td>\n",
       "      <td>0.0757</td>\n",
       "    </tr>\n",
       "    <tr>\n",
       "      <th>3</th>\n",
       "      <td>Support''' if a qualified editor is asking for...</td>\n",
       "      <td>0.7096</td>\n",
       "    </tr>\n",
       "    <tr>\n",
       "      <th>4</th>\n",
       "      <td>Support''' From his hard work in copyediting t...</td>\n",
       "      <td>0.8883</td>\n",
       "    </tr>\n",
       "    <tr>\n",
       "      <th>...</th>\n",
       "      <td>...</td>\n",
       "      <td>...</td>\n",
       "    </tr>\n",
       "    <tr>\n",
       "      <th>186073</th>\n",
       "      <td>Support. --</td>\n",
       "      <td>0.4019</td>\n",
       "    </tr>\n",
       "    <tr>\n",
       "      <th>186074</th>\n",
       "      <td>Support.  Didn't have enough information to su...</td>\n",
       "      <td>0.6694</td>\n",
       "    </tr>\n",
       "    <tr>\n",
       "      <th>186075</th>\n",
       "      <td>Support</td>\n",
       "      <td>0.4019</td>\n",
       "    </tr>\n",
       "    <tr>\n",
       "      <th>186076</th>\n",
       "      <td>Support. --</td>\n",
       "      <td>0.4019</td>\n",
       "    </tr>\n",
       "    <tr>\n",
       "      <th>186077</th>\n",
       "      <td>Support.  Age has nothing to do with maturity....</td>\n",
       "      <td>0.4019</td>\n",
       "    </tr>\n",
       "  </tbody>\n",
       "</table>\n",
       "<p>186078 rows × 2 columns</p>\n",
       "</div>"
      ],
      "text/plain": [
       "                                                     Text  Sentiment\n",
       "0       Support''' There are plenty of important roles...     0.7083\n",
       "1       Support''' barring a completely unexpected ans...     0.9801\n",
       "2         Support''' because I see no good reason not to.     0.0757\n",
       "3       Support''' if a qualified editor is asking for...     0.7096\n",
       "4       Support''' From his hard work in copyediting t...     0.8883\n",
       "...                                                   ...        ...\n",
       "186073                                        Support. --     0.4019\n",
       "186074  Support.  Didn't have enough information to su...     0.6694\n",
       "186075                                            Support     0.4019\n",
       "186076                                        Support. --     0.4019\n",
       "186077  Support.  Age has nothing to do with maturity....     0.4019\n",
       "\n",
       "[186078 rows x 2 columns]"
      ]
     },
     "execution_count": 63,
     "metadata": {},
     "output_type": "execute_result"
    }
   ],
   "source": [
    "df_sentiment_verification\n",
    "#Conclusion: seems to work reasonably well, although not perfect."
   ]
  },
  {
   "cell_type": "code",
   "execution_count": 64,
   "metadata": {},
   "outputs": [],
   "source": [
    "final_df = pd.merge(\n",
    "    power_voters, \n",
    "    merged_df.drop(columns=['Positive_Votes', 'Negative_Votes']), \n",
    "    left_on='User', \n",
    "    right_on='SRC', \n",
    "    how='inner'\n",
    ")\n",
    "final_df = final_df.drop(columns=['SRC'])\n",
    "\n",
    "#Normally unnecessary but for precaution\n",
    "final_df = final_df.sort_values(\n",
    "    by=['Power Score'],\n",
    "    ascending=[False]\n",
    ")\n",
    "final_df = final_df.reset_index(drop=True)\n"
   ]
  },
  {
   "cell_type": "code",
   "execution_count": 65,
   "metadata": {},
   "outputs": [
    {
     "data": {
      "text/html": [
       "<div>\n",
       "<style scoped>\n",
       "    .dataframe tbody tr th:only-of-type {\n",
       "        vertical-align: middle;\n",
       "    }\n",
       "\n",
       "    .dataframe tbody tr th {\n",
       "        vertical-align: top;\n",
       "    }\n",
       "\n",
       "    .dataframe thead th {\n",
       "        text-align: right;\n",
       "    }\n",
       "</style>\n",
       "<table border=\"1\" class=\"dataframe\">\n",
       "  <thead>\n",
       "    <tr style=\"text-align: right;\">\n",
       "      <th></th>\n",
       "      <th>User</th>\n",
       "      <th>Participation</th>\n",
       "      <th>total_score</th>\n",
       "      <th>Power Score</th>\n",
       "      <th>Positive_Vote_Ratio</th>\n",
       "      <th>Average_Polarity</th>\n",
       "    </tr>\n",
       "  </thead>\n",
       "  <tbody>\n",
       "    <tr>\n",
       "      <th>0</th>\n",
       "      <td>Acalamari</td>\n",
       "      <td>61987</td>\n",
       "      <td>1300.0</td>\n",
       "      <td>0.847043</td>\n",
       "      <td>0.976356</td>\n",
       "      <td>0.505817</td>\n",
       "    </tr>\n",
       "    <tr>\n",
       "      <th>1</th>\n",
       "      <td>Stifle</td>\n",
       "      <td>57998</td>\n",
       "      <td>1297.0</td>\n",
       "      <td>0.823556</td>\n",
       "      <td>0.622921</td>\n",
       "      <td>0.091755</td>\n",
       "    </tr>\n",
       "    <tr>\n",
       "      <th>2</th>\n",
       "      <td>Siva1979</td>\n",
       "      <td>89307</td>\n",
       "      <td>827.0</td>\n",
       "      <td>0.818077</td>\n",
       "      <td>0.850085</td>\n",
       "      <td>0.451205</td>\n",
       "    </tr>\n",
       "    <tr>\n",
       "      <th>3</th>\n",
       "      <td>Bearian</td>\n",
       "      <td>56537</td>\n",
       "      <td>1300.0</td>\n",
       "      <td>0.816530</td>\n",
       "      <td>0.907143</td>\n",
       "      <td>0.491877</td>\n",
       "    </tr>\n",
       "    <tr>\n",
       "      <th>4</th>\n",
       "      <td>Juliancolton</td>\n",
       "      <td>41846</td>\n",
       "      <td>1277.0</td>\n",
       "      <td>0.725433</td>\n",
       "      <td>0.787879</td>\n",
       "      <td>0.364920</td>\n",
       "    </tr>\n",
       "    <tr>\n",
       "      <th>...</th>\n",
       "      <td>...</td>\n",
       "      <td>...</td>\n",
       "      <td>...</td>\n",
       "      <td>...</td>\n",
       "      <td>...</td>\n",
       "      <td>...</td>\n",
       "    </tr>\n",
       "    <tr>\n",
       "      <th>667</th>\n",
       "      <td>Amatulic</td>\n",
       "      <td>1672</td>\n",
       "      <td>106.0</td>\n",
       "      <td>0.050125</td>\n",
       "      <td>0.636364</td>\n",
       "      <td>0.403646</td>\n",
       "    </tr>\n",
       "    <tr>\n",
       "      <th>668</th>\n",
       "      <td>Katr67</td>\n",
       "      <td>399</td>\n",
       "      <td>116.0</td>\n",
       "      <td>0.046844</td>\n",
       "      <td>0.714286</td>\n",
       "      <td>0.510043</td>\n",
       "    </tr>\n",
       "    <tr>\n",
       "      <th>669</th>\n",
       "      <td>Dougweller</td>\n",
       "      <td>1077</td>\n",
       "      <td>106.0</td>\n",
       "      <td>0.046793</td>\n",
       "      <td>0.636364</td>\n",
       "      <td>0.570755</td>\n",
       "    </tr>\n",
       "    <tr>\n",
       "      <th>670</th>\n",
       "      <td>Ctjf83</td>\n",
       "      <td>1114</td>\n",
       "      <td>103.0</td>\n",
       "      <td>0.045847</td>\n",
       "      <td>0.555556</td>\n",
       "      <td>0.417927</td>\n",
       "    </tr>\n",
       "    <tr>\n",
       "      <th>671</th>\n",
       "      <td>Dincher</td>\n",
       "      <td>495</td>\n",
       "      <td>102.0</td>\n",
       "      <td>0.041997</td>\n",
       "      <td>1.000000</td>\n",
       "      <td>0.515340</td>\n",
       "    </tr>\n",
       "  </tbody>\n",
       "</table>\n",
       "<p>672 rows × 6 columns</p>\n",
       "</div>"
      ],
      "text/plain": [
       "             User  Participation  total_score  Power Score  \\\n",
       "0       Acalamari          61987       1300.0     0.847043   \n",
       "1          Stifle          57998       1297.0     0.823556   \n",
       "2        Siva1979          89307        827.0     0.818077   \n",
       "3         Bearian          56537       1300.0     0.816530   \n",
       "4    Juliancolton          41846       1277.0     0.725433   \n",
       "..            ...            ...          ...          ...   \n",
       "667      Amatulic           1672        106.0     0.050125   \n",
       "668        Katr67            399        116.0     0.046844   \n",
       "669    Dougweller           1077        106.0     0.046793   \n",
       "670        Ctjf83           1114        103.0     0.045847   \n",
       "671       Dincher            495        102.0     0.041997   \n",
       "\n",
       "     Positive_Vote_Ratio  Average_Polarity  \n",
       "0               0.976356          0.505817  \n",
       "1               0.622921          0.091755  \n",
       "2               0.850085          0.451205  \n",
       "3               0.907143          0.491877  \n",
       "4               0.787879          0.364920  \n",
       "..                   ...               ...  \n",
       "667             0.636364          0.403646  \n",
       "668             0.714286          0.510043  \n",
       "669             0.636364          0.570755  \n",
       "670             0.555556          0.417927  \n",
       "671             1.000000          0.515340  \n",
       "\n",
       "[672 rows x 6 columns]"
      ]
     },
     "execution_count": 65,
     "metadata": {},
     "output_type": "execute_result"
    }
   ],
   "source": [
    "final_df"
   ]
  },
  {
   "cell_type": "code",
   "execution_count": 66,
   "metadata": {},
   "outputs": [
    {
     "data": {
      "text/html": [
       "<div>\n",
       "<style scoped>\n",
       "    .dataframe tbody tr th:only-of-type {\n",
       "        vertical-align: middle;\n",
       "    }\n",
       "\n",
       "    .dataframe tbody tr th {\n",
       "        vertical-align: top;\n",
       "    }\n",
       "\n",
       "    .dataframe thead th {\n",
       "        text-align: right;\n",
       "    }\n",
       "</style>\n",
       "<table border=\"1\" class=\"dataframe\">\n",
       "  <thead>\n",
       "    <tr style=\"text-align: right;\">\n",
       "      <th></th>\n",
       "      <th>Power Score</th>\n",
       "      <th>Positive_Vote_Ratio</th>\n",
       "      <th>Average_Polarity</th>\n",
       "    </tr>\n",
       "  </thead>\n",
       "  <tbody>\n",
       "    <tr>\n",
       "      <th>Power Score</th>\n",
       "      <td>1.000000</td>\n",
       "      <td>0.071424</td>\n",
       "      <td>-0.007625</td>\n",
       "    </tr>\n",
       "    <tr>\n",
       "      <th>Positive_Vote_Ratio</th>\n",
       "      <td>0.071424</td>\n",
       "      <td>1.000000</td>\n",
       "      <td>0.551620</td>\n",
       "    </tr>\n",
       "    <tr>\n",
       "      <th>Average_Polarity</th>\n",
       "      <td>-0.007625</td>\n",
       "      <td>0.551620</td>\n",
       "      <td>1.000000</td>\n",
       "    </tr>\n",
       "  </tbody>\n",
       "</table>\n",
       "</div>"
      ],
      "text/plain": [
       "                     Power Score  Positive_Vote_Ratio  Average_Polarity\n",
       "Power Score             1.000000             0.071424         -0.007625\n",
       "Positive_Vote_Ratio     0.071424             1.000000          0.551620\n",
       "Average_Polarity       -0.007625             0.551620          1.000000"
      ]
     },
     "execution_count": 66,
     "metadata": {},
     "output_type": "execute_result"
    }
   ],
   "source": [
    "final_df.drop(columns=['User','Participation','total_score']).corr()"
   ]
  },
  {
   "cell_type": "code",
   "execution_count": 67,
   "metadata": {},
   "outputs": [
    {
     "data": {
      "application/vnd.plotly.v1+json": {
       "config": {
        "plotlyServerURL": "https://plot.ly"
       },
       "data": [
        {
         "customdata": [
          [
           "Acalamari"
          ],
          [
           "Stifle"
          ],
          [
           "Siva1979"
          ],
          [
           "Bearian"
          ],
          [
           "Juliancolton"
          ],
          [
           "Malinaccier"
          ],
          [
           "SoWhy"
          ],
          [
           "Bibliomaniac15"
          ],
          [
           "Daniel"
          ],
          [
           "Newyorkbrad"
          ],
          [
           "PhilKnight"
          ],
          [
           "Lankiveil"
          ],
          [
           "GlassCobra"
          ],
          [
           "MONGO"
          ],
          [
           "Fastily"
          ],
          [
           "Xoloz"
          ],
          [
           "Sjakkalle"
          ],
          [
           "Majorly"
          ],
          [
           "Merovingian"
          ],
          [
           "Ceranthor"
          ],
          [
           "Rogerd"
          ],
          [
           "Kudpung"
          ],
          [
           "Jayjg"
          ],
          [
           "Airplaneman"
          ],
          [
           "HJ Mitchell"
          ],
          [
           "NuclearWarfare"
          ],
          [
           "OlEnglish"
          ],
          [
           "Kusma"
          ],
          [
           "Axl"
          ],
          [
           "EdJohnston"
          ],
          [
           "Husond"
          ],
          [
           "Stephen"
          ],
          [
           "Sceptre"
          ],
          [
           "Phantomsteve"
          ],
          [
           "Soap"
          ],
          [
           "RegentsPark"
          ],
          [
           "Wisdom89"
          ],
          [
           "JoshuaZ"
          ],
          [
           "Useight"
          ],
          [
           "Mazca"
          ],
          [
           "Ktr101"
          ],
          [
           "Swarm"
          ],
          [
           "DarkFalls"
          ],
          [
           "Ultraexactzz"
          ],
          [
           "Antandrus"
          ],
          [
           "SarekOfVulcan"
          ],
          [
           "Avraham"
          ],
          [
           "Fetchcomms"
          ],
          [
           "Tiptoety"
          ],
          [
           "Steven Walling"
          ],
          [
           "Prodego"
          ],
          [
           "Jusdafax"
          ],
          [
           "MBisanz"
          ],
          [
           "Nick"
          ],
          [
           "Black Kite"
          ],
          [
           "Riana"
          ],
          [
           "WJBscribe"
          ],
          [
           "X!"
          ],
          [
           "Spencer"
          ],
          [
           "FayssalF"
          ],
          [
           "Dank"
          ],
          [
           "Tryptofish"
          ],
          [
           "Andrevan"
          ],
          [
           "Xaosflux"
          ],
          [
           "Toddst1"
          ],
          [
           "MuZemike"
          ],
          [
           "Richardcavell"
          ],
          [
           "Legoktm"
          ],
          [
           "Alison"
          ],
          [
           "Euryalus"
          ],
          [
           "Bishonen"
          ],
          [
           "Swatjester"
          ],
          [
           "Davewild"
          ],
          [
           "ArcAngel"
          ],
          [
           "Malcolmxl5"
          ],
          [
           "BusterD"
          ],
          [
           "Connormah"
          ],
          [
           "Addshore"
          ],
          [
           "Eagles247"
          ],
          [
           "Ks0stm"
          ],
          [
           "Shadowjams"
          ],
          [
           "SQL"
          ],
          [
           "Khoikhoi"
          ],
          [
           "PeterSymonds"
          ],
          [
           "GorillaWarfare"
          ],
          [
           "Hammersoft"
          ],
          [
           "Risker"
          ],
          [
           "Dweller"
          ],
          [
           "Modernist"
          ],
          [
           "Trusilver"
          ],
          [
           "Agathoclea"
          ],
          [
           "Keilana"
          ],
          [
           "Coffee"
          ],
          [
           "Tawker"
          ],
          [
           "B"
          ],
          [
           "SpacemanSpiff"
          ],
          [
           "Seraphimblade"
          ],
          [
           "RyanGerbil10"
          ],
          [
           "Rschen7754"
          ],
          [
           "Mifter"
          ],
          [
           "Titoxd"
          ],
          [
           "Keegan"
          ],
          [
           "Lar"
          ],
          [
           "Angusmclellan"
          ],
          [
           "Guerillero"
          ],
          [
           "Ironholds"
          ],
          [
           "Nihiltres"
          ],
          [
           "Monty845"
          ],
          [
           "Slgrandson"
          ],
          [
           "Gurch"
          ],
          [
           "Jonathunder"
          ],
          [
           "Heimstern"
          ],
          [
           "Spartaz"
          ],
          [
           "Radiant!"
          ],
          [
           "DragonflySixtyseven"
          ],
          [
           "Jauerback"
          ],
          [
           "NativeForeigner"
          ],
          [
           "Tnxman307"
          ],
          [
           "JIP"
          ],
          [
           "Hersfold"
          ],
          [
           "Lectonar"
          ],
          [
           "Fabrictramp"
          ],
          [
           "MSGJ"
          ],
          [
           "Kingturtle"
          ],
          [
           "Jayron32"
          ],
          [
           "Stwalkerster"
          ],
          [
           "Xymmax"
          ],
          [
           "Elkman"
          ],
          [
           "Abecedare"
          ],
          [
           "Cbrown1023"
          ],
          [
           "hmwith"
          ],
          [
           "Smartse"
          ],
          [
           "Logan"
          ],
          [
           "SilkTork"
          ],
          [
           "Tariqabjotu"
          ],
          [
           "Splash"
          ],
          [
           "Frank"
          ],
          [
           "Geni"
          ],
          [
           "Thingg"
          ],
          [
           "Philippe"
          ],
          [
           "KrakatoaKatie"
          ],
          [
           "KTC"
          ],
          [
           "Shirik"
          ],
          [
           "Themfromspace"
          ],
          [
           "TimVickers"
          ],
          [
           "Chaser"
          ],
          [
           "Guettarda"
          ],
          [
           "28bytes"
          ],
          [
           "Jclemens"
          ],
          [
           "Keeper76"
          ],
          [
           "Floquenbeam"
          ],
          [
           "EVula"
          ],
          [
           "Starblind"
          ],
          [
           "Giants27"
          ],
          [
           "Kimchi.sg"
          ],
          [
           "Valley2city"
          ],
          [
           "Garion96"
          ],
          [
           "James086"
          ],
          [
           "Thehelpfulone"
          ],
          [
           "Kralizec!"
          ],
          [
           "Jahiegel"
          ],
          [
           "Royalbroil"
          ],
          [
           "7"
          ],
          [
           "Bobrayner"
          ],
          [
           "Mackensen"
          ],
          [
           "Rjd0060"
          ],
          [
           "Jehochman"
          ],
          [
           "Gnangarra"
          ],
          [
           "Djsasso"
          ],
          [
           "Hiding"
          ],
          [
           "Feezo"
          ],
          [
           "Thryduulf"
          ],
          [
           "Filelakeshoe"
          ],
          [
           "Sir Nicholas de Mimsy-Porpington"
          ],
          [
           "CharlotteWebb"
          ],
          [
           "KillerChihuahua"
          ],
          [
           "VegaDark"
          ],
          [
           "Orangemike"
          ],
          [
           "Calmer Waters"
          ],
          [
           "Deskana"
          ],
          [
           "Rje"
          ],
          [
           "Syrthiss"
          ],
          [
           "Fuzheado"
          ],
          [
           "TigerShark"
          ],
          [
           "Ajraddatz"
          ],
          [
           "Jenks24"
          ],
          [
           "Wifione"
          ],
          [
           "LadyofShalott"
          ],
          [
           "zzuuzz"
          ],
          [
           "Firsfron"
          ],
          [
           "TomStar81"
          ],
          [
           "thumperward"
          ],
          [
           "Snowolf"
          ],
          [
           "Tavix"
          ],
          [
           "Ruslik0"
          ],
          [
           "Chase me ladies, I'm the Cavalry"
          ],
          [
           "Slp1"
          ],
          [
           "Cindamuse"
          ],
          [
           "Dekimasu"
          ],
          [
           "Bencherlite"
          ],
          [
           "Kww"
          ],
          [
           "Dylan620"
          ],
          [
           "Atama"
          ],
          [
           "Jossi"
          ],
          [
           "Athaenara"
          ],
          [
           "AuburnPilot"
          ],
          [
           "TeaDrinker"
          ],
          [
           "Delirium"
          ],
          [
           "Secretlondon"
          ],
          [
           "Nick-D"
          ],
          [
           "Neutralhomer"
          ],
          [
           "Feydey"
          ],
          [
           "Download"
          ],
          [
           "Tone"
          ],
          [
           "Bilby"
          ],
          [
           "Carrite"
          ],
          [
           "Deckiller"
          ],
          [
           "Closedmouth"
          ],
          [
           "Herostratus"
          ],
          [
           "Someguy1221"
          ],
          [
           "Dreadstar"
          ],
          [
           "Yanksox"
          ],
          [
           "Hawkeye7"
          ],
          [
           "Haukurth"
          ],
          [
           "Brewcrewer"
          ],
          [
           "Admrboltz"
          ],
          [
           "Ixfd64"
          ],
          [
           "Nakon"
          ],
          [
           "Journalist"
          ],
          [
           "Jusjih"
          ],
          [
           "delldot"
          ],
          [
           "CactusWriter"
          ],
          [
           "Coren"
          ],
          [
           "Jac16888"
          ],
          [
           "RP459"
          ],
          [
           "Scientizzle"
          ],
          [
           "Ioeth"
          ],
          [
           "MastCell"
          ],
          [
           "Gamaliel"
          ],
          [
           "AniMate"
          ],
          [
           "Protonk"
          ],
          [
           "AlexiusHoratius"
          ],
          [
           "Sjones23"
          ],
          [
           "Samir"
          ],
          [
           "JayHenry"
          ],
          [
           "Sharkface217"
          ],
          [
           "Tyrenius"
          ],
          [
           "TreasuryTag"
          ],
          [
           "BorgQueen"
          ],
          [
           "Redvers"
          ],
          [
           "Zagalejo"
          ],
          [
           "Rodhullandemu"
          ],
          [
           "OwenX"
          ],
          [
           "Cryptic"
          ],
          [
           "ESkog"
          ],
          [
           "Woody"
          ],
          [
           "Jafeluv"
          ],
          [
           "DaGizza"
          ],
          [
           "Killiondude"
          ],
          [
           "ElKevbo"
          ],
          [
           "Huldra"
          ],
          [
           "Tiggerjay"
          ],
          [
           "DerHexer"
          ],
          [
           "Arjun01"
          ],
          [
           "Erik"
          ],
          [
           "John254"
          ],
          [
           "Sj"
          ],
          [
           "Hoary"
          ],
          [
           "Ghmyrtle"
          ],
          [
           "Kevin"
          ],
          [
           "Hiberniantears"
          ],
          [
           "SchmuckyTheCat"
          ],
          [
           "Amalthea"
          ],
          [
           "Majoreditor"
          ],
          [
           "Richwales"
          ],
          [
           "Durova"
          ],
          [
           "Blurpeace"
          ],
          [
           "Tikiwont"
          ],
          [
           "Anthony Bradbury"
          ],
          [
           "Johnuniq"
          ],
          [
           "Maunus"
          ],
          [
           "MacGyverMagic"
          ],
          [
           "Cunard"
          ],
          [
           "Nancy"
          ],
          [
           "Moreschi"
          ],
          [
           "Michig"
          ],
          [
           "Gimmetrow"
          ],
          [
           "MBK004"
          ],
          [
           "Balloonman"
          ],
          [
           "MilborneOne"
          ],
          [
           "Faithlessthewonderboy"
          ],
          [
           "ReyBrujo"
          ],
          [
           "Johnleemk"
          ],
          [
           "Robofish"
          ],
          [
           "Mangojuice"
          ],
          [
           "Kbdank71"
          ],
          [
           "Ruhrfisch"
          ],
          [
           "Dwaipayanc"
          ],
          [
           "Nightstallion"
          ],
          [
           "RHaworth"
          ],
          [
           "Miranda"
          ],
          [
           "Brookie"
          ],
          [
           "Strikerforce"
          ],
          [
           "Samsara"
          ],
          [
           "BuickCenturyDriver"
          ],
          [
           "Orderinchaos"
          ],
          [
           "Anetode"
          ],
          [
           "Aqwis"
          ],
          [
           "Tinucherian"
          ],
          [
           "JPG-GR"
          ],
          [
           "Scott5114"
          ],
          [
           "DESiegel"
          ],
          [
           "Sarah"
          ],
          [
           "Begoon"
          ],
          [
           "Scorpion0422"
          ],
          [
           "FT2"
          ],
          [
           "Mitchazenia"
          ],
          [
           "Pichpich"
          ],
          [
           "FeydHuxtable"
          ],
          [
           "Cyde"
          ],
          [
           "KnightLago"
          ],
          [
           "Aldux"
          ],
          [
           "Viridae"
          ],
          [
           "Ww2censor"
          ],
          [
           "Hobit"
          ],
          [
           "Skomorokh"
          ],
          [
           "Fuhghettaboutit"
          ],
          [
           "Edison"
          ],
          [
           "NoSeptember"
          ],
          [
           "Coemgenus"
          ],
          [
           "Berig"
          ],
          [
           "Jfdwolff"
          ],
          [
           "Ericorbit"
          ],
          [
           "Scarian"
          ],
          [
           "Bsadowski1"
          ],
          [
           "Eluchil404"
          ],
          [
           "Vejvančický"
          ],
          [
           "Raul654"
          ],
          [
           "Alkivar"
          ],
          [
           "Jc37"
          ],
          [
           "Aervanath"
          ],
          [
           "Trödel"
          ],
          [
           "Kablammo"
          ],
          [
           "Plutonium27"
          ],
          [
           "Bastique"
          ],
          [
           "Ghirlandajo"
          ],
          [
           "KnowledgeOfSelf"
          ],
          [
           "Buster7"
          ],
          [
           "Jmabel"
          ],
          [
           "Elockid"
          ],
          [
           "America69"
          ],
          [
           "LAAFan"
          ],
          [
           "Bduke"
          ],
          [
           "Denelson83"
          ],
          [
           "Warofdreams"
          ],
          [
           "WilyD"
          ],
          [
           "Hu12"
          ],
          [
           "Ucucha"
          ],
          [
           "SmokeyJoe"
          ],
          [
           "Zscout370"
          ],
          [
           "Jdforrester"
          ],
          [
           "Jni"
          ],
          [
           "Roux"
          ],
          [
           "Reyk"
          ],
          [
           "Pmanderson"
          ],
          [
           "FloNight"
          ],
          [
           "henrik"
          ],
          [
           "RexxS"
          ],
          [
           "Horologium"
          ],
          [
           "Reywas92"
          ],
          [
           "Chuq"
          ],
          [
           "Nichalp"
          ],
          [
           "TenOfAllTrades"
          ],
          [
           "Xavexgoem"
          ],
          [
           "Jkelly"
          ],
          [
           "Benjiboi"
          ],
          [
           "Buggie111"
          ],
          [
           "Pointillist"
          ],
          [
           "Infrogmation"
          ],
          [
           "Jerry"
          ],
          [
           "TravisTX"
          ],
          [
           "Friday"
          ],
          [
           "Gidonb"
          ],
          [
           "Aude"
          ],
          [
           "Kafziel"
          ],
          [
           "Kaldari"
          ],
          [
           "Jpgordon"
          ],
          [
           "Kraftlos"
          ],
          [
           "EyeSerene"
          ],
          [
           "Lenticel"
          ],
          [
           "Whispering"
          ],
          [
           "Geogre"
          ],
          [
           "Alex43223"
          ],
          [
           "Ret.Prof"
          ],
          [
           "Stormie"
          ],
          [
           "BOZ"
          ],
          [
           "Alai"
          ],
          [
           "Carcharoth"
          ],
          [
           "Theleftorium"
          ],
          [
           "BarkingFish"
          ],
          [
           "Gatoclass"
          ],
          [
           "Melburnian"
          ],
          [
           "WilliamH"
          ],
          [
           "Ynhockey"
          ],
          [
           "DoriSmith"
          ],
          [
           "Scott MacDonald"
          ],
          [
           "Ragesoss"
          ],
          [
           "Rspeer"
          ],
          [
           "Leonard^Bloom"
          ],
          [
           "Morven"
          ],
          [
           "Sgeureka"
          ],
          [
           "Staxringold"
          ],
          [
           "Danny"
          ],
          [
           "Hesperian"
          ],
          [
           "Nehrams2020"
          ],
          [
           "Leithp"
          ],
          [
           "Dtobias"
          ],
          [
           "Davidcannon"
          ],
          [
           "Smallman12q"
          ],
          [
           "Carioca"
          ],
          [
           "Taxman"
          ],
          [
           "Gigs"
          ],
          [
           "Karanacs"
          ],
          [
           "Moondyne"
          ],
          [
           "RayAYang"
          ],
          [
           "Jayen466"
          ],
          [
           "DS1953"
          ],
          [
           "Hurricanehink"
          ],
          [
           "RxS"
          ],
          [
           "Sallicio"
          ],
          [
           "MaxSem"
          ],
          [
           "Quiddity"
          ],
          [
           "Quadell"
          ],
          [
           "172"
          ],
          [
           "SCZenz"
          ],
          [
           "Accounting4Taste"
          ],
          [
           "Rdsmith4"
          ],
          [
           "AlexandrDmitri"
          ],
          [
           "Hipocrite"
          ],
          [
           "Kmweber"
          ],
          [
           "Carnildo"
          ],
          [
           "Sunderland06"
          ],
          [
           "Bigtimepeace"
          ],
          [
           "Celestianpower"
          ],
          [
           "Calton"
          ],
          [
           "Stanistani"
          ],
          [
           "Irpen"
          ],
          [
           "DDima"
          ],
          [
           "Physchim62"
          ],
          [
           "Werdna"
          ],
          [
           "IZAK"
          ],
          [
           "MJ94"
          ],
          [
           "Resolute"
          ],
          [
           "RoyBoy"
          ],
          [
           "Arakunem"
          ],
          [
           "Lupo"
          ],
          [
           "Trebor"
          ],
          [
           "MoRsE"
          ],
          [
           "Jacoplane"
          ],
          [
           "Salih"
          ],
          [
           "Maclean25"
          ],
          [
           "Thincat"
          ],
          [
           "Jimbo Wales"
          ],
          [
           "Eusebeus"
          ],
          [
           "Chris G"
          ],
          [
           "Betacommand"
          ],
          [
           "Jiang"
          ],
          [
           "GTBacchus"
          ],
          [
           "Apoc2400"
          ],
          [
           "GregAsche"
          ],
          [
           "Nomoskedasticity"
          ],
          [
           "Nathan"
          ],
          [
           "Vodello"
          ],
          [
           "Anthonyhcole"
          ],
          [
           "Khukri"
          ],
          [
           "Timmeh"
          ],
          [
           "Shanel"
          ],
          [
           "Oldelpaso"
          ],
          [
           "Ugen64"
          ],
          [
           "Youngamerican"
          ],
          [
           "Rocksanddirt"
          ],
          [
           "Badagnani"
          ],
          [
           "Moncrief"
          ],
          [
           "Hahnchen"
          ],
          [
           "Seav"
          ],
          [
           "Danaman5"
          ],
          [
           "Rd232"
          ],
          [
           "Nev1"
          ],
          [
           "Happy-melon"
          ],
          [
           "One"
          ],
          [
           "Krashlandon"
          ],
          [
           "Hokeman"
          ],
          [
           "Terrillja"
          ],
          [
           "Briangotts"
          ],
          [
           "Ncmvocalist"
          ],
          [
           "FeloniousMonk"
          ],
          [
           "Williamborg"
          ],
          [
           "Dravecky"
          ],
          [
           "Livitup"
          ],
          [
           "Jondel"
          ],
          [
           "Tznkai"
          ],
          [
           "Lawrencekhoo"
          ],
          [
           "Pakaran"
          ],
          [
           "LindsayH"
          ],
          [
           "TUF-KAT"
          ],
          [
           "SusanLesch"
          ],
          [
           "IShadowed"
          ],
          [
           "Rockfang"
          ],
          [
           "Bart133"
          ],
          [
           "Franamax"
          ],
          [
           "Harland1"
          ],
          [
           "WarthogDemon"
          ],
          [
           "Kicking222"
          ],
          [
           "Dayewalker"
          ],
          [
           "Sam Spade"
          ],
          [
           "Rivertorch"
          ],
          [
           "Evilphoenix"
          ],
          [
           "Kittybrewster"
          ],
          [
           "Quartermaster"
          ],
          [
           "Conti"
          ],
          [
           "JPD"
          ],
          [
           "Haza-w"
          ],
          [
           "Fr33kman"
          ],
          [
           "Natl1"
          ],
          [
           "Hbdragon88"
          ],
          [
           "Jwrosenzweig"
          ],
          [
           "Cailil"
          ],
          [
           "Gran2"
          ],
          [
           "Moriori"
          ],
          [
           "HiDrNick"
          ],
          [
           "SirFozzie"
          ],
          [
           "Dirtlawyer1"
          ],
          [
           "Rhobite"
          ],
          [
           "Davidruben"
          ],
          [
           "Pedant"
          ],
          [
           "Bunchofgrapes"
          ],
          [
           "Cynical"
          ],
          [
           "Townlake"
          ],
          [
           "Marskell"
          ],
          [
           "Encephalon"
          ],
          [
           "Wsiegmund"
          ],
          [
           "Mark"
          ],
          [
           "Shoessss"
          ],
          [
           "Nunh-huh"
          ],
          [
           "GRBerry"
          ],
          [
           "Giants2008"
          ],
          [
           "Halibutt"
          ],
          [
           "Stubbleboy"
          ],
          [
           "Chalst"
          ],
          [
           "ThinkBlue"
          ],
          [
           "Reedy"
          ],
          [
           "Cla68"
          ],
          [
           "Becksguy"
          ],
          [
           "Gmaxwell"
          ],
          [
           "Dekkappai"
          ],
          [
           "Katalaveno"
          ],
          [
           "RMHED"
          ],
          [
           "Sluzzelin"
          ],
          [
           "Gungadin"
          ],
          [
           "Johnfos"
          ],
          [
           "Duk"
          ],
          [
           "ThuranX"
          ],
          [
           "Sannse"
          ],
          [
           "ImperfectlyInformed"
          ],
          [
           "ais523"
          ],
          [
           "Triona"
          ],
          [
           "Collect"
          ],
          [
           "Akhilleus"
          ],
          [
           "Slrubenstein"
          ],
          [
           "Zaxem"
          ],
          [
           "Manxruler"
          ],
          [
           "Capitalistroadster"
          ],
          [
           "Oakshade"
          ],
          [
           "Str1977"
          ],
          [
           "Flowerparty"
          ],
          [
           "Atlan"
          ],
          [
           "Doc9871"
          ],
          [
           "Xxanthippe"
          ],
          [
           "Springeragh"
          ],
          [
           "JimMillerJr"
          ],
          [
           "Avenue"
          ],
          [
           "Skinny87"
          ],
          [
           "Alphax"
          ],
          [
           "Walkerma"
          ],
          [
           "Zocky"
          ],
          [
           "Mattisse"
          ],
          [
           "PGWG"
          ],
          [
           "Martinp"
          ],
          [
           "Philwelch"
          ],
          [
           "Jakew"
          ],
          [
           "Sunray"
          ],
          [
           "Bedford"
          ],
          [
           "Leifern"
          ],
          [
           "Herbythyme"
          ],
          [
           "Aquillion"
          ],
          [
           "Cardamon"
          ],
          [
           "TimidGuy"
          ],
          [
           "Emufarmers"
          ],
          [
           "MJCdetroit"
          ],
          [
           "Joopercoopers"
          ],
          [
           "Kmccoy"
          ],
          [
           "Barryob"
          ],
          [
           "Folantin"
          ],
          [
           "M.K"
          ],
          [
           "Astrotrain"
          ],
          [
           "Doctorfluffy"
          ],
          [
           "Booksworm"
          ],
          [
           "Hydnjo"
          ],
          [
           "Rednblu"
          ],
          [
           "IronDuke"
          ],
          [
           "Tarc"
          ],
          [
           "Laurascudder"
          ],
          [
           "Amerique"
          ],
          [
           "AKMask"
          ],
          [
           "Kumioko"
          ],
          [
           "Wimvandorst"
          ],
          [
           "CapitalR"
          ],
          [
           "Banana04131"
          ],
          [
           "TDC"
          ],
          [
           "Abd"
          ],
          [
           "Stillnotelf"
          ],
          [
           "WillowW"
          ],
          [
           "Novickas"
          ],
          [
           "Singopo"
          ],
          [
           "Crohnie"
          ],
          [
           "COGDEN"
          ],
          [
           "Rl"
          ],
          [
           "Sxeptomaniac"
          ],
          [
           "Fladrif"
          ],
          [
           "6SJ7"
          ],
          [
           "Juppiter"
          ],
          [
           "Tex"
          ],
          [
           "Ripberger"
          ],
          [
           "Noetica"
          ],
          [
           "Kcowolf"
          ],
          [
           "DeltaQuad"
          ],
          [
           "Gray62"
          ],
          [
           "DavidJJJ"
          ],
          [
           "Master&Expert"
          ],
          [
           "SunCreator"
          ],
          [
           "Secret"
          ],
          [
           "Grandmasterka"
          ],
          [
           "Mlpearc"
          ],
          [
           "Icewedge"
          ],
          [
           "Brianherman"
          ],
          [
           "Marlith"
          ],
          [
           "WFCforLife"
          ],
          [
           "Lostintherush"
          ],
          [
           "Kubigula"
          ],
          [
           "Bwilkins"
          ],
          [
           "Dmcdevit"
          ],
          [
           "RGTraynor"
          ],
          [
           "Icestorm815"
          ],
          [
           "Sandahl"
          ],
          [
           "JamesBWatson"
          ],
          [
           "Messedrocker"
          ],
          [
           "Shimgray"
          ],
          [
           "Esteffect"
          ],
          [
           "Truthkeeper88"
          ],
          [
           "ScienceApologist"
          ],
          [
           "PMC"
          ],
          [
           "^demon"
          ],
          [
           "Thebainer"
          ],
          [
           "Jmh649"
          ],
          [
           "Doug"
          ],
          [
           "SatuSuro"
          ],
          [
           "ContiE"
          ],
          [
           "Amatulic"
          ],
          [
           "Katr67"
          ],
          [
           "Dougweller"
          ],
          [
           "Ctjf83"
          ],
          [
           "Dincher"
          ]
         ],
         "hovertemplate": "Average Sentiment Polarity (-1: Negative, +1: Positive)=%{x}<br>Positive Vote Ratio (0: All Negative, 1: All Positive)=%{y}<br>User=%{customdata[0]}<extra></extra>",
         "legendgroup": "",
         "marker": {
          "color": "blue",
          "size": 8,
          "symbol": "circle"
         },
         "mode": "markers",
         "name": "",
         "orientation": "v",
         "showlegend": false,
         "type": "scatter",
         "x": [
          0.5058170798898072,
          0.09175541401273885,
          0.4512054383116883,
          0.4918774803149606,
          0.3649201342281879,
          0.6415730275229358,
          0.45573851590106,
          0.42127388535031846,
          0.12659604519774012,
          0.4631571428571428,
          0.6368412186379928,
          0.10941252955082742,
          0.5722403263403263,
          0.2718662408759124,
          0.2646402409638554,
          0.4211957163958641,
          0.5956637469586374,
          0.40265055679287304,
          0.04255862445414847,
          0.4482481781376518,
          0.3683890086206897,
          0.5734085858585858,
          0.2935019801980198,
          0.5709013100436682,
          0.5290473404255319,
          0.3472709821428572,
          0.6141988372093024,
          0.40049788359788363,
          0.42644418604651163,
          0.4262639053254438,
          0.39837206703910616,
          0.24485721393034823,
          0.2499144278606965,
          0.3802123376623377,
          0.466405487804878,
          0.5444117370892019,
          0.3020392578125,
          0.34019926739926737,
          0.5530708737864077,
          0.7815859030837004,
          0.46878988095238094,
          0.46757596899224807,
          0.07664484304932735,
          0.7047120535714286,
          0.6543215094339622,
          0.2558178217821782,
          0.5457530120481927,
          0.2577121673003802,
          0.3520125954198473,
          0.638821875,
          0.3000356725146199,
          0.725376404494382,
          0.440553711790393,
          0.1689590909090909,
          0.31948818181818184,
          0.4252352226720648,
          0.42967012195121956,
          0.503977868852459,
          0.6578403846153846,
          0.5042908745247149,
          0.4635532751091703,
          0.664219209039548,
          0.12500538922155688,
          0.28938733333333333,
          0.402419298245614,
          0.4424100840336134,
          0.34505126050420165,
          0.45001315789473684,
          0.6136073394495413,
          0.7005344827586207,
          0.46744140127388534,
          0.4291502994011976,
          0.13042372262773722,
          0.20714926108374382,
          0.6764322580645161,
          0.6372194444444444,
          0.3774911392405063,
          0.5622409090909091,
          0.4124608695652174,
          0.461896,
          0.31989151515151515,
          0.33586176470588236,
          0.4598399209486166,
          0.5943734375,
          0.6133681818181818,
          -0.030094999999999993,
          0.4899,
          0.46933229813664595,
          0.5520734597156398,
          0.42863145539906106,
          0.4698891304347826,
          0.6019731707317073,
          0.2115155844155844,
          0.3808982206405694,
          0.17838518518518517,
          0.4072176470588235,
          0.41649411764705885,
          0.4204217252396166,
          0.18184268292682926,
          0.8066796296296296,
          0.4282706666666667,
          0.27192919708029195,
          0.5497933035714285,
          0.41659710982658954,
          0.3446015873015873,
          0.30354306220095695,
          0.6358152173913043,
          0.4195666666666667,
          0.29928089887640447,
          0.17999803921568627,
          0.3345127659574468,
          0.48597422680412367,
          0.2689024193548387,
          0.13939470588235295,
          0.17766990291262136,
          0.4819631578947368,
          0.297231746031746,
          0.520790243902439,
          0.3371597359735974,
          0.8459023255813954,
          0.3827145454545454,
          0.4682701298701299,
          0.39345882352941175,
          0.3078461538461538,
          0.5206666666666666,
          0.555931506849315,
          0.6674084745762712,
          0.32245067567567565,
          0.6248044444444444,
          0.547109009009009,
          0.5675321585903084,
          0.6287428571428572,
          0.20365652173913043,
          0.49935205479452055,
          0.05000925925925926,
          0.32289506172839505,
          0.5214102739726028,
          0.25172285714285714,
          0.6329360655737705,
          0.4816058823529412,
          0.48166125,
          0.30549814814814813,
          0.22232698412698412,
          0.3423425,
          0.4410928571428571,
          0.3774261363636364,
          0.2844554913294798,
          0.5487830508474576,
          0.31267058823529414,
          0.6199945736434108,
          0.10230800000000001,
          0.2639308510638298,
          0.468653431372549,
          0.25793627450980394,
          0.3001111111111111,
          0.6105784090909091,
          0.35742252747252745,
          0.48270362694300517,
          0.5598763636363636,
          0.3486139534883721,
          0.6345568493150685,
          0.6809747747747747,
          0.404327868852459,
          0.6838777777777778,
          0.2457034965034965,
          0.504659493670886,
          0.46887525773195876,
          0.31683269230769234,
          0.31457708333333334,
          0.33353385826771653,
          0.5686176470588234,
          0.4977326315789473,
          0.1185857142857143,
          0.2166091463414634,
          0.22438843537414968,
          0.16141238938053096,
          0.39280365853658533,
          0.80545,
          0.6632666666666667,
          0.28651525423728813,
          0.5294458715596331,
          0.46873666666666663,
          0.30354705882352945,
          0.04997563025210084,
          0.4104672131147541,
          0.6050787878787879,
          0.5966561224489796,
          0.42781875,
          0.333575,
          0.5512,
          0.724165909090909,
          0.39742500000000003,
          0.2611362745098039,
          0.42709387755102035,
          0.5974095238095238,
          0.5283294117647059,
          0.5417777777777778,
          0.5752195121951219,
          0.3424986301369863,
          0.5573327586206897,
          0.4564333333333333,
          0.48616,
          0.5292548913043479,
          0.3973993006993007,
          0.5083848920863309,
          0.5141410958904109,
          0.6745,
          0.5291333333333333,
          0.19285454545454545,
          0.6450309523809524,
          0.6821975609756097,
          0.47512298850574713,
          0.4555,
          0.5803882352941176,
          0.5471454545454546,
          0.2794142857142857,
          0.4973892561983471,
          0.030782352941176476,
          0.5450148148148148,
          0.24041929824561406,
          0.6933116279069768,
          0.35227127071823205,
          0.521095652173913,
          0.49327863247863246,
          0.33496268656716416,
          0.23699444444444442,
          0.5084285714285715,
          0.0747625,
          0.2729875,
          0.3076320241691843,
          0.6440942307692308,
          0.786075,
          0.33576623376623377,
          0.4551578947368421,
          0.36001249999999996,
          0.6072041666666667,
          0.7214714285714285,
          0.6176465753424658,
          0.0462,
          0.2897787610619469,
          0.47873106060606063,
          0.5662327272727273,
          0.4207294117647059,
          0.34308611111111115,
          0.4429988950276243,
          0.4688649425287356,
          0.5539115384615385,
          0.1469,
          0.5523076923076923,
          0.28739859154929576,
          0.1265647058823529,
          0.4784955752212389,
          0.3376712328767123,
          0.12098648648648648,
          0.393661038961039,
          0.6153782608695653,
          0.40375068493150684,
          0.3555115646258503,
          0.50094375,
          0.21965,
          0.4252375,
          0.57308125,
          0.3709510638297872,
          0.4784395061728395,
          0.5583333333333333,
          0.36164187192118225,
          0.3633237762237762,
          0.4080281690140845,
          0.86836,
          0.17115833333333333,
          0.5058638613861386,
          0.3466068181818182,
          0.5977391304347826,
          0.48279457627118644,
          0.6389483870967743,
          0.5571017543859649,
          0.26628888888888885,
          0.39468983050847456,
          0.5104767857142857,
          0.6548285714285714,
          0.4151076923076923,
          0.38869714285714285,
          0.459725,
          0.5681020833333333,
          0.16546607142857145,
          0.5466884615384615,
          0.3504035714285714,
          0.40230491803278684,
          0.2938348017621146,
          0.46365,
          0.62306625,
          0.31838947368421056,
          0.14180281690140845,
          0.41047105263157896,
          0.39856111111111114,
          0.30758071428571426,
          0.6330230769230769,
          0.5738760563380281,
          0.4700424460431654,
          0.21672000000000002,
          0.14944606741573033,
          0.4864423728813559,
          0.35684716981132075,
          0.3451816326530612,
          0.37219651162790696,
          0.6185771929824561,
          0.5645075471698113,
          0.414894,
          0.5752368421052632,
          0.15056666666666668,
          0.5107409090909091,
          0.5317714285714286,
          0.386890977443609,
          0.6837975308641975,
          0.5086117647058823,
          0.8944333333333332,
          0.573990625,
          0.5109096153846153,
          0.5255081761006289,
          0.18345882352941179,
          0.3838076923076923,
          0.5069590361445783,
          0.3955863247863248,
          0.5103142857142856,
          0.3814811023622047,
          0.40531666666666666,
          0.47609230769230765,
          0.6280666666666667,
          0.5961188118811881,
          0.4514294736842105,
          0.09874166666666667,
          0.2990663551401869,
          0.5337391304347826,
          0.6384163793103449,
          0.5592857142857143,
          0.44466484375,
          0.5518809523809524,
          0.3743859375,
          0.34335935483870966,
          0.5636014925373134,
          0.2813875,
          0.35043913043478264,
          0.4715594594594595,
          0.3686113821138211,
          0.4604862745098039,
          0.32531666666666664,
          0.6026408163265305,
          0.4155875,
          0.46510666666666667,
          0.5000888888888889,
          0.33909604863221887,
          0.15501754385964914,
          0.7439018867924528,
          0.38038139534883725,
          0.34215066666666666,
          0.0783859375,
          0.6311730769230769,
          0.29699677419354836,
          0.3485388888888889,
          0.39472926829268296,
          0.2615047619047619,
          0.37002815533980576,
          0.15539382716049382,
          0.4623801470588235,
          0.19548148148148148,
          0.5346504761904762,
          0.660051282051282,
          0.724088,
          0.13743999999999998,
          0.38015454545454547,
          0.5159222222222222,
          0.3552594339622641,
          0.4010813725490196,
          0.5086961538461539,
          0.1983220588235294,
          0.58395,
          0.4615177777777778,
          0.5946285714285714,
          0.22686538461538458,
          0.4274588235294118,
          0.5285425,
          0.06769854014598539,
          0.787484375,
          0.6708176470588235,
          0.40977592592592593,
          0.34168181818181814,
          0.16477083333333334,
          0.3340324324324324,
          0.6642204545454545,
          0.3478754716981132,
          0.476425,
          0.2432736111111111,
          0.5065308641975309,
          0.5606004975124378,
          0.4518685185185185,
          0.68584,
          0.4301594594594595,
          0.5868599999999999,
          0.6045333333333334,
          0.33992142857142854,
          0.432265,
          0.7312454545454545,
          0.515725,
          0.3394652173913043,
          0.23396874999999998,
          0.06247307692307692,
          0.6438819672131147,
          0.3136752066115703,
          0.633791304347826,
          0.38562399999999997,
          0.5723409090909091,
          0.593646,
          0.1172827067669173,
          0.26870588235294113,
          0.8409642857142857,
          0.49343333333333333,
          0.12545714285714285,
          0.20999428571428572,
          0.2826258064516129,
          0.6078138888888889,
          0.6094090909090909,
          0.1273469387755102,
          0.5559142857142857,
          0.6073725000000001,
          0.7038685314685315,
          0.4626045454545454,
          0.4740276785714285,
          0.29624666666666666,
          -0.07337272727272728,
          0.6546333333333333,
          0.2686842105263158,
          0.5484304347826088,
          0.284475,
          0.19098138297872339,
          0.18833265306122451,
          0.7648076923076923,
          0.10738153846153846,
          0.4721708333333333,
          0.10948492063492063,
          -0.07406337209302326,
          0.20639848484848483,
          0.6389452380952381,
          0.75448125,
          0.6026030303030303,
          0.04888857142857142,
          0.5680484375,
          0.42154230769230766,
          0.48164210526315787,
          0.40397777777777777,
          0.15979473684210524,
          0.22024,
          0.4017102564102564,
          0.5943636363636364,
          0.5772518518518518,
          0.6549111111111111,
          0.38685185185185184,
          0.4376333333333333,
          0.5275366666666667,
          0.5523590909090909,
          0.32581875,
          0.46792,
          0.62208,
          0.16404999999999997,
          0.47639830508474573,
          0.4754918918918919,
          0.41905,
          0.1740765625,
          0.73354,
          0.40622,
          0.5333506329113924,
          -0.0010833333333333435,
          0.11015217391304348,
          -0.04493283582089552,
          0.7996800000000001,
          0.6073450704225352,
          0.43840545454545454,
          0.6030836363636364,
          0.5551275,
          0.2535718085106383,
          0.4584381578947368,
          0.3153410256410256,
          0.59478,
          0.22777692307692307,
          0.3624474576271186,
          0.48360000000000003,
          0.510951923076923,
          0.3976117647058824,
          0.504404347826087,
          0.54145,
          0.2613918918918919,
          0.5105733333333333,
          0.5439276470588235,
          0.279675,
          0.35242666666666667,
          0.3267478260869565,
          0.33022881355932204,
          0.38546428571428576,
          0.4981071428571429,
          0.6715363636363636,
          0.5086761904761905,
          0.46303,
          0.7183541666666667,
          0.30440833333333334,
          0.5997466666666667,
          0.19188173076923076,
          0.7068500000000001,
          0.4164526315789474,
          -0.06137894736842105,
          0.2216344262295082,
          0.5276000000000001,
          0.46032045454545456,
          0.19731785714285713,
          0.4669364485981309,
          0.6118545454545454,
          0.27055098039215686,
          0.6915666666666667,
          0.39001,
          0.4852727272727273,
          0.5061923076923077,
          0.3115,
          0.5929384615384615,
          0.5929139534883721,
          0.44674285714285716,
          0.5871595238095237,
          0.2108625,
          0.41841654676258994,
          0.44199,
          0.4744833333333333,
          0.3875666666666666,
          0.23205199999999998,
          0.4662,
          0.8168105263157894,
          0.23047931034482758,
          0.7790222222222222,
          0.5768972972972972,
          0.3366581395348837,
          0.18976145833333333,
          0.26245699481865287,
          0.46744591836734695,
          0.4254430107526882,
          0.483025,
          0.3365909090909091,
          0.6815258823529411,
          0.3634764705882353,
          -0.004053333333333324,
          0.68905,
          0.5335666666666666,
          0.4492512195121951,
          0.7010625,
          0.6376727272727273,
          0.3349166666666667,
          0.6609951219512195,
          0.86555,
          0.2898275,
          0.09659,
          0.7099753846153847,
          0.4037691588785047,
          0.578904,
          0.6938,
          0.6237071428571428,
          0.37449780219780215,
          0.39521111111111107,
          0.3718083333333333,
          0.18322,
          0.14986129032258064,
          0.3190607142857143,
          0.37201951219512197,
          0.6754484848484849,
          0.3674733333333334,
          0.4259158192090396,
          0.6162,
          0.6043851851851852,
          0.18700769230769232,
          0.285725,
          0.30664864864864866,
          0.06574285714285714,
          0.3908,
          0.44608571428571425,
          0.44935,
          0.6309333333333333,
          0.6209058823529412,
          0.43120740740740743,
          0.2513324675324675,
          0.7765636363636363,
          -0.10010000000000001,
          0.40997428571428574,
          0.26313947368421053,
          0.552758695652174,
          0.38988235294117646,
          0.4798777777777778,
          0.45931714285714287,
          0.30979,
          0.2975125,
          0.504916393442623,
          0.48093043478260866,
          -0.027428571428571438,
          0.4881625,
          0.059199999999999996,
          0.60165625,
          -0.015155555555555552,
          0.502856,
          0.5013666666666666,
          0.22954565217391307,
          0.30595,
          0.27794375,
          0.38497777777777775,
          0.4908142857142857,
          0.5385105263157894,
          0.56714,
          0.31667818181818186,
          0.5167857142857143,
          0.2783769230769231,
          0.46598,
          0.3409333333333333,
          0.413937037037037,
          0.70555,
          0.7264621621621622,
          0.41975750000000006,
          0.18135,
          0.23306666666666667,
          0.3950666666666667,
          0.9098611111111112,
          0.3233166666666667,
          0.233568,
          0.72714,
          0.4774833333333333,
          0.82725,
          0.5848111111111112,
          0.44867,
          0.25803125,
          0.23199999999999998,
          0.03375384615384615,
          0.4136166666666667,
          0.7295222222222222,
          0.07644,
          0.3717125,
          0.38515185185185186,
          0.53175,
          0.384219921875,
          0.5378954545454545,
          0.23077,
          0.5288347593582887,
          0.5566848837209302,
          0.27160260869565217,
          0.54135,
          0.5110732824427481,
          0.3920714285714285,
          0.5145918604651163,
          0.6666269230769231,
          0.31113902439024393,
          0.43721956521739136,
          0.2668925925925926,
          0.45144666666666666,
          0.213225,
          0.24602903225806452,
          0.3616027777777778,
          0.4225068181818182,
          0.25085365853658537,
          0.5065230769230769,
          0.33881428571428573,
          0.528648,
          0.3860617647058823,
          0.5221129032258065,
          0.48250666666666664,
          0.6066875,
          0.670409090909091,
          0.249412,
          0.4036461538461538,
          0.5100428571428571,
          0.5707545454545454,
          0.4179272727272727,
          0.5153399999999999
         ],
         "xaxis": "x",
         "y": [
          0.9763560500695411,
          0.6229205175600739,
          0.8500851788756388,
          0.9071428571428571,
          0.7878787878787878,
          0.915948275862069,
          0.7410358565737052,
          0.9300699300699301,
          0.4892966360856269,
          0.9918864097363083,
          0.9420289855072463,
          0.7979274611398963,
          0.8019559902200489,
          0.9456928838951311,
          0.5353535353535354,
          0.47129909365558914,
          0.9130434782608695,
          0.8290398126463701,
          0.9358669833729216,
          0.9137931034482759,
          0.9260869565217391,
          0.621301775147929,
          0.8613861386138614,
          0.905940594059406,
          0.7654320987654321,
          0.7598039215686274,
          0.89375,
          0.9032258064516129,
          0.7142857142857143,
          1,
          0.7237237237237237,
          0.8656716417910447,
          0.8983957219251337,
          0.7130434782608696,
          0.8092105263157895,
          0.8823529411764706,
          0.4408817635270541,
          0.8156862745098039,
          0.5703971119133574,
          0.9116279069767442,
          0.9137380191693291,
          0.782258064516129,
          0.6543778801843319,
          0.8877005347593583,
          0.9773584905660377,
          0.7835051546391752,
          0.773972602739726,
          0.618421052631579,
          0.4475806451612903,
          0.7890625,
          0.7267080745341615,
          0.5955056179775281,
          0.8287037037037037,
          0.5174418604651163,
          0.7358490566037735,
          0.8416289592760181,
          0.7746031746031746,
          0.7916666666666666,
          0.875,
          0.9395161290322581,
          0.8295964125560538,
          0.9125,
          0.8501529051987767,
          0.44537815126050423,
          0.6792452830188679,
          0.6272727272727273,
          0.7074235807860262,
          0.8421052631578947,
          0.8980582524271845,
          0.9074074074074074,
          0.7516339869281046,
          0.9012345679012346,
          0.9296296296296296,
          0.3177083333333333,
          0.9666666666666667,
          0.8787878787878788,
          0.8472222222222222,
          1,
          0.717391304347826,
          0.9523809523809523,
          0.5906040268456376,
          1,
          0.9723320158102767,
          0.782258064516129,
          0.6190476190476191,
          0.47368421052631576,
          0.9642857142857143,
          0.7183098591549296,
          0.8047619047619048,
          0.7978142076502732,
          0.8444444444444444,
          0.868421052631579,
          0.581081081081081,
          0.7822878228782287,
          0.44594594594594594,
          0.8529411764705882,
          0.8407079646017699,
          0.9496644295302014,
          0.575,
          0.9230769230769231,
          0.8883720930232558,
          0.8931297709923665,
          0.8725490196078431,
          0.8493975903614458,
          0.7037037037037037,
          0.587378640776699,
          0.9318181818181818,
          0.8627450980392157,
          0.762962962962963,
          0.828125,
          0.4506172839506173,
          0.8222222222222222,
          0.6695652173913044,
          0.6061538461538462,
          0.5274725274725275,
          0.8444444444444444,
          0.88,
          0.975609756097561,
          0.8314176245210728,
          0.65,
          0.9215686274509803,
          0.6323529411764706,
          0.7941176470588235,
          0.6611111111111111,
          0.8461538461538461,
          0.927536231884058,
          0.9636363636363636,
          0.7172413793103448,
          0.7674418604651163,
          0.9,
          0.9230769230769231,
          0.6923076923076923,
          0.35555555555555557,
          0.5319148936170213,
          0.5,
          0.46794871794871795,
          0.7661290322580645,
          0.9142857142857143,
          0.9836065573770492,
          0.8571428571428571,
          0.7647058823529411,
          0.5849056603773585,
          0.6181818181818182,
          0.7739130434782608,
          0.8987341772151899,
          0.775,
          0.8757396449704142,
          0.7155963302752294,
          0.49572649572649574,
          0.9221311475409836,
          0.75,
          0.675,
          0.7626262626262627,
          0.7164948453608248,
          0.71875,
          0.8690476190476191,
          0.9281767955801105,
          0.9364161849710982,
          0.8627450980392157,
          0.6976744186046512,
          0.8211678832116789,
          0.981651376146789,
          0.896551724137931,
          0.890625,
          0.5925925925925926,
          0.76,
          0.8709677419354839,
          0.7021276595744681,
          0.3695652173913043,
          0.864406779661017,
          1,
          0.9101123595505618,
          0.7058823529411765,
          0.8220858895705522,
          0.5869565217391305,
          0.6320754716981132,
          0.8987341772151899,
          1,
          0.875,
          0.44642857142857145,
          0.8081761006289309,
          0.9491525423728814,
          1,
          0.24786324786324787,
          0.8333333333333334,
          0.9375,
          0.851063829787234,
          0.875,
          0.85,
          0.7916666666666666,
          1,
          0.7368421052631579,
          0.73,
          0.5306122448979592,
          0.9523809523809523,
          0.6470588235294118,
          0.9411764705882353,
          0.5609756097560976,
          0.5423728813559322,
          0.9814814814814815,
          0.5555555555555556,
          0.74,
          0.72,
          0.8582677165354331,
          0.7819548872180451,
          0.8857142857142857,
          1,
          1,
          0.813953488372093,
          0.875,
          0.95,
          0.8607594936708861,
          0.7606837606837606,
          0.9292035398230089,
          0.7,
          0.8414634146341463,
          0.9615384615384616,
          0.8823529411764706,
          0.9615384615384616,
          0.6923076923076923,
          0.8604651162790697,
          0.7831325301204819,
          0.9565217391304348,
          0.9823008849557522,
          0.9545454545454546,
          0.5094339622641509,
          1,
          0.2711864406779661,
          0.836,
          0.7800687285223368,
          0.9411764705882353,
          0.9333333333333333,
          0.7313432835820896,
          0.6842105263157895,
          0.8177339901477833,
          0.7441860465116279,
          0.8214285714285714,
          0.7916666666666666,
          0.4666666666666667,
          0.6545454545454545,
          0.8916666666666667,
          1,
          0.75,
          0.8428571428571429,
          0.7294117647058823,
          0.910828025477707,
          0.6923076923076923,
          0.4745762711864407,
          0.9230769230769231,
          0.8169014084507042,
          0.7647058823529411,
          0.8888888888888888,
          0.589041095890411,
          0.6216216216216216,
          0.7384615384615385,
          0.8043478260869565,
          0.8169014084507042,
          0.753731343283582,
          0.75,
          0.3,
          0.625,
          0.8571428571428571,
          0.9772727272727273,
          0.6835443037974683,
          0.7777777777777778,
          0.896551724137931,
          0.9692307692307692,
          0.8484848484848485,
          1,
          0.6666666666666666,
          0.7929292929292929,
          0.7948717948717948,
          0.7391304347826086,
          0.6642335766423357,
          0.7407407407407407,
          0.8518518518518519,
          0.8888888888888888,
          0.6481481481481481,
          0.7407407407407407,
          0.6428571428571429,
          0.9230769230769231,
          0.84375,
          0.6875,
          0.8723404255319149,
          0.6181818181818182,
          0.6666666666666666,
          0.8461538461538461,
          0.8793103448275862,
          0.5594059405940595,
          1,
          0.8857142857142857,
          0.7333333333333333,
          0.8548387096774194,
          0.6697247706422018,
          0.5961538461538461,
          0.8235294117647058,
          1,
          0.9859154929577465,
          0.944,
          0.6,
          0.48502994011976047,
          0.9122807017543859,
          0.6190476190476191,
          0.5957446808510638,
          0.9940119760479041,
          0.8532110091743119,
          0.9215686274509803,
          0.8080808080808081,
          0.9107142857142857,
          0.21875,
          0.9047619047619048,
          0.6470588235294118,
          0.528,
          0.7846153846153846,
          0.7647058823529411,
          1,
          0.7241379310344828,
          0.8846153846153846,
          0.9874213836477987,
          0.4473684210526316,
          0.6153846153846154,
          0.8192771084337349,
          0.6880733944954128,
          0.5714285714285714,
          0.7431192660550459,
          0.8333333333333334,
          0.6153846153846154,
          0.9090909090909091,
          0.9896907216494846,
          0.8387096774193549,
          0.4166666666666667,
          0.9528301886792453,
          0.9565217391304348,
          0.6991150442477876,
          1,
          0.7565217391304347,
          0.8095238095238095,
          0.765625,
          0.6778523489932886,
          0.5686274509803921,
          1,
          0.45454545454545453,
          0.8918918918918919,
          0.4336283185840708,
          0.86,
          0.6486486486486487,
          0.898876404494382,
          0.5,
          1,
          0.9411764705882353,
          0.6446540880503144,
          0.6530612244897959,
          0.9811320754716981,
          0.7887323943661971,
          0.9733333333333334,
          0.5245901639344263,
          1,
          0.9032258064516129,
          0.9705882352941176,
          0.8055555555555556,
          0.9523809523809523,
          0.9393939393939394,
          0.425,
          0.8125,
          0.58,
          0.7745098039215687,
          0.8461538461538461,
          0.96,
          0.6470588235294118,
          0.8181818181818182,
          1,
          0.8446601941747572,
          0.8541666666666666,
          0.8260869565217391,
          0.5882352941176471,
          0.9622641509433962,
          0.8108108108108109,
          0.6153846153846154,
          0.8846153846153846,
          0.5333333333333333,
          0.75,
          0.38461538461538464,
          0.96875,
          0.8235294117647058,
          0.8301886792452831,
          0.9090909090909091,
          0.6956521739130435,
          0.3523809523809524,
          0.7142857142857143,
          0.54,
          0.875,
          0.6031746031746031,
          0.8309859154929577,
          0.8955223880597015,
          0.8703703703703703,
          0.8571428571428571,
          0.6571428571428571,
          0.8857142857142857,
          0.8627450980392157,
          0.5,
          0.7894736842105263,
          1,
          0.5333333333333333,
          0.6818181818181818,
          0.5483870967741935,
          0.6,
          0.9833333333333333,
          0.6293103448275862,
          1,
          0.96,
          0.9090909090909091,
          0.8297872340425532,
          0.9307692307692308,
          0.8235294117647058,
          0.9285714285714286,
          0.7894736842105263,
          0.7142857142857143,
          0.859375,
          0.8709677419354839,
          0.9295774647887324,
          0.7294117647058823,
          0.5813953488372093,
          0.6538461538461539,
          0.825,
          0.8848920863309353,
          0.7619047619047619,
          0.995475113122172,
          0.46153846153846156,
          0.18181818181818182,
          0.9130434782608695,
          0.8035714285714286,
          0.7619047619047619,
          0.864406779661017,
          0.8967391304347826,
          0.5217391304347826,
          1,
          0.828125,
          0.855072463768116,
          0.36607142857142855,
          0.052941176470588235,
          0.8225806451612904,
          1,
          0.7142857142857143,
          0.9692307692307692,
          0.6176470588235294,
          0.9672131147540983,
          0.5897435897435898,
          0.8421052631578947,
          0.5555555555555556,
          0.6842105263157895,
          0.5555555555555556,
          0.7105263157894737,
          0.8181818181818182,
          1,
          1,
          0.88,
          0.7058823529411765,
          0.9655172413793104,
          0.9090909090909091,
          0.5625,
          0.8,
          0.8,
          0.6666666666666666,
          0.8135593220338984,
          0.9666666666666667,
          0.7222222222222222,
          0.96875,
          0.7777777777777778,
          0.5384615384615384,
          0.8552631578947368,
          0.8333333333333334,
          0.7619047619047619,
          0.25757575757575757,
          0.9,
          0.8857142857142857,
          0.6918238993710691,
          1,
          1,
          0.9175824175824175,
          0.918918918918919,
          0.9629629629629629,
          0.8,
          0.5384615384615384,
          0.9122807017543859,
          1,
          0.76,
          0.8,
          0.7272727272727273,
          1,
          0.7068965517241379,
          0.9333333333333333,
          0.7124183006535948,
          0.5714285714285714,
          0.8133333333333334,
          0.6530612244897959,
          0.6949152542372882,
          0.9655172413793104,
          0.7857142857142857,
          0.9090909090909091,
          0.9523809523809523,
          0.8333333333333334,
          0.9565217391304348,
          0.9130434782608695,
          0.8,
          0.9903846153846154,
          1,
          0.6944444444444444,
          0.11764705882352941,
          0.9491525423728814,
          0.4444444444444444,
          0.7209302325581395,
          0.5652173913043478,
          0.6288659793814433,
          0.8181818181818182,
          0.7142857142857143,
          1,
          0.5,
          0.9090909090909091,
          0.868421052631579,
          0.625,
          0.9583333333333334,
          0.9210526315789473,
          0.8888888888888888,
          0.9879518072289156,
          0.5333333333333333,
          0.9538461538461539,
          0.8888888888888888,
          1,
          0.6153846153846154,
          0.8367346938775511,
          0.7692307692307693,
          1,
          0.6896551724137931,
          1,
          0.7096774193548387,
          0.6511627906976745,
          0.32967032967032966,
          0.3050847457627119,
          0.7888888888888889,
          0.9213483146067416,
          0.9206349206349206,
          0.9523809523809523,
          0.589041095890411,
          0.8235294117647058,
          0.40540540540540543,
          0.8,
          0.875,
          0.7948717948717948,
          0.875,
          0.9393939393939394,
          0.8333333333333334,
          0.95,
          1,
          0.65,
          0.375,
          0.8888888888888888,
          0.8130841121495327,
          0.9565217391304348,
          1,
          0.9285714285714286,
          0.9666666666666667,
          0.625,
          0.9166666666666666,
          0.5,
          0.5,
          0.8909090909090909,
          0.6216216216216216,
          0.9393939393939394,
          0.7692307692307693,
          0.5423728813559322,
          1,
          0.8888888888888888,
          0.3076923076923077,
          0.75,
          0.972972972972973,
          0.2857142857142857,
          0.8461538461538461,
          0.42857142857142855,
          0.94,
          0.6666666666666666,
          0.8235294117647058,
          0.5925925925925926,
          0.8356164383561644,
          1,
          0.6666666666666666,
          0.7272727272727273,
          0.7027027027027027,
          0.6363636363636364,
          0.8823529411764706,
          0.7777777777777778,
          0.5142857142857142,
          0.6388888888888888,
          0.375,
          0.9,
          0.9130434782608695,
          0.42857142857142855,
          0.75,
          0.4,
          0.8,
          0.3333333333333333,
          1,
          0.8,
          0.6086956521739131,
          0.6666666666666666,
          0.6129032258064516,
          0.6666666666666666,
          1,
          0.8611111111111112,
          1,
          0.8823529411764706,
          0.6666666666666666,
          0.46153846153846156,
          0.9333333333333333,
          0.4444444444444444,
          0.8888888888888888,
          1,
          0.8378378378378378,
          0.8461538461538461,
          0.5833333333333334,
          1,
          0.8,
          1,
          0.6666666666666666,
          0.34,
          1,
          1,
          1,
          0.6666666666666666,
          0.8888888888888888,
          0.5,
          0.6363636363636364,
          0.6153846153846154,
          0.6666666666666666,
          0.5555555555555556,
          0,
          0.5714285714285714,
          0.4583333333333333,
          1,
          0.9435483870967742,
          0.7857142857142857,
          0.8482142857142857,
          0.8121212121212121,
          0.8214285714285714,
          0.780952380952381,
          0.9166666666666666,
          0.7716535433070866,
          0.6833333333333333,
          0.9534883720930233,
          0.9868421052631579,
          0.31746031746031744,
          0.8791208791208791,
          0.6122448979591837,
          0.6521739130434783,
          0.6346153846153846,
          0.3548387096774194,
          0.78125,
          1,
          0.4857142857142857,
          0.68,
          0.7142857142857143,
          0.9130434782608695,
          0.6666666666666666,
          0.8,
          0.7333333333333333,
          1,
          1,
          0.9130434782608695,
          0.6363636363636364,
          0.7142857142857143,
          0.6363636363636364,
          0.5555555555555556,
          1
         ],
         "yaxis": "y"
        },
        {
         "hovertemplate": "<b>OLS trendline</b><br>Positive_Vote_Ratio = 0.554815 * Average_Polarity + 0.536248<br>R<sup>2</sup>=0.304284<br><br>Average Sentiment Polarity (-1: Negative, +1: Positive)=%{x}<br>Positive Vote Ratio (0: All Negative, 1: All Positive)=%{y} <b>(trend)</b><extra></extra>",
         "legendgroup": "",
         "line": {
          "color": "red"
         },
         "marker": {
          "color": "#636efa",
          "symbol": "circle"
         },
         "mode": "lines",
         "name": "",
         "showlegend": false,
         "type": "scatter",
         "x": [
          -0.10010000000000001,
          -0.07406337209302326,
          -0.07337272727272728,
          -0.06137894736842105,
          -0.04493283582089552,
          -0.030094999999999993,
          -0.027428571428571438,
          -0.015155555555555552,
          -0.004053333333333324,
          -0.0010833333333333435,
          0.030782352941176476,
          0.03375384615384615,
          0.04255862445414847,
          0.0462,
          0.04888857142857142,
          0.04997563025210084,
          0.05000925925925926,
          0.059199999999999996,
          0.06247307692307692,
          0.06574285714285714,
          0.06769854014598539,
          0.0747625,
          0.07644,
          0.07664484304932735,
          0.0783859375,
          0.09175541401273885,
          0.09659,
          0.09874166666666667,
          0.10230800000000001,
          0.10738153846153846,
          0.10941252955082742,
          0.10948492063492063,
          0.11015217391304348,
          0.1172827067669173,
          0.1185857142857143,
          0.12098648648648648,
          0.12500538922155688,
          0.12545714285714285,
          0.1265647058823529,
          0.12659604519774012,
          0.1273469387755102,
          0.13042372262773722,
          0.13743999999999998,
          0.13939470588235295,
          0.14180281690140845,
          0.1469,
          0.14944606741573033,
          0.14986129032258064,
          0.15056666666666668,
          0.15501754385964914,
          0.15539382716049382,
          0.15979473684210524,
          0.16141238938053096,
          0.16404999999999997,
          0.16477083333333334,
          0.16546607142857145,
          0.1689590909090909,
          0.17115833333333333,
          0.1740765625,
          0.17766990291262136,
          0.17838518518518517,
          0.17999803921568627,
          0.18135,
          0.18184268292682926,
          0.18322,
          0.18345882352941179,
          0.18700769230769232,
          0.18833265306122451,
          0.18976145833333333,
          0.19098138297872339,
          0.19188173076923076,
          0.19285454545454545,
          0.19548148148148148,
          0.19731785714285713,
          0.1983220588235294,
          0.20365652173913043,
          0.20639848484848483,
          0.20714926108374382,
          0.20999428571428572,
          0.2108625,
          0.2115155844155844,
          0.213225,
          0.2166091463414634,
          0.21672000000000002,
          0.21965,
          0.22024,
          0.2216344262295082,
          0.22232698412698412,
          0.22438843537414968,
          0.22686538461538458,
          0.22777692307692307,
          0.22954565217391307,
          0.23047931034482758,
          0.23077,
          0.23199999999999998,
          0.23205199999999998,
          0.23306666666666667,
          0.233568,
          0.23396874999999998,
          0.23699444444444442,
          0.24041929824561406,
          0.2432736111111111,
          0.24485721393034823,
          0.2457034965034965,
          0.24602903225806452,
          0.249412,
          0.2499144278606965,
          0.25085365853658537,
          0.2513324675324675,
          0.25172285714285714,
          0.2535718085106383,
          0.2558178217821782,
          0.2577121673003802,
          0.25793627450980394,
          0.25803125,
          0.2611362745098039,
          0.2613918918918919,
          0.2615047619047619,
          0.26245699481865287,
          0.26313947368421053,
          0.2639308510638298,
          0.2646402409638554,
          0.26628888888888885,
          0.2668925925925926,
          0.2686842105263158,
          0.26870588235294113,
          0.2689024193548387,
          0.27055098039215686,
          0.27160260869565217,
          0.2718662408759124,
          0.27192919708029195,
          0.2729875,
          0.27794375,
          0.2783769230769231,
          0.2794142857142857,
          0.279675,
          0.2813875,
          0.2826258064516129,
          0.2844554913294798,
          0.284475,
          0.285725,
          0.28651525423728813,
          0.28739859154929576,
          0.28938733333333333,
          0.2897787610619469,
          0.2898275,
          0.2935019801980198,
          0.2938348017621146,
          0.29624666666666666,
          0.29699677419354836,
          0.297231746031746,
          0.2975125,
          0.2990663551401869,
          0.29928089887640447,
          0.3000356725146199,
          0.3001111111111111,
          0.3020392578125,
          0.30354306220095695,
          0.30354705882352945,
          0.30440833333333334,
          0.30549814814814813,
          0.30595,
          0.30664864864864866,
          0.30758071428571426,
          0.3076320241691843,
          0.3078461538461538,
          0.30979,
          0.31113902439024393,
          0.3115,
          0.31267058823529414,
          0.3136752066115703,
          0.31457708333333334,
          0.3153410256410256,
          0.31667818181818186,
          0.31683269230769234,
          0.31838947368421056,
          0.3190607142857143,
          0.31948818181818184,
          0.31989151515151515,
          0.32245067567567565,
          0.32289506172839505,
          0.3233166666666667,
          0.32531666666666664,
          0.32581875,
          0.3267478260869565,
          0.33022881355932204,
          0.33353385826771653,
          0.333575,
          0.3340324324324324,
          0.3345127659574468,
          0.3349166666666667,
          0.33496268656716416,
          0.33576623376623377,
          0.33586176470588236,
          0.3365909090909091,
          0.3366581395348837,
          0.3371597359735974,
          0.3376712328767123,
          0.33881428571428573,
          0.33909604863221887,
          0.3394652173913043,
          0.33992142857142854,
          0.34019926739926737,
          0.3409333333333333,
          0.34168181818181814,
          0.34215066666666666,
          0.3423425,
          0.3424986301369863,
          0.34308611111111115,
          0.34335935483870966,
          0.3446015873015873,
          0.34505126050420165,
          0.3451816326530612,
          0.3466068181818182,
          0.3472709821428572,
          0.3478754716981132,
          0.3485388888888889,
          0.3486139534883721,
          0.3504035714285714,
          0.35043913043478264,
          0.3520125954198473,
          0.35227127071823205,
          0.35242666666666667,
          0.3552594339622641,
          0.3555115646258503,
          0.35684716981132075,
          0.35742252747252745,
          0.36001249999999996,
          0.3616027777777778,
          0.36164187192118225,
          0.3624474576271186,
          0.3633237762237762,
          0.3634764705882353,
          0.3649201342281879,
          0.3674733333333334,
          0.3683890086206897,
          0.3686113821138211,
          0.37002815533980576,
          0.3709510638297872,
          0.3717125,
          0.3718083333333333,
          0.37201951219512197,
          0.37219651162790696,
          0.3743859375,
          0.37449780219780215,
          0.3774261363636364,
          0.3774911392405063,
          0.38015454545454547,
          0.3802123376623377,
          0.38038139534883725,
          0.3808982206405694,
          0.3814811023622047,
          0.3827145454545454,
          0.3838076923076923,
          0.384219921875,
          0.38497777777777775,
          0.38515185185185186,
          0.38546428571428576,
          0.38562399999999997,
          0.3860617647058823,
          0.38685185185185184,
          0.386890977443609,
          0.3875666666666666,
          0.38869714285714285,
          0.38988235294117646,
          0.39001,
          0.3908,
          0.3920714285714285,
          0.39280365853658533,
          0.39345882352941175,
          0.393661038961039,
          0.39468983050847456,
          0.39472926829268296,
          0.3950666666666667,
          0.39521111111111107,
          0.3955863247863248,
          0.3973993006993007,
          0.39742500000000003,
          0.3976117647058824,
          0.39837206703910616,
          0.39856111111111114,
          0.40049788359788363,
          0.4010813725490196,
          0.4017102564102564,
          0.40230491803278684,
          0.402419298245614,
          0.40265055679287304,
          0.4036461538461538,
          0.40375068493150684,
          0.4037691588785047,
          0.40397777777777777,
          0.404327868852459,
          0.40531666666666666,
          0.40622,
          0.4072176470588235,
          0.4080281690140845,
          0.40977592592592593,
          0.40997428571428574,
          0.4104672131147541,
          0.41047105263157896,
          0.4124608695652174,
          0.4136166666666667,
          0.413937037037037,
          0.414894,
          0.4151076923076923,
          0.4155875,
          0.4164526315789474,
          0.41649411764705885,
          0.41659710982658954,
          0.4179272727272727,
          0.41841654676258994,
          0.41905,
          0.4195666666666667,
          0.41975750000000006,
          0.4204217252396166,
          0.4207294117647059,
          0.4211957163958641,
          0.42127388535031846,
          0.42154230769230766,
          0.4225068181818182,
          0.4252352226720648,
          0.4252375,
          0.4254430107526882,
          0.4259158192090396,
          0.4262639053254438,
          0.42644418604651163,
          0.42709387755102035,
          0.4274588235294118,
          0.42781875,
          0.4282706666666667,
          0.42863145539906106,
          0.4291502994011976,
          0.42967012195121956,
          0.4301594594594595,
          0.43120740740740743,
          0.432265,
          0.43721956521739136,
          0.4376333333333333,
          0.43840545454545454,
          0.440553711790393,
          0.4410928571428571,
          0.44199,
          0.4424100840336134,
          0.4429988950276243,
          0.44466484375,
          0.44608571428571425,
          0.44674285714285716,
          0.4482481781376518,
          0.44867,
          0.4492512195121951,
          0.44935,
          0.45001315789473684,
          0.4512054383116883,
          0.4514294736842105,
          0.45144666666666666,
          0.4518685185185185,
          0.4551578947368421,
          0.4555,
          0.45573851590106,
          0.4564333333333333,
          0.4584381578947368,
          0.45931714285714287,
          0.459725,
          0.4598399209486166,
          0.46032045454545456,
          0.4604862745098039,
          0.4615177777777778,
          0.461896,
          0.4623801470588235,
          0.4626045454545454,
          0.46303,
          0.4631571428571428,
          0.4635532751091703,
          0.46365,
          0.46510666666666667,
          0.46598,
          0.4662,
          0.466405487804878,
          0.4669364485981309,
          0.46744140127388534,
          0.46744591836734695,
          0.46757596899224807,
          0.46792,
          0.4682701298701299,
          0.468653431372549,
          0.46873666666666663,
          0.46878988095238094,
          0.4688649425287356,
          0.46887525773195876,
          0.46933229813664595,
          0.4698891304347826,
          0.4700424460431654,
          0.4715594594594595,
          0.4721708333333333,
          0.4740276785714285,
          0.4744833333333333,
          0.47512298850574713,
          0.4754918918918919,
          0.47609230769230765,
          0.47639830508474573,
          0.476425,
          0.4774833333333333,
          0.4784395061728395,
          0.4784955752212389,
          0.47873106060606063,
          0.4798777777777778,
          0.48093043478260866,
          0.4816058823529412,
          0.48164210526315787,
          0.48166125,
          0.4819631578947368,
          0.48250666666666664,
          0.48270362694300517,
          0.48279457627118644,
          0.483025,
          0.48360000000000003,
          0.4852727272727273,
          0.48597422680412367,
          0.48616,
          0.4864423728813559,
          0.4881625,
          0.4899,
          0.4908142857142857,
          0.4918774803149606,
          0.49327863247863246,
          0.49343333333333333,
          0.4973892561983471,
          0.4977326315789473,
          0.4981071428571429,
          0.49935205479452055,
          0.5000888888888889,
          0.50094375,
          0.5013666666666666,
          0.502856,
          0.503977868852459,
          0.5042908745247149,
          0.504404347826087,
          0.504659493670886,
          0.504916393442623,
          0.5058170798898072,
          0.5058638613861386,
          0.5061923076923077,
          0.5065230769230769,
          0.5065308641975309,
          0.5069590361445783,
          0.5083848920863309,
          0.5084285714285715,
          0.5086117647058823,
          0.5086761904761905,
          0.5086961538461539,
          0.5100428571428571,
          0.5103142857142856,
          0.5104767857142857,
          0.5105733333333333,
          0.5107409090909091,
          0.5109096153846153,
          0.510951923076923,
          0.5110732824427481,
          0.5141410958904109,
          0.5145918604651163,
          0.5153399999999999,
          0.515725,
          0.5159222222222222,
          0.5167857142857143,
          0.5206666666666666,
          0.520790243902439,
          0.521095652173913,
          0.5214102739726028,
          0.5221129032258065,
          0.5255081761006289,
          0.5275366666666667,
          0.5276000000000001,
          0.5283294117647059,
          0.5285425,
          0.528648,
          0.5288347593582887,
          0.5290473404255319,
          0.5291333333333333,
          0.5292548913043479,
          0.5294458715596331,
          0.53175,
          0.5317714285714286,
          0.5333506329113924,
          0.5335666666666666,
          0.5337391304347826,
          0.5346504761904762,
          0.5378954545454545,
          0.5385105263157894,
          0.54135,
          0.54145,
          0.5417777777777778,
          0.5439276470588235,
          0.5444117370892019,
          0.5450148148148148,
          0.5457530120481927,
          0.5466884615384615,
          0.547109009009009,
          0.5471454545454546,
          0.5484304347826088,
          0.5487830508474576,
          0.5497933035714285,
          0.5512,
          0.5518809523809524,
          0.5520734597156398,
          0.5523076923076923,
          0.5523590909090909,
          0.552758695652174,
          0.5530708737864077,
          0.5539115384615385,
          0.5551275,
          0.5559142857142857,
          0.555931506849315,
          0.5566848837209302,
          0.5571017543859649,
          0.5573327586206897,
          0.5583333333333333,
          0.5592857142857143,
          0.5598763636363636,
          0.5606004975124378,
          0.5622409090909091,
          0.5636014925373134,
          0.5645075471698113,
          0.5662327272727273,
          0.56714,
          0.5675321585903084,
          0.5680484375,
          0.5681020833333333,
          0.5686176470588234,
          0.5707545454545454,
          0.5709013100436682,
          0.5722403263403263,
          0.5723409090909091,
          0.57308125,
          0.5734085858585858,
          0.5738760563380281,
          0.573990625,
          0.5752195121951219,
          0.5752368421052632,
          0.5768972972972972,
          0.5772518518518518,
          0.578904,
          0.5803882352941176,
          0.58395,
          0.5848111111111112,
          0.5868599999999999,
          0.5871595238095237,
          0.5929139534883721,
          0.5929384615384615,
          0.593646,
          0.5943636363636364,
          0.5943734375,
          0.5946285714285714,
          0.59478,
          0.5956637469586374,
          0.5961188118811881,
          0.5966561224489796,
          0.5974095238095238,
          0.5977391304347826,
          0.5997466666666667,
          0.60165625,
          0.6019731707317073,
          0.6026030303030303,
          0.6026408163265305,
          0.6030836363636364,
          0.6043851851851852,
          0.6045333333333334,
          0.6050787878787879,
          0.6066875,
          0.6072041666666667,
          0.6073450704225352,
          0.6073725000000001,
          0.6078138888888889,
          0.6094090909090909,
          0.6105784090909091,
          0.6118545454545454,
          0.6133681818181818,
          0.6136073394495413,
          0.6141988372093024,
          0.6153782608695653,
          0.6162,
          0.6176465753424658,
          0.6185771929824561,
          0.6199945736434108,
          0.6209058823529412,
          0.62208,
          0.62306625,
          0.6237071428571428,
          0.6248044444444444,
          0.6280666666666667,
          0.6287428571428572,
          0.6309333333333333,
          0.6311730769230769,
          0.6329360655737705,
          0.6330230769230769,
          0.633791304347826,
          0.6345568493150685,
          0.6358152173913043,
          0.6368412186379928,
          0.6372194444444444,
          0.6376727272727273,
          0.6384163793103449,
          0.638821875,
          0.6389452380952381,
          0.6389483870967743,
          0.6415730275229358,
          0.6438819672131147,
          0.6440942307692308,
          0.6450309523809524,
          0.6543215094339622,
          0.6546333333333333,
          0.6548285714285714,
          0.6549111111111111,
          0.6578403846153846,
          0.660051282051282,
          0.6609951219512195,
          0.6632666666666667,
          0.664219209039548,
          0.6642204545454545,
          0.6666269230769231,
          0.6674084745762712,
          0.670409090909091,
          0.6708176470588235,
          0.6715363636363636,
          0.6745,
          0.6754484848484849,
          0.6764322580645161,
          0.6809747747747747,
          0.6815258823529411,
          0.6821975609756097,
          0.6837975308641975,
          0.6838777777777778,
          0.68584,
          0.68905,
          0.6915666666666667,
          0.6933116279069768,
          0.6938,
          0.7005344827586207,
          0.7010625,
          0.7038685314685315,
          0.7047120535714286,
          0.70555,
          0.7068500000000001,
          0.7099753846153847,
          0.7183541666666667,
          0.7214714285714285,
          0.724088,
          0.724165909090909,
          0.725376404494382,
          0.7264621621621622,
          0.72714,
          0.7295222222222222,
          0.7312454545454545,
          0.73354,
          0.7439018867924528,
          0.75448125,
          0.7648076923076923,
          0.7765636363636363,
          0.7790222222222222,
          0.7815859030837004,
          0.786075,
          0.787484375,
          0.7996800000000001,
          0.80545,
          0.8066796296296296,
          0.8168105263157894,
          0.82725,
          0.8409642857142857,
          0.8459023255813954,
          0.86555,
          0.86836,
          0.8944333333333332,
          0.9098611111111112
         ],
         "xaxis": "x",
         "y": [
          0.48071142198615796,
          0.4951569421622882,
          0.4955401224927738,
          0.502194455389289,
          0.5113190101137896,
          0.5195512688182057,
          0.5210306442528587,
          0.5278399015441269,
          0.5339995845754313,
          0.5356473860909113,
          0.5533269571801199,
          0.5549755871528728,
          0.5598606130877899,
          0.5618809040449907,
          0.5633725646761275,
          0.5639756815706823,
          0.563994339459221,
          0.5690935032709976,
          0.5709094565080781,
          0.5727235806836474,
          0.5738086235847764,
          0.5777278167675157,
          0.5786585194753331,
          0.5787721695383355,
          0.579738155421976,
          0.5871557458795067,
          0.589838048275644,
          0.591031825916769,
          0.5930104823044369,
          0.5958253591952684,
          0.5969521841767016,
          0.5969923478595556,
          0.5973625502039662,
          0.6013186791072638,
          0.6020416076473836,
          0.6033735928563919,
          0.6056033416838047,
          0.6058539815239872,
          0.6064684744638629,
          0.6064858619963172,
          0.6069024692607663,
          0.6086095160939327,
          0.6125022543050582,
          0.6135867550846068,
          0.6149228119824667,
          0.6177508072802911,
          0.6191634045012187,
          0.6193937765332624,
          0.6197851301389085,
          0.6222545450156128,
          0.6224633127574922,
          0.624905004893132,
          0.6258025033121011,
          0.6272658901053696,
          0.6276658194855296,
          0.6280515482353454,
          0.6299895289739317,
          0.6312097023744618,
          0.6328287806382166,
          0.6348224209673591,
          0.6352192705339337,
          0.6361141066671686,
          0.6368641952292097,
          0.6371375432674186,
          0.6379016998871045,
          0.6380342028412113,
          0.6400031696260902,
          0.640738278157276,
          0.6415310012187935,
          0.6422078341074956,
          0.6427073608595687,
          0.6432470933554417,
          0.644704557721184,
          0.6457234070807144,
          0.6462805535626199,
          0.6492401953392528,
          0.6507614784931196,
          0.6511780206541453,
          0.6527564839193928,
          0.6532381825105582,
          0.6536005237528937,
          0.6545489337160537,
          0.6564265099686024,
          0.6564880132771995,
          0.6581136221796764,
          0.6584409632214722,
          0.6592146122632933,
          0.6595988539983163,
          0.6607425787421438,
          0.66211682814062,
          0.662622563648479,
          0.6636038816573995,
          0.6641218895190066,
          0.6642831685945378,
          0.664965591444383,
          0.6649944418412871,
          0.665557394457799,
          0.6658355418741045,
          0.6660578841156293,
          0.6677365857624089,
          0.6696367471374476,
          0.671220363657791,
          0.6720989707707397,
          0.6725685013116683,
          0.6727491135371634,
          0.6746260358846319,
          0.6749047905614922,
          0.6754258901342581,
          0.6756915407029586,
          0.6759081348415537,
          0.6769339613957217,
          0.6781800839790993,
          0.6792310959035897,
          0.6793554340178383,
          0.6794081278753057,
          0.6811308430580861,
          0.6812726634990247,
          0.6813352855119067,
          0.6818635989255766,
          0.6822422486592294,
          0.6826813169573618,
          0.6830748973453512,
          0.6839895924798169,
          0.6843245365464378,
          0.6853185536327511,
          0.6853305774942852,
          0.6854396192348827,
          0.6863542661627124,
          0.6869377256617768,
          0.6870839928355688,
          0.6871189219025673,
          0.6877060845809956,
          0.6904558880359107,
          0.6906962190973986,
          0.6912717637862702,
          0.6914164120674511,
          0.6923665333116462,
          0.6930535647081434,
          0.6940687019184464,
          0.6940795256278229,
          0.6947730447841698,
          0.6952114899457246,
          0.6957015790236392,
          0.6968049634430451,
          0.6970221335455402,
          0.6970491746553,
          0.699087832580855,
          0.6992724870851311,
          0.7006106266961931,
          0.701026797847563,
          0.7011571638243567,
          0.7013129304285203,
          0.7021750330732464,
          0.7022940652259992,
          0.7027128252074457,
          0.7027546796968813,
          0.7038244450358094,
          0.7046587787564441,
          0.7046609961438959,
          0.7051388444410336,
          0.7057434904017894,
          0.7059941847338613,
          0.7063818057109763,
          0.7068989300103984,
          0.7069273975200755,
          0.7070461999464122,
          0.7081246755821589,
          0.7088731349877695,
          0.7090734097880413,
          0.7097228700803379,
          0.7102802477513503,
          0.7107806227779151,
          0.7112044696776978,
          0.711946344416806,
          0.7120320692042716,
          0.7128957953697592,
          0.7132682099422877,
          0.7135053754802737,
          0.7137291509947217,
          0.7151490124728591,
          0.7153955646651585,
          0.71562947754604,
          0.7167391081961949,
          0.7170176717239942,
          0.7175331373752007,
          0.7194644425712717,
          0.7212981320255551,
          0.7213209580891262,
          0.7215747486128272,
          0.7218412450136537,
          0.7220653353169386,
          0.7220908678629931,
          0.72253668816346,
          0.7225896901927961,
          0.7229942306718031,
          0.723031531152432,
          0.7233098245436346,
          0.7235936108642124,
          0.7242277940958715,
          0.7243841204807793,
          0.7245889409658597,
          0.7248420539200643,
          0.7249962031596509,
          0.7254034741894879,
          0.7258187450540156,
          0.7260788693785489,
          0.726185301451743,
          0.7262719248444494,
          0.7265978682920853,
          0.7267494680996383,
          0.7274386777073514,
          0.7276881632914385,
          0.7277604957575892,
          0.7285512105300221,
          0.7289196988739707,
          0.7292550789430761,
          0.7296231529674382,
          0.7296647999576023,
          0.7306577074168584,
          0.7306774360984489,
          0.7315504185856356,
          0.7316939356053984,
          0.7317801516590449,
          0.7333518143670206,
          0.7334917003231002,
          0.7342327145482521,
          0.7345519317960902,
          0.7359888882458616,
          0.7368711987281029,
          0.7368928887579844,
          0.7373398400533013,
          0.7378260350403774,
          0.7379107522138322,
          0.738711718925535,
          0.7401282729170438,
          0.7406363035992638,
          0.7407596798211441,
          0.7415457273190799,
          0.7420577710929657,
          0.742480227549268,
          0.7425333973512546,
          0.7426505626201073,
          0.7427487646179465,
          0.7439634916449047,
          0.7440255558935805,
          0.7456502405657333,
          0.7456863051579948,
          0.7471640037424503,
          0.7471960677450036,
          0.7472898635402956,
          0.7475766061325362,
          0.7478999978444071,
          0.7485843309746486,
          0.7491908256013347,
          0.749419536882727,
          0.7498400069517885,
          0.7499365859157836,
          0.750109929010735,
          0.750198540944083,
          0.7504414195116846,
          0.7508797719684153,
          0.7509014794463248,
          0.7512763621822669,
          0.7519035676973783,
          0.7525611404154364,
          0.7526319609598728,
          0.7530702650666841,
          0.753775673122854,
          0.7541819255290039,
          0.7545454211074782,
          0.7546576133279121,
          0.7552284026447396,
          0.7552502833318055,
          0.7554374771203478,
          0.7555176171117479,
          0.7557257914089351,
          0.7567316582294504,
          0.7567459165953222,
          0.7568495365163294,
          0.757271363902494,
          0.7573762484507575,
          0.7584507995076072,
          0.7587745281197108,
          0.7591234425236189,
          0.7594533699050342,
          0.7595168297999964,
          0.7596451355860708,
          0.760197508088833,
          0.7602555035369338,
          0.7602657531658429,
          0.7603814981282604,
          0.7605757340216663,
          0.7611243342023919,
          0.7616255173793784,
          0.7621790272566322,
          0.7626287172587227,
          0.7635983995779225,
          0.7637084526283836,
          0.7639819363043141,
          0.7639840665270894,
          0.7650880474559706,
          0.7657293014005349,
          0.7659070477917169,
          0.7664379855091004,
          0.7665565452762593,
          0.7668227499370416,
          0.7673027381952501,
          0.7673257553016155,
          0.7673828969411823,
          0.7681208917033309,
          0.7683923484362873,
          0.7687437980001224,
          0.7690304525847457,
          0.7691363298426147,
          0.7695048521848571,
          0.7696755613842965,
          0.7699342743398178,
          0.7699776436736943,
          0.7701265685026231,
          0.7706616937034014,
          0.7721754543276005,
          0.7721767178240391,
          0.7722907383390988,
          0.7725530597165087,
          0.7727461832283364,
          0.7728462057352009,
          0.773206664538475,
          0.7734091421601119,
          0.7736088348818954,
          0.7738595651742199,
          0.7740597362920676,
          0.7743475988957775,
          0.7746360044128505,
          0.7749074963615572,
          0.7754889139429623,
          0.776075682521021,
          0.7788245512327254,
          0.7790541161244785,
          0.7794825008057807,
          0.7806743868474812,
          0.7809735129514727,
          0.7814712615573993,
          0.7817043306170683,
          0.7820310119801197,
          0.782955305862087,
          0.7837436266102522,
          0.7841082195381603,
          0.7849433946952332,
          0.7851774279289168,
          0.7854998974215166,
          0.7855547023499694,
          0.7859226325129155,
          0.78658412796003,
          0.7867084262180647,
          0.7867179651482152,
          0.7869520150205349,
          0.7887770113564061,
          0.7889668165991959,
          0.7890991488763786,
          0.7894846442359348,
          0.7905969516266931,
          0.7910846259543487,
          0.7913109113476481,
          0.7913746712511129,
          0.7916412786548533,
          0.7917332781122781,
          0.7923055719332175,
          0.7925154154183913,
          0.7927840276262177,
          0.7929085272950871,
          0.793144575997029,
          0.793215116802646,
          0.7934348970468283,
          0.7934885614985772,
          0.7942967424887732,
          0.7947812812060076,
          0.7949033405775247,
          0.7950173483607875,
          0.7953119335458995,
          0.7955920890288469,
          0.7955945951815242,
          0.7956667492612552,
          0.7958576229366578,
          0.7960518803543734,
          0.7962645419020407,
          0.7963107221188045,
          0.7963402462200317,
          0.7963818915329179,
          0.7963876145657474,
          0.7966411875864474,
          0.7969501266789517,
          0.7970351885280561,
          0.7978768508197642,
          0.7982160504143414,
          0.7992462566087337,
          0.799499060853583,
          0.7998539513460032,
          0.8000586245981093,
          0.8003917444855986,
          0.800561516528357,
          0.8005763272764417,
          0.8011635068288153,
          0.8016940061735962,
          0.8017251141409107,
          0.8018557650412416,
          0.8024919813016398,
          0.80307601153997,
          0.8034507602032769,
          0.8034708572289839,
          0.8034814790223785,
          0.8036489821491404,
          0.8039505291451211,
          0.8040598057248652,
          0.8041102658059457,
          0.804238108421953,
          0.8045571272338725,
          0.8054851819594566,
          0.80587438465001,
          0.8059774544660707,
          0.8061341192680334,
          0.8070884721545384,
          0.8080524637818605,
          0.8085597235076456,
          0.8091496001656396,
          0.8099269808588103,
          0.8100128112638009,
          0.8122076178941349,
          0.8123981278175462,
          0.8126059124141034,
          0.8132966086353324,
          0.8137054154829275,
          0.8141797055281847,
          0.814414346176082,
          0.8152406511335641,
          0.8158630811656354,
          0.8160367415094392,
          0.8160996982360276,
          0.8162412570608519,
          0.8163837889912204,
          0.8168835036352078,
          0.8169094587263026,
          0.8170916857704302,
          0.817275201608725,
          0.8172795221079328,
          0.8175170784659229,
          0.81830816519376,
          0.8183323991622243,
          0.8184340375999276,
          0.8184697820046245,
          0.8184808579882203,
          0.8192280296155636,
          0.819378622346656,
          0.8194687798369812,
          0.8195223459356286,
          0.819615319534043,
          0.8197089203712282,
          0.8197323933272893,
          0.8197997253632907,
          0.8215017952785327,
          0.8217518863725813,
          0.8221669656518311,
          0.8223805695519859,
          0.8224899914633206,
          0.8229690700932288,
          0.825122281950077,
          0.8251908444943143,
          0.8253602896837335,
          0.82553484667925,
          0.8259246761567751,
          0.8278084255805465,
          0.8289338632333592,
          0.8289690015372808,
          0.8293736903626314,
          0.8294919149811664,
          0.8295504479979621,
          0.8296540649520422,
          0.8297720081859701,
          0.8298197183690663,
          0.8298871605942705,
          0.8299931193666898,
          0.8312714851363523,
          0.8312833740361754,
          0.8321595408054161,
          0.8322793996435763,
          0.8323750851851477,
          0.8328807137768508,
          0.8346810774977373,
          0.8350223287419418,
          0.8365977122570959,
          0.8366531937896037,
          0.8368350499239346,
          0.838027830347972,
          0.8382964109155432,
          0.8386310076799262,
          0.8390405708179339,
          0.839559572530971,
          0.8397928987125534,
          0.839813119254704,
          0.8405260459826988,
          0.8407216827793453,
          0.8412821864728057,
          0.842062643209109,
          0.8424404460257093,
          0.8425472520451838,
          0.8426772078768869,
          0.8427057246086305,
          0.8429274314440667,
          0.8431006326570936,
          0.8435670463021074,
          0.8442416803983506,
          0.8446782011701883,
          0.8446877557198178,
          0.8451057407537489,
          0.8453370269872853,
          0.8454651916768685,
          0.8460203258613281,
          0.846548721409021,
          0.8468764227205083,
          0.8472781832923619,
          0.8481883087755324,
          0.8489431813226442,
          0.8494458743181115,
          0.8504030306777279,
          0.8509063994908437,
          0.8511239750866075,
          0.8514104145377187,
          0.8514401780681786,
          0.8517262207241345,
          0.8529118047022146,
          0.8529932319454385,
          0.853736138707353,
          0.8537919435588147,
          0.8542026960409601,
          0.8543843069917509,
          0.8546436667777668,
          0.8547072312272024,
          0.8553890366758475,
          0.855398651575576,
          0.8563198975627211,
          0.856516609863164,
          0.857433246975055,
          0.8582567234622522,
          0.8602328451053958,
          0.8607106027464347,
          0.8618473577013712,
          0.8620135381011206,
          0.8652061838740261,
          0.8652197813158036,
          0.8656123344973469,
          0.8660104901497252,
          0.866015927970383,
          0.8661574801839016,
          0.8662414950759847,
          0.8667318114321274,
          0.8669842884250636,
          0.8672823965624005,
          0.8677003951831646,
          0.8678832659901052,
          0.8689970778572027,
          0.8700565439550486,
          0.8702323764338347,
          0.8705818321766513,
          0.870602796441563,
          0.8708484797844007,
          0.8715705990169325,
          0.8716527938799069,
          0.8719554204208582,
          0.8728479585593446,
          0.8731346131439679,
          0.8732127887070847,
          0.8732280070570226,
          0.8734728963768972,
          0.8743579389042997,
          0.8750066945514642,
          0.8757147145628983,
          0.8765545032140382,
          0.8766871915330257,
          0.8770153635548901,
          0.8776697258763629,
          0.8781256393391439,
          0.8789282215080232,
          0.8794445424364772,
          0.8802309269486432,
          0.8807365349865672,
          0.8813879534505994,
          0.8819351400649571,
          0.8822907172438326,
          0.8828995169806992,
          0.8847094478633966,
          0.8850846087022584,
          0.8862999184619519,
          0.8864329318796307,
          0.8874110650009731,
          0.887459340231024,
          0.8878855645794197,
          0.8883103006592816,
          0.8890084625525656,
          0.8895777037677769,
          0.889787549241536,
          0.8900390375012618,
          0.8904516270482572,
          0.8906766022711307,
          0.8907450460069177,
          0.8907467931212287,
          0.892202983852481,
          0.8934840189772719,
          0.8936017860511605,
          0.8941214935566748,
          0.8992760369881911,
          0.8994490416662877,
          0.8995573627535647,
          0.8996031570343648,
          0.901228362865879,
          0.9024550026454894,
          0.9029786594863943,
          0.9042389473061232,
          0.9047674324123833,
          0.9047681234381477,
          0.9061032690587232,
          0.9065368858078988,
          0.9082016737340249,
          0.9084283469470512,
          0.9088271019186577,
          0.91047137279116,
          0.9109976067207031,
          0.911543419177358,
          0.91406367706263,
          0.914369439992763,
          0.9147420975861464,
          0.9156297853999975,
          0.915674307617442,
          0.9167629785775384,
          0.918543935771037,
          0.9199402210058153,
          0.9209083522436055,
          0.921179308565155,
          0.9249157028061077,
          0.9252086548635301,
          0.9267654841249209,
          0.9272334831146498,
          0.9276983886348151,
          0.9284196485574159,
          0.9301536598387926,
          0.9348023365263278,
          0.9365318412033699,
          0.9379835551311011,
          0.9380267802887003,
          0.9386983816894829,
          0.9393007766828878,
          0.9396768515032377,
          0.9409985448998666,
          0.9419546206014646,
          0.9432276695837334,
          0.9489766031729039,
          0.9548461960100116,
          0.9605754644558477,
          0.9670978423788388,
          0.9684619034912009,
          0.9698842729217567,
          0.9723748926866778,
          0.9731568355354588,
          0.9799231551843567,
          0.9831244396100536,
          0.9838066569727415,
          0.9894274337109994,
          0.9952194136967423,
          1.0028283095835189,
          1.005568009777635,
          1.016468840647209,
          1.0180278717106768,
          1.032493756619863,
          1.041053324162864
         ],
         "yaxis": "y"
        }
       ],
       "layout": {
        "legend": {
         "tracegroupgap": 0
        },
        "template": {
         "data": {
          "bar": [
           {
            "error_x": {
             "color": "#2a3f5f"
            },
            "error_y": {
             "color": "#2a3f5f"
            },
            "marker": {
             "line": {
              "color": "#E5ECF6",
              "width": 0.5
             },
             "pattern": {
              "fillmode": "overlay",
              "size": 10,
              "solidity": 0.2
             }
            },
            "type": "bar"
           }
          ],
          "barpolar": [
           {
            "marker": {
             "line": {
              "color": "#E5ECF6",
              "width": 0.5
             },
             "pattern": {
              "fillmode": "overlay",
              "size": 10,
              "solidity": 0.2
             }
            },
            "type": "barpolar"
           }
          ],
          "carpet": [
           {
            "aaxis": {
             "endlinecolor": "#2a3f5f",
             "gridcolor": "white",
             "linecolor": "white",
             "minorgridcolor": "white",
             "startlinecolor": "#2a3f5f"
            },
            "baxis": {
             "endlinecolor": "#2a3f5f",
             "gridcolor": "white",
             "linecolor": "white",
             "minorgridcolor": "white",
             "startlinecolor": "#2a3f5f"
            },
            "type": "carpet"
           }
          ],
          "choropleth": [
           {
            "colorbar": {
             "outlinewidth": 0,
             "ticks": ""
            },
            "type": "choropleth"
           }
          ],
          "contour": [
           {
            "colorbar": {
             "outlinewidth": 0,
             "ticks": ""
            },
            "colorscale": [
             [
              0,
              "#0d0887"
             ],
             [
              0.1111111111111111,
              "#46039f"
             ],
             [
              0.2222222222222222,
              "#7201a8"
             ],
             [
              0.3333333333333333,
              "#9c179e"
             ],
             [
              0.4444444444444444,
              "#bd3786"
             ],
             [
              0.5555555555555556,
              "#d8576b"
             ],
             [
              0.6666666666666666,
              "#ed7953"
             ],
             [
              0.7777777777777778,
              "#fb9f3a"
             ],
             [
              0.8888888888888888,
              "#fdca26"
             ],
             [
              1,
              "#f0f921"
             ]
            ],
            "type": "contour"
           }
          ],
          "contourcarpet": [
           {
            "colorbar": {
             "outlinewidth": 0,
             "ticks": ""
            },
            "type": "contourcarpet"
           }
          ],
          "heatmap": [
           {
            "colorbar": {
             "outlinewidth": 0,
             "ticks": ""
            },
            "colorscale": [
             [
              0,
              "#0d0887"
             ],
             [
              0.1111111111111111,
              "#46039f"
             ],
             [
              0.2222222222222222,
              "#7201a8"
             ],
             [
              0.3333333333333333,
              "#9c179e"
             ],
             [
              0.4444444444444444,
              "#bd3786"
             ],
             [
              0.5555555555555556,
              "#d8576b"
             ],
             [
              0.6666666666666666,
              "#ed7953"
             ],
             [
              0.7777777777777778,
              "#fb9f3a"
             ],
             [
              0.8888888888888888,
              "#fdca26"
             ],
             [
              1,
              "#f0f921"
             ]
            ],
            "type": "heatmap"
           }
          ],
          "heatmapgl": [
           {
            "colorbar": {
             "outlinewidth": 0,
             "ticks": ""
            },
            "colorscale": [
             [
              0,
              "#0d0887"
             ],
             [
              0.1111111111111111,
              "#46039f"
             ],
             [
              0.2222222222222222,
              "#7201a8"
             ],
             [
              0.3333333333333333,
              "#9c179e"
             ],
             [
              0.4444444444444444,
              "#bd3786"
             ],
             [
              0.5555555555555556,
              "#d8576b"
             ],
             [
              0.6666666666666666,
              "#ed7953"
             ],
             [
              0.7777777777777778,
              "#fb9f3a"
             ],
             [
              0.8888888888888888,
              "#fdca26"
             ],
             [
              1,
              "#f0f921"
             ]
            ],
            "type": "heatmapgl"
           }
          ],
          "histogram": [
           {
            "marker": {
             "pattern": {
              "fillmode": "overlay",
              "size": 10,
              "solidity": 0.2
             }
            },
            "type": "histogram"
           }
          ],
          "histogram2d": [
           {
            "colorbar": {
             "outlinewidth": 0,
             "ticks": ""
            },
            "colorscale": [
             [
              0,
              "#0d0887"
             ],
             [
              0.1111111111111111,
              "#46039f"
             ],
             [
              0.2222222222222222,
              "#7201a8"
             ],
             [
              0.3333333333333333,
              "#9c179e"
             ],
             [
              0.4444444444444444,
              "#bd3786"
             ],
             [
              0.5555555555555556,
              "#d8576b"
             ],
             [
              0.6666666666666666,
              "#ed7953"
             ],
             [
              0.7777777777777778,
              "#fb9f3a"
             ],
             [
              0.8888888888888888,
              "#fdca26"
             ],
             [
              1,
              "#f0f921"
             ]
            ],
            "type": "histogram2d"
           }
          ],
          "histogram2dcontour": [
           {
            "colorbar": {
             "outlinewidth": 0,
             "ticks": ""
            },
            "colorscale": [
             [
              0,
              "#0d0887"
             ],
             [
              0.1111111111111111,
              "#46039f"
             ],
             [
              0.2222222222222222,
              "#7201a8"
             ],
             [
              0.3333333333333333,
              "#9c179e"
             ],
             [
              0.4444444444444444,
              "#bd3786"
             ],
             [
              0.5555555555555556,
              "#d8576b"
             ],
             [
              0.6666666666666666,
              "#ed7953"
             ],
             [
              0.7777777777777778,
              "#fb9f3a"
             ],
             [
              0.8888888888888888,
              "#fdca26"
             ],
             [
              1,
              "#f0f921"
             ]
            ],
            "type": "histogram2dcontour"
           }
          ],
          "mesh3d": [
           {
            "colorbar": {
             "outlinewidth": 0,
             "ticks": ""
            },
            "type": "mesh3d"
           }
          ],
          "parcoords": [
           {
            "line": {
             "colorbar": {
              "outlinewidth": 0,
              "ticks": ""
             }
            },
            "type": "parcoords"
           }
          ],
          "pie": [
           {
            "automargin": true,
            "type": "pie"
           }
          ],
          "scatter": [
           {
            "fillpattern": {
             "fillmode": "overlay",
             "size": 10,
             "solidity": 0.2
            },
            "type": "scatter"
           }
          ],
          "scatter3d": [
           {
            "line": {
             "colorbar": {
              "outlinewidth": 0,
              "ticks": ""
             }
            },
            "marker": {
             "colorbar": {
              "outlinewidth": 0,
              "ticks": ""
             }
            },
            "type": "scatter3d"
           }
          ],
          "scattercarpet": [
           {
            "marker": {
             "colorbar": {
              "outlinewidth": 0,
              "ticks": ""
             }
            },
            "type": "scattercarpet"
           }
          ],
          "scattergeo": [
           {
            "marker": {
             "colorbar": {
              "outlinewidth": 0,
              "ticks": ""
             }
            },
            "type": "scattergeo"
           }
          ],
          "scattergl": [
           {
            "marker": {
             "colorbar": {
              "outlinewidth": 0,
              "ticks": ""
             }
            },
            "type": "scattergl"
           }
          ],
          "scattermapbox": [
           {
            "marker": {
             "colorbar": {
              "outlinewidth": 0,
              "ticks": ""
             }
            },
            "type": "scattermapbox"
           }
          ],
          "scatterpolar": [
           {
            "marker": {
             "colorbar": {
              "outlinewidth": 0,
              "ticks": ""
             }
            },
            "type": "scatterpolar"
           }
          ],
          "scatterpolargl": [
           {
            "marker": {
             "colorbar": {
              "outlinewidth": 0,
              "ticks": ""
             }
            },
            "type": "scatterpolargl"
           }
          ],
          "scatterternary": [
           {
            "marker": {
             "colorbar": {
              "outlinewidth": 0,
              "ticks": ""
             }
            },
            "type": "scatterternary"
           }
          ],
          "surface": [
           {
            "colorbar": {
             "outlinewidth": 0,
             "ticks": ""
            },
            "colorscale": [
             [
              0,
              "#0d0887"
             ],
             [
              0.1111111111111111,
              "#46039f"
             ],
             [
              0.2222222222222222,
              "#7201a8"
             ],
             [
              0.3333333333333333,
              "#9c179e"
             ],
             [
              0.4444444444444444,
              "#bd3786"
             ],
             [
              0.5555555555555556,
              "#d8576b"
             ],
             [
              0.6666666666666666,
              "#ed7953"
             ],
             [
              0.7777777777777778,
              "#fb9f3a"
             ],
             [
              0.8888888888888888,
              "#fdca26"
             ],
             [
              1,
              "#f0f921"
             ]
            ],
            "type": "surface"
           }
          ],
          "table": [
           {
            "cells": {
             "fill": {
              "color": "#EBF0F8"
             },
             "line": {
              "color": "white"
             }
            },
            "header": {
             "fill": {
              "color": "#C8D4E3"
             },
             "line": {
              "color": "white"
             }
            },
            "type": "table"
           }
          ]
         },
         "layout": {
          "annotationdefaults": {
           "arrowcolor": "#2a3f5f",
           "arrowhead": 0,
           "arrowwidth": 1
          },
          "autotypenumbers": "strict",
          "coloraxis": {
           "colorbar": {
            "outlinewidth": 0,
            "ticks": ""
           }
          },
          "colorscale": {
           "diverging": [
            [
             0,
             "#8e0152"
            ],
            [
             0.1,
             "#c51b7d"
            ],
            [
             0.2,
             "#de77ae"
            ],
            [
             0.3,
             "#f1b6da"
            ],
            [
             0.4,
             "#fde0ef"
            ],
            [
             0.5,
             "#f7f7f7"
            ],
            [
             0.6,
             "#e6f5d0"
            ],
            [
             0.7,
             "#b8e186"
            ],
            [
             0.8,
             "#7fbc41"
            ],
            [
             0.9,
             "#4d9221"
            ],
            [
             1,
             "#276419"
            ]
           ],
           "sequential": [
            [
             0,
             "#0d0887"
            ],
            [
             0.1111111111111111,
             "#46039f"
            ],
            [
             0.2222222222222222,
             "#7201a8"
            ],
            [
             0.3333333333333333,
             "#9c179e"
            ],
            [
             0.4444444444444444,
             "#bd3786"
            ],
            [
             0.5555555555555556,
             "#d8576b"
            ],
            [
             0.6666666666666666,
             "#ed7953"
            ],
            [
             0.7777777777777778,
             "#fb9f3a"
            ],
            [
             0.8888888888888888,
             "#fdca26"
            ],
            [
             1,
             "#f0f921"
            ]
           ],
           "sequentialminus": [
            [
             0,
             "#0d0887"
            ],
            [
             0.1111111111111111,
             "#46039f"
            ],
            [
             0.2222222222222222,
             "#7201a8"
            ],
            [
             0.3333333333333333,
             "#9c179e"
            ],
            [
             0.4444444444444444,
             "#bd3786"
            ],
            [
             0.5555555555555556,
             "#d8576b"
            ],
            [
             0.6666666666666666,
             "#ed7953"
            ],
            [
             0.7777777777777778,
             "#fb9f3a"
            ],
            [
             0.8888888888888888,
             "#fdca26"
            ],
            [
             1,
             "#f0f921"
            ]
           ]
          },
          "colorway": [
           "#636efa",
           "#EF553B",
           "#00cc96",
           "#ab63fa",
           "#FFA15A",
           "#19d3f3",
           "#FF6692",
           "#B6E880",
           "#FF97FF",
           "#FECB52"
          ],
          "font": {
           "color": "#2a3f5f"
          },
          "geo": {
           "bgcolor": "white",
           "lakecolor": "white",
           "landcolor": "#E5ECF6",
           "showlakes": true,
           "showland": true,
           "subunitcolor": "white"
          },
          "hoverlabel": {
           "align": "left"
          },
          "hovermode": "closest",
          "mapbox": {
           "style": "light"
          },
          "paper_bgcolor": "white",
          "plot_bgcolor": "#E5ECF6",
          "polar": {
           "angularaxis": {
            "gridcolor": "white",
            "linecolor": "white",
            "ticks": ""
           },
           "bgcolor": "#E5ECF6",
           "radialaxis": {
            "gridcolor": "white",
            "linecolor": "white",
            "ticks": ""
           }
          },
          "scene": {
           "xaxis": {
            "backgroundcolor": "#E5ECF6",
            "gridcolor": "white",
            "gridwidth": 2,
            "linecolor": "white",
            "showbackground": true,
            "ticks": "",
            "zerolinecolor": "white"
           },
           "yaxis": {
            "backgroundcolor": "#E5ECF6",
            "gridcolor": "white",
            "gridwidth": 2,
            "linecolor": "white",
            "showbackground": true,
            "ticks": "",
            "zerolinecolor": "white"
           },
           "zaxis": {
            "backgroundcolor": "#E5ECF6",
            "gridcolor": "white",
            "gridwidth": 2,
            "linecolor": "white",
            "showbackground": true,
            "ticks": "",
            "zerolinecolor": "white"
           }
          },
          "shapedefaults": {
           "line": {
            "color": "#2a3f5f"
           }
          },
          "ternary": {
           "aaxis": {
            "gridcolor": "white",
            "linecolor": "white",
            "ticks": ""
           },
           "baxis": {
            "gridcolor": "white",
            "linecolor": "white",
            "ticks": ""
           },
           "bgcolor": "#E5ECF6",
           "caxis": {
            "gridcolor": "white",
            "linecolor": "white",
            "ticks": ""
           }
          },
          "title": {
           "x": 0.05
          },
          "xaxis": {
           "automargin": true,
           "gridcolor": "white",
           "linecolor": "white",
           "ticks": "",
           "title": {
            "standoff": 15
           },
           "zerolinecolor": "white",
           "zerolinewidth": 2
          },
          "yaxis": {
           "automargin": true,
           "gridcolor": "white",
           "linecolor": "white",
           "ticks": "",
           "title": {
            "standoff": 15
           },
           "zerolinecolor": "white",
           "zerolinewidth": 2
          }
         }
        },
        "title": {
         "text": "Sentiment vs. Positive Vote Ratio"
        },
        "xaxis": {
         "anchor": "y",
         "domain": [
          0,
          1
         ],
         "title": {
          "text": "Average Sentiment Polarity (-1: Negative, +1: Positive)"
         }
        },
        "yaxis": {
         "anchor": "x",
         "domain": [
          0,
          1
         ],
         "title": {
          "text": "Positive Vote Ratio (0: All Negative, 1: All Positive)"
         }
        }
       }
      }
     },
     "metadata": {},
     "output_type": "display_data"
    },
    {
     "data": {
      "application/vnd.plotly.v1+json": {
       "config": {
        "plotlyServerURL": "https://plot.ly"
       },
       "data": [
        {
         "customdata": [
          [
           "Acalamari"
          ],
          [
           "Stifle"
          ],
          [
           "Siva1979"
          ],
          [
           "Bearian"
          ],
          [
           "Juliancolton"
          ],
          [
           "Malinaccier"
          ],
          [
           "SoWhy"
          ],
          [
           "Bibliomaniac15"
          ],
          [
           "Daniel"
          ],
          [
           "Newyorkbrad"
          ],
          [
           "PhilKnight"
          ],
          [
           "Lankiveil"
          ],
          [
           "GlassCobra"
          ],
          [
           "MONGO"
          ],
          [
           "Fastily"
          ],
          [
           "Xoloz"
          ],
          [
           "Sjakkalle"
          ],
          [
           "Majorly"
          ],
          [
           "Merovingian"
          ],
          [
           "Ceranthor"
          ],
          [
           "Rogerd"
          ],
          [
           "Kudpung"
          ],
          [
           "Jayjg"
          ],
          [
           "Airplaneman"
          ],
          [
           "HJ Mitchell"
          ],
          [
           "NuclearWarfare"
          ],
          [
           "OlEnglish"
          ],
          [
           "Kusma"
          ],
          [
           "Axl"
          ],
          [
           "EdJohnston"
          ],
          [
           "Husond"
          ],
          [
           "Stephen"
          ],
          [
           "Sceptre"
          ],
          [
           "Phantomsteve"
          ],
          [
           "Soap"
          ],
          [
           "RegentsPark"
          ],
          [
           "Wisdom89"
          ],
          [
           "JoshuaZ"
          ],
          [
           "Useight"
          ],
          [
           "Mazca"
          ],
          [
           "Ktr101"
          ],
          [
           "Swarm"
          ],
          [
           "DarkFalls"
          ],
          [
           "Ultraexactzz"
          ],
          [
           "Antandrus"
          ],
          [
           "SarekOfVulcan"
          ],
          [
           "Avraham"
          ],
          [
           "Fetchcomms"
          ],
          [
           "Tiptoety"
          ],
          [
           "Steven Walling"
          ],
          [
           "Prodego"
          ],
          [
           "Jusdafax"
          ],
          [
           "MBisanz"
          ],
          [
           "Nick"
          ],
          [
           "Black Kite"
          ],
          [
           "Riana"
          ],
          [
           "WJBscribe"
          ],
          [
           "X!"
          ],
          [
           "Spencer"
          ],
          [
           "FayssalF"
          ],
          [
           "Dank"
          ],
          [
           "Tryptofish"
          ],
          [
           "Andrevan"
          ],
          [
           "Xaosflux"
          ],
          [
           "Toddst1"
          ],
          [
           "MuZemike"
          ],
          [
           "Richardcavell"
          ],
          [
           "Legoktm"
          ],
          [
           "Alison"
          ],
          [
           "Euryalus"
          ],
          [
           "Bishonen"
          ],
          [
           "Swatjester"
          ],
          [
           "Davewild"
          ],
          [
           "ArcAngel"
          ],
          [
           "Malcolmxl5"
          ],
          [
           "BusterD"
          ],
          [
           "Connormah"
          ],
          [
           "Addshore"
          ],
          [
           "Eagles247"
          ],
          [
           "Ks0stm"
          ],
          [
           "Shadowjams"
          ],
          [
           "SQL"
          ],
          [
           "Khoikhoi"
          ],
          [
           "PeterSymonds"
          ],
          [
           "GorillaWarfare"
          ],
          [
           "Hammersoft"
          ],
          [
           "Risker"
          ],
          [
           "Dweller"
          ],
          [
           "Modernist"
          ],
          [
           "Trusilver"
          ],
          [
           "Agathoclea"
          ],
          [
           "Keilana"
          ],
          [
           "Coffee"
          ],
          [
           "Tawker"
          ],
          [
           "B"
          ],
          [
           "SpacemanSpiff"
          ],
          [
           "Seraphimblade"
          ],
          [
           "RyanGerbil10"
          ],
          [
           "Rschen7754"
          ],
          [
           "Mifter"
          ],
          [
           "Titoxd"
          ],
          [
           "Keegan"
          ],
          [
           "Lar"
          ],
          [
           "Angusmclellan"
          ],
          [
           "Guerillero"
          ],
          [
           "Ironholds"
          ],
          [
           "Nihiltres"
          ],
          [
           "Monty845"
          ],
          [
           "Slgrandson"
          ],
          [
           "Gurch"
          ],
          [
           "Jonathunder"
          ],
          [
           "Heimstern"
          ],
          [
           "Spartaz"
          ],
          [
           "Radiant!"
          ],
          [
           "DragonflySixtyseven"
          ],
          [
           "Jauerback"
          ],
          [
           "NativeForeigner"
          ],
          [
           "Tnxman307"
          ],
          [
           "JIP"
          ],
          [
           "Hersfold"
          ],
          [
           "Lectonar"
          ],
          [
           "Fabrictramp"
          ],
          [
           "MSGJ"
          ],
          [
           "Kingturtle"
          ],
          [
           "Jayron32"
          ],
          [
           "Stwalkerster"
          ],
          [
           "Xymmax"
          ],
          [
           "Elkman"
          ],
          [
           "Abecedare"
          ],
          [
           "Cbrown1023"
          ],
          [
           "hmwith"
          ],
          [
           "Smartse"
          ],
          [
           "Logan"
          ],
          [
           "SilkTork"
          ],
          [
           "Tariqabjotu"
          ],
          [
           "Splash"
          ],
          [
           "Frank"
          ],
          [
           "Geni"
          ],
          [
           "Thingg"
          ],
          [
           "Philippe"
          ],
          [
           "KrakatoaKatie"
          ],
          [
           "KTC"
          ],
          [
           "Shirik"
          ],
          [
           "Themfromspace"
          ],
          [
           "TimVickers"
          ],
          [
           "Chaser"
          ],
          [
           "Guettarda"
          ],
          [
           "28bytes"
          ],
          [
           "Jclemens"
          ],
          [
           "Keeper76"
          ],
          [
           "Floquenbeam"
          ],
          [
           "EVula"
          ],
          [
           "Starblind"
          ],
          [
           "Giants27"
          ],
          [
           "Kimchi.sg"
          ],
          [
           "Valley2city"
          ],
          [
           "Garion96"
          ],
          [
           "James086"
          ],
          [
           "Thehelpfulone"
          ],
          [
           "Kralizec!"
          ],
          [
           "Jahiegel"
          ],
          [
           "Royalbroil"
          ],
          [
           "7"
          ],
          [
           "Bobrayner"
          ],
          [
           "Mackensen"
          ],
          [
           "Rjd0060"
          ],
          [
           "Jehochman"
          ],
          [
           "Gnangarra"
          ],
          [
           "Djsasso"
          ],
          [
           "Hiding"
          ],
          [
           "Feezo"
          ],
          [
           "Thryduulf"
          ],
          [
           "Filelakeshoe"
          ],
          [
           "Sir Nicholas de Mimsy-Porpington"
          ],
          [
           "CharlotteWebb"
          ],
          [
           "KillerChihuahua"
          ],
          [
           "VegaDark"
          ],
          [
           "Orangemike"
          ],
          [
           "Calmer Waters"
          ],
          [
           "Deskana"
          ],
          [
           "Rje"
          ],
          [
           "Syrthiss"
          ],
          [
           "Fuzheado"
          ],
          [
           "TigerShark"
          ],
          [
           "Ajraddatz"
          ],
          [
           "Jenks24"
          ],
          [
           "Wifione"
          ],
          [
           "LadyofShalott"
          ],
          [
           "zzuuzz"
          ],
          [
           "Firsfron"
          ],
          [
           "TomStar81"
          ],
          [
           "thumperward"
          ],
          [
           "Snowolf"
          ],
          [
           "Tavix"
          ],
          [
           "Ruslik0"
          ],
          [
           "Chase me ladies, I'm the Cavalry"
          ],
          [
           "Slp1"
          ],
          [
           "Cindamuse"
          ],
          [
           "Dekimasu"
          ],
          [
           "Bencherlite"
          ],
          [
           "Kww"
          ],
          [
           "Dylan620"
          ],
          [
           "Atama"
          ],
          [
           "Jossi"
          ],
          [
           "Athaenara"
          ],
          [
           "AuburnPilot"
          ],
          [
           "TeaDrinker"
          ],
          [
           "Delirium"
          ],
          [
           "Secretlondon"
          ],
          [
           "Nick-D"
          ],
          [
           "Neutralhomer"
          ],
          [
           "Feydey"
          ],
          [
           "Download"
          ],
          [
           "Tone"
          ],
          [
           "Bilby"
          ],
          [
           "Carrite"
          ],
          [
           "Deckiller"
          ],
          [
           "Closedmouth"
          ],
          [
           "Herostratus"
          ],
          [
           "Someguy1221"
          ],
          [
           "Dreadstar"
          ],
          [
           "Yanksox"
          ],
          [
           "Hawkeye7"
          ],
          [
           "Haukurth"
          ],
          [
           "Brewcrewer"
          ],
          [
           "Admrboltz"
          ],
          [
           "Ixfd64"
          ],
          [
           "Nakon"
          ],
          [
           "Journalist"
          ],
          [
           "Jusjih"
          ],
          [
           "delldot"
          ],
          [
           "CactusWriter"
          ],
          [
           "Coren"
          ],
          [
           "Jac16888"
          ],
          [
           "RP459"
          ],
          [
           "Scientizzle"
          ],
          [
           "Ioeth"
          ],
          [
           "MastCell"
          ],
          [
           "Gamaliel"
          ],
          [
           "AniMate"
          ],
          [
           "Protonk"
          ],
          [
           "AlexiusHoratius"
          ],
          [
           "Sjones23"
          ],
          [
           "Samir"
          ],
          [
           "JayHenry"
          ],
          [
           "Sharkface217"
          ],
          [
           "Tyrenius"
          ],
          [
           "TreasuryTag"
          ],
          [
           "BorgQueen"
          ],
          [
           "Redvers"
          ],
          [
           "Zagalejo"
          ],
          [
           "Rodhullandemu"
          ],
          [
           "OwenX"
          ],
          [
           "Cryptic"
          ],
          [
           "ESkog"
          ],
          [
           "Woody"
          ],
          [
           "Jafeluv"
          ],
          [
           "DaGizza"
          ],
          [
           "Killiondude"
          ],
          [
           "ElKevbo"
          ],
          [
           "Huldra"
          ],
          [
           "Tiggerjay"
          ],
          [
           "DerHexer"
          ],
          [
           "Arjun01"
          ],
          [
           "Erik"
          ],
          [
           "John254"
          ],
          [
           "Sj"
          ],
          [
           "Hoary"
          ],
          [
           "Ghmyrtle"
          ],
          [
           "Kevin"
          ],
          [
           "Hiberniantears"
          ],
          [
           "SchmuckyTheCat"
          ],
          [
           "Amalthea"
          ],
          [
           "Majoreditor"
          ],
          [
           "Richwales"
          ],
          [
           "Durova"
          ],
          [
           "Blurpeace"
          ],
          [
           "Tikiwont"
          ],
          [
           "Anthony Bradbury"
          ],
          [
           "Johnuniq"
          ],
          [
           "Maunus"
          ],
          [
           "MacGyverMagic"
          ],
          [
           "Cunard"
          ],
          [
           "Nancy"
          ],
          [
           "Moreschi"
          ],
          [
           "Michig"
          ],
          [
           "Gimmetrow"
          ],
          [
           "MBK004"
          ],
          [
           "Balloonman"
          ],
          [
           "MilborneOne"
          ],
          [
           "Faithlessthewonderboy"
          ],
          [
           "ReyBrujo"
          ],
          [
           "Johnleemk"
          ],
          [
           "Robofish"
          ],
          [
           "Mangojuice"
          ],
          [
           "Kbdank71"
          ],
          [
           "Ruhrfisch"
          ],
          [
           "Dwaipayanc"
          ],
          [
           "Nightstallion"
          ],
          [
           "RHaworth"
          ],
          [
           "Miranda"
          ],
          [
           "Brookie"
          ],
          [
           "Strikerforce"
          ],
          [
           "Samsara"
          ],
          [
           "BuickCenturyDriver"
          ],
          [
           "Orderinchaos"
          ],
          [
           "Anetode"
          ],
          [
           "Aqwis"
          ],
          [
           "Tinucherian"
          ],
          [
           "JPG-GR"
          ],
          [
           "Scott5114"
          ],
          [
           "DESiegel"
          ],
          [
           "Sarah"
          ],
          [
           "Begoon"
          ],
          [
           "Scorpion0422"
          ],
          [
           "FT2"
          ],
          [
           "Mitchazenia"
          ],
          [
           "Pichpich"
          ],
          [
           "FeydHuxtable"
          ],
          [
           "Cyde"
          ],
          [
           "KnightLago"
          ],
          [
           "Aldux"
          ],
          [
           "Viridae"
          ],
          [
           "Ww2censor"
          ],
          [
           "Hobit"
          ],
          [
           "Skomorokh"
          ],
          [
           "Fuhghettaboutit"
          ],
          [
           "Edison"
          ],
          [
           "NoSeptember"
          ],
          [
           "Coemgenus"
          ],
          [
           "Berig"
          ],
          [
           "Jfdwolff"
          ],
          [
           "Ericorbit"
          ],
          [
           "Scarian"
          ],
          [
           "Bsadowski1"
          ],
          [
           "Eluchil404"
          ],
          [
           "Vejvančický"
          ],
          [
           "Raul654"
          ],
          [
           "Alkivar"
          ],
          [
           "Jc37"
          ],
          [
           "Aervanath"
          ],
          [
           "Trödel"
          ],
          [
           "Kablammo"
          ],
          [
           "Plutonium27"
          ],
          [
           "Bastique"
          ],
          [
           "Ghirlandajo"
          ],
          [
           "KnowledgeOfSelf"
          ],
          [
           "Buster7"
          ],
          [
           "Jmabel"
          ],
          [
           "Elockid"
          ],
          [
           "America69"
          ],
          [
           "LAAFan"
          ],
          [
           "Bduke"
          ],
          [
           "Denelson83"
          ],
          [
           "Warofdreams"
          ],
          [
           "WilyD"
          ],
          [
           "Hu12"
          ],
          [
           "Ucucha"
          ],
          [
           "SmokeyJoe"
          ],
          [
           "Zscout370"
          ],
          [
           "Jdforrester"
          ],
          [
           "Jni"
          ],
          [
           "Roux"
          ],
          [
           "Reyk"
          ],
          [
           "Pmanderson"
          ],
          [
           "FloNight"
          ],
          [
           "henrik"
          ],
          [
           "RexxS"
          ],
          [
           "Horologium"
          ],
          [
           "Reywas92"
          ],
          [
           "Chuq"
          ],
          [
           "Nichalp"
          ],
          [
           "TenOfAllTrades"
          ],
          [
           "Xavexgoem"
          ],
          [
           "Jkelly"
          ],
          [
           "Benjiboi"
          ],
          [
           "Buggie111"
          ],
          [
           "Pointillist"
          ],
          [
           "Infrogmation"
          ],
          [
           "Jerry"
          ],
          [
           "TravisTX"
          ],
          [
           "Friday"
          ],
          [
           "Gidonb"
          ],
          [
           "Aude"
          ],
          [
           "Kafziel"
          ],
          [
           "Kaldari"
          ],
          [
           "Jpgordon"
          ],
          [
           "Kraftlos"
          ],
          [
           "EyeSerene"
          ],
          [
           "Lenticel"
          ],
          [
           "Whispering"
          ],
          [
           "Geogre"
          ],
          [
           "Alex43223"
          ],
          [
           "Ret.Prof"
          ],
          [
           "Stormie"
          ],
          [
           "BOZ"
          ],
          [
           "Alai"
          ],
          [
           "Carcharoth"
          ],
          [
           "Theleftorium"
          ],
          [
           "BarkingFish"
          ],
          [
           "Gatoclass"
          ],
          [
           "Melburnian"
          ],
          [
           "WilliamH"
          ],
          [
           "Ynhockey"
          ],
          [
           "DoriSmith"
          ],
          [
           "Scott MacDonald"
          ],
          [
           "Ragesoss"
          ],
          [
           "Rspeer"
          ],
          [
           "Leonard^Bloom"
          ],
          [
           "Morven"
          ],
          [
           "Sgeureka"
          ],
          [
           "Staxringold"
          ],
          [
           "Danny"
          ],
          [
           "Hesperian"
          ],
          [
           "Nehrams2020"
          ],
          [
           "Leithp"
          ],
          [
           "Dtobias"
          ],
          [
           "Davidcannon"
          ],
          [
           "Smallman12q"
          ],
          [
           "Carioca"
          ],
          [
           "Taxman"
          ],
          [
           "Gigs"
          ],
          [
           "Karanacs"
          ],
          [
           "Moondyne"
          ],
          [
           "RayAYang"
          ],
          [
           "Jayen466"
          ],
          [
           "DS1953"
          ],
          [
           "Hurricanehink"
          ],
          [
           "RxS"
          ],
          [
           "Sallicio"
          ],
          [
           "MaxSem"
          ],
          [
           "Quiddity"
          ],
          [
           "Quadell"
          ],
          [
           "172"
          ],
          [
           "SCZenz"
          ],
          [
           "Accounting4Taste"
          ],
          [
           "Rdsmith4"
          ],
          [
           "AlexandrDmitri"
          ],
          [
           "Hipocrite"
          ],
          [
           "Kmweber"
          ],
          [
           "Carnildo"
          ],
          [
           "Sunderland06"
          ],
          [
           "Bigtimepeace"
          ],
          [
           "Celestianpower"
          ],
          [
           "Calton"
          ],
          [
           "Stanistani"
          ],
          [
           "Irpen"
          ],
          [
           "DDima"
          ],
          [
           "Physchim62"
          ],
          [
           "Werdna"
          ],
          [
           "IZAK"
          ],
          [
           "MJ94"
          ],
          [
           "Resolute"
          ],
          [
           "RoyBoy"
          ],
          [
           "Arakunem"
          ],
          [
           "Lupo"
          ],
          [
           "Trebor"
          ],
          [
           "MoRsE"
          ],
          [
           "Jacoplane"
          ],
          [
           "Salih"
          ],
          [
           "Maclean25"
          ],
          [
           "Thincat"
          ],
          [
           "Jimbo Wales"
          ],
          [
           "Eusebeus"
          ],
          [
           "Chris G"
          ],
          [
           "Betacommand"
          ],
          [
           "Jiang"
          ],
          [
           "GTBacchus"
          ],
          [
           "Apoc2400"
          ],
          [
           "GregAsche"
          ],
          [
           "Nomoskedasticity"
          ],
          [
           "Nathan"
          ],
          [
           "Vodello"
          ],
          [
           "Anthonyhcole"
          ],
          [
           "Khukri"
          ],
          [
           "Timmeh"
          ],
          [
           "Shanel"
          ],
          [
           "Oldelpaso"
          ],
          [
           "Ugen64"
          ],
          [
           "Youngamerican"
          ],
          [
           "Rocksanddirt"
          ],
          [
           "Badagnani"
          ],
          [
           "Moncrief"
          ],
          [
           "Hahnchen"
          ],
          [
           "Seav"
          ],
          [
           "Danaman5"
          ],
          [
           "Rd232"
          ],
          [
           "Nev1"
          ],
          [
           "Happy-melon"
          ],
          [
           "One"
          ],
          [
           "Krashlandon"
          ],
          [
           "Hokeman"
          ],
          [
           "Terrillja"
          ],
          [
           "Briangotts"
          ],
          [
           "Ncmvocalist"
          ],
          [
           "FeloniousMonk"
          ],
          [
           "Williamborg"
          ],
          [
           "Dravecky"
          ],
          [
           "Livitup"
          ],
          [
           "Jondel"
          ],
          [
           "Tznkai"
          ],
          [
           "Lawrencekhoo"
          ],
          [
           "Pakaran"
          ],
          [
           "LindsayH"
          ],
          [
           "TUF-KAT"
          ],
          [
           "SusanLesch"
          ],
          [
           "IShadowed"
          ],
          [
           "Rockfang"
          ],
          [
           "Bart133"
          ],
          [
           "Franamax"
          ],
          [
           "Harland1"
          ],
          [
           "WarthogDemon"
          ],
          [
           "Kicking222"
          ],
          [
           "Dayewalker"
          ],
          [
           "Sam Spade"
          ],
          [
           "Rivertorch"
          ],
          [
           "Evilphoenix"
          ],
          [
           "Kittybrewster"
          ],
          [
           "Quartermaster"
          ],
          [
           "Conti"
          ],
          [
           "JPD"
          ],
          [
           "Haza-w"
          ],
          [
           "Fr33kman"
          ],
          [
           "Natl1"
          ],
          [
           "Hbdragon88"
          ],
          [
           "Jwrosenzweig"
          ],
          [
           "Cailil"
          ],
          [
           "Gran2"
          ],
          [
           "Moriori"
          ],
          [
           "HiDrNick"
          ],
          [
           "SirFozzie"
          ],
          [
           "Dirtlawyer1"
          ],
          [
           "Rhobite"
          ],
          [
           "Davidruben"
          ],
          [
           "Pedant"
          ],
          [
           "Bunchofgrapes"
          ],
          [
           "Cynical"
          ],
          [
           "Townlake"
          ],
          [
           "Marskell"
          ],
          [
           "Encephalon"
          ],
          [
           "Wsiegmund"
          ],
          [
           "Mark"
          ],
          [
           "Shoessss"
          ],
          [
           "Nunh-huh"
          ],
          [
           "GRBerry"
          ],
          [
           "Giants2008"
          ],
          [
           "Halibutt"
          ],
          [
           "Stubbleboy"
          ],
          [
           "Chalst"
          ],
          [
           "ThinkBlue"
          ],
          [
           "Reedy"
          ],
          [
           "Cla68"
          ],
          [
           "Becksguy"
          ],
          [
           "Gmaxwell"
          ],
          [
           "Dekkappai"
          ],
          [
           "Katalaveno"
          ],
          [
           "RMHED"
          ],
          [
           "Sluzzelin"
          ],
          [
           "Gungadin"
          ],
          [
           "Johnfos"
          ],
          [
           "Duk"
          ],
          [
           "ThuranX"
          ],
          [
           "Sannse"
          ],
          [
           "ImperfectlyInformed"
          ],
          [
           "ais523"
          ],
          [
           "Triona"
          ],
          [
           "Collect"
          ],
          [
           "Akhilleus"
          ],
          [
           "Slrubenstein"
          ],
          [
           "Zaxem"
          ],
          [
           "Manxruler"
          ],
          [
           "Capitalistroadster"
          ],
          [
           "Oakshade"
          ],
          [
           "Str1977"
          ],
          [
           "Flowerparty"
          ],
          [
           "Atlan"
          ],
          [
           "Doc9871"
          ],
          [
           "Xxanthippe"
          ],
          [
           "Springeragh"
          ],
          [
           "JimMillerJr"
          ],
          [
           "Avenue"
          ],
          [
           "Skinny87"
          ],
          [
           "Alphax"
          ],
          [
           "Walkerma"
          ],
          [
           "Zocky"
          ],
          [
           "Mattisse"
          ],
          [
           "PGWG"
          ],
          [
           "Martinp"
          ],
          [
           "Philwelch"
          ],
          [
           "Jakew"
          ],
          [
           "Sunray"
          ],
          [
           "Bedford"
          ],
          [
           "Leifern"
          ],
          [
           "Herbythyme"
          ],
          [
           "Aquillion"
          ],
          [
           "Cardamon"
          ],
          [
           "TimidGuy"
          ],
          [
           "Emufarmers"
          ],
          [
           "MJCdetroit"
          ],
          [
           "Joopercoopers"
          ],
          [
           "Kmccoy"
          ],
          [
           "Barryob"
          ],
          [
           "Folantin"
          ],
          [
           "M.K"
          ],
          [
           "Astrotrain"
          ],
          [
           "Doctorfluffy"
          ],
          [
           "Booksworm"
          ],
          [
           "Hydnjo"
          ],
          [
           "Rednblu"
          ],
          [
           "IronDuke"
          ],
          [
           "Tarc"
          ],
          [
           "Laurascudder"
          ],
          [
           "Amerique"
          ],
          [
           "AKMask"
          ],
          [
           "Kumioko"
          ],
          [
           "Wimvandorst"
          ],
          [
           "CapitalR"
          ],
          [
           "Banana04131"
          ],
          [
           "TDC"
          ],
          [
           "Abd"
          ],
          [
           "Stillnotelf"
          ],
          [
           "WillowW"
          ],
          [
           "Novickas"
          ],
          [
           "Singopo"
          ],
          [
           "Crohnie"
          ],
          [
           "COGDEN"
          ],
          [
           "Rl"
          ],
          [
           "Sxeptomaniac"
          ],
          [
           "Fladrif"
          ],
          [
           "6SJ7"
          ],
          [
           "Juppiter"
          ],
          [
           "Tex"
          ],
          [
           "Ripberger"
          ],
          [
           "Noetica"
          ],
          [
           "Kcowolf"
          ],
          [
           "DeltaQuad"
          ],
          [
           "Gray62"
          ],
          [
           "DavidJJJ"
          ],
          [
           "Master&Expert"
          ],
          [
           "SunCreator"
          ],
          [
           "Secret"
          ],
          [
           "Grandmasterka"
          ],
          [
           "Mlpearc"
          ],
          [
           "Icewedge"
          ],
          [
           "Brianherman"
          ],
          [
           "Marlith"
          ],
          [
           "WFCforLife"
          ],
          [
           "Lostintherush"
          ],
          [
           "Kubigula"
          ],
          [
           "Bwilkins"
          ],
          [
           "Dmcdevit"
          ],
          [
           "RGTraynor"
          ],
          [
           "Icestorm815"
          ],
          [
           "Sandahl"
          ],
          [
           "JamesBWatson"
          ],
          [
           "Messedrocker"
          ],
          [
           "Shimgray"
          ],
          [
           "Esteffect"
          ],
          [
           "Truthkeeper88"
          ],
          [
           "ScienceApologist"
          ],
          [
           "PMC"
          ],
          [
           "^demon"
          ],
          [
           "Thebainer"
          ],
          [
           "Jmh649"
          ],
          [
           "Doug"
          ],
          [
           "SatuSuro"
          ],
          [
           "ContiE"
          ],
          [
           "Amatulic"
          ],
          [
           "Katr67"
          ],
          [
           "Dougweller"
          ],
          [
           "Ctjf83"
          ],
          [
           "Dincher"
          ]
         ],
         "hovertemplate": "Average Sentiment Polarity (-1: Negative, +1: Positive)=%{x}<br>Power Score=%{y}<br>User=%{customdata[0]}<extra></extra>",
         "legendgroup": "",
         "marker": {
          "color": "green",
          "size": 8,
          "symbol": "circle"
         },
         "mode": "markers",
         "name": "",
         "orientation": "v",
         "showlegend": false,
         "type": "scatter",
         "x": [
          0.5058170798898072,
          0.09175541401273885,
          0.4512054383116883,
          0.4918774803149606,
          0.3649201342281879,
          0.6415730275229358,
          0.45573851590106,
          0.42127388535031846,
          0.12659604519774012,
          0.4631571428571428,
          0.6368412186379928,
          0.10941252955082742,
          0.5722403263403263,
          0.2718662408759124,
          0.2646402409638554,
          0.4211957163958641,
          0.5956637469586374,
          0.40265055679287304,
          0.04255862445414847,
          0.4482481781376518,
          0.3683890086206897,
          0.5734085858585858,
          0.2935019801980198,
          0.5709013100436682,
          0.5290473404255319,
          0.3472709821428572,
          0.6141988372093024,
          0.40049788359788363,
          0.42644418604651163,
          0.4262639053254438,
          0.39837206703910616,
          0.24485721393034823,
          0.2499144278606965,
          0.3802123376623377,
          0.466405487804878,
          0.5444117370892019,
          0.3020392578125,
          0.34019926739926737,
          0.5530708737864077,
          0.7815859030837004,
          0.46878988095238094,
          0.46757596899224807,
          0.07664484304932735,
          0.7047120535714286,
          0.6543215094339622,
          0.2558178217821782,
          0.5457530120481927,
          0.2577121673003802,
          0.3520125954198473,
          0.638821875,
          0.3000356725146199,
          0.725376404494382,
          0.440553711790393,
          0.1689590909090909,
          0.31948818181818184,
          0.4252352226720648,
          0.42967012195121956,
          0.503977868852459,
          0.6578403846153846,
          0.5042908745247149,
          0.4635532751091703,
          0.664219209039548,
          0.12500538922155688,
          0.28938733333333333,
          0.402419298245614,
          0.4424100840336134,
          0.34505126050420165,
          0.45001315789473684,
          0.6136073394495413,
          0.7005344827586207,
          0.46744140127388534,
          0.4291502994011976,
          0.13042372262773722,
          0.20714926108374382,
          0.6764322580645161,
          0.6372194444444444,
          0.3774911392405063,
          0.5622409090909091,
          0.4124608695652174,
          0.461896,
          0.31989151515151515,
          0.33586176470588236,
          0.4598399209486166,
          0.5943734375,
          0.6133681818181818,
          -0.030094999999999993,
          0.4899,
          0.46933229813664595,
          0.5520734597156398,
          0.42863145539906106,
          0.4698891304347826,
          0.6019731707317073,
          0.2115155844155844,
          0.3808982206405694,
          0.17838518518518517,
          0.4072176470588235,
          0.41649411764705885,
          0.4204217252396166,
          0.18184268292682926,
          0.8066796296296296,
          0.4282706666666667,
          0.27192919708029195,
          0.5497933035714285,
          0.41659710982658954,
          0.3446015873015873,
          0.30354306220095695,
          0.6358152173913043,
          0.4195666666666667,
          0.29928089887640447,
          0.17999803921568627,
          0.3345127659574468,
          0.48597422680412367,
          0.2689024193548387,
          0.13939470588235295,
          0.17766990291262136,
          0.4819631578947368,
          0.297231746031746,
          0.520790243902439,
          0.3371597359735974,
          0.8459023255813954,
          0.3827145454545454,
          0.4682701298701299,
          0.39345882352941175,
          0.3078461538461538,
          0.5206666666666666,
          0.555931506849315,
          0.6674084745762712,
          0.32245067567567565,
          0.6248044444444444,
          0.547109009009009,
          0.5675321585903084,
          0.6287428571428572,
          0.20365652173913043,
          0.49935205479452055,
          0.05000925925925926,
          0.32289506172839505,
          0.5214102739726028,
          0.25172285714285714,
          0.6329360655737705,
          0.4816058823529412,
          0.48166125,
          0.30549814814814813,
          0.22232698412698412,
          0.3423425,
          0.4410928571428571,
          0.3774261363636364,
          0.2844554913294798,
          0.5487830508474576,
          0.31267058823529414,
          0.6199945736434108,
          0.10230800000000001,
          0.2639308510638298,
          0.468653431372549,
          0.25793627450980394,
          0.3001111111111111,
          0.6105784090909091,
          0.35742252747252745,
          0.48270362694300517,
          0.5598763636363636,
          0.3486139534883721,
          0.6345568493150685,
          0.6809747747747747,
          0.404327868852459,
          0.6838777777777778,
          0.2457034965034965,
          0.504659493670886,
          0.46887525773195876,
          0.31683269230769234,
          0.31457708333333334,
          0.33353385826771653,
          0.5686176470588234,
          0.4977326315789473,
          0.1185857142857143,
          0.2166091463414634,
          0.22438843537414968,
          0.16141238938053096,
          0.39280365853658533,
          0.80545,
          0.6632666666666667,
          0.28651525423728813,
          0.5294458715596331,
          0.46873666666666663,
          0.30354705882352945,
          0.04997563025210084,
          0.4104672131147541,
          0.6050787878787879,
          0.5966561224489796,
          0.42781875,
          0.333575,
          0.5512,
          0.724165909090909,
          0.39742500000000003,
          0.2611362745098039,
          0.42709387755102035,
          0.5974095238095238,
          0.5283294117647059,
          0.5417777777777778,
          0.5752195121951219,
          0.3424986301369863,
          0.5573327586206897,
          0.4564333333333333,
          0.48616,
          0.5292548913043479,
          0.3973993006993007,
          0.5083848920863309,
          0.5141410958904109,
          0.6745,
          0.5291333333333333,
          0.19285454545454545,
          0.6450309523809524,
          0.6821975609756097,
          0.47512298850574713,
          0.4555,
          0.5803882352941176,
          0.5471454545454546,
          0.2794142857142857,
          0.4973892561983471,
          0.030782352941176476,
          0.5450148148148148,
          0.24041929824561406,
          0.6933116279069768,
          0.35227127071823205,
          0.521095652173913,
          0.49327863247863246,
          0.33496268656716416,
          0.23699444444444442,
          0.5084285714285715,
          0.0747625,
          0.2729875,
          0.3076320241691843,
          0.6440942307692308,
          0.786075,
          0.33576623376623377,
          0.4551578947368421,
          0.36001249999999996,
          0.6072041666666667,
          0.7214714285714285,
          0.6176465753424658,
          0.0462,
          0.2897787610619469,
          0.47873106060606063,
          0.5662327272727273,
          0.4207294117647059,
          0.34308611111111115,
          0.4429988950276243,
          0.4688649425287356,
          0.5539115384615385,
          0.1469,
          0.5523076923076923,
          0.28739859154929576,
          0.1265647058823529,
          0.4784955752212389,
          0.3376712328767123,
          0.12098648648648648,
          0.393661038961039,
          0.6153782608695653,
          0.40375068493150684,
          0.3555115646258503,
          0.50094375,
          0.21965,
          0.4252375,
          0.57308125,
          0.3709510638297872,
          0.4784395061728395,
          0.5583333333333333,
          0.36164187192118225,
          0.3633237762237762,
          0.4080281690140845,
          0.86836,
          0.17115833333333333,
          0.5058638613861386,
          0.3466068181818182,
          0.5977391304347826,
          0.48279457627118644,
          0.6389483870967743,
          0.5571017543859649,
          0.26628888888888885,
          0.39468983050847456,
          0.5104767857142857,
          0.6548285714285714,
          0.4151076923076923,
          0.38869714285714285,
          0.459725,
          0.5681020833333333,
          0.16546607142857145,
          0.5466884615384615,
          0.3504035714285714,
          0.40230491803278684,
          0.2938348017621146,
          0.46365,
          0.62306625,
          0.31838947368421056,
          0.14180281690140845,
          0.41047105263157896,
          0.39856111111111114,
          0.30758071428571426,
          0.6330230769230769,
          0.5738760563380281,
          0.4700424460431654,
          0.21672000000000002,
          0.14944606741573033,
          0.4864423728813559,
          0.35684716981132075,
          0.3451816326530612,
          0.37219651162790696,
          0.6185771929824561,
          0.5645075471698113,
          0.414894,
          0.5752368421052632,
          0.15056666666666668,
          0.5107409090909091,
          0.5317714285714286,
          0.386890977443609,
          0.6837975308641975,
          0.5086117647058823,
          0.8944333333333332,
          0.573990625,
          0.5109096153846153,
          0.5255081761006289,
          0.18345882352941179,
          0.3838076923076923,
          0.5069590361445783,
          0.3955863247863248,
          0.5103142857142856,
          0.3814811023622047,
          0.40531666666666666,
          0.47609230769230765,
          0.6280666666666667,
          0.5961188118811881,
          0.4514294736842105,
          0.09874166666666667,
          0.2990663551401869,
          0.5337391304347826,
          0.6384163793103449,
          0.5592857142857143,
          0.44466484375,
          0.5518809523809524,
          0.3743859375,
          0.34335935483870966,
          0.5636014925373134,
          0.2813875,
          0.35043913043478264,
          0.4715594594594595,
          0.3686113821138211,
          0.4604862745098039,
          0.32531666666666664,
          0.6026408163265305,
          0.4155875,
          0.46510666666666667,
          0.5000888888888889,
          0.33909604863221887,
          0.15501754385964914,
          0.7439018867924528,
          0.38038139534883725,
          0.34215066666666666,
          0.0783859375,
          0.6311730769230769,
          0.29699677419354836,
          0.3485388888888889,
          0.39472926829268296,
          0.2615047619047619,
          0.37002815533980576,
          0.15539382716049382,
          0.4623801470588235,
          0.19548148148148148,
          0.5346504761904762,
          0.660051282051282,
          0.724088,
          0.13743999999999998,
          0.38015454545454547,
          0.5159222222222222,
          0.3552594339622641,
          0.4010813725490196,
          0.5086961538461539,
          0.1983220588235294,
          0.58395,
          0.4615177777777778,
          0.5946285714285714,
          0.22686538461538458,
          0.4274588235294118,
          0.5285425,
          0.06769854014598539,
          0.787484375,
          0.6708176470588235,
          0.40977592592592593,
          0.34168181818181814,
          0.16477083333333334,
          0.3340324324324324,
          0.6642204545454545,
          0.3478754716981132,
          0.476425,
          0.2432736111111111,
          0.5065308641975309,
          0.5606004975124378,
          0.4518685185185185,
          0.68584,
          0.4301594594594595,
          0.5868599999999999,
          0.6045333333333334,
          0.33992142857142854,
          0.432265,
          0.7312454545454545,
          0.515725,
          0.3394652173913043,
          0.23396874999999998,
          0.06247307692307692,
          0.6438819672131147,
          0.3136752066115703,
          0.633791304347826,
          0.38562399999999997,
          0.5723409090909091,
          0.593646,
          0.1172827067669173,
          0.26870588235294113,
          0.8409642857142857,
          0.49343333333333333,
          0.12545714285714285,
          0.20999428571428572,
          0.2826258064516129,
          0.6078138888888889,
          0.6094090909090909,
          0.1273469387755102,
          0.5559142857142857,
          0.6073725000000001,
          0.7038685314685315,
          0.4626045454545454,
          0.4740276785714285,
          0.29624666666666666,
          -0.07337272727272728,
          0.6546333333333333,
          0.2686842105263158,
          0.5484304347826088,
          0.284475,
          0.19098138297872339,
          0.18833265306122451,
          0.7648076923076923,
          0.10738153846153846,
          0.4721708333333333,
          0.10948492063492063,
          -0.07406337209302326,
          0.20639848484848483,
          0.6389452380952381,
          0.75448125,
          0.6026030303030303,
          0.04888857142857142,
          0.5680484375,
          0.42154230769230766,
          0.48164210526315787,
          0.40397777777777777,
          0.15979473684210524,
          0.22024,
          0.4017102564102564,
          0.5943636363636364,
          0.5772518518518518,
          0.6549111111111111,
          0.38685185185185184,
          0.4376333333333333,
          0.5275366666666667,
          0.5523590909090909,
          0.32581875,
          0.46792,
          0.62208,
          0.16404999999999997,
          0.47639830508474573,
          0.4754918918918919,
          0.41905,
          0.1740765625,
          0.73354,
          0.40622,
          0.5333506329113924,
          -0.0010833333333333435,
          0.11015217391304348,
          -0.04493283582089552,
          0.7996800000000001,
          0.6073450704225352,
          0.43840545454545454,
          0.6030836363636364,
          0.5551275,
          0.2535718085106383,
          0.4584381578947368,
          0.3153410256410256,
          0.59478,
          0.22777692307692307,
          0.3624474576271186,
          0.48360000000000003,
          0.510951923076923,
          0.3976117647058824,
          0.504404347826087,
          0.54145,
          0.2613918918918919,
          0.5105733333333333,
          0.5439276470588235,
          0.279675,
          0.35242666666666667,
          0.3267478260869565,
          0.33022881355932204,
          0.38546428571428576,
          0.4981071428571429,
          0.6715363636363636,
          0.5086761904761905,
          0.46303,
          0.7183541666666667,
          0.30440833333333334,
          0.5997466666666667,
          0.19188173076923076,
          0.7068500000000001,
          0.4164526315789474,
          -0.06137894736842105,
          0.2216344262295082,
          0.5276000000000001,
          0.46032045454545456,
          0.19731785714285713,
          0.4669364485981309,
          0.6118545454545454,
          0.27055098039215686,
          0.6915666666666667,
          0.39001,
          0.4852727272727273,
          0.5061923076923077,
          0.3115,
          0.5929384615384615,
          0.5929139534883721,
          0.44674285714285716,
          0.5871595238095237,
          0.2108625,
          0.41841654676258994,
          0.44199,
          0.4744833333333333,
          0.3875666666666666,
          0.23205199999999998,
          0.4662,
          0.8168105263157894,
          0.23047931034482758,
          0.7790222222222222,
          0.5768972972972972,
          0.3366581395348837,
          0.18976145833333333,
          0.26245699481865287,
          0.46744591836734695,
          0.4254430107526882,
          0.483025,
          0.3365909090909091,
          0.6815258823529411,
          0.3634764705882353,
          -0.004053333333333324,
          0.68905,
          0.5335666666666666,
          0.4492512195121951,
          0.7010625,
          0.6376727272727273,
          0.3349166666666667,
          0.6609951219512195,
          0.86555,
          0.2898275,
          0.09659,
          0.7099753846153847,
          0.4037691588785047,
          0.578904,
          0.6938,
          0.6237071428571428,
          0.37449780219780215,
          0.39521111111111107,
          0.3718083333333333,
          0.18322,
          0.14986129032258064,
          0.3190607142857143,
          0.37201951219512197,
          0.6754484848484849,
          0.3674733333333334,
          0.4259158192090396,
          0.6162,
          0.6043851851851852,
          0.18700769230769232,
          0.285725,
          0.30664864864864866,
          0.06574285714285714,
          0.3908,
          0.44608571428571425,
          0.44935,
          0.6309333333333333,
          0.6209058823529412,
          0.43120740740740743,
          0.2513324675324675,
          0.7765636363636363,
          -0.10010000000000001,
          0.40997428571428574,
          0.26313947368421053,
          0.552758695652174,
          0.38988235294117646,
          0.4798777777777778,
          0.45931714285714287,
          0.30979,
          0.2975125,
          0.504916393442623,
          0.48093043478260866,
          -0.027428571428571438,
          0.4881625,
          0.059199999999999996,
          0.60165625,
          -0.015155555555555552,
          0.502856,
          0.5013666666666666,
          0.22954565217391307,
          0.30595,
          0.27794375,
          0.38497777777777775,
          0.4908142857142857,
          0.5385105263157894,
          0.56714,
          0.31667818181818186,
          0.5167857142857143,
          0.2783769230769231,
          0.46598,
          0.3409333333333333,
          0.413937037037037,
          0.70555,
          0.7264621621621622,
          0.41975750000000006,
          0.18135,
          0.23306666666666667,
          0.3950666666666667,
          0.9098611111111112,
          0.3233166666666667,
          0.233568,
          0.72714,
          0.4774833333333333,
          0.82725,
          0.5848111111111112,
          0.44867,
          0.25803125,
          0.23199999999999998,
          0.03375384615384615,
          0.4136166666666667,
          0.7295222222222222,
          0.07644,
          0.3717125,
          0.38515185185185186,
          0.53175,
          0.384219921875,
          0.5378954545454545,
          0.23077,
          0.5288347593582887,
          0.5566848837209302,
          0.27160260869565217,
          0.54135,
          0.5110732824427481,
          0.3920714285714285,
          0.5145918604651163,
          0.6666269230769231,
          0.31113902439024393,
          0.43721956521739136,
          0.2668925925925926,
          0.45144666666666666,
          0.213225,
          0.24602903225806452,
          0.3616027777777778,
          0.4225068181818182,
          0.25085365853658537,
          0.5065230769230769,
          0.33881428571428573,
          0.528648,
          0.3860617647058823,
          0.5221129032258065,
          0.48250666666666664,
          0.6066875,
          0.670409090909091,
          0.249412,
          0.4036461538461538,
          0.5100428571428571,
          0.5707545454545454,
          0.4179272727272727,
          0.5153399999999999
         ],
         "xaxis": "x",
         "y": [
          0.8470427518867714,
          0.8235555798645624,
          0.8180769230769231,
          0.8165296844556916,
          0.7254326180168789,
          0.7170367569411307,
          0.6687680558977,
          0.6681542372034612,
          0.6599470101931303,
          0.6598759924822003,
          0.6464864967294814,
          0.6430411084447767,
          0.6416025712804205,
          0.6412732799415665,
          0.634703232963932,
          0.6335679487466601,
          0.6242780655619659,
          0.6209512497222169,
          0.6189854501980228,
          0.6178162549161138,
          0.6101231375616075,
          0.6097070745526616,
          0.6086153742792715,
          0.606527858409031,
          0.6055640158555976,
          0.5937264616556042,
          0.5918283119921308,
          0.5887955068916034,
          0.5862782154356069,
          0.586010725440103,
          0.5859461247327684,
          0.584701828975226,
          0.5797847935102991,
          0.579249994401272,
          0.5762850544971567,
          0.5749673464957992,
          0.5744524960851971,
          0.5729672655295794,
          0.572881570537943,
          0.5727787606655768,
          0.5690356234140527,
          0.5684780417889056,
          0.5679903150619564,
          0.5630004961334323,
          0.5622896213364939,
          0.5622410588314335,
          0.5619852400303882,
          0.5569150233682292,
          0.5564778143944158,
          0.555497666622451,
          0.5533869547915636,
          0.5511389879911592,
          0.5490199728160223,
          0.5474319496148936,
          0.5474317601194855,
          0.5425408836343152,
          0.5420641648678959,
          0.5396914411814866,
          0.5393180663199475,
          0.5357489461471276,
          0.5356218894759418,
          0.53521232099144,
          0.5345019371598773,
          0.534485631941346,
          0.5337883232929479,
          0.5316944248728228,
          0.5312818503020729,
          0.5310113542203212,
          0.5302289449067941,
          0.5288782388641301,
          0.5273360735517814,
          0.5262058195762538,
          0.5230527537989522,
          0.5229558441245226,
          0.5228540075694802,
          0.5204691217232368,
          0.5191868579766369,
          0.517928324223198,
          0.517763411537514,
          0.5169585470181175,
          0.5165132500357457,
          0.5161715295208006,
          0.5150423349968734,
          0.5150355131621788,
          0.5150157884128725,
          0.5149430049492755,
          0.5147253522461236,
          0.5141103707391527,
          0.5134979474201923,
          0.5128197950348757,
          0.5118311630366812,
          0.5115714078992022,
          0.5070561199264758,
          0.5066729171439941,
          0.506380715224578,
          0.5051683149896036,
          0.504900118693033,
          0.504636702848805,
          0.5045545049087924,
          0.5035497830277577,
          0.5034626323668494,
          0.5014918628949041,
          0.5007956223115339,
          0.5002934077992864,
          0.49827120755087523,
          0.49756174535607045,
          0.4971019175212622,
          0.495996427150213,
          0.49516072655984866,
          0.4949338747159722,
          0.4946511131132545,
          0.4943583943881796,
          0.49364499585694127,
          0.4925878871089719,
          0.49191480803253806,
          0.49184253276117207,
          0.4917663383802277,
          0.49172680274733893,
          0.4910633190293011,
          0.48959928611911685,
          0.4894901970579976,
          0.48905689858033485,
          0.48815124834406853,
          0.48806202184709785,
          0.48746310438268425,
          0.4867205321720136,
          0.48657496524481947,
          0.48646165560415444,
          0.48499849265016215,
          0.48453194634179114,
          0.4841682443594969,
          0.48398205650753073,
          0.4833198906439226,
          0.48283386076221946,
          0.48283026034946397,
          0.48255187436798974,
          0.4824002091340232,
          0.4807198758288271,
          0.4805412419529052,
          0.4802640360110183,
          0.47980559493806085,
          0.47845952291946964,
          0.4781551588402192,
          0.47772103347350253,
          0.47770506417864933,
          0.4774213895526013,
          0.4768199828075984,
          0.4757287218190181,
          0.4755232829562662,
          0.4748999981050459,
          0.47351041104999403,
          0.47250401816399623,
          0.4723306557057929,
          0.47207634425458533,
          0.4720384968535149,
          0.4708746246698904,
          0.4707545448750967,
          0.4704628856016221,
          0.46976148557509273,
          0.469722966326666,
          0.4694266558022632,
          0.4692187707260602,
          0.46889877327563484,
          0.46757052243884034,
          0.4673905362547783,
          0.467232393723223,
          0.46685203337186404,
          0.46649844355362463,
          0.4661879639407465,
          0.4652759053143126,
          0.46499983634487474,
          0.46433496586498624,
          0.46429949576994567,
          0.46393444147951124,
          0.46391271841499154,
          0.46312701877210416,
          0.46289015812530465,
          0.46238183669285726,
          0.4621441577704315,
          0.46181164500963845,
          0.4610714845587083,
          0.46080199624799095,
          0.46073581066996966,
          0.4602406247146802,
          0.4594191362799295,
          0.45910964721123054,
          0.45813787169093645,
          0.45679651983069447,
          0.45674172120401935,
          0.45605802177129967,
          0.45557346478572375,
          0.4555347732687441,
          0.45513881399992073,
          0.4549844096959632,
          0.45493469299159844,
          0.45419277540142877,
          0.45369160311392637,
          0.4536149263810339,
          0.45356879286256935,
          0.4525360773416895,
          0.4518467361138626,
          0.45179451290205325,
          0.4516696784951998,
          0.45159229546124047,
          0.45097168938601767,
          0.45010844305404585,
          0.4500027218431357,
          0.44991296992707874,
          0.44937668069506914,
          0.4492538618302845,
          0.44905638177467616,
          0.44899989491618275,
          0.44890930749764424,
          0.44859696738439486,
          0.44754369161172736,
          0.4472600600528175,
          0.4467434525029759,
          0.44666893774042227,
          0.44648723748425895,
          0.4462585509802942,
          0.4460115437157293,
          0.4453758555287008,
          0.44509315421997664,
          0.44419298212369224,
          0.4437287786676406,
          0.4435567340638668,
          0.4434758195245732,
          0.4431566834169123,
          0.44284964056166437,
          0.4426218240138917,
          0.44248958205926386,
          0.44230532361509006,
          0.4421586024885915,
          0.44169014399928336,
          0.4413726186025919,
          0.43957570255422584,
          0.4388444656143355,
          0.4385431765287542,
          0.4379313647631565,
          0.4375637608981393,
          0.43742040762184986,
          0.4372471485247782,
          0.43716433903140284,
          0.43662654244955545,
          0.4363609129544229,
          0.4358478885904814,
          0.4346273055992448,
          0.43458012124260753,
          0.43411795055547997,
          0.4339920911507367,
          0.4326370094868292,
          0.43219049801115955,
          0.43195957201600715,
          0.4311031302918746,
          0.4310186497935361,
          0.43076364926811705,
          0.4304168812845722,
          0.43027099566055516,
          0.43021666215897286,
          0.43018459436785195,
          0.430163215840438,
          0.43009434287299153,
          0.42935650804752545,
          0.42917802921330117,
          0.429172240989924,
          0.4289950024892806,
          0.4277420502369554,
          0.42589801873937316,
          0.4258818857893948,
          0.4258781561752247,
          0.42560185464324046,
          0.4252897901596757,
          0.42508636683899265,
          0.4242664977286391,
          0.4242187362723497,
          0.4241471500751952,
          0.4231368208527638,
          0.4226672167775789,
          0.4223630249668814,
          0.4220299695601467,
          0.4219822942381337,
          0.4215596850241779,
          0.4214566942698311,
          0.4204088966371456,
          0.4195345131432292,
          0.4192611487900718,
          0.41904127382258755,
          0.4187211385573198,
          0.41815607186354947,
          0.41744834096770134,
          0.41738746126110915,
          0.41667385600760737,
          0.41663841175284977,
          0.4153235892497532,
          0.41522651592019827,
          0.4151176163544873,
          0.41494233310191925,
          0.41399412391966084,
          0.41393525975513745,
          0.41357860355665654,
          0.41339508586726015,
          0.41266215208212387,
          0.4125379378420607,
          0.41210734398067833,
          0.4116749240726353,
          0.41117883370744324,
          0.41105801315787205,
          0.4109185703777332,
          0.4108240810764717,
          0.41053053546234297,
          0.40975485323580635,
          0.4096203114959973,
          0.40961559995107577,
          0.4094683189517803,
          0.409265386596473,
          0.40917444602740105,
          0.40861118815343617,
          0.4084557933052995,
          0.40836574853270263,
          0.4082902346125422,
          0.4076955377276744,
          0.40706239911522873,
          0.4064204231260196,
          0.4060381419802959,
          0.4052883086501209,
          0.4052721584732872,
          0.405126737974363,
          0.4049550465211227,
          0.40456215363254083,
          0.40444033392536294,
          0.40438567311353013,
          0.40407284203490507,
          0.4039203068447464,
          0.40287999428068405,
          0.40248990936951434,
          0.40207361379802203,
          0.40166283082022225,
          0.4016528220172992,
          0.4015200115764468,
          0.40127755220167827,
          0.4010880223397859,
          0.4008729019843615,
          0.3997945611372481,
          0.3993926758302052,
          0.3991556343014252,
          0.3991242555845158,
          0.3989423830597996,
          0.39893761122088445,
          0.39880611863446164,
          0.39783058765971446,
          0.39766951656275995,
          0.39652915042317766,
          0.39634337601573844,
          0.39629467569583576,
          0.3962571814452987,
          0.39608244945209986,
          0.39585118753326937,
          0.3956486169419231,
          0.3954754009119897,
          0.3954095684845018,
          0.39540210064273396,
          0.39523381149341336,
          0.395215835269919,
          0.3951004928603298,
          0.3950870559132042,
          0.3950368568568913,
          0.3947921838312181,
          0.39447848279640096,
          0.3944065520621407,
          0.39372264590715755,
          0.3936710687024216,
          0.39357964578140153,
          0.3926095412660705,
          0.39230957003491884,
          0.391996902611419,
          0.3916317966404187,
          0.39139800237386063,
          0.39030725819093903,
          0.3902946998134332,
          0.3901269102429159,
          0.3900144361047324,
          0.38999140379921066,
          0.3895505944126418,
          0.38941656086506377,
          0.38917446325425636,
          0.3874843106415453,
          0.387406272987085,
          0.3864823450573568,
          0.3863912149928767,
          0.38627347805040235,
          0.385125041129117,
          0.38460236111278595,
          0.3839659580112629,
          0.3829151456789018,
          0.38244903004191294,
          0.38140443660431117,
          0.3814012324092274,
          0.38133760501921654,
          0.3803406955170554,
          0.37910913040557187,
          0.3789771382403456,
          0.37894489818067184,
          0.3788507448030884,
          0.37865886347544914,
          0.3774351193562669,
          0.3771159918620336,
          0.37673461512621254,
          0.37592077541521024,
          0.3751640685697748,
          0.37505413539274646,
          0.3747635097305892,
          0.37461031130650196,
          0.37393728391063397,
          0.37369482453586544,
          0.3734713836093363,
          0.37273999162774835,
          0.37209325241305174,
          0.3719439558716875,
          0.37158869504848496,
          0.37151252650782357,
          0.3713528852398581,
          0.37050797689534165,
          0.3702405902609696,
          0.37010011386951347,
          0.37008862355703553,
          0.36974603308589826,
          0.36971707474215704,
          0.36941078125511423,
          0.3691870044049069,
          0.3678480643044054,
          0.36770726060269876,
          0.36738048438471704,
          0.36686490183276516,
          0.36651965842591333,
          0.36620561285399034,
          0.36597470408569327,
          0.3658688364465132,
          0.3658562952958626,
          0.3654550732227484,
          0.36501006048348894,
          0.3649479404433159,
          0.3646157463793457,
          0.36415460069010785,
          0.3638924940868819,
          0.3636827915774459,
          0.36197315539140273,
          0.36183844999646847,
          0.36145957976809207,
          0.36081249601628973,
          0.3606869553083693,
          0.360108753137441,
          0.35924741037297864,
          0.35822944965365405,
          0.35789369824406664,
          0.3578297349303777,
          0.35777612495671757,
          0.3573854026519021,
          0.3570859568398368,
          0.3569851883498223,
          0.35676513250035746,
          0.3566809793122695,
          0.3565162388951384,
          0.3563584581275442,
          0.35630419353338305,
          0.3555592095629719,
          0.35550050044014614,
          0.3549343484544927,
          0.35474670493325455,
          0.3541708886817838,
          0.35386686913963916,
          0.35382121797312266,
          0.35320876020045167,
          0.35247195037287526,
          0.3523338254471661,
          0.35194329263775886,
          0.3515907708845473,
          0.35155934910049974,
          0.3512252859227306,
          0.35090855296138257,
          0.3508612135630477,
          0.35072954870807194,
          0.3505958424707445,
          0.3505566513749615,
          0.35013693627269427,
          0.34951749301020346,
          0.34919007078514835,
          0.3488444656143355,
          0.3486345994497742,
          0.34836263047189525,
          0.3483380563628251,
          0.3480910146445497,
          0.3480742701412085,
          0.34792610195886575,
          0.34754557795238156,
          0.34746363841519823,
          0.34693734937268406,
          0.3469047733893321,
          0.34676275519432753,
          0.34603882244107986,
          0.3459080189288686,
          0.34586492595036256,
          0.34492230688264547,
          0.34432391483731817,
          0.3440655292348348,
          0.34231296372541087,
          0.342218457197294,
          0.3417734530714622,
          0.3411925376708258,
          0.34117744694559243,
          0.3410798826506618,
          0.33961404092067204,
          0.3391132045568478,
          0.3390312908599474,
          0.33736792600721116,
          0.336292634313484,
          0.3357917979496597,
          0.3353349159071059,
          0.33520189874399,
          0.33453243730716686,
          0.334283199164842,
          0.33378508464415346,
          0.3337613546509925,
          0.3336737905455573,
          0.33169966183683064,
          0.3312748217451149,
          0.3299572601720274,
          0.32954464253413934,
          0.32936531097057825,
          0.32928540420231905,
          0.32900073903209187,
          0.3278002167138395,
          0.3275177393542341,
          0.32749296713632814,
          0.32730565953876817,
          0.3263888290734191,
          0.3257271714020421,
          0.3256686517746245,
          0.3250144877852983,
          0.32450751004756334,
          0.3244182663237374,
          0.3230667678457301,
          0.3225961215458002,
          0.3225393073770562,
          0.32246242392190033,
          0.32207460434220114,
          0.3213881486126352,
          0.3213864517673892,
          0.3194611784202629,
          0.3186038839667935,
          0.3175606686776149,
          0.3167866746828966,
          0.316748517198431,
          0.31669658684316154,
          0.3162702480150356,
          0.31597282635846674,
          0.31575415727085265,
          0.3151283056181943,
          0.3149665885141665,
          0.3149222982692178,
          0.31481898020462057,
          0.31384584376275865,
          0.3136946522673125,
          0.3118564089931075,
          0.3115164111636913,
          0.31085932722239357,
          0.31061113130481366,
          0.3102404266058444,
          0.3101391326967436,
          0.3099864338514597,
          0.3099720580407208,
          0.30912117197741906,
          0.3090711279628038,
          0.3088554908017206,
          0.3079987131539099,
          0.3069568501728715,
          0.30688236125060075,
          0.30668946353849946,
          0.3050237558334439,
          0.3041985550113784,
          0.303435930741151,
          0.3025399619975572,
          0.30179686436780023,
          0.3005408974157995,
          0.29961725372918346,
          0.29892556103560963,
          0.29855486495006794,
          0.2983806239222449,
          0.29563098525553455,
          0.2945202148533392,
          0.2937462294720486,
          0.2933996251436289,
          0.29322149084651045,
          0.2925162061641134,
          0.2915958269665747,
          0.290203595589236,
          0.28854213430400916,
          0.287178077448496,
          0.2865040250547383,
          0.28584337515439573,
          0.2835429784199184,
          0.28318398798254574,
          0.2826361567574924,
          0.2825990156574888,
          0.28216569133954306,
          0.28145992430519784,
          0.2811329844320909,
          0.28057820217092827,
          0.27843423389590505,
          0.27760629400384845,
          0.2754373984692216,
          0.27441519133006825,
          0.27251450931886734,
          0.2722427212229689,
          0.2712795763571747,
          0.26975892738708224,
          0.26910878586846604,
          0.26788590309204824,
          0.2671047944060956,
          0.2649414717591548,
          0.26176258292577465,
          0.26044875096685727,
          0.26027196897787896,
          0.2569977295004729,
          0.25277087937928194,
          0.24995555471335373,
          0.248054019972816,
          0.24717060960672813,
          0.24676445203957353,
          0.24298599112127878,
          0.23816701953008584,
          0.23054868395439018,
          0.2287704934977235,
          0.22214567373369695,
          0.2182720344399291,
          0.21499254077165975,
          0.21417191367967353,
          0.20695158736858063,
          0.19890163293361288,
          0.19748441400267705,
          0.1862017109712673,
          0.17765711322695174,
          0.1379643369641802,
          0.12963340390601719,
          0.1240570794623154,
          0.12278833879711759,
          0.1092812008496285,
          0.09187204236428252,
          0.09003973374172465,
          0.08691174165229659,
          0.0844242095888122,
          0.0783042917264582,
          0.07211769732070719,
          0.0707141134457328,
          0.07032949806111743,
          0.06960046615870412,
          0.0640930232958764,
          0.06311324590130045,
          0.062676036927487,
          0.0577104734112102,
          0.05727342809252199,
          0.05596858855206559,
          0.05542008547965595,
          0.05517984836921974,
          0.053576743056285306,
          0.05294425906434058,
          0.05054240476563725,
          0.05039463280096608,
          0.05012470520543886,
          0.04684367834704878,
          0.046793462063880624,
          0.04584676884488767,
          0.041996540847457915
         ],
         "yaxis": "y"
        },
        {
         "hovertemplate": "<b>OLS trendline</b><br>Power Score = -0.00506319 * Average_Polarity + 0.40169<br>R<sup>2</sup>=0.000058<br><br>Average Sentiment Polarity (-1: Negative, +1: Positive)=%{x}<br>Power Score=%{y} <b>(trend)</b><extra></extra>",
         "legendgroup": "",
         "line": {
          "color": "purple"
         },
         "marker": {
          "color": "#636efa",
          "symbol": "circle"
         },
         "mode": "lines",
         "name": "",
         "showlegend": false,
         "type": "scatter",
         "x": [
          -0.10010000000000001,
          -0.07406337209302326,
          -0.07337272727272728,
          -0.06137894736842105,
          -0.04493283582089552,
          -0.030094999999999993,
          -0.027428571428571438,
          -0.015155555555555552,
          -0.004053333333333324,
          -0.0010833333333333435,
          0.030782352941176476,
          0.03375384615384615,
          0.04255862445414847,
          0.0462,
          0.04888857142857142,
          0.04997563025210084,
          0.05000925925925926,
          0.059199999999999996,
          0.06247307692307692,
          0.06574285714285714,
          0.06769854014598539,
          0.0747625,
          0.07644,
          0.07664484304932735,
          0.0783859375,
          0.09175541401273885,
          0.09659,
          0.09874166666666667,
          0.10230800000000001,
          0.10738153846153846,
          0.10941252955082742,
          0.10948492063492063,
          0.11015217391304348,
          0.1172827067669173,
          0.1185857142857143,
          0.12098648648648648,
          0.12500538922155688,
          0.12545714285714285,
          0.1265647058823529,
          0.12659604519774012,
          0.1273469387755102,
          0.13042372262773722,
          0.13743999999999998,
          0.13939470588235295,
          0.14180281690140845,
          0.1469,
          0.14944606741573033,
          0.14986129032258064,
          0.15056666666666668,
          0.15501754385964914,
          0.15539382716049382,
          0.15979473684210524,
          0.16141238938053096,
          0.16404999999999997,
          0.16477083333333334,
          0.16546607142857145,
          0.1689590909090909,
          0.17115833333333333,
          0.1740765625,
          0.17766990291262136,
          0.17838518518518517,
          0.17999803921568627,
          0.18135,
          0.18184268292682926,
          0.18322,
          0.18345882352941179,
          0.18700769230769232,
          0.18833265306122451,
          0.18976145833333333,
          0.19098138297872339,
          0.19188173076923076,
          0.19285454545454545,
          0.19548148148148148,
          0.19731785714285713,
          0.1983220588235294,
          0.20365652173913043,
          0.20639848484848483,
          0.20714926108374382,
          0.20999428571428572,
          0.2108625,
          0.2115155844155844,
          0.213225,
          0.2166091463414634,
          0.21672000000000002,
          0.21965,
          0.22024,
          0.2216344262295082,
          0.22232698412698412,
          0.22438843537414968,
          0.22686538461538458,
          0.22777692307692307,
          0.22954565217391307,
          0.23047931034482758,
          0.23077,
          0.23199999999999998,
          0.23205199999999998,
          0.23306666666666667,
          0.233568,
          0.23396874999999998,
          0.23699444444444442,
          0.24041929824561406,
          0.2432736111111111,
          0.24485721393034823,
          0.2457034965034965,
          0.24602903225806452,
          0.249412,
          0.2499144278606965,
          0.25085365853658537,
          0.2513324675324675,
          0.25172285714285714,
          0.2535718085106383,
          0.2558178217821782,
          0.2577121673003802,
          0.25793627450980394,
          0.25803125,
          0.2611362745098039,
          0.2613918918918919,
          0.2615047619047619,
          0.26245699481865287,
          0.26313947368421053,
          0.2639308510638298,
          0.2646402409638554,
          0.26628888888888885,
          0.2668925925925926,
          0.2686842105263158,
          0.26870588235294113,
          0.2689024193548387,
          0.27055098039215686,
          0.27160260869565217,
          0.2718662408759124,
          0.27192919708029195,
          0.2729875,
          0.27794375,
          0.2783769230769231,
          0.2794142857142857,
          0.279675,
          0.2813875,
          0.2826258064516129,
          0.2844554913294798,
          0.284475,
          0.285725,
          0.28651525423728813,
          0.28739859154929576,
          0.28938733333333333,
          0.2897787610619469,
          0.2898275,
          0.2935019801980198,
          0.2938348017621146,
          0.29624666666666666,
          0.29699677419354836,
          0.297231746031746,
          0.2975125,
          0.2990663551401869,
          0.29928089887640447,
          0.3000356725146199,
          0.3001111111111111,
          0.3020392578125,
          0.30354306220095695,
          0.30354705882352945,
          0.30440833333333334,
          0.30549814814814813,
          0.30595,
          0.30664864864864866,
          0.30758071428571426,
          0.3076320241691843,
          0.3078461538461538,
          0.30979,
          0.31113902439024393,
          0.3115,
          0.31267058823529414,
          0.3136752066115703,
          0.31457708333333334,
          0.3153410256410256,
          0.31667818181818186,
          0.31683269230769234,
          0.31838947368421056,
          0.3190607142857143,
          0.31948818181818184,
          0.31989151515151515,
          0.32245067567567565,
          0.32289506172839505,
          0.3233166666666667,
          0.32531666666666664,
          0.32581875,
          0.3267478260869565,
          0.33022881355932204,
          0.33353385826771653,
          0.333575,
          0.3340324324324324,
          0.3345127659574468,
          0.3349166666666667,
          0.33496268656716416,
          0.33576623376623377,
          0.33586176470588236,
          0.3365909090909091,
          0.3366581395348837,
          0.3371597359735974,
          0.3376712328767123,
          0.33881428571428573,
          0.33909604863221887,
          0.3394652173913043,
          0.33992142857142854,
          0.34019926739926737,
          0.3409333333333333,
          0.34168181818181814,
          0.34215066666666666,
          0.3423425,
          0.3424986301369863,
          0.34308611111111115,
          0.34335935483870966,
          0.3446015873015873,
          0.34505126050420165,
          0.3451816326530612,
          0.3466068181818182,
          0.3472709821428572,
          0.3478754716981132,
          0.3485388888888889,
          0.3486139534883721,
          0.3504035714285714,
          0.35043913043478264,
          0.3520125954198473,
          0.35227127071823205,
          0.35242666666666667,
          0.3552594339622641,
          0.3555115646258503,
          0.35684716981132075,
          0.35742252747252745,
          0.36001249999999996,
          0.3616027777777778,
          0.36164187192118225,
          0.3624474576271186,
          0.3633237762237762,
          0.3634764705882353,
          0.3649201342281879,
          0.3674733333333334,
          0.3683890086206897,
          0.3686113821138211,
          0.37002815533980576,
          0.3709510638297872,
          0.3717125,
          0.3718083333333333,
          0.37201951219512197,
          0.37219651162790696,
          0.3743859375,
          0.37449780219780215,
          0.3774261363636364,
          0.3774911392405063,
          0.38015454545454547,
          0.3802123376623377,
          0.38038139534883725,
          0.3808982206405694,
          0.3814811023622047,
          0.3827145454545454,
          0.3838076923076923,
          0.384219921875,
          0.38497777777777775,
          0.38515185185185186,
          0.38546428571428576,
          0.38562399999999997,
          0.3860617647058823,
          0.38685185185185184,
          0.386890977443609,
          0.3875666666666666,
          0.38869714285714285,
          0.38988235294117646,
          0.39001,
          0.3908,
          0.3920714285714285,
          0.39280365853658533,
          0.39345882352941175,
          0.393661038961039,
          0.39468983050847456,
          0.39472926829268296,
          0.3950666666666667,
          0.39521111111111107,
          0.3955863247863248,
          0.3973993006993007,
          0.39742500000000003,
          0.3976117647058824,
          0.39837206703910616,
          0.39856111111111114,
          0.40049788359788363,
          0.4010813725490196,
          0.4017102564102564,
          0.40230491803278684,
          0.402419298245614,
          0.40265055679287304,
          0.4036461538461538,
          0.40375068493150684,
          0.4037691588785047,
          0.40397777777777777,
          0.404327868852459,
          0.40531666666666666,
          0.40622,
          0.4072176470588235,
          0.4080281690140845,
          0.40977592592592593,
          0.40997428571428574,
          0.4104672131147541,
          0.41047105263157896,
          0.4124608695652174,
          0.4136166666666667,
          0.413937037037037,
          0.414894,
          0.4151076923076923,
          0.4155875,
          0.4164526315789474,
          0.41649411764705885,
          0.41659710982658954,
          0.4179272727272727,
          0.41841654676258994,
          0.41905,
          0.4195666666666667,
          0.41975750000000006,
          0.4204217252396166,
          0.4207294117647059,
          0.4211957163958641,
          0.42127388535031846,
          0.42154230769230766,
          0.4225068181818182,
          0.4252352226720648,
          0.4252375,
          0.4254430107526882,
          0.4259158192090396,
          0.4262639053254438,
          0.42644418604651163,
          0.42709387755102035,
          0.4274588235294118,
          0.42781875,
          0.4282706666666667,
          0.42863145539906106,
          0.4291502994011976,
          0.42967012195121956,
          0.4301594594594595,
          0.43120740740740743,
          0.432265,
          0.43721956521739136,
          0.4376333333333333,
          0.43840545454545454,
          0.440553711790393,
          0.4410928571428571,
          0.44199,
          0.4424100840336134,
          0.4429988950276243,
          0.44466484375,
          0.44608571428571425,
          0.44674285714285716,
          0.4482481781376518,
          0.44867,
          0.4492512195121951,
          0.44935,
          0.45001315789473684,
          0.4512054383116883,
          0.4514294736842105,
          0.45144666666666666,
          0.4518685185185185,
          0.4551578947368421,
          0.4555,
          0.45573851590106,
          0.4564333333333333,
          0.4584381578947368,
          0.45931714285714287,
          0.459725,
          0.4598399209486166,
          0.46032045454545456,
          0.4604862745098039,
          0.4615177777777778,
          0.461896,
          0.4623801470588235,
          0.4626045454545454,
          0.46303,
          0.4631571428571428,
          0.4635532751091703,
          0.46365,
          0.46510666666666667,
          0.46598,
          0.4662,
          0.466405487804878,
          0.4669364485981309,
          0.46744140127388534,
          0.46744591836734695,
          0.46757596899224807,
          0.46792,
          0.4682701298701299,
          0.468653431372549,
          0.46873666666666663,
          0.46878988095238094,
          0.4688649425287356,
          0.46887525773195876,
          0.46933229813664595,
          0.4698891304347826,
          0.4700424460431654,
          0.4715594594594595,
          0.4721708333333333,
          0.4740276785714285,
          0.4744833333333333,
          0.47512298850574713,
          0.4754918918918919,
          0.47609230769230765,
          0.47639830508474573,
          0.476425,
          0.4774833333333333,
          0.4784395061728395,
          0.4784955752212389,
          0.47873106060606063,
          0.4798777777777778,
          0.48093043478260866,
          0.4816058823529412,
          0.48164210526315787,
          0.48166125,
          0.4819631578947368,
          0.48250666666666664,
          0.48270362694300517,
          0.48279457627118644,
          0.483025,
          0.48360000000000003,
          0.4852727272727273,
          0.48597422680412367,
          0.48616,
          0.4864423728813559,
          0.4881625,
          0.4899,
          0.4908142857142857,
          0.4918774803149606,
          0.49327863247863246,
          0.49343333333333333,
          0.4973892561983471,
          0.4977326315789473,
          0.4981071428571429,
          0.49935205479452055,
          0.5000888888888889,
          0.50094375,
          0.5013666666666666,
          0.502856,
          0.503977868852459,
          0.5042908745247149,
          0.504404347826087,
          0.504659493670886,
          0.504916393442623,
          0.5058170798898072,
          0.5058638613861386,
          0.5061923076923077,
          0.5065230769230769,
          0.5065308641975309,
          0.5069590361445783,
          0.5083848920863309,
          0.5084285714285715,
          0.5086117647058823,
          0.5086761904761905,
          0.5086961538461539,
          0.5100428571428571,
          0.5103142857142856,
          0.5104767857142857,
          0.5105733333333333,
          0.5107409090909091,
          0.5109096153846153,
          0.510951923076923,
          0.5110732824427481,
          0.5141410958904109,
          0.5145918604651163,
          0.5153399999999999,
          0.515725,
          0.5159222222222222,
          0.5167857142857143,
          0.5206666666666666,
          0.520790243902439,
          0.521095652173913,
          0.5214102739726028,
          0.5221129032258065,
          0.5255081761006289,
          0.5275366666666667,
          0.5276000000000001,
          0.5283294117647059,
          0.5285425,
          0.528648,
          0.5288347593582887,
          0.5290473404255319,
          0.5291333333333333,
          0.5292548913043479,
          0.5294458715596331,
          0.53175,
          0.5317714285714286,
          0.5333506329113924,
          0.5335666666666666,
          0.5337391304347826,
          0.5346504761904762,
          0.5378954545454545,
          0.5385105263157894,
          0.54135,
          0.54145,
          0.5417777777777778,
          0.5439276470588235,
          0.5444117370892019,
          0.5450148148148148,
          0.5457530120481927,
          0.5466884615384615,
          0.547109009009009,
          0.5471454545454546,
          0.5484304347826088,
          0.5487830508474576,
          0.5497933035714285,
          0.5512,
          0.5518809523809524,
          0.5520734597156398,
          0.5523076923076923,
          0.5523590909090909,
          0.552758695652174,
          0.5530708737864077,
          0.5539115384615385,
          0.5551275,
          0.5559142857142857,
          0.555931506849315,
          0.5566848837209302,
          0.5571017543859649,
          0.5573327586206897,
          0.5583333333333333,
          0.5592857142857143,
          0.5598763636363636,
          0.5606004975124378,
          0.5622409090909091,
          0.5636014925373134,
          0.5645075471698113,
          0.5662327272727273,
          0.56714,
          0.5675321585903084,
          0.5680484375,
          0.5681020833333333,
          0.5686176470588234,
          0.5707545454545454,
          0.5709013100436682,
          0.5722403263403263,
          0.5723409090909091,
          0.57308125,
          0.5734085858585858,
          0.5738760563380281,
          0.573990625,
          0.5752195121951219,
          0.5752368421052632,
          0.5768972972972972,
          0.5772518518518518,
          0.578904,
          0.5803882352941176,
          0.58395,
          0.5848111111111112,
          0.5868599999999999,
          0.5871595238095237,
          0.5929139534883721,
          0.5929384615384615,
          0.593646,
          0.5943636363636364,
          0.5943734375,
          0.5946285714285714,
          0.59478,
          0.5956637469586374,
          0.5961188118811881,
          0.5966561224489796,
          0.5974095238095238,
          0.5977391304347826,
          0.5997466666666667,
          0.60165625,
          0.6019731707317073,
          0.6026030303030303,
          0.6026408163265305,
          0.6030836363636364,
          0.6043851851851852,
          0.6045333333333334,
          0.6050787878787879,
          0.6066875,
          0.6072041666666667,
          0.6073450704225352,
          0.6073725000000001,
          0.6078138888888889,
          0.6094090909090909,
          0.6105784090909091,
          0.6118545454545454,
          0.6133681818181818,
          0.6136073394495413,
          0.6141988372093024,
          0.6153782608695653,
          0.6162,
          0.6176465753424658,
          0.6185771929824561,
          0.6199945736434108,
          0.6209058823529412,
          0.62208,
          0.62306625,
          0.6237071428571428,
          0.6248044444444444,
          0.6280666666666667,
          0.6287428571428572,
          0.6309333333333333,
          0.6311730769230769,
          0.6329360655737705,
          0.6330230769230769,
          0.633791304347826,
          0.6345568493150685,
          0.6358152173913043,
          0.6368412186379928,
          0.6372194444444444,
          0.6376727272727273,
          0.6384163793103449,
          0.638821875,
          0.6389452380952381,
          0.6389483870967743,
          0.6415730275229358,
          0.6438819672131147,
          0.6440942307692308,
          0.6450309523809524,
          0.6543215094339622,
          0.6546333333333333,
          0.6548285714285714,
          0.6549111111111111,
          0.6578403846153846,
          0.660051282051282,
          0.6609951219512195,
          0.6632666666666667,
          0.664219209039548,
          0.6642204545454545,
          0.6666269230769231,
          0.6674084745762712,
          0.670409090909091,
          0.6708176470588235,
          0.6715363636363636,
          0.6745,
          0.6754484848484849,
          0.6764322580645161,
          0.6809747747747747,
          0.6815258823529411,
          0.6821975609756097,
          0.6837975308641975,
          0.6838777777777778,
          0.68584,
          0.68905,
          0.6915666666666667,
          0.6933116279069768,
          0.6938,
          0.7005344827586207,
          0.7010625,
          0.7038685314685315,
          0.7047120535714286,
          0.70555,
          0.7068500000000001,
          0.7099753846153847,
          0.7183541666666667,
          0.7214714285714285,
          0.724088,
          0.724165909090909,
          0.725376404494382,
          0.7264621621621622,
          0.72714,
          0.7295222222222222,
          0.7312454545454545,
          0.73354,
          0.7439018867924528,
          0.75448125,
          0.7648076923076923,
          0.7765636363636363,
          0.7790222222222222,
          0.7815859030837004,
          0.786075,
          0.787484375,
          0.7996800000000001,
          0.80545,
          0.8066796296296296,
          0.8168105263157894,
          0.82725,
          0.8409642857142857,
          0.8459023255813954,
          0.86555,
          0.86836,
          0.8944333333333332,
          0.9098611111111112
         ],
         "xaxis": "x",
         "y": [
          0.40219699454783686,
          0.40206516611616694,
          0.40206166924922143,
          0.4020009424454192,
          0.4019176726341316,
          0.40184254583074397,
          0.40182904519241297,
          0.40176690456344283,
          0.4017106918868691,
          0.401695654208278,
          0.4015343121381504,
          0.40151926689913775,
          0.40147468662097435,
          0.4014562496394633,
          0.40144263688760745,
          0.4014371329006722,
          0.4014369626305708,
          0.40139042815068093,
          0.40137385593560587,
          0.4013573004123707,
          0.40134739841492056,
          0.4013116322338213,
          0.4013031387301727,
          0.4013021015705978,
          0.40129328607607057,
          0.4012255938569699,
          0.40120111542256004,
          0.40119022112230135,
          0.40117216409387874,
          0.4011464757973454,
          0.40113619250063764,
          0.40113582597072,
          0.40113244753963073,
          0.40109634428668817,
          0.40108974691016647,
          0.4010775913408986,
          0.40105724286695293,
          0.4010549555518101,
          0.40104934774817624,
          0.4010491890712227,
          0.4010453871532838,
          0.4010298088076057,
          0.4009942840520402,
          0.40098438700193956,
          0.4009721942748298,
          0.4009463862609724,
          0.4009334950342152,
          0.4009313926811456,
          0.40092782122567483,
          0.4009052855823495,
          0.4009033803879598,
          0.4008810977397106,
          0.40087290725521735,
          0.4008595525276942,
          0.4008559028105277,
          0.4008523826869518,
          0.4008346968606015,
          0.4008235616751741,
          0.4008087861222235,
          0.40079059235178804,
          0.40078697074070496,
          0.40077880455197606,
          0.4007719593156992,
          0.4007694647677191,
          0.4007624911476974,
          0.4007612819384465,
          0.4007433133364096,
          0.4007366048064576,
          0.4007293704918276,
          0.40072319377979976,
          0.4007186351465695,
          0.4007137095995775,
          0.4007004089195599,
          0.4006911109980218,
          0.40068602653266333,
          0.4006590171256665,
          0.40064513404150925,
          0.400641332717698,
          0.40062692781332837,
          0.4006225318781847,
          0.40061922518675896,
          0.40061057008839634,
          0.4005934355075923,
          0.4005928742342968,
          0.40057803908336354,
          0.4005750518004111,
          0.40056799155345546,
          0.40056448500023395,
          0.40055404747791545,
          0.400541506209708,
          0.40053689091596795,
          0.4005279355019359,
          0.4005232082118726,
          0.4005217363944974,
          0.4005155086690203,
          0.4005152453830652,
          0.4005101079314792,
          0.40050756958483485,
          0.4005055405108634,
          0.4004902208406377,
          0.40047288015017196,
          0.40045842821769057,
          0.4004504101334443,
          0.40044612524276,
          0.4004444769929125,
          0.40042734837958355,
          0.40042480449113765,
          0.40042004898641476,
          0.40041762468480313,
          0.40041564806746766,
          0.4004062864727205,
          0.4003949144775391,
          0.40038532304351787,
          0.4003841883458124,
          0.40038370746672297,
          0.4003679861331891,
          0.4003666918934469,
          0.4003661204109634,
          0.40036129907342033,
          0.400357843552267,
          0.4003538366570889,
          0.4003502448802161,
          0.40034189746014653,
          0.40033884079271875,
          0.4003297694881244,
          0.40032965975951723,
          0.4003286646550506,
          0.4003203176749103,
          0.40031499307948093,
          0.4003136582592812,
          0.40031333949996584,
          0.40030798110967675,
          0.4002828866670785,
          0.4002806934288613,
          0.40027544106323065,
          0.4002741210168897,
          0.4002654503015405,
          0.40025918051890863,
          0.40024991647408836,
          0.4002498176979547,
          0.4002434887086487,
          0.40023948750015526,
          0.4002350149942342,
          0.40022494561384736,
          0.40022296374032057,
          0.4002227169657464,
          0.40020411236904374,
          0.40020242722974775,
          0.40019021549599704,
          0.40018641755798423,
          0.4001852278505833,
          0.40018380633949313,
          0.4001759388734409,
          0.4001748525974312,
          0.40017103103400337,
          0.400170649073947,
          0.40016088649806425,
          0.40015327244855,
          0.4001532522128847,
          0.4001488914151551,
          0.40014337347410833,
          0.4001410856616777,
          0.40013754826981696,
          0.40013282904305736,
          0.40013256925129437,
          0.40013148507174584,
          0.4001216430065297,
          0.40011481263777815,
          0.4001129849491591,
          0.4001070580368208,
          0.4001019714616527,
          0.4000974050871508,
          0.4000935371009942,
          0.40008676682327765,
          0.40008598450708904,
          0.40007810222494206,
          0.4000747036052711,
          0.40007253925531777,
          0.40007049710143505,
          0.40005753958176327,
          0.40005528957010295,
          0.4000531549035864,
          0.40004302852069684,
          0.4000404863766589,
          0.4000357822865639,
          0.40001815738057434,
          0.40000142330648214,
          0.4000012149980152,
          0.39999889893003676,
          0.39999646690944224,
          0.3999944218828268,
          0.3999941888752603,
          0.39999012036195647,
          0.3999896366705201,
          0.39998594487290784,
          0.3999856044722991,
          0.3999830647935019,
          0.399980474986758,
          0.3999746874914098,
          0.3999732608718143,
          0.3999713916997116,
          0.3999690818151674,
          0.3999676750639912,
          0.39996395834763393,
          0.3999601686255525,
          0.39995779475591514,
          0.399956823467023,
          0.3999560329502491,
          0.39995305842160694,
          0.399951674936303,
          0.39994538527552453,
          0.3999431084940121,
          0.39994244839486337,
          0.3999352324076869,
          0.39993186961840144,
          0.3999288089720568,
          0.39992544996381213,
          0.3999250698973742,
          0.39991600871912997,
          0.3999158286770739,
          0.39990786192262284,
          0.3999065522000651,
          0.39990576540062844,
          0.39989142255749227,
          0.39989014597167344,
          0.3998833835469247,
          0.39988047040093677,
          0.39986735687419345,
          0.39985930499335415,
          0.3998591070522217,
          0.39985502821756735,
          0.3998505912487459,
          0.39984981812794607,
          0.3998425085825551,
          0.39982958124668905,
          0.3998249450074079,
          0.3998238190878399,
          0.3998166456937629,
          0.39981197283139214,
          0.39980811753428935,
          0.39980763231177585,
          0.39980656307276957,
          0.39980566689075575,
          0.3997945814084111,
          0.39979401501603024,
          0.3997791882995343,
          0.39977885917752426,
          0.3997653738419673,
          0.39976508122895527,
          0.39976422525752325,
          0.3997616084721277,
          0.3997586572303814,
          0.3997524120718686,
          0.39974687726007385,
          0.3997447900628554,
          0.39974095289333206,
          0.3997400715229694,
          0.3997384896105101,
          0.3997376809465051,
          0.3997354644599914,
          0.3997314640975133,
          0.39973126599715186,
          0.3997278448532583,
          0.39972212103588217,
          0.39971612009032437,
          0.3997154737888282,
          0.3997114738675868,
          0.39970503638132127,
          0.39970132896082605,
          0.3996980117350395,
          0.39969698787959607,
          0.3996917789110346,
          0.399691579229983,
          0.39968987091742236,
          0.399689139567547,
          0.39968723978887666,
          0.39967806034474446,
          0.399677930224265,
          0.399676984598804,
          0.399673135042535,
          0.3996721778762069,
          0.3996623716263214,
          0.39965941731005583,
          0.3996562331506699,
          0.39965322226503014,
          0.3996526431361151,
          0.39965147222981706,
          0.39964643133133443,
          0.3996459020704374,
          0.39964580853330695,
          0.3996447522558809,
          0.3996429796777467,
          0.3996379732051132,
          0.3996333994555081,
          0.3996283481774549,
          0.3996242443496252,
          0.39961539512178157,
          0.39961439078819816,
          0.39961189500240124,
          0.39961187556219246,
          0.39960180073811735,
          0.3995959487161214,
          0.399594326619603,
          0.3995894813329159,
          0.3995883993678518,
          0.39958597000964896,
          0.3995815896828398,
          0.39958137963093465,
          0.3995808581618124,
          0.39957412329239345,
          0.3995716460042837,
          0.39956843870927133,
          0.39956582272702484,
          0.3995648565013241,
          0.3995614934017735,
          0.399559935525992,
          0.39955757453637286,
          0.39955717875199137,
          0.39955581967828585,
          0.3995509361770269,
          0.39953712174275396,
          0.39953711021220667,
          0.39953606967192185,
          0.3995336757521906,
          0.399531913325544,
          0.3995310005297394,
          0.399527711017272,
          0.39952586322591643,
          0.3995240408492898,
          0.39952175270868934,
          0.3995199259662661,
          0.3995172989597533,
          0.3995146669986652,
          0.3995121893891799,
          0.39950688342809526,
          0.39950152863432836,
          0.399476442722107,
          0.39947434773492224,
          0.39947043833740664,
          0.3994595612997029,
          0.39945683150356676,
          0.3994522890975277,
          0.39945016213164264,
          0.39944718086885517,
          0.39943874585153655,
          0.39943155171199596,
          0.3994282244719037,
          0.39942060274352115,
          0.3994184669786765,
          0.3994155241530148,
          0.39941502400849405,
          0.39941166631311487,
          0.39940562956910797,
          0.39940449523512644,
          0.39940440818376477,
          0.39940227226707753,
          0.3993856175255502,
          0.3993838853811085,
          0.39938267772943886,
          0.39937915973576005,
          0.39936900892519245,
          0.3993645584560507,
          0.39936249339725427,
          0.39936191153049044,
          0.39935947849689396,
          0.39935863891866913,
          0.3993534162201474,
          0.3993515012086276,
          0.39934904987938136,
          0.3993479137073439,
          0.3993457595495292,
          0.3993451158009027,
          0.3993431101074732,
          0.39934262037083346,
          0.3993352449886289,
          0.3993308231347671,
          0.3993297092326492,
          0.39932866880855356,
          0.39932598045240764,
          0.39932342378033975,
          0.39932340090943075,
          0.39932274243821936,
          0.39932100054336417,
          0.3993192277688012,
          0.39931728703991337,
          0.3993168656036843,
          0.3993165961695681,
          0.3993162161184369,
          0.39931616389058816,
          0.3993138498075212,
          0.39931103045899313,
          0.3993102541927164,
          0.3993025732633654,
          0.3992994777603976,
          0.39929007619747375,
          0.3992877691301815,
          0.3992845304335849,
          0.39928266260511625,
          0.39927962258497224,
          0.39927807326159276,
          0.3992779381001262,
          0.3992725795558471,
          0.3992677382697064,
          0.3992674543813802,
          0.3992662620737944,
          0.399260456025221,
          0.3992551262212798,
          0.3992517063009203,
          0.3992515228973912,
          0.3992514259639234,
          0.39924989734645366,
          0.39924714545748946,
          0.39924614820990334,
          0.39924568771604296,
          0.3992445210365905,
          0.3992416097015098,
          0.39923314036309304,
          0.3992295885366671,
          0.3992286479314111,
          0.399227218223454,
          0.3992185088905429,
          0.3992097115954076,
          0.3992050823918009,
          0.3991996992339946,
          0.39919260493234665,
          0.39919182165230266,
          0.39917179205749626,
          0.3991700534822068,
          0.39916815725990706,
          0.3991618540324362,
          0.3991581233003534,
          0.3991537949748891,
          0.3991516536668406,
          0.3991441128870488,
          0.3991384326502729,
          0.3991368478426309,
          0.3991362733055822,
          0.39913498145332366,
          0.39913368072059724,
          0.3991291203726834,
          0.3991288835090114,
          0.3991272205224839,
          0.3991255457745445,
          0.39912550634608307,
          0.3991233384295439,
          0.3991161190479381,
          0.39911589789106616,
          0.39911497034843174,
          0.3991146441484227,
          0.39911454307005867,
          0.3991077244534481,
          0.3991063501586274,
          0.39910552739001764,
          0.3991050385509389,
          0.39910419008279674,
          0.39910333589053376,
          0.399103121678588,
          0.3991025072128852,
          0.3990869742860828,
          0.3990846919787445,
          0.399080904005052,
          0.39907895467634574,
          0.3990779561024775,
          0.39907358407684895,
          0.39905393407195605,
          0.3990533083767531,
          0.3990517620362058,
          0.39905016904580637,
          0.39904661149938264,
          0.3990294205828101,
          0.3990191499467303,
          0.3990188292779388,
          0.399015136126532,
          0.39901405722000205,
          0.3990135230533047,
          0.3990125774549195,
          0.39901150111627853,
          0.39901106571772343,
          0.39901045024644455,
          0.3990094832768499,
          0.3989978170334429,
          0.39899770853648336,
          0.39898971272257966,
          0.3989886189023182,
          0.3989877456852429,
          0.3989831313672094,
          0.39896670142056395,
          0.3989635871944385,
          0.39894921039557285,
          0.3989487040764284,
          0.3989470444747881,
          0.39893615927503695,
          0.3989337082345366,
          0.39893065473655576,
          0.3989269171026391,
          0.39892218074278296,
          0.39892005143042797,
          0.3989198668996996,
          0.3989133607987561,
          0.3989115754361133,
          0.3989064603331642,
          0.3988993379598416,
          0.3988958901675721,
          0.398894915466082,
          0.3988937295016258,
          0.398893469260667,
          0.3988914459853505,
          0.398889865367692,
          0.39888560892150093,
          0.3988794522754422,
          0.39887546862874473,
          0.3988753814348412,
          0.3988715669435101,
          0.39886945624752534,
          0.39886828662886037,
          0.3988632205275354,
          0.3988583984404451,
          0.3988554078697061,
          0.39885174144125984,
          0.39884343572338976,
          0.398836546828924,
          0.39883195930086024,
          0.3988232243837224,
          0.3988186306882116,
          0.3988166451141921,
          0.39881403109523345,
          0.3988137594761091,
          0.3988111490782649,
          0.3988003295525893,
          0.3987995864553773,
          0.39879280675951956,
          0.39879229748979733,
          0.3987885490020402,
          0.3987868916379214,
          0.3987845247453892,
          0.3987839446623201,
          0.3987777225711871,
          0.39877763482653433,
          0.39876922762401157,
          0.39876743244642426,
          0.398759067304055,
          0.39875155233661175,
          0.3987335184400246,
          0.39872915846961376,
          0.3987187845529202,
          0.39871726800653035,
          0.39868813222741073,
          0.39868800813846117,
          0.39868442573577584,
          0.39868079220547903,
          0.3986807425804492,
          0.3986794507885248,
          0.39867868407667745,
          0.3986742094966371,
          0.39867190541581443,
          0.3986691849095444,
          0.39866537029422117,
          0.398663701432776,
          0.3986535368925016,
          0.39864386830650517,
          0.39864226367616773,
          0.39863907457657477,
          0.39863888325870384,
          0.3986366411760804,
          0.39863005118522216,
          0.3986293010827859,
          0.3986265393419978,
          0.3986183941245485,
          0.3986157781423021,
          0.39861506471961083,
          0.39861492583840885,
          0.3986126910019628,
          0.3986046141887414,
          0.39859869370692697,
          0.3985922323842082,
          0.3985845685535213,
          0.39858335765264824,
          0.3985803627862514,
          0.398574391138465,
          0.39857023051592994,
          0.3985629062280317,
          0.3985581943327585,
          0.39855101786312197,
          0.3985464037326603,
          0.39854045895023454,
          0.3985354653776721,
          0.3985322204144408,
          0.3985266645664316,
          0.39851014731078505,
          0.3985067236289509,
          0.39849563282864325,
          0.3984944189609507,
          0.39848549261189725,
          0.39848505205677787,
          0.39848116237425324,
          0.39847728627352447,
          0.3984709149150465,
          0.3984657200743119,
          0.39846380504464446,
          0.3984615099869062,
          0.3984577447342715,
          0.3984556916319647,
          0.39845506702099626,
          0.39845505107699863,
          0.3984417620200472,
          0.3984300714163614,
          0.39842899668534,
          0.3984242538844894,
          0.3983772140155012,
          0.3983756351914016,
          0.3983746466635481,
          0.39837422874933365,
          0.3983593972767873,
          0.39834820307980456,
          0.3983434242376979,
          0.3983319229719282,
          0.398327100067535,
          0.3983270937613002,
          0.39831490935041947,
          0.39831095220555435,
          0.39829575951060886,
          0.39829369091260686,
          0.3982900519129802,
          0.39827504645469836,
          0.398270244094328,
          0.39826526306219695,
          0.3982422634304517,
          0.3982394730672768,
          0.3982360722298209,
          0.39822797127596904,
          0.39822756497048273,
          0.3982176298637144,
          0.3982013770191766,
          0.39818863465404053,
          0.3981797995812171,
          0.39817732685981383,
          0.39814322888432524,
          0.398140555431946,
          0.3981263479574207,
          0.3981220770435258,
          0.39811783436033743,
          0.3981112522114592,
          0.3980954277908129,
          0.39805300441321306,
          0.3980372211194057,
          0.3980239729173338,
          0.3980235784486913,
          0.3980174494787205,
          0.39801195207978585,
          0.39800852005704435,
          0.3979964584098692,
          0.39798773335471277,
          0.39797611563179763,
          0.39792365141523817,
          0.3978700860739543,
          0.3978178013196068,
          0.3977582787242373,
          0.3977458304333518,
          0.3977328500263468,
          0.3977101208692453,
          0.3977029849338028,
          0.39764123614963887,
          0.3976120215350024,
          0.3976057956847814,
          0.39755450101535195,
          0.39750164396150584,
          0.3974322059074058,
          0.3974072036661966,
          0.39730772372917017,
          0.39729349616121035,
          0.3971614818829397,
          0.39708336809048306
         ],
         "yaxis": "y"
        }
       ],
       "layout": {
        "legend": {
         "tracegroupgap": 0
        },
        "template": {
         "data": {
          "bar": [
           {
            "error_x": {
             "color": "#2a3f5f"
            },
            "error_y": {
             "color": "#2a3f5f"
            },
            "marker": {
             "line": {
              "color": "#E5ECF6",
              "width": 0.5
             },
             "pattern": {
              "fillmode": "overlay",
              "size": 10,
              "solidity": 0.2
             }
            },
            "type": "bar"
           }
          ],
          "barpolar": [
           {
            "marker": {
             "line": {
              "color": "#E5ECF6",
              "width": 0.5
             },
             "pattern": {
              "fillmode": "overlay",
              "size": 10,
              "solidity": 0.2
             }
            },
            "type": "barpolar"
           }
          ],
          "carpet": [
           {
            "aaxis": {
             "endlinecolor": "#2a3f5f",
             "gridcolor": "white",
             "linecolor": "white",
             "minorgridcolor": "white",
             "startlinecolor": "#2a3f5f"
            },
            "baxis": {
             "endlinecolor": "#2a3f5f",
             "gridcolor": "white",
             "linecolor": "white",
             "minorgridcolor": "white",
             "startlinecolor": "#2a3f5f"
            },
            "type": "carpet"
           }
          ],
          "choropleth": [
           {
            "colorbar": {
             "outlinewidth": 0,
             "ticks": ""
            },
            "type": "choropleth"
           }
          ],
          "contour": [
           {
            "colorbar": {
             "outlinewidth": 0,
             "ticks": ""
            },
            "colorscale": [
             [
              0,
              "#0d0887"
             ],
             [
              0.1111111111111111,
              "#46039f"
             ],
             [
              0.2222222222222222,
              "#7201a8"
             ],
             [
              0.3333333333333333,
              "#9c179e"
             ],
             [
              0.4444444444444444,
              "#bd3786"
             ],
             [
              0.5555555555555556,
              "#d8576b"
             ],
             [
              0.6666666666666666,
              "#ed7953"
             ],
             [
              0.7777777777777778,
              "#fb9f3a"
             ],
             [
              0.8888888888888888,
              "#fdca26"
             ],
             [
              1,
              "#f0f921"
             ]
            ],
            "type": "contour"
           }
          ],
          "contourcarpet": [
           {
            "colorbar": {
             "outlinewidth": 0,
             "ticks": ""
            },
            "type": "contourcarpet"
           }
          ],
          "heatmap": [
           {
            "colorbar": {
             "outlinewidth": 0,
             "ticks": ""
            },
            "colorscale": [
             [
              0,
              "#0d0887"
             ],
             [
              0.1111111111111111,
              "#46039f"
             ],
             [
              0.2222222222222222,
              "#7201a8"
             ],
             [
              0.3333333333333333,
              "#9c179e"
             ],
             [
              0.4444444444444444,
              "#bd3786"
             ],
             [
              0.5555555555555556,
              "#d8576b"
             ],
             [
              0.6666666666666666,
              "#ed7953"
             ],
             [
              0.7777777777777778,
              "#fb9f3a"
             ],
             [
              0.8888888888888888,
              "#fdca26"
             ],
             [
              1,
              "#f0f921"
             ]
            ],
            "type": "heatmap"
           }
          ],
          "heatmapgl": [
           {
            "colorbar": {
             "outlinewidth": 0,
             "ticks": ""
            },
            "colorscale": [
             [
              0,
              "#0d0887"
             ],
             [
              0.1111111111111111,
              "#46039f"
             ],
             [
              0.2222222222222222,
              "#7201a8"
             ],
             [
              0.3333333333333333,
              "#9c179e"
             ],
             [
              0.4444444444444444,
              "#bd3786"
             ],
             [
              0.5555555555555556,
              "#d8576b"
             ],
             [
              0.6666666666666666,
              "#ed7953"
             ],
             [
              0.7777777777777778,
              "#fb9f3a"
             ],
             [
              0.8888888888888888,
              "#fdca26"
             ],
             [
              1,
              "#f0f921"
             ]
            ],
            "type": "heatmapgl"
           }
          ],
          "histogram": [
           {
            "marker": {
             "pattern": {
              "fillmode": "overlay",
              "size": 10,
              "solidity": 0.2
             }
            },
            "type": "histogram"
           }
          ],
          "histogram2d": [
           {
            "colorbar": {
             "outlinewidth": 0,
             "ticks": ""
            },
            "colorscale": [
             [
              0,
              "#0d0887"
             ],
             [
              0.1111111111111111,
              "#46039f"
             ],
             [
              0.2222222222222222,
              "#7201a8"
             ],
             [
              0.3333333333333333,
              "#9c179e"
             ],
             [
              0.4444444444444444,
              "#bd3786"
             ],
             [
              0.5555555555555556,
              "#d8576b"
             ],
             [
              0.6666666666666666,
              "#ed7953"
             ],
             [
              0.7777777777777778,
              "#fb9f3a"
             ],
             [
              0.8888888888888888,
              "#fdca26"
             ],
             [
              1,
              "#f0f921"
             ]
            ],
            "type": "histogram2d"
           }
          ],
          "histogram2dcontour": [
           {
            "colorbar": {
             "outlinewidth": 0,
             "ticks": ""
            },
            "colorscale": [
             [
              0,
              "#0d0887"
             ],
             [
              0.1111111111111111,
              "#46039f"
             ],
             [
              0.2222222222222222,
              "#7201a8"
             ],
             [
              0.3333333333333333,
              "#9c179e"
             ],
             [
              0.4444444444444444,
              "#bd3786"
             ],
             [
              0.5555555555555556,
              "#d8576b"
             ],
             [
              0.6666666666666666,
              "#ed7953"
             ],
             [
              0.7777777777777778,
              "#fb9f3a"
             ],
             [
              0.8888888888888888,
              "#fdca26"
             ],
             [
              1,
              "#f0f921"
             ]
            ],
            "type": "histogram2dcontour"
           }
          ],
          "mesh3d": [
           {
            "colorbar": {
             "outlinewidth": 0,
             "ticks": ""
            },
            "type": "mesh3d"
           }
          ],
          "parcoords": [
           {
            "line": {
             "colorbar": {
              "outlinewidth": 0,
              "ticks": ""
             }
            },
            "type": "parcoords"
           }
          ],
          "pie": [
           {
            "automargin": true,
            "type": "pie"
           }
          ],
          "scatter": [
           {
            "fillpattern": {
             "fillmode": "overlay",
             "size": 10,
             "solidity": 0.2
            },
            "type": "scatter"
           }
          ],
          "scatter3d": [
           {
            "line": {
             "colorbar": {
              "outlinewidth": 0,
              "ticks": ""
             }
            },
            "marker": {
             "colorbar": {
              "outlinewidth": 0,
              "ticks": ""
             }
            },
            "type": "scatter3d"
           }
          ],
          "scattercarpet": [
           {
            "marker": {
             "colorbar": {
              "outlinewidth": 0,
              "ticks": ""
             }
            },
            "type": "scattercarpet"
           }
          ],
          "scattergeo": [
           {
            "marker": {
             "colorbar": {
              "outlinewidth": 0,
              "ticks": ""
             }
            },
            "type": "scattergeo"
           }
          ],
          "scattergl": [
           {
            "marker": {
             "colorbar": {
              "outlinewidth": 0,
              "ticks": ""
             }
            },
            "type": "scattergl"
           }
          ],
          "scattermapbox": [
           {
            "marker": {
             "colorbar": {
              "outlinewidth": 0,
              "ticks": ""
             }
            },
            "type": "scattermapbox"
           }
          ],
          "scatterpolar": [
           {
            "marker": {
             "colorbar": {
              "outlinewidth": 0,
              "ticks": ""
             }
            },
            "type": "scatterpolar"
           }
          ],
          "scatterpolargl": [
           {
            "marker": {
             "colorbar": {
              "outlinewidth": 0,
              "ticks": ""
             }
            },
            "type": "scatterpolargl"
           }
          ],
          "scatterternary": [
           {
            "marker": {
             "colorbar": {
              "outlinewidth": 0,
              "ticks": ""
             }
            },
            "type": "scatterternary"
           }
          ],
          "surface": [
           {
            "colorbar": {
             "outlinewidth": 0,
             "ticks": ""
            },
            "colorscale": [
             [
              0,
              "#0d0887"
             ],
             [
              0.1111111111111111,
              "#46039f"
             ],
             [
              0.2222222222222222,
              "#7201a8"
             ],
             [
              0.3333333333333333,
              "#9c179e"
             ],
             [
              0.4444444444444444,
              "#bd3786"
             ],
             [
              0.5555555555555556,
              "#d8576b"
             ],
             [
              0.6666666666666666,
              "#ed7953"
             ],
             [
              0.7777777777777778,
              "#fb9f3a"
             ],
             [
              0.8888888888888888,
              "#fdca26"
             ],
             [
              1,
              "#f0f921"
             ]
            ],
            "type": "surface"
           }
          ],
          "table": [
           {
            "cells": {
             "fill": {
              "color": "#EBF0F8"
             },
             "line": {
              "color": "white"
             }
            },
            "header": {
             "fill": {
              "color": "#C8D4E3"
             },
             "line": {
              "color": "white"
             }
            },
            "type": "table"
           }
          ]
         },
         "layout": {
          "annotationdefaults": {
           "arrowcolor": "#2a3f5f",
           "arrowhead": 0,
           "arrowwidth": 1
          },
          "autotypenumbers": "strict",
          "coloraxis": {
           "colorbar": {
            "outlinewidth": 0,
            "ticks": ""
           }
          },
          "colorscale": {
           "diverging": [
            [
             0,
             "#8e0152"
            ],
            [
             0.1,
             "#c51b7d"
            ],
            [
             0.2,
             "#de77ae"
            ],
            [
             0.3,
             "#f1b6da"
            ],
            [
             0.4,
             "#fde0ef"
            ],
            [
             0.5,
             "#f7f7f7"
            ],
            [
             0.6,
             "#e6f5d0"
            ],
            [
             0.7,
             "#b8e186"
            ],
            [
             0.8,
             "#7fbc41"
            ],
            [
             0.9,
             "#4d9221"
            ],
            [
             1,
             "#276419"
            ]
           ],
           "sequential": [
            [
             0,
             "#0d0887"
            ],
            [
             0.1111111111111111,
             "#46039f"
            ],
            [
             0.2222222222222222,
             "#7201a8"
            ],
            [
             0.3333333333333333,
             "#9c179e"
            ],
            [
             0.4444444444444444,
             "#bd3786"
            ],
            [
             0.5555555555555556,
             "#d8576b"
            ],
            [
             0.6666666666666666,
             "#ed7953"
            ],
            [
             0.7777777777777778,
             "#fb9f3a"
            ],
            [
             0.8888888888888888,
             "#fdca26"
            ],
            [
             1,
             "#f0f921"
            ]
           ],
           "sequentialminus": [
            [
             0,
             "#0d0887"
            ],
            [
             0.1111111111111111,
             "#46039f"
            ],
            [
             0.2222222222222222,
             "#7201a8"
            ],
            [
             0.3333333333333333,
             "#9c179e"
            ],
            [
             0.4444444444444444,
             "#bd3786"
            ],
            [
             0.5555555555555556,
             "#d8576b"
            ],
            [
             0.6666666666666666,
             "#ed7953"
            ],
            [
             0.7777777777777778,
             "#fb9f3a"
            ],
            [
             0.8888888888888888,
             "#fdca26"
            ],
            [
             1,
             "#f0f921"
            ]
           ]
          },
          "colorway": [
           "#636efa",
           "#EF553B",
           "#00cc96",
           "#ab63fa",
           "#FFA15A",
           "#19d3f3",
           "#FF6692",
           "#B6E880",
           "#FF97FF",
           "#FECB52"
          ],
          "font": {
           "color": "#2a3f5f"
          },
          "geo": {
           "bgcolor": "white",
           "lakecolor": "white",
           "landcolor": "#E5ECF6",
           "showlakes": true,
           "showland": true,
           "subunitcolor": "white"
          },
          "hoverlabel": {
           "align": "left"
          },
          "hovermode": "closest",
          "mapbox": {
           "style": "light"
          },
          "paper_bgcolor": "white",
          "plot_bgcolor": "#E5ECF6",
          "polar": {
           "angularaxis": {
            "gridcolor": "white",
            "linecolor": "white",
            "ticks": ""
           },
           "bgcolor": "#E5ECF6",
           "radialaxis": {
            "gridcolor": "white",
            "linecolor": "white",
            "ticks": ""
           }
          },
          "scene": {
           "xaxis": {
            "backgroundcolor": "#E5ECF6",
            "gridcolor": "white",
            "gridwidth": 2,
            "linecolor": "white",
            "showbackground": true,
            "ticks": "",
            "zerolinecolor": "white"
           },
           "yaxis": {
            "backgroundcolor": "#E5ECF6",
            "gridcolor": "white",
            "gridwidth": 2,
            "linecolor": "white",
            "showbackground": true,
            "ticks": "",
            "zerolinecolor": "white"
           },
           "zaxis": {
            "backgroundcolor": "#E5ECF6",
            "gridcolor": "white",
            "gridwidth": 2,
            "linecolor": "white",
            "showbackground": true,
            "ticks": "",
            "zerolinecolor": "white"
           }
          },
          "shapedefaults": {
           "line": {
            "color": "#2a3f5f"
           }
          },
          "ternary": {
           "aaxis": {
            "gridcolor": "white",
            "linecolor": "white",
            "ticks": ""
           },
           "baxis": {
            "gridcolor": "white",
            "linecolor": "white",
            "ticks": ""
           },
           "bgcolor": "#E5ECF6",
           "caxis": {
            "gridcolor": "white",
            "linecolor": "white",
            "ticks": ""
           }
          },
          "title": {
           "x": 0.05
          },
          "xaxis": {
           "automargin": true,
           "gridcolor": "white",
           "linecolor": "white",
           "ticks": "",
           "title": {
            "standoff": 15
           },
           "zerolinecolor": "white",
           "zerolinewidth": 2
          },
          "yaxis": {
           "automargin": true,
           "gridcolor": "white",
           "linecolor": "white",
           "ticks": "",
           "title": {
            "standoff": 15
           },
           "zerolinecolor": "white",
           "zerolinewidth": 2
          }
         }
        },
        "title": {
         "text": "Sentiment vs. Power Score"
        },
        "xaxis": {
         "anchor": "y",
         "domain": [
          0,
          1
         ],
         "title": {
          "text": "Average Sentiment Polarity (-1: Negative, +1: Positive)"
         }
        },
        "yaxis": {
         "anchor": "x",
         "domain": [
          0,
          1
         ],
         "title": {
          "text": "Power Score"
         }
        }
       }
      }
     },
     "metadata": {},
     "output_type": "display_data"
    },
    {
     "data": {
      "application/vnd.plotly.v1+json": {
       "config": {
        "plotlyServerURL": "https://plot.ly"
       },
       "data": [
        {
         "customdata": [
          [
           "Acalamari"
          ],
          [
           "Stifle"
          ],
          [
           "Siva1979"
          ],
          [
           "Bearian"
          ],
          [
           "Juliancolton"
          ],
          [
           "Malinaccier"
          ],
          [
           "SoWhy"
          ],
          [
           "Bibliomaniac15"
          ],
          [
           "Daniel"
          ],
          [
           "Newyorkbrad"
          ],
          [
           "PhilKnight"
          ],
          [
           "Lankiveil"
          ],
          [
           "GlassCobra"
          ],
          [
           "MONGO"
          ],
          [
           "Fastily"
          ],
          [
           "Xoloz"
          ],
          [
           "Sjakkalle"
          ],
          [
           "Majorly"
          ],
          [
           "Merovingian"
          ],
          [
           "Ceranthor"
          ],
          [
           "Rogerd"
          ],
          [
           "Kudpung"
          ],
          [
           "Jayjg"
          ],
          [
           "Airplaneman"
          ],
          [
           "HJ Mitchell"
          ],
          [
           "NuclearWarfare"
          ],
          [
           "OlEnglish"
          ],
          [
           "Kusma"
          ],
          [
           "Axl"
          ],
          [
           "EdJohnston"
          ],
          [
           "Husond"
          ],
          [
           "Stephen"
          ],
          [
           "Sceptre"
          ],
          [
           "Phantomsteve"
          ],
          [
           "Soap"
          ],
          [
           "RegentsPark"
          ],
          [
           "Wisdom89"
          ],
          [
           "JoshuaZ"
          ],
          [
           "Useight"
          ],
          [
           "Mazca"
          ],
          [
           "Ktr101"
          ],
          [
           "Swarm"
          ],
          [
           "DarkFalls"
          ],
          [
           "Ultraexactzz"
          ],
          [
           "Antandrus"
          ],
          [
           "SarekOfVulcan"
          ],
          [
           "Avraham"
          ],
          [
           "Fetchcomms"
          ],
          [
           "Tiptoety"
          ],
          [
           "Steven Walling"
          ],
          [
           "Prodego"
          ],
          [
           "Jusdafax"
          ],
          [
           "MBisanz"
          ],
          [
           "Nick"
          ],
          [
           "Black Kite"
          ],
          [
           "Riana"
          ],
          [
           "WJBscribe"
          ],
          [
           "X!"
          ],
          [
           "Spencer"
          ],
          [
           "FayssalF"
          ],
          [
           "Dank"
          ],
          [
           "Tryptofish"
          ],
          [
           "Andrevan"
          ],
          [
           "Xaosflux"
          ],
          [
           "Toddst1"
          ],
          [
           "MuZemike"
          ],
          [
           "Richardcavell"
          ],
          [
           "Legoktm"
          ],
          [
           "Alison"
          ],
          [
           "Euryalus"
          ],
          [
           "Bishonen"
          ],
          [
           "Swatjester"
          ],
          [
           "Davewild"
          ],
          [
           "ArcAngel"
          ],
          [
           "Malcolmxl5"
          ],
          [
           "BusterD"
          ],
          [
           "Connormah"
          ],
          [
           "Addshore"
          ],
          [
           "Eagles247"
          ],
          [
           "Ks0stm"
          ],
          [
           "Shadowjams"
          ],
          [
           "SQL"
          ],
          [
           "Khoikhoi"
          ],
          [
           "PeterSymonds"
          ],
          [
           "GorillaWarfare"
          ],
          [
           "Hammersoft"
          ],
          [
           "Risker"
          ],
          [
           "Dweller"
          ],
          [
           "Modernist"
          ],
          [
           "Trusilver"
          ],
          [
           "Agathoclea"
          ],
          [
           "Keilana"
          ],
          [
           "Coffee"
          ],
          [
           "Tawker"
          ],
          [
           "B"
          ],
          [
           "SpacemanSpiff"
          ],
          [
           "Seraphimblade"
          ],
          [
           "RyanGerbil10"
          ],
          [
           "Rschen7754"
          ],
          [
           "Mifter"
          ],
          [
           "Titoxd"
          ],
          [
           "Keegan"
          ],
          [
           "Lar"
          ],
          [
           "Angusmclellan"
          ],
          [
           "Guerillero"
          ],
          [
           "Ironholds"
          ],
          [
           "Nihiltres"
          ],
          [
           "Monty845"
          ],
          [
           "Slgrandson"
          ],
          [
           "Gurch"
          ],
          [
           "Jonathunder"
          ],
          [
           "Heimstern"
          ],
          [
           "Spartaz"
          ],
          [
           "Radiant!"
          ],
          [
           "DragonflySixtyseven"
          ],
          [
           "Jauerback"
          ],
          [
           "NativeForeigner"
          ],
          [
           "Tnxman307"
          ],
          [
           "JIP"
          ],
          [
           "Hersfold"
          ],
          [
           "Lectonar"
          ],
          [
           "Fabrictramp"
          ],
          [
           "MSGJ"
          ],
          [
           "Kingturtle"
          ],
          [
           "Jayron32"
          ],
          [
           "Stwalkerster"
          ],
          [
           "Xymmax"
          ],
          [
           "Elkman"
          ],
          [
           "Abecedare"
          ],
          [
           "Cbrown1023"
          ],
          [
           "hmwith"
          ],
          [
           "Smartse"
          ],
          [
           "Logan"
          ],
          [
           "SilkTork"
          ],
          [
           "Tariqabjotu"
          ],
          [
           "Splash"
          ],
          [
           "Frank"
          ],
          [
           "Geni"
          ],
          [
           "Thingg"
          ],
          [
           "Philippe"
          ],
          [
           "KrakatoaKatie"
          ],
          [
           "KTC"
          ],
          [
           "Shirik"
          ],
          [
           "Themfromspace"
          ],
          [
           "TimVickers"
          ],
          [
           "Chaser"
          ],
          [
           "Guettarda"
          ],
          [
           "28bytes"
          ],
          [
           "Jclemens"
          ],
          [
           "Keeper76"
          ],
          [
           "Floquenbeam"
          ],
          [
           "EVula"
          ],
          [
           "Starblind"
          ],
          [
           "Giants27"
          ],
          [
           "Kimchi.sg"
          ],
          [
           "Valley2city"
          ],
          [
           "Garion96"
          ],
          [
           "James086"
          ],
          [
           "Thehelpfulone"
          ],
          [
           "Kralizec!"
          ],
          [
           "Jahiegel"
          ],
          [
           "Royalbroil"
          ],
          [
           "7"
          ],
          [
           "Bobrayner"
          ],
          [
           "Mackensen"
          ],
          [
           "Rjd0060"
          ],
          [
           "Jehochman"
          ],
          [
           "Gnangarra"
          ],
          [
           "Djsasso"
          ],
          [
           "Hiding"
          ],
          [
           "Feezo"
          ],
          [
           "Thryduulf"
          ],
          [
           "Filelakeshoe"
          ],
          [
           "Sir Nicholas de Mimsy-Porpington"
          ],
          [
           "CharlotteWebb"
          ],
          [
           "KillerChihuahua"
          ],
          [
           "VegaDark"
          ],
          [
           "Orangemike"
          ],
          [
           "Calmer Waters"
          ],
          [
           "Deskana"
          ],
          [
           "Rje"
          ],
          [
           "Syrthiss"
          ],
          [
           "Fuzheado"
          ],
          [
           "TigerShark"
          ],
          [
           "Ajraddatz"
          ],
          [
           "Jenks24"
          ],
          [
           "Wifione"
          ],
          [
           "LadyofShalott"
          ],
          [
           "zzuuzz"
          ],
          [
           "Firsfron"
          ],
          [
           "TomStar81"
          ],
          [
           "thumperward"
          ],
          [
           "Snowolf"
          ],
          [
           "Tavix"
          ],
          [
           "Ruslik0"
          ],
          [
           "Chase me ladies, I'm the Cavalry"
          ],
          [
           "Slp1"
          ],
          [
           "Cindamuse"
          ],
          [
           "Dekimasu"
          ],
          [
           "Bencherlite"
          ],
          [
           "Kww"
          ],
          [
           "Dylan620"
          ],
          [
           "Atama"
          ],
          [
           "Jossi"
          ],
          [
           "Athaenara"
          ],
          [
           "AuburnPilot"
          ],
          [
           "TeaDrinker"
          ],
          [
           "Delirium"
          ],
          [
           "Secretlondon"
          ],
          [
           "Nick-D"
          ],
          [
           "Neutralhomer"
          ],
          [
           "Feydey"
          ],
          [
           "Download"
          ],
          [
           "Tone"
          ],
          [
           "Bilby"
          ],
          [
           "Carrite"
          ],
          [
           "Deckiller"
          ],
          [
           "Closedmouth"
          ],
          [
           "Herostratus"
          ],
          [
           "Someguy1221"
          ],
          [
           "Dreadstar"
          ],
          [
           "Yanksox"
          ],
          [
           "Hawkeye7"
          ],
          [
           "Haukurth"
          ],
          [
           "Brewcrewer"
          ],
          [
           "Admrboltz"
          ],
          [
           "Ixfd64"
          ],
          [
           "Nakon"
          ],
          [
           "Journalist"
          ],
          [
           "Jusjih"
          ],
          [
           "delldot"
          ],
          [
           "CactusWriter"
          ],
          [
           "Coren"
          ],
          [
           "Jac16888"
          ],
          [
           "RP459"
          ],
          [
           "Scientizzle"
          ],
          [
           "Ioeth"
          ],
          [
           "MastCell"
          ],
          [
           "Gamaliel"
          ],
          [
           "AniMate"
          ],
          [
           "Protonk"
          ],
          [
           "AlexiusHoratius"
          ],
          [
           "Sjones23"
          ],
          [
           "Samir"
          ],
          [
           "JayHenry"
          ],
          [
           "Sharkface217"
          ],
          [
           "Tyrenius"
          ],
          [
           "TreasuryTag"
          ],
          [
           "BorgQueen"
          ],
          [
           "Redvers"
          ],
          [
           "Zagalejo"
          ],
          [
           "Rodhullandemu"
          ],
          [
           "OwenX"
          ],
          [
           "Cryptic"
          ],
          [
           "ESkog"
          ],
          [
           "Woody"
          ],
          [
           "Jafeluv"
          ],
          [
           "DaGizza"
          ],
          [
           "Killiondude"
          ],
          [
           "ElKevbo"
          ],
          [
           "Huldra"
          ],
          [
           "Tiggerjay"
          ],
          [
           "DerHexer"
          ],
          [
           "Arjun01"
          ],
          [
           "Erik"
          ],
          [
           "John254"
          ],
          [
           "Sj"
          ],
          [
           "Hoary"
          ],
          [
           "Ghmyrtle"
          ],
          [
           "Kevin"
          ],
          [
           "Hiberniantears"
          ],
          [
           "SchmuckyTheCat"
          ],
          [
           "Amalthea"
          ],
          [
           "Majoreditor"
          ],
          [
           "Richwales"
          ],
          [
           "Durova"
          ],
          [
           "Blurpeace"
          ],
          [
           "Tikiwont"
          ],
          [
           "Anthony Bradbury"
          ],
          [
           "Johnuniq"
          ],
          [
           "Maunus"
          ],
          [
           "MacGyverMagic"
          ],
          [
           "Cunard"
          ],
          [
           "Nancy"
          ],
          [
           "Moreschi"
          ],
          [
           "Michig"
          ],
          [
           "Gimmetrow"
          ],
          [
           "MBK004"
          ],
          [
           "Balloonman"
          ],
          [
           "MilborneOne"
          ],
          [
           "Faithlessthewonderboy"
          ],
          [
           "ReyBrujo"
          ],
          [
           "Johnleemk"
          ],
          [
           "Robofish"
          ],
          [
           "Mangojuice"
          ],
          [
           "Kbdank71"
          ],
          [
           "Ruhrfisch"
          ],
          [
           "Dwaipayanc"
          ],
          [
           "Nightstallion"
          ],
          [
           "RHaworth"
          ],
          [
           "Miranda"
          ],
          [
           "Brookie"
          ],
          [
           "Strikerforce"
          ],
          [
           "Samsara"
          ],
          [
           "BuickCenturyDriver"
          ],
          [
           "Orderinchaos"
          ],
          [
           "Anetode"
          ],
          [
           "Aqwis"
          ],
          [
           "Tinucherian"
          ],
          [
           "JPG-GR"
          ],
          [
           "Scott5114"
          ],
          [
           "DESiegel"
          ],
          [
           "Sarah"
          ],
          [
           "Begoon"
          ],
          [
           "Scorpion0422"
          ],
          [
           "FT2"
          ],
          [
           "Mitchazenia"
          ],
          [
           "Pichpich"
          ],
          [
           "FeydHuxtable"
          ],
          [
           "Cyde"
          ],
          [
           "KnightLago"
          ],
          [
           "Aldux"
          ],
          [
           "Viridae"
          ],
          [
           "Ww2censor"
          ],
          [
           "Hobit"
          ],
          [
           "Skomorokh"
          ],
          [
           "Fuhghettaboutit"
          ],
          [
           "Edison"
          ],
          [
           "NoSeptember"
          ],
          [
           "Coemgenus"
          ],
          [
           "Berig"
          ],
          [
           "Jfdwolff"
          ],
          [
           "Ericorbit"
          ],
          [
           "Scarian"
          ],
          [
           "Bsadowski1"
          ],
          [
           "Eluchil404"
          ],
          [
           "Vejvančický"
          ],
          [
           "Raul654"
          ],
          [
           "Alkivar"
          ],
          [
           "Jc37"
          ],
          [
           "Aervanath"
          ],
          [
           "Trödel"
          ],
          [
           "Kablammo"
          ],
          [
           "Plutonium27"
          ],
          [
           "Bastique"
          ],
          [
           "Ghirlandajo"
          ],
          [
           "KnowledgeOfSelf"
          ],
          [
           "Buster7"
          ],
          [
           "Jmabel"
          ],
          [
           "Elockid"
          ],
          [
           "America69"
          ],
          [
           "LAAFan"
          ],
          [
           "Bduke"
          ],
          [
           "Denelson83"
          ],
          [
           "Warofdreams"
          ],
          [
           "WilyD"
          ],
          [
           "Hu12"
          ],
          [
           "Ucucha"
          ],
          [
           "SmokeyJoe"
          ],
          [
           "Zscout370"
          ],
          [
           "Jdforrester"
          ],
          [
           "Jni"
          ],
          [
           "Roux"
          ],
          [
           "Reyk"
          ],
          [
           "Pmanderson"
          ],
          [
           "FloNight"
          ],
          [
           "henrik"
          ],
          [
           "RexxS"
          ],
          [
           "Horologium"
          ],
          [
           "Reywas92"
          ],
          [
           "Chuq"
          ],
          [
           "Nichalp"
          ],
          [
           "TenOfAllTrades"
          ],
          [
           "Xavexgoem"
          ],
          [
           "Jkelly"
          ],
          [
           "Benjiboi"
          ],
          [
           "Buggie111"
          ],
          [
           "Pointillist"
          ],
          [
           "Infrogmation"
          ],
          [
           "Jerry"
          ],
          [
           "TravisTX"
          ],
          [
           "Friday"
          ],
          [
           "Gidonb"
          ],
          [
           "Aude"
          ],
          [
           "Kafziel"
          ],
          [
           "Kaldari"
          ],
          [
           "Jpgordon"
          ],
          [
           "Kraftlos"
          ],
          [
           "EyeSerene"
          ],
          [
           "Lenticel"
          ],
          [
           "Whispering"
          ],
          [
           "Geogre"
          ],
          [
           "Alex43223"
          ],
          [
           "Ret.Prof"
          ],
          [
           "Stormie"
          ],
          [
           "BOZ"
          ],
          [
           "Alai"
          ],
          [
           "Carcharoth"
          ],
          [
           "Theleftorium"
          ],
          [
           "BarkingFish"
          ],
          [
           "Gatoclass"
          ],
          [
           "Melburnian"
          ],
          [
           "WilliamH"
          ],
          [
           "Ynhockey"
          ],
          [
           "DoriSmith"
          ],
          [
           "Scott MacDonald"
          ],
          [
           "Ragesoss"
          ],
          [
           "Rspeer"
          ],
          [
           "Leonard^Bloom"
          ],
          [
           "Morven"
          ],
          [
           "Sgeureka"
          ],
          [
           "Staxringold"
          ],
          [
           "Danny"
          ],
          [
           "Hesperian"
          ],
          [
           "Nehrams2020"
          ],
          [
           "Leithp"
          ],
          [
           "Dtobias"
          ],
          [
           "Davidcannon"
          ],
          [
           "Smallman12q"
          ],
          [
           "Carioca"
          ],
          [
           "Taxman"
          ],
          [
           "Gigs"
          ],
          [
           "Karanacs"
          ],
          [
           "Moondyne"
          ],
          [
           "RayAYang"
          ],
          [
           "Jayen466"
          ],
          [
           "DS1953"
          ],
          [
           "Hurricanehink"
          ],
          [
           "RxS"
          ],
          [
           "Sallicio"
          ],
          [
           "MaxSem"
          ],
          [
           "Quiddity"
          ],
          [
           "Quadell"
          ],
          [
           "172"
          ],
          [
           "SCZenz"
          ],
          [
           "Accounting4Taste"
          ],
          [
           "Rdsmith4"
          ],
          [
           "AlexandrDmitri"
          ],
          [
           "Hipocrite"
          ],
          [
           "Kmweber"
          ],
          [
           "Carnildo"
          ],
          [
           "Sunderland06"
          ],
          [
           "Bigtimepeace"
          ],
          [
           "Celestianpower"
          ],
          [
           "Calton"
          ],
          [
           "Stanistani"
          ],
          [
           "Irpen"
          ],
          [
           "DDima"
          ],
          [
           "Physchim62"
          ],
          [
           "Werdna"
          ],
          [
           "IZAK"
          ],
          [
           "MJ94"
          ],
          [
           "Resolute"
          ],
          [
           "RoyBoy"
          ],
          [
           "Arakunem"
          ],
          [
           "Lupo"
          ],
          [
           "Trebor"
          ],
          [
           "MoRsE"
          ],
          [
           "Jacoplane"
          ],
          [
           "Salih"
          ],
          [
           "Maclean25"
          ],
          [
           "Thincat"
          ],
          [
           "Jimbo Wales"
          ],
          [
           "Eusebeus"
          ],
          [
           "Chris G"
          ],
          [
           "Betacommand"
          ],
          [
           "Jiang"
          ],
          [
           "GTBacchus"
          ],
          [
           "Apoc2400"
          ],
          [
           "GregAsche"
          ],
          [
           "Nomoskedasticity"
          ],
          [
           "Nathan"
          ],
          [
           "Vodello"
          ],
          [
           "Anthonyhcole"
          ],
          [
           "Khukri"
          ],
          [
           "Timmeh"
          ],
          [
           "Shanel"
          ],
          [
           "Oldelpaso"
          ],
          [
           "Ugen64"
          ],
          [
           "Youngamerican"
          ],
          [
           "Rocksanddirt"
          ],
          [
           "Badagnani"
          ],
          [
           "Moncrief"
          ],
          [
           "Hahnchen"
          ],
          [
           "Seav"
          ],
          [
           "Danaman5"
          ],
          [
           "Rd232"
          ],
          [
           "Nev1"
          ],
          [
           "Happy-melon"
          ],
          [
           "One"
          ],
          [
           "Krashlandon"
          ],
          [
           "Hokeman"
          ],
          [
           "Terrillja"
          ],
          [
           "Briangotts"
          ],
          [
           "Ncmvocalist"
          ],
          [
           "FeloniousMonk"
          ],
          [
           "Williamborg"
          ],
          [
           "Dravecky"
          ],
          [
           "Livitup"
          ],
          [
           "Jondel"
          ],
          [
           "Tznkai"
          ],
          [
           "Lawrencekhoo"
          ],
          [
           "Pakaran"
          ],
          [
           "LindsayH"
          ],
          [
           "TUF-KAT"
          ],
          [
           "SusanLesch"
          ],
          [
           "IShadowed"
          ],
          [
           "Rockfang"
          ],
          [
           "Bart133"
          ],
          [
           "Franamax"
          ],
          [
           "Harland1"
          ],
          [
           "WarthogDemon"
          ],
          [
           "Kicking222"
          ],
          [
           "Dayewalker"
          ],
          [
           "Sam Spade"
          ],
          [
           "Rivertorch"
          ],
          [
           "Evilphoenix"
          ],
          [
           "Kittybrewster"
          ],
          [
           "Quartermaster"
          ],
          [
           "Conti"
          ],
          [
           "JPD"
          ],
          [
           "Haza-w"
          ],
          [
           "Fr33kman"
          ],
          [
           "Natl1"
          ],
          [
           "Hbdragon88"
          ],
          [
           "Jwrosenzweig"
          ],
          [
           "Cailil"
          ],
          [
           "Gran2"
          ],
          [
           "Moriori"
          ],
          [
           "HiDrNick"
          ],
          [
           "SirFozzie"
          ],
          [
           "Dirtlawyer1"
          ],
          [
           "Rhobite"
          ],
          [
           "Davidruben"
          ],
          [
           "Pedant"
          ],
          [
           "Bunchofgrapes"
          ],
          [
           "Cynical"
          ],
          [
           "Townlake"
          ],
          [
           "Marskell"
          ],
          [
           "Encephalon"
          ],
          [
           "Wsiegmund"
          ],
          [
           "Mark"
          ],
          [
           "Shoessss"
          ],
          [
           "Nunh-huh"
          ],
          [
           "GRBerry"
          ],
          [
           "Giants2008"
          ],
          [
           "Halibutt"
          ],
          [
           "Stubbleboy"
          ],
          [
           "Chalst"
          ],
          [
           "ThinkBlue"
          ],
          [
           "Reedy"
          ],
          [
           "Cla68"
          ],
          [
           "Becksguy"
          ],
          [
           "Gmaxwell"
          ],
          [
           "Dekkappai"
          ],
          [
           "Katalaveno"
          ],
          [
           "RMHED"
          ],
          [
           "Sluzzelin"
          ],
          [
           "Gungadin"
          ],
          [
           "Johnfos"
          ],
          [
           "Duk"
          ],
          [
           "ThuranX"
          ],
          [
           "Sannse"
          ],
          [
           "ImperfectlyInformed"
          ],
          [
           "ais523"
          ],
          [
           "Triona"
          ],
          [
           "Collect"
          ],
          [
           "Akhilleus"
          ],
          [
           "Slrubenstein"
          ],
          [
           "Zaxem"
          ],
          [
           "Manxruler"
          ],
          [
           "Capitalistroadster"
          ],
          [
           "Oakshade"
          ],
          [
           "Str1977"
          ],
          [
           "Flowerparty"
          ],
          [
           "Atlan"
          ],
          [
           "Doc9871"
          ],
          [
           "Xxanthippe"
          ],
          [
           "Springeragh"
          ],
          [
           "JimMillerJr"
          ],
          [
           "Avenue"
          ],
          [
           "Skinny87"
          ],
          [
           "Alphax"
          ],
          [
           "Walkerma"
          ],
          [
           "Zocky"
          ],
          [
           "Mattisse"
          ],
          [
           "PGWG"
          ],
          [
           "Martinp"
          ],
          [
           "Philwelch"
          ],
          [
           "Jakew"
          ],
          [
           "Sunray"
          ],
          [
           "Bedford"
          ],
          [
           "Leifern"
          ],
          [
           "Herbythyme"
          ],
          [
           "Aquillion"
          ],
          [
           "Cardamon"
          ],
          [
           "TimidGuy"
          ],
          [
           "Emufarmers"
          ],
          [
           "MJCdetroit"
          ],
          [
           "Joopercoopers"
          ],
          [
           "Kmccoy"
          ],
          [
           "Barryob"
          ],
          [
           "Folantin"
          ],
          [
           "M.K"
          ],
          [
           "Astrotrain"
          ],
          [
           "Doctorfluffy"
          ],
          [
           "Booksworm"
          ],
          [
           "Hydnjo"
          ],
          [
           "Rednblu"
          ],
          [
           "IronDuke"
          ],
          [
           "Tarc"
          ],
          [
           "Laurascudder"
          ],
          [
           "Amerique"
          ],
          [
           "AKMask"
          ],
          [
           "Kumioko"
          ],
          [
           "Wimvandorst"
          ],
          [
           "CapitalR"
          ],
          [
           "Banana04131"
          ],
          [
           "TDC"
          ],
          [
           "Abd"
          ],
          [
           "Stillnotelf"
          ],
          [
           "WillowW"
          ],
          [
           "Novickas"
          ],
          [
           "Singopo"
          ],
          [
           "Crohnie"
          ],
          [
           "COGDEN"
          ],
          [
           "Rl"
          ],
          [
           "Sxeptomaniac"
          ],
          [
           "Fladrif"
          ],
          [
           "6SJ7"
          ],
          [
           "Juppiter"
          ],
          [
           "Tex"
          ],
          [
           "Ripberger"
          ],
          [
           "Noetica"
          ],
          [
           "Kcowolf"
          ],
          [
           "DeltaQuad"
          ],
          [
           "Gray62"
          ],
          [
           "DavidJJJ"
          ],
          [
           "Master&Expert"
          ],
          [
           "SunCreator"
          ],
          [
           "Secret"
          ],
          [
           "Grandmasterka"
          ],
          [
           "Mlpearc"
          ],
          [
           "Icewedge"
          ],
          [
           "Brianherman"
          ],
          [
           "Marlith"
          ],
          [
           "WFCforLife"
          ],
          [
           "Lostintherush"
          ],
          [
           "Kubigula"
          ],
          [
           "Bwilkins"
          ],
          [
           "Dmcdevit"
          ],
          [
           "RGTraynor"
          ],
          [
           "Icestorm815"
          ],
          [
           "Sandahl"
          ],
          [
           "JamesBWatson"
          ],
          [
           "Messedrocker"
          ],
          [
           "Shimgray"
          ],
          [
           "Esteffect"
          ],
          [
           "Truthkeeper88"
          ],
          [
           "ScienceApologist"
          ],
          [
           "PMC"
          ],
          [
           "^demon"
          ],
          [
           "Thebainer"
          ],
          [
           "Jmh649"
          ],
          [
           "Doug"
          ],
          [
           "SatuSuro"
          ],
          [
           "ContiE"
          ],
          [
           "Amatulic"
          ],
          [
           "Katr67"
          ],
          [
           "Dougweller"
          ],
          [
           "Ctjf83"
          ],
          [
           "Dincher"
          ]
         ],
         "hovertemplate": "Power Score=%{x}<br>Positive Vote Ratio (0: All Negative, 1: All Positive)=%{y}<br>User=%{customdata[0]}<extra></extra>",
         "legendgroup": "",
         "marker": {
          "color": "orange",
          "size": 8,
          "symbol": "circle"
         },
         "mode": "markers",
         "name": "",
         "orientation": "v",
         "showlegend": false,
         "type": "scatter",
         "x": [
          0.8470427518867714,
          0.8235555798645624,
          0.8180769230769231,
          0.8165296844556916,
          0.7254326180168789,
          0.7170367569411307,
          0.6687680558977,
          0.6681542372034612,
          0.6599470101931303,
          0.6598759924822003,
          0.6464864967294814,
          0.6430411084447767,
          0.6416025712804205,
          0.6412732799415665,
          0.634703232963932,
          0.6335679487466601,
          0.6242780655619659,
          0.6209512497222169,
          0.6189854501980228,
          0.6178162549161138,
          0.6101231375616075,
          0.6097070745526616,
          0.6086153742792715,
          0.606527858409031,
          0.6055640158555976,
          0.5937264616556042,
          0.5918283119921308,
          0.5887955068916034,
          0.5862782154356069,
          0.586010725440103,
          0.5859461247327684,
          0.584701828975226,
          0.5797847935102991,
          0.579249994401272,
          0.5762850544971567,
          0.5749673464957992,
          0.5744524960851971,
          0.5729672655295794,
          0.572881570537943,
          0.5727787606655768,
          0.5690356234140527,
          0.5684780417889056,
          0.5679903150619564,
          0.5630004961334323,
          0.5622896213364939,
          0.5622410588314335,
          0.5619852400303882,
          0.5569150233682292,
          0.5564778143944158,
          0.555497666622451,
          0.5533869547915636,
          0.5511389879911592,
          0.5490199728160223,
          0.5474319496148936,
          0.5474317601194855,
          0.5425408836343152,
          0.5420641648678959,
          0.5396914411814866,
          0.5393180663199475,
          0.5357489461471276,
          0.5356218894759418,
          0.53521232099144,
          0.5345019371598773,
          0.534485631941346,
          0.5337883232929479,
          0.5316944248728228,
          0.5312818503020729,
          0.5310113542203212,
          0.5302289449067941,
          0.5288782388641301,
          0.5273360735517814,
          0.5262058195762538,
          0.5230527537989522,
          0.5229558441245226,
          0.5228540075694802,
          0.5204691217232368,
          0.5191868579766369,
          0.517928324223198,
          0.517763411537514,
          0.5169585470181175,
          0.5165132500357457,
          0.5161715295208006,
          0.5150423349968734,
          0.5150355131621788,
          0.5150157884128725,
          0.5149430049492755,
          0.5147253522461236,
          0.5141103707391527,
          0.5134979474201923,
          0.5128197950348757,
          0.5118311630366812,
          0.5115714078992022,
          0.5070561199264758,
          0.5066729171439941,
          0.506380715224578,
          0.5051683149896036,
          0.504900118693033,
          0.504636702848805,
          0.5045545049087924,
          0.5035497830277577,
          0.5034626323668494,
          0.5014918628949041,
          0.5007956223115339,
          0.5002934077992864,
          0.49827120755087523,
          0.49756174535607045,
          0.4971019175212622,
          0.495996427150213,
          0.49516072655984866,
          0.4949338747159722,
          0.4946511131132545,
          0.4943583943881796,
          0.49364499585694127,
          0.4925878871089719,
          0.49191480803253806,
          0.49184253276117207,
          0.4917663383802277,
          0.49172680274733893,
          0.4910633190293011,
          0.48959928611911685,
          0.4894901970579976,
          0.48905689858033485,
          0.48815124834406853,
          0.48806202184709785,
          0.48746310438268425,
          0.4867205321720136,
          0.48657496524481947,
          0.48646165560415444,
          0.48499849265016215,
          0.48453194634179114,
          0.4841682443594969,
          0.48398205650753073,
          0.4833198906439226,
          0.48283386076221946,
          0.48283026034946397,
          0.48255187436798974,
          0.4824002091340232,
          0.4807198758288271,
          0.4805412419529052,
          0.4802640360110183,
          0.47980559493806085,
          0.47845952291946964,
          0.4781551588402192,
          0.47772103347350253,
          0.47770506417864933,
          0.4774213895526013,
          0.4768199828075984,
          0.4757287218190181,
          0.4755232829562662,
          0.4748999981050459,
          0.47351041104999403,
          0.47250401816399623,
          0.4723306557057929,
          0.47207634425458533,
          0.4720384968535149,
          0.4708746246698904,
          0.4707545448750967,
          0.4704628856016221,
          0.46976148557509273,
          0.469722966326666,
          0.4694266558022632,
          0.4692187707260602,
          0.46889877327563484,
          0.46757052243884034,
          0.4673905362547783,
          0.467232393723223,
          0.46685203337186404,
          0.46649844355362463,
          0.4661879639407465,
          0.4652759053143126,
          0.46499983634487474,
          0.46433496586498624,
          0.46429949576994567,
          0.46393444147951124,
          0.46391271841499154,
          0.46312701877210416,
          0.46289015812530465,
          0.46238183669285726,
          0.4621441577704315,
          0.46181164500963845,
          0.4610714845587083,
          0.46080199624799095,
          0.46073581066996966,
          0.4602406247146802,
          0.4594191362799295,
          0.45910964721123054,
          0.45813787169093645,
          0.45679651983069447,
          0.45674172120401935,
          0.45605802177129967,
          0.45557346478572375,
          0.4555347732687441,
          0.45513881399992073,
          0.4549844096959632,
          0.45493469299159844,
          0.45419277540142877,
          0.45369160311392637,
          0.4536149263810339,
          0.45356879286256935,
          0.4525360773416895,
          0.4518467361138626,
          0.45179451290205325,
          0.4516696784951998,
          0.45159229546124047,
          0.45097168938601767,
          0.45010844305404585,
          0.4500027218431357,
          0.44991296992707874,
          0.44937668069506914,
          0.4492538618302845,
          0.44905638177467616,
          0.44899989491618275,
          0.44890930749764424,
          0.44859696738439486,
          0.44754369161172736,
          0.4472600600528175,
          0.4467434525029759,
          0.44666893774042227,
          0.44648723748425895,
          0.4462585509802942,
          0.4460115437157293,
          0.4453758555287008,
          0.44509315421997664,
          0.44419298212369224,
          0.4437287786676406,
          0.4435567340638668,
          0.4434758195245732,
          0.4431566834169123,
          0.44284964056166437,
          0.4426218240138917,
          0.44248958205926386,
          0.44230532361509006,
          0.4421586024885915,
          0.44169014399928336,
          0.4413726186025919,
          0.43957570255422584,
          0.4388444656143355,
          0.4385431765287542,
          0.4379313647631565,
          0.4375637608981393,
          0.43742040762184986,
          0.4372471485247782,
          0.43716433903140284,
          0.43662654244955545,
          0.4363609129544229,
          0.4358478885904814,
          0.4346273055992448,
          0.43458012124260753,
          0.43411795055547997,
          0.4339920911507367,
          0.4326370094868292,
          0.43219049801115955,
          0.43195957201600715,
          0.4311031302918746,
          0.4310186497935361,
          0.43076364926811705,
          0.4304168812845722,
          0.43027099566055516,
          0.43021666215897286,
          0.43018459436785195,
          0.430163215840438,
          0.43009434287299153,
          0.42935650804752545,
          0.42917802921330117,
          0.429172240989924,
          0.4289950024892806,
          0.4277420502369554,
          0.42589801873937316,
          0.4258818857893948,
          0.4258781561752247,
          0.42560185464324046,
          0.4252897901596757,
          0.42508636683899265,
          0.4242664977286391,
          0.4242187362723497,
          0.4241471500751952,
          0.4231368208527638,
          0.4226672167775789,
          0.4223630249668814,
          0.4220299695601467,
          0.4219822942381337,
          0.4215596850241779,
          0.4214566942698311,
          0.4204088966371456,
          0.4195345131432292,
          0.4192611487900718,
          0.41904127382258755,
          0.4187211385573198,
          0.41815607186354947,
          0.41744834096770134,
          0.41738746126110915,
          0.41667385600760737,
          0.41663841175284977,
          0.4153235892497532,
          0.41522651592019827,
          0.4151176163544873,
          0.41494233310191925,
          0.41399412391966084,
          0.41393525975513745,
          0.41357860355665654,
          0.41339508586726015,
          0.41266215208212387,
          0.4125379378420607,
          0.41210734398067833,
          0.4116749240726353,
          0.41117883370744324,
          0.41105801315787205,
          0.4109185703777332,
          0.4108240810764717,
          0.41053053546234297,
          0.40975485323580635,
          0.4096203114959973,
          0.40961559995107577,
          0.4094683189517803,
          0.409265386596473,
          0.40917444602740105,
          0.40861118815343617,
          0.4084557933052995,
          0.40836574853270263,
          0.4082902346125422,
          0.4076955377276744,
          0.40706239911522873,
          0.4064204231260196,
          0.4060381419802959,
          0.4052883086501209,
          0.4052721584732872,
          0.405126737974363,
          0.4049550465211227,
          0.40456215363254083,
          0.40444033392536294,
          0.40438567311353013,
          0.40407284203490507,
          0.4039203068447464,
          0.40287999428068405,
          0.40248990936951434,
          0.40207361379802203,
          0.40166283082022225,
          0.4016528220172992,
          0.4015200115764468,
          0.40127755220167827,
          0.4010880223397859,
          0.4008729019843615,
          0.3997945611372481,
          0.3993926758302052,
          0.3991556343014252,
          0.3991242555845158,
          0.3989423830597996,
          0.39893761122088445,
          0.39880611863446164,
          0.39783058765971446,
          0.39766951656275995,
          0.39652915042317766,
          0.39634337601573844,
          0.39629467569583576,
          0.3962571814452987,
          0.39608244945209986,
          0.39585118753326937,
          0.3956486169419231,
          0.3954754009119897,
          0.3954095684845018,
          0.39540210064273396,
          0.39523381149341336,
          0.395215835269919,
          0.3951004928603298,
          0.3950870559132042,
          0.3950368568568913,
          0.3947921838312181,
          0.39447848279640096,
          0.3944065520621407,
          0.39372264590715755,
          0.3936710687024216,
          0.39357964578140153,
          0.3926095412660705,
          0.39230957003491884,
          0.391996902611419,
          0.3916317966404187,
          0.39139800237386063,
          0.39030725819093903,
          0.3902946998134332,
          0.3901269102429159,
          0.3900144361047324,
          0.38999140379921066,
          0.3895505944126418,
          0.38941656086506377,
          0.38917446325425636,
          0.3874843106415453,
          0.387406272987085,
          0.3864823450573568,
          0.3863912149928767,
          0.38627347805040235,
          0.385125041129117,
          0.38460236111278595,
          0.3839659580112629,
          0.3829151456789018,
          0.38244903004191294,
          0.38140443660431117,
          0.3814012324092274,
          0.38133760501921654,
          0.3803406955170554,
          0.37910913040557187,
          0.3789771382403456,
          0.37894489818067184,
          0.3788507448030884,
          0.37865886347544914,
          0.3774351193562669,
          0.3771159918620336,
          0.37673461512621254,
          0.37592077541521024,
          0.3751640685697748,
          0.37505413539274646,
          0.3747635097305892,
          0.37461031130650196,
          0.37393728391063397,
          0.37369482453586544,
          0.3734713836093363,
          0.37273999162774835,
          0.37209325241305174,
          0.3719439558716875,
          0.37158869504848496,
          0.37151252650782357,
          0.3713528852398581,
          0.37050797689534165,
          0.3702405902609696,
          0.37010011386951347,
          0.37008862355703553,
          0.36974603308589826,
          0.36971707474215704,
          0.36941078125511423,
          0.3691870044049069,
          0.3678480643044054,
          0.36770726060269876,
          0.36738048438471704,
          0.36686490183276516,
          0.36651965842591333,
          0.36620561285399034,
          0.36597470408569327,
          0.3658688364465132,
          0.3658562952958626,
          0.3654550732227484,
          0.36501006048348894,
          0.3649479404433159,
          0.3646157463793457,
          0.36415460069010785,
          0.3638924940868819,
          0.3636827915774459,
          0.36197315539140273,
          0.36183844999646847,
          0.36145957976809207,
          0.36081249601628973,
          0.3606869553083693,
          0.360108753137441,
          0.35924741037297864,
          0.35822944965365405,
          0.35789369824406664,
          0.3578297349303777,
          0.35777612495671757,
          0.3573854026519021,
          0.3570859568398368,
          0.3569851883498223,
          0.35676513250035746,
          0.3566809793122695,
          0.3565162388951384,
          0.3563584581275442,
          0.35630419353338305,
          0.3555592095629719,
          0.35550050044014614,
          0.3549343484544927,
          0.35474670493325455,
          0.3541708886817838,
          0.35386686913963916,
          0.35382121797312266,
          0.35320876020045167,
          0.35247195037287526,
          0.3523338254471661,
          0.35194329263775886,
          0.3515907708845473,
          0.35155934910049974,
          0.3512252859227306,
          0.35090855296138257,
          0.3508612135630477,
          0.35072954870807194,
          0.3505958424707445,
          0.3505566513749615,
          0.35013693627269427,
          0.34951749301020346,
          0.34919007078514835,
          0.3488444656143355,
          0.3486345994497742,
          0.34836263047189525,
          0.3483380563628251,
          0.3480910146445497,
          0.3480742701412085,
          0.34792610195886575,
          0.34754557795238156,
          0.34746363841519823,
          0.34693734937268406,
          0.3469047733893321,
          0.34676275519432753,
          0.34603882244107986,
          0.3459080189288686,
          0.34586492595036256,
          0.34492230688264547,
          0.34432391483731817,
          0.3440655292348348,
          0.34231296372541087,
          0.342218457197294,
          0.3417734530714622,
          0.3411925376708258,
          0.34117744694559243,
          0.3410798826506618,
          0.33961404092067204,
          0.3391132045568478,
          0.3390312908599474,
          0.33736792600721116,
          0.336292634313484,
          0.3357917979496597,
          0.3353349159071059,
          0.33520189874399,
          0.33453243730716686,
          0.334283199164842,
          0.33378508464415346,
          0.3337613546509925,
          0.3336737905455573,
          0.33169966183683064,
          0.3312748217451149,
          0.3299572601720274,
          0.32954464253413934,
          0.32936531097057825,
          0.32928540420231905,
          0.32900073903209187,
          0.3278002167138395,
          0.3275177393542341,
          0.32749296713632814,
          0.32730565953876817,
          0.3263888290734191,
          0.3257271714020421,
          0.3256686517746245,
          0.3250144877852983,
          0.32450751004756334,
          0.3244182663237374,
          0.3230667678457301,
          0.3225961215458002,
          0.3225393073770562,
          0.32246242392190033,
          0.32207460434220114,
          0.3213881486126352,
          0.3213864517673892,
          0.3194611784202629,
          0.3186038839667935,
          0.3175606686776149,
          0.3167866746828966,
          0.316748517198431,
          0.31669658684316154,
          0.3162702480150356,
          0.31597282635846674,
          0.31575415727085265,
          0.3151283056181943,
          0.3149665885141665,
          0.3149222982692178,
          0.31481898020462057,
          0.31384584376275865,
          0.3136946522673125,
          0.3118564089931075,
          0.3115164111636913,
          0.31085932722239357,
          0.31061113130481366,
          0.3102404266058444,
          0.3101391326967436,
          0.3099864338514597,
          0.3099720580407208,
          0.30912117197741906,
          0.3090711279628038,
          0.3088554908017206,
          0.3079987131539099,
          0.3069568501728715,
          0.30688236125060075,
          0.30668946353849946,
          0.3050237558334439,
          0.3041985550113784,
          0.303435930741151,
          0.3025399619975572,
          0.30179686436780023,
          0.3005408974157995,
          0.29961725372918346,
          0.29892556103560963,
          0.29855486495006794,
          0.2983806239222449,
          0.29563098525553455,
          0.2945202148533392,
          0.2937462294720486,
          0.2933996251436289,
          0.29322149084651045,
          0.2925162061641134,
          0.2915958269665747,
          0.290203595589236,
          0.28854213430400916,
          0.287178077448496,
          0.2865040250547383,
          0.28584337515439573,
          0.2835429784199184,
          0.28318398798254574,
          0.2826361567574924,
          0.2825990156574888,
          0.28216569133954306,
          0.28145992430519784,
          0.2811329844320909,
          0.28057820217092827,
          0.27843423389590505,
          0.27760629400384845,
          0.2754373984692216,
          0.27441519133006825,
          0.27251450931886734,
          0.2722427212229689,
          0.2712795763571747,
          0.26975892738708224,
          0.26910878586846604,
          0.26788590309204824,
          0.2671047944060956,
          0.2649414717591548,
          0.26176258292577465,
          0.26044875096685727,
          0.26027196897787896,
          0.2569977295004729,
          0.25277087937928194,
          0.24995555471335373,
          0.248054019972816,
          0.24717060960672813,
          0.24676445203957353,
          0.24298599112127878,
          0.23816701953008584,
          0.23054868395439018,
          0.2287704934977235,
          0.22214567373369695,
          0.2182720344399291,
          0.21499254077165975,
          0.21417191367967353,
          0.20695158736858063,
          0.19890163293361288,
          0.19748441400267705,
          0.1862017109712673,
          0.17765711322695174,
          0.1379643369641802,
          0.12963340390601719,
          0.1240570794623154,
          0.12278833879711759,
          0.1092812008496285,
          0.09187204236428252,
          0.09003973374172465,
          0.08691174165229659,
          0.0844242095888122,
          0.0783042917264582,
          0.07211769732070719,
          0.0707141134457328,
          0.07032949806111743,
          0.06960046615870412,
          0.0640930232958764,
          0.06311324590130045,
          0.062676036927487,
          0.0577104734112102,
          0.05727342809252199,
          0.05596858855206559,
          0.05542008547965595,
          0.05517984836921974,
          0.053576743056285306,
          0.05294425906434058,
          0.05054240476563725,
          0.05039463280096608,
          0.05012470520543886,
          0.04684367834704878,
          0.046793462063880624,
          0.04584676884488767,
          0.041996540847457915
         ],
         "xaxis": "x",
         "y": [
          0.9763560500695411,
          0.6229205175600739,
          0.8500851788756388,
          0.9071428571428571,
          0.7878787878787878,
          0.915948275862069,
          0.7410358565737052,
          0.9300699300699301,
          0.4892966360856269,
          0.9918864097363083,
          0.9420289855072463,
          0.7979274611398963,
          0.8019559902200489,
          0.9456928838951311,
          0.5353535353535354,
          0.47129909365558914,
          0.9130434782608695,
          0.8290398126463701,
          0.9358669833729216,
          0.9137931034482759,
          0.9260869565217391,
          0.621301775147929,
          0.8613861386138614,
          0.905940594059406,
          0.7654320987654321,
          0.7598039215686274,
          0.89375,
          0.9032258064516129,
          0.7142857142857143,
          1,
          0.7237237237237237,
          0.8656716417910447,
          0.8983957219251337,
          0.7130434782608696,
          0.8092105263157895,
          0.8823529411764706,
          0.4408817635270541,
          0.8156862745098039,
          0.5703971119133574,
          0.9116279069767442,
          0.9137380191693291,
          0.782258064516129,
          0.6543778801843319,
          0.8877005347593583,
          0.9773584905660377,
          0.7835051546391752,
          0.773972602739726,
          0.618421052631579,
          0.4475806451612903,
          0.7890625,
          0.7267080745341615,
          0.5955056179775281,
          0.8287037037037037,
          0.5174418604651163,
          0.7358490566037735,
          0.8416289592760181,
          0.7746031746031746,
          0.7916666666666666,
          0.875,
          0.9395161290322581,
          0.8295964125560538,
          0.9125,
          0.8501529051987767,
          0.44537815126050423,
          0.6792452830188679,
          0.6272727272727273,
          0.7074235807860262,
          0.8421052631578947,
          0.8980582524271845,
          0.9074074074074074,
          0.7516339869281046,
          0.9012345679012346,
          0.9296296296296296,
          0.3177083333333333,
          0.9666666666666667,
          0.8787878787878788,
          0.8472222222222222,
          1,
          0.717391304347826,
          0.9523809523809523,
          0.5906040268456376,
          1,
          0.9723320158102767,
          0.782258064516129,
          0.6190476190476191,
          0.47368421052631576,
          0.9642857142857143,
          0.7183098591549296,
          0.8047619047619048,
          0.7978142076502732,
          0.8444444444444444,
          0.868421052631579,
          0.581081081081081,
          0.7822878228782287,
          0.44594594594594594,
          0.8529411764705882,
          0.8407079646017699,
          0.9496644295302014,
          0.575,
          0.9230769230769231,
          0.8883720930232558,
          0.8931297709923665,
          0.8725490196078431,
          0.8493975903614458,
          0.7037037037037037,
          0.587378640776699,
          0.9318181818181818,
          0.8627450980392157,
          0.762962962962963,
          0.828125,
          0.4506172839506173,
          0.8222222222222222,
          0.6695652173913044,
          0.6061538461538462,
          0.5274725274725275,
          0.8444444444444444,
          0.88,
          0.975609756097561,
          0.8314176245210728,
          0.65,
          0.9215686274509803,
          0.6323529411764706,
          0.7941176470588235,
          0.6611111111111111,
          0.8461538461538461,
          0.927536231884058,
          0.9636363636363636,
          0.7172413793103448,
          0.7674418604651163,
          0.9,
          0.9230769230769231,
          0.6923076923076923,
          0.35555555555555557,
          0.5319148936170213,
          0.5,
          0.46794871794871795,
          0.7661290322580645,
          0.9142857142857143,
          0.9836065573770492,
          0.8571428571428571,
          0.7647058823529411,
          0.5849056603773585,
          0.6181818181818182,
          0.7739130434782608,
          0.8987341772151899,
          0.775,
          0.8757396449704142,
          0.7155963302752294,
          0.49572649572649574,
          0.9221311475409836,
          0.75,
          0.675,
          0.7626262626262627,
          0.7164948453608248,
          0.71875,
          0.8690476190476191,
          0.9281767955801105,
          0.9364161849710982,
          0.8627450980392157,
          0.6976744186046512,
          0.8211678832116789,
          0.981651376146789,
          0.896551724137931,
          0.890625,
          0.5925925925925926,
          0.76,
          0.8709677419354839,
          0.7021276595744681,
          0.3695652173913043,
          0.864406779661017,
          1,
          0.9101123595505618,
          0.7058823529411765,
          0.8220858895705522,
          0.5869565217391305,
          0.6320754716981132,
          0.8987341772151899,
          1,
          0.875,
          0.44642857142857145,
          0.8081761006289309,
          0.9491525423728814,
          1,
          0.24786324786324787,
          0.8333333333333334,
          0.9375,
          0.851063829787234,
          0.875,
          0.85,
          0.7916666666666666,
          1,
          0.7368421052631579,
          0.73,
          0.5306122448979592,
          0.9523809523809523,
          0.6470588235294118,
          0.9411764705882353,
          0.5609756097560976,
          0.5423728813559322,
          0.9814814814814815,
          0.5555555555555556,
          0.74,
          0.72,
          0.8582677165354331,
          0.7819548872180451,
          0.8857142857142857,
          1,
          1,
          0.813953488372093,
          0.875,
          0.95,
          0.8607594936708861,
          0.7606837606837606,
          0.9292035398230089,
          0.7,
          0.8414634146341463,
          0.9615384615384616,
          0.8823529411764706,
          0.9615384615384616,
          0.6923076923076923,
          0.8604651162790697,
          0.7831325301204819,
          0.9565217391304348,
          0.9823008849557522,
          0.9545454545454546,
          0.5094339622641509,
          1,
          0.2711864406779661,
          0.836,
          0.7800687285223368,
          0.9411764705882353,
          0.9333333333333333,
          0.7313432835820896,
          0.6842105263157895,
          0.8177339901477833,
          0.7441860465116279,
          0.8214285714285714,
          0.7916666666666666,
          0.4666666666666667,
          0.6545454545454545,
          0.8916666666666667,
          1,
          0.75,
          0.8428571428571429,
          0.7294117647058823,
          0.910828025477707,
          0.6923076923076923,
          0.4745762711864407,
          0.9230769230769231,
          0.8169014084507042,
          0.7647058823529411,
          0.8888888888888888,
          0.589041095890411,
          0.6216216216216216,
          0.7384615384615385,
          0.8043478260869565,
          0.8169014084507042,
          0.753731343283582,
          0.75,
          0.3,
          0.625,
          0.8571428571428571,
          0.9772727272727273,
          0.6835443037974683,
          0.7777777777777778,
          0.896551724137931,
          0.9692307692307692,
          0.8484848484848485,
          1,
          0.6666666666666666,
          0.7929292929292929,
          0.7948717948717948,
          0.7391304347826086,
          0.6642335766423357,
          0.7407407407407407,
          0.8518518518518519,
          0.8888888888888888,
          0.6481481481481481,
          0.7407407407407407,
          0.6428571428571429,
          0.9230769230769231,
          0.84375,
          0.6875,
          0.8723404255319149,
          0.6181818181818182,
          0.6666666666666666,
          0.8461538461538461,
          0.8793103448275862,
          0.5594059405940595,
          1,
          0.8857142857142857,
          0.7333333333333333,
          0.8548387096774194,
          0.6697247706422018,
          0.5961538461538461,
          0.8235294117647058,
          1,
          0.9859154929577465,
          0.944,
          0.6,
          0.48502994011976047,
          0.9122807017543859,
          0.6190476190476191,
          0.5957446808510638,
          0.9940119760479041,
          0.8532110091743119,
          0.9215686274509803,
          0.8080808080808081,
          0.9107142857142857,
          0.21875,
          0.9047619047619048,
          0.6470588235294118,
          0.528,
          0.7846153846153846,
          0.7647058823529411,
          1,
          0.7241379310344828,
          0.8846153846153846,
          0.9874213836477987,
          0.4473684210526316,
          0.6153846153846154,
          0.8192771084337349,
          0.6880733944954128,
          0.5714285714285714,
          0.7431192660550459,
          0.8333333333333334,
          0.6153846153846154,
          0.9090909090909091,
          0.9896907216494846,
          0.8387096774193549,
          0.4166666666666667,
          0.9528301886792453,
          0.9565217391304348,
          0.6991150442477876,
          1,
          0.7565217391304347,
          0.8095238095238095,
          0.765625,
          0.6778523489932886,
          0.5686274509803921,
          1,
          0.45454545454545453,
          0.8918918918918919,
          0.4336283185840708,
          0.86,
          0.6486486486486487,
          0.898876404494382,
          0.5,
          1,
          0.9411764705882353,
          0.6446540880503144,
          0.6530612244897959,
          0.9811320754716981,
          0.7887323943661971,
          0.9733333333333334,
          0.5245901639344263,
          1,
          0.9032258064516129,
          0.9705882352941176,
          0.8055555555555556,
          0.9523809523809523,
          0.9393939393939394,
          0.425,
          0.8125,
          0.58,
          0.7745098039215687,
          0.8461538461538461,
          0.96,
          0.6470588235294118,
          0.8181818181818182,
          1,
          0.8446601941747572,
          0.8541666666666666,
          0.8260869565217391,
          0.5882352941176471,
          0.9622641509433962,
          0.8108108108108109,
          0.6153846153846154,
          0.8846153846153846,
          0.5333333333333333,
          0.75,
          0.38461538461538464,
          0.96875,
          0.8235294117647058,
          0.8301886792452831,
          0.9090909090909091,
          0.6956521739130435,
          0.3523809523809524,
          0.7142857142857143,
          0.54,
          0.875,
          0.6031746031746031,
          0.8309859154929577,
          0.8955223880597015,
          0.8703703703703703,
          0.8571428571428571,
          0.6571428571428571,
          0.8857142857142857,
          0.8627450980392157,
          0.5,
          0.7894736842105263,
          1,
          0.5333333333333333,
          0.6818181818181818,
          0.5483870967741935,
          0.6,
          0.9833333333333333,
          0.6293103448275862,
          1,
          0.96,
          0.9090909090909091,
          0.8297872340425532,
          0.9307692307692308,
          0.8235294117647058,
          0.9285714285714286,
          0.7894736842105263,
          0.7142857142857143,
          0.859375,
          0.8709677419354839,
          0.9295774647887324,
          0.7294117647058823,
          0.5813953488372093,
          0.6538461538461539,
          0.825,
          0.8848920863309353,
          0.7619047619047619,
          0.995475113122172,
          0.46153846153846156,
          0.18181818181818182,
          0.9130434782608695,
          0.8035714285714286,
          0.7619047619047619,
          0.864406779661017,
          0.8967391304347826,
          0.5217391304347826,
          1,
          0.828125,
          0.855072463768116,
          0.36607142857142855,
          0.052941176470588235,
          0.8225806451612904,
          1,
          0.7142857142857143,
          0.9692307692307692,
          0.6176470588235294,
          0.9672131147540983,
          0.5897435897435898,
          0.8421052631578947,
          0.5555555555555556,
          0.6842105263157895,
          0.5555555555555556,
          0.7105263157894737,
          0.8181818181818182,
          1,
          1,
          0.88,
          0.7058823529411765,
          0.9655172413793104,
          0.9090909090909091,
          0.5625,
          0.8,
          0.8,
          0.6666666666666666,
          0.8135593220338984,
          0.9666666666666667,
          0.7222222222222222,
          0.96875,
          0.7777777777777778,
          0.5384615384615384,
          0.8552631578947368,
          0.8333333333333334,
          0.7619047619047619,
          0.25757575757575757,
          0.9,
          0.8857142857142857,
          0.6918238993710691,
          1,
          1,
          0.9175824175824175,
          0.918918918918919,
          0.9629629629629629,
          0.8,
          0.5384615384615384,
          0.9122807017543859,
          1,
          0.76,
          0.8,
          0.7272727272727273,
          1,
          0.7068965517241379,
          0.9333333333333333,
          0.7124183006535948,
          0.5714285714285714,
          0.8133333333333334,
          0.6530612244897959,
          0.6949152542372882,
          0.9655172413793104,
          0.7857142857142857,
          0.9090909090909091,
          0.9523809523809523,
          0.8333333333333334,
          0.9565217391304348,
          0.9130434782608695,
          0.8,
          0.9903846153846154,
          1,
          0.6944444444444444,
          0.11764705882352941,
          0.9491525423728814,
          0.4444444444444444,
          0.7209302325581395,
          0.5652173913043478,
          0.6288659793814433,
          0.8181818181818182,
          0.7142857142857143,
          1,
          0.5,
          0.9090909090909091,
          0.868421052631579,
          0.625,
          0.9583333333333334,
          0.9210526315789473,
          0.8888888888888888,
          0.9879518072289156,
          0.5333333333333333,
          0.9538461538461539,
          0.8888888888888888,
          1,
          0.6153846153846154,
          0.8367346938775511,
          0.7692307692307693,
          1,
          0.6896551724137931,
          1,
          0.7096774193548387,
          0.6511627906976745,
          0.32967032967032966,
          0.3050847457627119,
          0.7888888888888889,
          0.9213483146067416,
          0.9206349206349206,
          0.9523809523809523,
          0.589041095890411,
          0.8235294117647058,
          0.40540540540540543,
          0.8,
          0.875,
          0.7948717948717948,
          0.875,
          0.9393939393939394,
          0.8333333333333334,
          0.95,
          1,
          0.65,
          0.375,
          0.8888888888888888,
          0.8130841121495327,
          0.9565217391304348,
          1,
          0.9285714285714286,
          0.9666666666666667,
          0.625,
          0.9166666666666666,
          0.5,
          0.5,
          0.8909090909090909,
          0.6216216216216216,
          0.9393939393939394,
          0.7692307692307693,
          0.5423728813559322,
          1,
          0.8888888888888888,
          0.3076923076923077,
          0.75,
          0.972972972972973,
          0.2857142857142857,
          0.8461538461538461,
          0.42857142857142855,
          0.94,
          0.6666666666666666,
          0.8235294117647058,
          0.5925925925925926,
          0.8356164383561644,
          1,
          0.6666666666666666,
          0.7272727272727273,
          0.7027027027027027,
          0.6363636363636364,
          0.8823529411764706,
          0.7777777777777778,
          0.5142857142857142,
          0.6388888888888888,
          0.375,
          0.9,
          0.9130434782608695,
          0.42857142857142855,
          0.75,
          0.4,
          0.8,
          0.3333333333333333,
          1,
          0.8,
          0.6086956521739131,
          0.6666666666666666,
          0.6129032258064516,
          0.6666666666666666,
          1,
          0.8611111111111112,
          1,
          0.8823529411764706,
          0.6666666666666666,
          0.46153846153846156,
          0.9333333333333333,
          0.4444444444444444,
          0.8888888888888888,
          1,
          0.8378378378378378,
          0.8461538461538461,
          0.5833333333333334,
          1,
          0.8,
          1,
          0.6666666666666666,
          0.34,
          1,
          1,
          1,
          0.6666666666666666,
          0.8888888888888888,
          0.5,
          0.6363636363636364,
          0.6153846153846154,
          0.6666666666666666,
          0.5555555555555556,
          0,
          0.5714285714285714,
          0.4583333333333333,
          1,
          0.9435483870967742,
          0.7857142857142857,
          0.8482142857142857,
          0.8121212121212121,
          0.8214285714285714,
          0.780952380952381,
          0.9166666666666666,
          0.7716535433070866,
          0.6833333333333333,
          0.9534883720930233,
          0.9868421052631579,
          0.31746031746031744,
          0.8791208791208791,
          0.6122448979591837,
          0.6521739130434783,
          0.6346153846153846,
          0.3548387096774194,
          0.78125,
          1,
          0.4857142857142857,
          0.68,
          0.7142857142857143,
          0.9130434782608695,
          0.6666666666666666,
          0.8,
          0.7333333333333333,
          1,
          1,
          0.9130434782608695,
          0.6363636363636364,
          0.7142857142857143,
          0.6363636363636364,
          0.5555555555555556,
          1
         ],
         "yaxis": "y"
        },
        {
         "hovertemplate": "<b>OLS trendline</b><br>Positive_Vote_Ratio = 0.108181 * Power Score + 0.730036<br>R<sup>2</sup>=0.005101<br><br>Power Score=%{x}<br>Positive Vote Ratio (0: All Negative, 1: All Positive)=%{y} <b>(trend)</b><extra></extra>",
         "legendgroup": "",
         "line": {
          "color": "blue"
         },
         "marker": {
          "color": "#636efa",
          "symbol": "circle"
         },
         "mode": "lines",
         "name": "",
         "showlegend": false,
         "type": "scatter",
         "x": [
          0.041996540847457915,
          0.04584676884488767,
          0.046793462063880624,
          0.04684367834704878,
          0.05012470520543886,
          0.05039463280096608,
          0.05054240476563725,
          0.05294425906434058,
          0.053576743056285306,
          0.05517984836921974,
          0.05542008547965595,
          0.05596858855206559,
          0.05727342809252199,
          0.0577104734112102,
          0.062676036927487,
          0.06311324590130045,
          0.0640930232958764,
          0.06960046615870412,
          0.07032949806111743,
          0.0707141134457328,
          0.07211769732070719,
          0.0783042917264582,
          0.0844242095888122,
          0.08691174165229659,
          0.09003973374172465,
          0.09187204236428252,
          0.1092812008496285,
          0.12278833879711759,
          0.1240570794623154,
          0.12963340390601719,
          0.1379643369641802,
          0.17765711322695174,
          0.1862017109712673,
          0.19748441400267705,
          0.19890163293361288,
          0.20695158736858063,
          0.21417191367967353,
          0.21499254077165975,
          0.2182720344399291,
          0.22214567373369695,
          0.2287704934977235,
          0.23054868395439018,
          0.23816701953008584,
          0.24298599112127878,
          0.24676445203957353,
          0.24717060960672813,
          0.248054019972816,
          0.24995555471335373,
          0.25277087937928194,
          0.2569977295004729,
          0.26027196897787896,
          0.26044875096685727,
          0.26176258292577465,
          0.2649414717591548,
          0.2671047944060956,
          0.26788590309204824,
          0.26910878586846604,
          0.26975892738708224,
          0.2712795763571747,
          0.2722427212229689,
          0.27251450931886734,
          0.27441519133006825,
          0.2754373984692216,
          0.27760629400384845,
          0.27843423389590505,
          0.28057820217092827,
          0.2811329844320909,
          0.28145992430519784,
          0.28216569133954306,
          0.2825990156574888,
          0.2826361567574924,
          0.28318398798254574,
          0.2835429784199184,
          0.28584337515439573,
          0.2865040250547383,
          0.287178077448496,
          0.28854213430400916,
          0.290203595589236,
          0.2915958269665747,
          0.2925162061641134,
          0.29322149084651045,
          0.2933996251436289,
          0.2937462294720486,
          0.2945202148533392,
          0.29563098525553455,
          0.2983806239222449,
          0.29855486495006794,
          0.29892556103560963,
          0.29961725372918346,
          0.3005408974157995,
          0.30179686436780023,
          0.3025399619975572,
          0.303435930741151,
          0.3041985550113784,
          0.3050237558334439,
          0.30668946353849946,
          0.30688236125060075,
          0.3069568501728715,
          0.3079987131539099,
          0.3088554908017206,
          0.3090711279628038,
          0.30912117197741906,
          0.3099720580407208,
          0.3099864338514597,
          0.3101391326967436,
          0.3102404266058444,
          0.31061113130481366,
          0.31085932722239357,
          0.3115164111636913,
          0.3118564089931075,
          0.3136946522673125,
          0.31384584376275865,
          0.31481898020462057,
          0.3149222982692178,
          0.3149665885141665,
          0.3151283056181943,
          0.31575415727085265,
          0.31597282635846674,
          0.3162702480150356,
          0.31669658684316154,
          0.316748517198431,
          0.3167866746828966,
          0.3175606686776149,
          0.3186038839667935,
          0.3194611784202629,
          0.3213864517673892,
          0.3213881486126352,
          0.32207460434220114,
          0.32246242392190033,
          0.3225393073770562,
          0.3225961215458002,
          0.3230667678457301,
          0.3244182663237374,
          0.32450751004756334,
          0.3250144877852983,
          0.3256686517746245,
          0.3257271714020421,
          0.3263888290734191,
          0.32730565953876817,
          0.32749296713632814,
          0.3275177393542341,
          0.3278002167138395,
          0.32900073903209187,
          0.32928540420231905,
          0.32936531097057825,
          0.32954464253413934,
          0.3299572601720274,
          0.3312748217451149,
          0.33169966183683064,
          0.3336737905455573,
          0.3337613546509925,
          0.33378508464415346,
          0.334283199164842,
          0.33453243730716686,
          0.33520189874399,
          0.3353349159071059,
          0.3357917979496597,
          0.336292634313484,
          0.33736792600721116,
          0.3390312908599474,
          0.3391132045568478,
          0.33961404092067204,
          0.3410798826506618,
          0.34117744694559243,
          0.3411925376708258,
          0.3417734530714622,
          0.342218457197294,
          0.34231296372541087,
          0.3440655292348348,
          0.34432391483731817,
          0.34492230688264547,
          0.34586492595036256,
          0.3459080189288686,
          0.34603882244107986,
          0.34676275519432753,
          0.3469047733893321,
          0.34693734937268406,
          0.34746363841519823,
          0.34754557795238156,
          0.34792610195886575,
          0.3480742701412085,
          0.3480910146445497,
          0.3483380563628251,
          0.34836263047189525,
          0.3486345994497742,
          0.3488444656143355,
          0.34919007078514835,
          0.34951749301020346,
          0.35013693627269427,
          0.3505566513749615,
          0.3505958424707445,
          0.35072954870807194,
          0.3508612135630477,
          0.35090855296138257,
          0.3512252859227306,
          0.35155934910049974,
          0.3515907708845473,
          0.35194329263775886,
          0.3523338254471661,
          0.35247195037287526,
          0.35320876020045167,
          0.35382121797312266,
          0.35386686913963916,
          0.3541708886817838,
          0.35474670493325455,
          0.3549343484544927,
          0.35550050044014614,
          0.3555592095629719,
          0.35630419353338305,
          0.3563584581275442,
          0.3565162388951384,
          0.3566809793122695,
          0.35676513250035746,
          0.3569851883498223,
          0.3570859568398368,
          0.3573854026519021,
          0.35777612495671757,
          0.3578297349303777,
          0.35789369824406664,
          0.35822944965365405,
          0.35924741037297864,
          0.360108753137441,
          0.3606869553083693,
          0.36081249601628973,
          0.36145957976809207,
          0.36183844999646847,
          0.36197315539140273,
          0.3636827915774459,
          0.3638924940868819,
          0.36415460069010785,
          0.3646157463793457,
          0.3649479404433159,
          0.36501006048348894,
          0.3654550732227484,
          0.3658562952958626,
          0.3658688364465132,
          0.36597470408569327,
          0.36620561285399034,
          0.36651965842591333,
          0.36686490183276516,
          0.36738048438471704,
          0.36770726060269876,
          0.3678480643044054,
          0.3691870044049069,
          0.36941078125511423,
          0.36971707474215704,
          0.36974603308589826,
          0.37008862355703553,
          0.37010011386951347,
          0.3702405902609696,
          0.37050797689534165,
          0.3713528852398581,
          0.37151252650782357,
          0.37158869504848496,
          0.3719439558716875,
          0.37209325241305174,
          0.37273999162774835,
          0.3734713836093363,
          0.37369482453586544,
          0.37393728391063397,
          0.37461031130650196,
          0.3747635097305892,
          0.37505413539274646,
          0.3751640685697748,
          0.37592077541521024,
          0.37673461512621254,
          0.3771159918620336,
          0.3774351193562669,
          0.37865886347544914,
          0.3788507448030884,
          0.37894489818067184,
          0.3789771382403456,
          0.37910913040557187,
          0.3803406955170554,
          0.38133760501921654,
          0.3814012324092274,
          0.38140443660431117,
          0.38244903004191294,
          0.3829151456789018,
          0.3839659580112629,
          0.38460236111278595,
          0.385125041129117,
          0.38627347805040235,
          0.3863912149928767,
          0.3864823450573568,
          0.387406272987085,
          0.3874843106415453,
          0.38917446325425636,
          0.38941656086506377,
          0.3895505944126418,
          0.38999140379921066,
          0.3900144361047324,
          0.3901269102429159,
          0.3902946998134332,
          0.39030725819093903,
          0.39139800237386063,
          0.3916317966404187,
          0.391996902611419,
          0.39230957003491884,
          0.3926095412660705,
          0.39357964578140153,
          0.3936710687024216,
          0.39372264590715755,
          0.3944065520621407,
          0.39447848279640096,
          0.3947921838312181,
          0.3950368568568913,
          0.3950870559132042,
          0.3951004928603298,
          0.395215835269919,
          0.39523381149341336,
          0.39540210064273396,
          0.3954095684845018,
          0.3954754009119897,
          0.3956486169419231,
          0.39585118753326937,
          0.39608244945209986,
          0.3962571814452987,
          0.39629467569583576,
          0.39634337601573844,
          0.39652915042317766,
          0.39766951656275995,
          0.39783058765971446,
          0.39880611863446164,
          0.39893761122088445,
          0.3989423830597996,
          0.3991242555845158,
          0.3991556343014252,
          0.3993926758302052,
          0.3997945611372481,
          0.4008729019843615,
          0.4010880223397859,
          0.40127755220167827,
          0.4015200115764468,
          0.4016528220172992,
          0.40166283082022225,
          0.40207361379802203,
          0.40248990936951434,
          0.40287999428068405,
          0.4039203068447464,
          0.40407284203490507,
          0.40438567311353013,
          0.40444033392536294,
          0.40456215363254083,
          0.4049550465211227,
          0.405126737974363,
          0.4052721584732872,
          0.4052883086501209,
          0.4060381419802959,
          0.4064204231260196,
          0.40706239911522873,
          0.4076955377276744,
          0.4082902346125422,
          0.40836574853270263,
          0.4084557933052995,
          0.40861118815343617,
          0.40917444602740105,
          0.409265386596473,
          0.4094683189517803,
          0.40961559995107577,
          0.4096203114959973,
          0.40975485323580635,
          0.41053053546234297,
          0.4108240810764717,
          0.4109185703777332,
          0.41105801315787205,
          0.41117883370744324,
          0.4116749240726353,
          0.41210734398067833,
          0.4125379378420607,
          0.41266215208212387,
          0.41339508586726015,
          0.41357860355665654,
          0.41393525975513745,
          0.41399412391966084,
          0.41494233310191925,
          0.4151176163544873,
          0.41522651592019827,
          0.4153235892497532,
          0.41663841175284977,
          0.41667385600760737,
          0.41738746126110915,
          0.41744834096770134,
          0.41815607186354947,
          0.4187211385573198,
          0.41904127382258755,
          0.4192611487900718,
          0.4195345131432292,
          0.4204088966371456,
          0.4214566942698311,
          0.4215596850241779,
          0.4219822942381337,
          0.4220299695601467,
          0.4223630249668814,
          0.4226672167775789,
          0.4231368208527638,
          0.4241471500751952,
          0.4242187362723497,
          0.4242664977286391,
          0.42508636683899265,
          0.4252897901596757,
          0.42560185464324046,
          0.4258781561752247,
          0.4258818857893948,
          0.42589801873937316,
          0.4277420502369554,
          0.4289950024892806,
          0.429172240989924,
          0.42917802921330117,
          0.42935650804752545,
          0.43009434287299153,
          0.430163215840438,
          0.43018459436785195,
          0.43021666215897286,
          0.43027099566055516,
          0.4304168812845722,
          0.43076364926811705,
          0.4310186497935361,
          0.4311031302918746,
          0.43195957201600715,
          0.43219049801115955,
          0.4326370094868292,
          0.4339920911507367,
          0.43411795055547997,
          0.43458012124260753,
          0.4346273055992448,
          0.4358478885904814,
          0.4363609129544229,
          0.43662654244955545,
          0.43716433903140284,
          0.4372471485247782,
          0.43742040762184986,
          0.4375637608981393,
          0.4379313647631565,
          0.4385431765287542,
          0.4388444656143355,
          0.43957570255422584,
          0.4413726186025919,
          0.44169014399928336,
          0.4421586024885915,
          0.44230532361509006,
          0.44248958205926386,
          0.4426218240138917,
          0.44284964056166437,
          0.4431566834169123,
          0.4434758195245732,
          0.4435567340638668,
          0.4437287786676406,
          0.44419298212369224,
          0.44509315421997664,
          0.4453758555287008,
          0.4460115437157293,
          0.4462585509802942,
          0.44648723748425895,
          0.44666893774042227,
          0.4467434525029759,
          0.4472600600528175,
          0.44754369161172736,
          0.44859696738439486,
          0.44890930749764424,
          0.44899989491618275,
          0.44905638177467616,
          0.4492538618302845,
          0.44937668069506914,
          0.44991296992707874,
          0.4500027218431357,
          0.45010844305404585,
          0.45097168938601767,
          0.45159229546124047,
          0.4516696784951998,
          0.45179451290205325,
          0.4518467361138626,
          0.4525360773416895,
          0.45356879286256935,
          0.4536149263810339,
          0.45369160311392637,
          0.45419277540142877,
          0.45493469299159844,
          0.4549844096959632,
          0.45513881399992073,
          0.4555347732687441,
          0.45557346478572375,
          0.45605802177129967,
          0.45674172120401935,
          0.45679651983069447,
          0.45813787169093645,
          0.45910964721123054,
          0.4594191362799295,
          0.4602406247146802,
          0.46073581066996966,
          0.46080199624799095,
          0.4610714845587083,
          0.46181164500963845,
          0.4621441577704315,
          0.46238183669285726,
          0.46289015812530465,
          0.46312701877210416,
          0.46391271841499154,
          0.46393444147951124,
          0.46429949576994567,
          0.46433496586498624,
          0.46499983634487474,
          0.4652759053143126,
          0.4661879639407465,
          0.46649844355362463,
          0.46685203337186404,
          0.467232393723223,
          0.4673905362547783,
          0.46757052243884034,
          0.46889877327563484,
          0.4692187707260602,
          0.4694266558022632,
          0.469722966326666,
          0.46976148557509273,
          0.4704628856016221,
          0.4707545448750967,
          0.4708746246698904,
          0.4720384968535149,
          0.47207634425458533,
          0.4723306557057929,
          0.47250401816399623,
          0.47351041104999403,
          0.4748999981050459,
          0.4755232829562662,
          0.4757287218190181,
          0.4768199828075984,
          0.4774213895526013,
          0.47770506417864933,
          0.47772103347350253,
          0.4781551588402192,
          0.47845952291946964,
          0.47980559493806085,
          0.4802640360110183,
          0.4805412419529052,
          0.4807198758288271,
          0.4824002091340232,
          0.48255187436798974,
          0.48283026034946397,
          0.48283386076221946,
          0.4833198906439226,
          0.48398205650753073,
          0.4841682443594969,
          0.48453194634179114,
          0.48499849265016215,
          0.48646165560415444,
          0.48657496524481947,
          0.4867205321720136,
          0.48746310438268425,
          0.48806202184709785,
          0.48815124834406853,
          0.48905689858033485,
          0.4894901970579976,
          0.48959928611911685,
          0.4910633190293011,
          0.49172680274733893,
          0.4917663383802277,
          0.49184253276117207,
          0.49191480803253806,
          0.4925878871089719,
          0.49364499585694127,
          0.4943583943881796,
          0.4946511131132545,
          0.4949338747159722,
          0.49516072655984866,
          0.495996427150213,
          0.4971019175212622,
          0.49756174535607045,
          0.49827120755087523,
          0.5002934077992864,
          0.5007956223115339,
          0.5014918628949041,
          0.5034626323668494,
          0.5035497830277577,
          0.5045545049087924,
          0.504636702848805,
          0.504900118693033,
          0.5051683149896036,
          0.506380715224578,
          0.5066729171439941,
          0.5070561199264758,
          0.5115714078992022,
          0.5118311630366812,
          0.5128197950348757,
          0.5134979474201923,
          0.5141103707391527,
          0.5147253522461236,
          0.5149430049492755,
          0.5150157884128725,
          0.5150355131621788,
          0.5150423349968734,
          0.5161715295208006,
          0.5165132500357457,
          0.5169585470181175,
          0.517763411537514,
          0.517928324223198,
          0.5191868579766369,
          0.5204691217232368,
          0.5228540075694802,
          0.5229558441245226,
          0.5230527537989522,
          0.5262058195762538,
          0.5273360735517814,
          0.5288782388641301,
          0.5302289449067941,
          0.5310113542203212,
          0.5312818503020729,
          0.5316944248728228,
          0.5337883232929479,
          0.534485631941346,
          0.5345019371598773,
          0.53521232099144,
          0.5356218894759418,
          0.5357489461471276,
          0.5393180663199475,
          0.5396914411814866,
          0.5420641648678959,
          0.5425408836343152,
          0.5474317601194855,
          0.5474319496148936,
          0.5490199728160223,
          0.5511389879911592,
          0.5533869547915636,
          0.555497666622451,
          0.5564778143944158,
          0.5569150233682292,
          0.5619852400303882,
          0.5622410588314335,
          0.5622896213364939,
          0.5630004961334323,
          0.5679903150619564,
          0.5684780417889056,
          0.5690356234140527,
          0.5727787606655768,
          0.572881570537943,
          0.5729672655295794,
          0.5744524960851971,
          0.5749673464957992,
          0.5762850544971567,
          0.579249994401272,
          0.5797847935102991,
          0.584701828975226,
          0.5859461247327684,
          0.586010725440103,
          0.5862782154356069,
          0.5887955068916034,
          0.5918283119921308,
          0.5937264616556042,
          0.6055640158555976,
          0.606527858409031,
          0.6086153742792715,
          0.6097070745526616,
          0.6101231375616075,
          0.6178162549161138,
          0.6189854501980228,
          0.6209512497222169,
          0.6242780655619659,
          0.6335679487466601,
          0.634703232963932,
          0.6412732799415665,
          0.6416025712804205,
          0.6430411084447767,
          0.6464864967294814,
          0.6598759924822003,
          0.6599470101931303,
          0.6681542372034612,
          0.6687680558977,
          0.7170367569411307,
          0.7254326180168789,
          0.8165296844556916,
          0.8180769230769231,
          0.8235555798645624,
          0.8470427518867714
         ],
         "xaxis": "x",
         "y": [
          0.7345791846869902,
          0.7349957068544747,
          0.7350981212340338,
          0.7351035536902734,
          0.7354584990128734,
          0.7354877000958295,
          0.7355036862397824,
          0.7357635216467104,
          0.7358319445046294,
          0.7360053703121647,
          0.7360313594437217,
          0.7360906971475523,
          0.7362318562150083,
          0.736279136288695,
          0.7368163167569587,
          0.7368636145350482,
          0.7369696079994128,
          0.7375654096090976,
          0.7376442771328809,
          0.7376858852749845,
          0.7378377266200271,
          0.738506999637872,
          0.739169059509276,
          0.7394381636369957,
          0.7397765534793199,
          0.7399747747689365,
          0.7418581178933535,
          0.7433193358726929,
          0.743456589721607,
          0.7440598430212656,
          0.7449610931022661,
          0.7492551040578467,
          0.7501794686344695,
          0.7514000446431796,
          0.751553361044522,
          0.7524242145294694,
          0.7532053178737518,
          0.7532940942722608,
          0.7536488737325606,
          0.7540679285614618,
          0.7547846093110558,
          0.7549769760341968,
          0.7558011364861834,
          0.7563224584685568,
          0.7567312167894911,
          0.7567751553900945,
          0.7568707237566191,
          0.7570764340086366,
          0.7573809991234317,
          0.7578382647127127,
          0.7581924757685002,
          0.7582116002508089,
          0.7583537321286105,
          0.7586976280402177,
          0.7589316588141026,
          0.7590161600652314,
          0.7591484529541079,
          0.7592187860239122,
          0.7593832916078487,
          0.7594874857457985,
          0.7595168880998605,
          0.759722506102621,
          0.7598330896663743,
          0.7600677233217664,
          0.7601572908275392,
          0.7603892278228358,
          0.7604492448166491,
          0.7604846135544678,
          0.7605609642576161,
          0.7606078417890908,
          0.7606118597567245,
          0.7606711247793225,
          0.7607099607846657,
          0.7609588203936443,
          0.7610302902724729,
          0.7611032100487131,
          0.7612507753145648,
          0.7614305141394282,
          0.7615811273580002,
          0.7616806950559449,
          0.7617569935776953,
          0.7617762643542801,
          0.7618137604158716,
          0.7618974910595716,
          0.7620176555006927,
          0.7623151146272749,
          0.7623339642254342,
          0.7623740665614857,
          0.7624488946859898,
          0.7625488155401805,
          0.7626846875138625,
          0.7627650766844793,
          0.762862003630969,
          0.7629445052163877,
          0.7630337764063656,
          0.7632139746138922,
          0.7632348425139751,
          0.7632429008126989,
          0.7633556107684142,
          0.7634482979763293,
          0.7634716258565962,
          0.7634770396766223,
          0.7635690895260352,
          0.7635706447180529,
          0.7635871638577123,
          0.763598121951259,
          0.7636382252191212,
          0.7636650753437424,
          0.7637361594529513,
          0.7637729408157545,
          0.7639718041229266,
          0.7639881601957178,
          0.7640934352340514,
          0.7641046123031068,
          0.7641094036736014,
          0.7641268984190382,
          0.764194603782737,
          0.7642182596603618,
          0.7642504350829948,
          0.7642965569160116,
          0.7643021748025756,
          0.7643063027238691,
          0.7643900342993798,
          0.7645028905493712,
          0.7645956336659268,
          0.7648039119881666,
          0.7648040955548696,
          0.7648783571384828,
          0.7649203119141577,
          0.7649286292562493,
          0.7649347754794664,
          0.764985690546599,
          0.7651318972324856,
          0.7651415517228969,
          0.7651963971674598,
          0.7652671653928497,
          0.7652734961145806,
          0.7653450750152584,
          0.7654442588072047,
          0.7654645219621592,
          0.7654672018496625,
          0.7654977605807732,
          0.7656276344891355,
          0.7656584299001578,
          0.7656670743077966,
          0.7656864746060653,
          0.7657311120646756,
          0.7658736474164997,
          0.7659196071144588,
          0.7661331706668514,
          0.7661426434541808,
          0.7661452105925924,
          0.7661990972039701,
          0.7662260600776831,
          0.7662984831988331,
          0.7663128731510984,
          0.7663622991847713,
          0.7664164802483224,
          0.7665328065612702,
          0.7667127513162929,
          0.7667216128358192,
          0.7667757938993703,
          0.7669343703719772,
          0.7669449249915011,
          0.766946557523805,
          0.7670094016312085,
          0.7670575426979596,
          0.7670677665246937,
          0.7672573611110743,
          0.7672853135677249,
          0.7673500483189895,
          0.7674520219520989,
          0.7674566838009096,
          0.7674708342778312,
          0.7675491501696946,
          0.7675645138641161,
          0.7675680379720916,
          0.7676249725361896,
          0.7676338368511478,
          0.7676750023831803,
          0.7676910313904243,
          0.767692842830378,
          0.7677195680923686,
          0.7677222265482265,
          0.7677516484703127,
          0.7677743520374269,
          0.76781174000898,
          0.7678471609281967,
          0.7679141730247526,
          0.7679595782953598,
          0.7679638180339343,
          0.7679782825310537,
          0.767992526189043,
          0.7679976474205168,
          0.7680319119626848,
          0.7680680513079324,
          0.7680714505532775,
          0.7681095867688033,
          0.768151835064841,
          0.768166777580837,
          0.7682464865296605,
          0.7683127429277585,
          0.7683176815243399,
          0.7683505707139505,
          0.7684128631894339,
          0.7684331626850047,
          0.76849440966891,
          0.7685007608904758,
          0.7685813541276305,
          0.7685872245348877,
          0.7686042934428458,
          0.7686221152538298,
          0.7686312190441317,
          0.7686550249432753,
          0.7686659261963708,
          0.7686983205945126,
          0.7687405893903851,
          0.7687463889800309,
          0.7687533086061089,
          0.7687896305862489,
          0.7688997547673391,
          0.7689929358349124,
          0.7690554864219529,
          0.7690690675625517,
          0.7691390698395661,
          0.7691800564639488,
          0.7691946290511067,
          0.7693795794930794,
          0.7694022653557908,
          0.7694306203546534,
          0.7694805076346107,
          0.7695164447769417,
          0.7695231649955351,
          0.7695713069940968,
          0.7696147116671831,
          0.769616068383527,
          0.7696275212685424,
          0.7696525012491374,
          0.7696864750663747,
          0.7697238239018794,
          0.7697796002253074,
          0.7698149512587233,
          0.7698301835678395,
          0.7699750316737608,
          0.7699992401151163,
          0.7700323753027454,
          0.7700355080502372,
          0.7700725698880538,
          0.7700738129234952,
          0.7700890098238058,
          0.7701179360226125,
          0.7702093391954165,
          0.7702266093744805,
          0.770234849376286,
          0.7702732819076066,
          0.7702894329820491,
          0.7703593979866364,
          0.770438520826545,
          0.7704626929272841,
          0.7704889224659953,
          0.770561731356765,
          0.7705783045414436,
          0.7706097447654535,
          0.7706216374651078,
          0.7707034988965923,
          0.770791541028289,
          0.7708327988095783,
          0.7708673223951142,
          0.7709997084650583,
          0.7710204664114816,
          0.771030652033978,
          0.7710341398013373,
          0.7710484188681321,
          0.7711816510221697,
          0.7712894978579684,
          0.77129638114343,
          0.7712967277770014,
          0.7714097331167008,
          0.7714601580514181,
          0.7715738361584255,
          0.771642682990202,
          0.7716992271256268,
          0.7718234663748329,
          0.7718362032949595,
          0.7718460618519087,
          0.7719460134558518,
          0.771954455660574,
          0.7721372983467982,
          0.7721634887494611,
          0.7721779886553861,
          0.7722256759303381,
          0.772228167592085,
          0.7722403351758887,
          0.772258486847852,
          0.7722598454278172,
          0.7723778434091173,
          0.7724031355462887,
          0.7724426331372116,
          0.7724764578647407,
          0.7725089091033338,
          0.7726138561443096,
          0.7726237463828217,
          0.772629326065148,
          0.7727033118328012,
          0.7727110933837542,
          0.7727450299285644,
          0.7727714989426193,
          0.7727769295352375,
          0.7727783831598916,
          0.7727908610366503,
          0.7727928057255306,
          0.7728110114425131,
          0.7728118193223689,
          0.7728189411513635,
          0.7728376798640525,
          0.7728595941875244,
          0.7728846123723572,
          0.772903515083725,
          0.7729075712555965,
          0.772912839713157,
          0.7729329370058113,
          0.7730563031484142,
          0.7730737280080504,
          0.7731792620897519,
          0.7731934871115276,
          0.7731940033346419,
          0.77321367851706,
          0.7732170731033517,
          0.7732427165331479,
          0.7732861929556563,
          0.7734028491295832,
          0.7734261211012097,
          0.7734466246633185,
          0.7734728542020297,
          0.7734872217908388,
          0.773488304554844,
          0.7735327435377803,
          0.7735777788795491,
          0.7736199787214317,
          0.7737325209512254,
          0.7737490223864819,
          0.7737828648184139,
          0.7737887780889621,
          0.773801956687349,
          0.7738444602995118,
          0.7738630340817112,
          0.7738787658413496,
          0.7738805129863666,
          0.7739616308329318,
          0.7740029864543422,
          0.7740724361676259,
          0.7741409298431563,
          0.7742052648476409,
          0.7742134340318351,
          0.7742231751806391,
          0.77423998597704,
          0.7743009198725582,
          0.7743107579296726,
          0.7743327113891929,
          0.7743486444199372,
          0.7743491541203769,
          0.7743637090031318,
          0.7744476232135349,
          0.7744793793213638,
          0.7744896012844766,
          0.774504686367506,
          0.7745177568758546,
          0.7745714245117233,
          0.7746182042030771,
          0.7746647863505678,
          0.7746782239923224,
          0.7747575136263419,
          0.7747773667845991,
          0.7748159502692491,
          0.7748223182634071,
          0.7749248966416451,
          0.7749438589888963,
          0.7749556398712696,
          0.774966141377585,
          0.7751083804136143,
          0.775112214814545,
          0.775189413465408,
          0.7751959995032641,
          0.7752725626592464,
          0.7753336922350065,
          0.7753683248423914,
          0.7753921111735108,
          0.7754216840489265,
          0.7755162758778629,
          0.7756296278511337,
          0.7756407695113834,
          0.7756864878703775,
          0.7756916454424677,
          0.7757276757658663,
          0.7757605835916904,
          0.7758113859097314,
          0.7759206845065628,
          0.7759284287850888,
          0.7759335956752857,
          0.7760222900744553,
          0.7760442966471841,
          0.7760780561479659,
          0.7761079467708221,
          0.7761083502448447,
          0.7761100955262403,
          0.7763095850101865,
          0.776445130850132,
          0.7764643047184066,
          0.7764649308951806,
          0.7764842389441925,
          0.7765640587784864,
          0.7765715095366496,
          0.7765738222907468,
          0.7765772914218925,
          0.776583169283635,
          0.77659895136105,
          0.7766364651270442,
          0.7766640513820993,
          0.7766731905812069,
          0.7767658414485057,
          0.776790823292722,
          0.7768391274263413,
          0.776985721745469,
          0.7769993373630627,
          0.7770493355284905,
          0.7770544399873722,
          0.7771864840827982,
          0.7772419836584555,
          0.7772707197678844,
          0.7773288992310452,
          0.7773378576588816,
          0.777356601030624,
          0.7773721091557002,
          0.7774118769717191,
          0.7774780634840164,
          0.7775106572896429,
          0.7775897633569592,
          0.7777841558365092,
          0.7778185061052594,
          0.7778691844924804,
          0.7778850569555309,
          0.7779049902495061,
          0.7779192963388106,
          0.7779439417993731,
          0.7779771580545309,
          0.7780116825718775,
          0.7780204360013654,
          0.7780390479878024,
          0.7780892660605497,
          0.7781866477306492,
          0.7782172306888374,
          0.7782860001803278,
          0.7783127217150758,
          0.7783374612885164,
          0.7783571178347211,
          0.7783651789288768,
          0.7784210661377752,
          0.7784517497315164,
          0.778565694336377,
          0.7785994836551005,
          0.7786092835079771,
          0.7786153943223886,
          0.7786367579457512,
          0.7786500446341764,
          0.7787080610304689,
          0.77871777049771,
          0.7787292075419439,
          0.7788225945396765,
          0.7788897324306737,
          0.7788981038177845,
          0.7789116085499079,
          0.7789172581180348,
          0.7789918318582244,
          0.779103552231002,
          0.7791085430089812,
          0.7791168379876167,
          0.7791710553917841,
          0.7792513169043384,
          0.7792566953155586,
          0.7792733989537318,
          0.7793162342904953,
          0.7793204199840507,
          0.7793728399254247,
          0.7794468033296217,
          0.7794527315091406,
          0.7795978405220512,
          0.779702968334298,
          0.7797364492236877,
          0.7798253188032643,
          0.7798788885990122,
          0.7798860486322445,
          0.7799152021928561,
          0.7799952736160326,
          0.7800312452353586,
          0.7800569576191447,
          0.780111948426173,
          0.780137572287945,
          0.7802225701941641,
          0.7802249202206882,
          0.7802644122207472,
          0.7802682494171098,
          0.7803401758831696,
          0.7803700413471375,
          0.7804687089159694,
          0.7805022969635869,
          0.7805405487236364,
          0.7805816965512661,
          0.7805988045952725,
          0.7806182757111526,
          0.7807619674400254,
          0.7807965851384395,
          0.7808190743890983,
          0.7808511296081542,
          0.780855296665496,
          0.7809311749406316,
          0.7809627269819226,
          0.780975717354553,
          0.78110162640849,
          0.7811057207845992,
          0.7811332324948002,
          0.7811519870482706,
          0.7812608598076233,
          0.7814111869603179,
          0.7814786146444352,
          0.7815008392608621,
          0.7816188931508027,
          0.7816839540358037,
          0.7817146422885982,
          0.781716369865591,
          0.7817633340554586,
          0.7817962605174964,
          0.7819418801626571,
          0.7819914748540623,
          0.7820214633170394,
          0.7820407881386434,
          0.7822225685606974,
          0.7822389758830757,
          0.7822690920041153,
          0.7822694815009779,
          0.7823220607819774,
          0.7823936946594849,
          0.7824138366790516,
          0.7824531823848344,
          0.7825036539100855,
          0.7826619405895722,
          0.7826741985590114,
          0.7826899461594313,
          0.7827702784895969,
          0.7828350700813126,
          0.7828447227081026,
          0.7829426970097918,
          0.7829895717458345,
          0.7830013731280426,
          0.7831597539204076,
          0.7832315303649486,
          0.7832358073759502,
          0.7832440501731878,
          0.7832518689965678,
          0.7833246834782016,
          0.7834390427388129,
          0.7835162190262197,
          0.7835478856802238,
          0.7835784751610868,
          0.7836030162588535,
          0.7836934233260452,
          0.783813016567222,
          0.7838627612801461,
          0.7839395117300741,
          0.7841582757178479,
          0.7842126058711072,
          0.784287925991648,
          0.7845011261378769,
          0.784510554198294,
          0.7846192461863755,
          0.784628138455654,
          0.7846566350897393,
          0.7846856488787496,
          0.7848168077540336,
          0.7848484184993971,
          0.7848898738245499,
          0.785378342957929,
          0.7854064435724771,
          0.7855133949382163,
          0.7855867582563381,
          0.7856530109271933,
          0.7857195403458193,
          0.7857430862697844,
          0.7857509600699943,
          0.7857530939164418,
          0.785753831910497,
          0.7858759894946534,
          0.7859129572195918,
          0.7859611299679058,
          0.7860482011528783,
          0.7860660416000759,
          0.7862021912533392,
          0.7863409080450141,
          0.7865989077849109,
          0.7866099245825302,
          0.7866204083844428,
          0.7869615107276442,
          0.7870837829245139,
          0.7872506161715184,
          0.7873967371308227,
          0.7874813790853635,
          0.7875106416678243,
          0.7875552744673812,
          0.7877817948472197,
          0.7878572305122843,
          0.7878589944298935,
          0.7879358445835638,
          0.7879801521811949,
          0.7879938973204726,
          0.7883800089147439,
          0.7884204010439155,
          0.7886770850671383,
          0.7887286570607974,
          0.7892577577986919,
          0.7892577782985267,
          0.7894295725055689,
          0.7896588100453379,
          0.7899019977227332,
          0.7901303369970109,
          0.7902363705292345,
          0.790283668307324,
          0.7908321702752978,
          0.7908598450523672,
          0.7908650986009569,
          0.7909420018678358,
          0.7914818063149625,
          0.7915345691626651,
          0.791594888994948,
          0.791999825960301,
          0.7920109480525266,
          0.7920202186369395,
          0.7921808926153774,
          0.792236589734898,
          0.7923791409275036,
          0.7926998915937362,
          0.7927577467867818,
          0.7932896774336985,
          0.7934242868039149,
          0.7934312753839828,
          0.7934602127645177,
          0.7937325362981219,
          0.7940606287006686,
          0.7942659727510906,
          0.7955465732080993,
          0.7956508428227138,
          0.7958766727308416,
          0.7959947741431266,
          0.7960397843260072,
          0.7968720347582805,
          0.7969985196712152,
          0.7972111821626842,
          0.7975710809908364,
          0.7985760714179877,
          0.7986988877922919,
          0.799409643157799,
          0.7994452662799324,
          0.7996008889126971,
          0.7999736150466115,
          0.8014221063557417,
          0.8014297891347631,
          0.8023176565508389,
          0.8023840601750236,
          0.8076058247026546,
          0.8085140987725289,
          0.8183690859550808,
          0.8185364680385734,
          0.8191291555369797,
          0.8216700252738635
         ],
         "yaxis": "y"
        }
       ],
       "layout": {
        "legend": {
         "tracegroupgap": 0
        },
        "template": {
         "data": {
          "bar": [
           {
            "error_x": {
             "color": "#2a3f5f"
            },
            "error_y": {
             "color": "#2a3f5f"
            },
            "marker": {
             "line": {
              "color": "#E5ECF6",
              "width": 0.5
             },
             "pattern": {
              "fillmode": "overlay",
              "size": 10,
              "solidity": 0.2
             }
            },
            "type": "bar"
           }
          ],
          "barpolar": [
           {
            "marker": {
             "line": {
              "color": "#E5ECF6",
              "width": 0.5
             },
             "pattern": {
              "fillmode": "overlay",
              "size": 10,
              "solidity": 0.2
             }
            },
            "type": "barpolar"
           }
          ],
          "carpet": [
           {
            "aaxis": {
             "endlinecolor": "#2a3f5f",
             "gridcolor": "white",
             "linecolor": "white",
             "minorgridcolor": "white",
             "startlinecolor": "#2a3f5f"
            },
            "baxis": {
             "endlinecolor": "#2a3f5f",
             "gridcolor": "white",
             "linecolor": "white",
             "minorgridcolor": "white",
             "startlinecolor": "#2a3f5f"
            },
            "type": "carpet"
           }
          ],
          "choropleth": [
           {
            "colorbar": {
             "outlinewidth": 0,
             "ticks": ""
            },
            "type": "choropleth"
           }
          ],
          "contour": [
           {
            "colorbar": {
             "outlinewidth": 0,
             "ticks": ""
            },
            "colorscale": [
             [
              0,
              "#0d0887"
             ],
             [
              0.1111111111111111,
              "#46039f"
             ],
             [
              0.2222222222222222,
              "#7201a8"
             ],
             [
              0.3333333333333333,
              "#9c179e"
             ],
             [
              0.4444444444444444,
              "#bd3786"
             ],
             [
              0.5555555555555556,
              "#d8576b"
             ],
             [
              0.6666666666666666,
              "#ed7953"
             ],
             [
              0.7777777777777778,
              "#fb9f3a"
             ],
             [
              0.8888888888888888,
              "#fdca26"
             ],
             [
              1,
              "#f0f921"
             ]
            ],
            "type": "contour"
           }
          ],
          "contourcarpet": [
           {
            "colorbar": {
             "outlinewidth": 0,
             "ticks": ""
            },
            "type": "contourcarpet"
           }
          ],
          "heatmap": [
           {
            "colorbar": {
             "outlinewidth": 0,
             "ticks": ""
            },
            "colorscale": [
             [
              0,
              "#0d0887"
             ],
             [
              0.1111111111111111,
              "#46039f"
             ],
             [
              0.2222222222222222,
              "#7201a8"
             ],
             [
              0.3333333333333333,
              "#9c179e"
             ],
             [
              0.4444444444444444,
              "#bd3786"
             ],
             [
              0.5555555555555556,
              "#d8576b"
             ],
             [
              0.6666666666666666,
              "#ed7953"
             ],
             [
              0.7777777777777778,
              "#fb9f3a"
             ],
             [
              0.8888888888888888,
              "#fdca26"
             ],
             [
              1,
              "#f0f921"
             ]
            ],
            "type": "heatmap"
           }
          ],
          "heatmapgl": [
           {
            "colorbar": {
             "outlinewidth": 0,
             "ticks": ""
            },
            "colorscale": [
             [
              0,
              "#0d0887"
             ],
             [
              0.1111111111111111,
              "#46039f"
             ],
             [
              0.2222222222222222,
              "#7201a8"
             ],
             [
              0.3333333333333333,
              "#9c179e"
             ],
             [
              0.4444444444444444,
              "#bd3786"
             ],
             [
              0.5555555555555556,
              "#d8576b"
             ],
             [
              0.6666666666666666,
              "#ed7953"
             ],
             [
              0.7777777777777778,
              "#fb9f3a"
             ],
             [
              0.8888888888888888,
              "#fdca26"
             ],
             [
              1,
              "#f0f921"
             ]
            ],
            "type": "heatmapgl"
           }
          ],
          "histogram": [
           {
            "marker": {
             "pattern": {
              "fillmode": "overlay",
              "size": 10,
              "solidity": 0.2
             }
            },
            "type": "histogram"
           }
          ],
          "histogram2d": [
           {
            "colorbar": {
             "outlinewidth": 0,
             "ticks": ""
            },
            "colorscale": [
             [
              0,
              "#0d0887"
             ],
             [
              0.1111111111111111,
              "#46039f"
             ],
             [
              0.2222222222222222,
              "#7201a8"
             ],
             [
              0.3333333333333333,
              "#9c179e"
             ],
             [
              0.4444444444444444,
              "#bd3786"
             ],
             [
              0.5555555555555556,
              "#d8576b"
             ],
             [
              0.6666666666666666,
              "#ed7953"
             ],
             [
              0.7777777777777778,
              "#fb9f3a"
             ],
             [
              0.8888888888888888,
              "#fdca26"
             ],
             [
              1,
              "#f0f921"
             ]
            ],
            "type": "histogram2d"
           }
          ],
          "histogram2dcontour": [
           {
            "colorbar": {
             "outlinewidth": 0,
             "ticks": ""
            },
            "colorscale": [
             [
              0,
              "#0d0887"
             ],
             [
              0.1111111111111111,
              "#46039f"
             ],
             [
              0.2222222222222222,
              "#7201a8"
             ],
             [
              0.3333333333333333,
              "#9c179e"
             ],
             [
              0.4444444444444444,
              "#bd3786"
             ],
             [
              0.5555555555555556,
              "#d8576b"
             ],
             [
              0.6666666666666666,
              "#ed7953"
             ],
             [
              0.7777777777777778,
              "#fb9f3a"
             ],
             [
              0.8888888888888888,
              "#fdca26"
             ],
             [
              1,
              "#f0f921"
             ]
            ],
            "type": "histogram2dcontour"
           }
          ],
          "mesh3d": [
           {
            "colorbar": {
             "outlinewidth": 0,
             "ticks": ""
            },
            "type": "mesh3d"
           }
          ],
          "parcoords": [
           {
            "line": {
             "colorbar": {
              "outlinewidth": 0,
              "ticks": ""
             }
            },
            "type": "parcoords"
           }
          ],
          "pie": [
           {
            "automargin": true,
            "type": "pie"
           }
          ],
          "scatter": [
           {
            "fillpattern": {
             "fillmode": "overlay",
             "size": 10,
             "solidity": 0.2
            },
            "type": "scatter"
           }
          ],
          "scatter3d": [
           {
            "line": {
             "colorbar": {
              "outlinewidth": 0,
              "ticks": ""
             }
            },
            "marker": {
             "colorbar": {
              "outlinewidth": 0,
              "ticks": ""
             }
            },
            "type": "scatter3d"
           }
          ],
          "scattercarpet": [
           {
            "marker": {
             "colorbar": {
              "outlinewidth": 0,
              "ticks": ""
             }
            },
            "type": "scattercarpet"
           }
          ],
          "scattergeo": [
           {
            "marker": {
             "colorbar": {
              "outlinewidth": 0,
              "ticks": ""
             }
            },
            "type": "scattergeo"
           }
          ],
          "scattergl": [
           {
            "marker": {
             "colorbar": {
              "outlinewidth": 0,
              "ticks": ""
             }
            },
            "type": "scattergl"
           }
          ],
          "scattermapbox": [
           {
            "marker": {
             "colorbar": {
              "outlinewidth": 0,
              "ticks": ""
             }
            },
            "type": "scattermapbox"
           }
          ],
          "scatterpolar": [
           {
            "marker": {
             "colorbar": {
              "outlinewidth": 0,
              "ticks": ""
             }
            },
            "type": "scatterpolar"
           }
          ],
          "scatterpolargl": [
           {
            "marker": {
             "colorbar": {
              "outlinewidth": 0,
              "ticks": ""
             }
            },
            "type": "scatterpolargl"
           }
          ],
          "scatterternary": [
           {
            "marker": {
             "colorbar": {
              "outlinewidth": 0,
              "ticks": ""
             }
            },
            "type": "scatterternary"
           }
          ],
          "surface": [
           {
            "colorbar": {
             "outlinewidth": 0,
             "ticks": ""
            },
            "colorscale": [
             [
              0,
              "#0d0887"
             ],
             [
              0.1111111111111111,
              "#46039f"
             ],
             [
              0.2222222222222222,
              "#7201a8"
             ],
             [
              0.3333333333333333,
              "#9c179e"
             ],
             [
              0.4444444444444444,
              "#bd3786"
             ],
             [
              0.5555555555555556,
              "#d8576b"
             ],
             [
              0.6666666666666666,
              "#ed7953"
             ],
             [
              0.7777777777777778,
              "#fb9f3a"
             ],
             [
              0.8888888888888888,
              "#fdca26"
             ],
             [
              1,
              "#f0f921"
             ]
            ],
            "type": "surface"
           }
          ],
          "table": [
           {
            "cells": {
             "fill": {
              "color": "#EBF0F8"
             },
             "line": {
              "color": "white"
             }
            },
            "header": {
             "fill": {
              "color": "#C8D4E3"
             },
             "line": {
              "color": "white"
             }
            },
            "type": "table"
           }
          ]
         },
         "layout": {
          "annotationdefaults": {
           "arrowcolor": "#2a3f5f",
           "arrowhead": 0,
           "arrowwidth": 1
          },
          "autotypenumbers": "strict",
          "coloraxis": {
           "colorbar": {
            "outlinewidth": 0,
            "ticks": ""
           }
          },
          "colorscale": {
           "diverging": [
            [
             0,
             "#8e0152"
            ],
            [
             0.1,
             "#c51b7d"
            ],
            [
             0.2,
             "#de77ae"
            ],
            [
             0.3,
             "#f1b6da"
            ],
            [
             0.4,
             "#fde0ef"
            ],
            [
             0.5,
             "#f7f7f7"
            ],
            [
             0.6,
             "#e6f5d0"
            ],
            [
             0.7,
             "#b8e186"
            ],
            [
             0.8,
             "#7fbc41"
            ],
            [
             0.9,
             "#4d9221"
            ],
            [
             1,
             "#276419"
            ]
           ],
           "sequential": [
            [
             0,
             "#0d0887"
            ],
            [
             0.1111111111111111,
             "#46039f"
            ],
            [
             0.2222222222222222,
             "#7201a8"
            ],
            [
             0.3333333333333333,
             "#9c179e"
            ],
            [
             0.4444444444444444,
             "#bd3786"
            ],
            [
             0.5555555555555556,
             "#d8576b"
            ],
            [
             0.6666666666666666,
             "#ed7953"
            ],
            [
             0.7777777777777778,
             "#fb9f3a"
            ],
            [
             0.8888888888888888,
             "#fdca26"
            ],
            [
             1,
             "#f0f921"
            ]
           ],
           "sequentialminus": [
            [
             0,
             "#0d0887"
            ],
            [
             0.1111111111111111,
             "#46039f"
            ],
            [
             0.2222222222222222,
             "#7201a8"
            ],
            [
             0.3333333333333333,
             "#9c179e"
            ],
            [
             0.4444444444444444,
             "#bd3786"
            ],
            [
             0.5555555555555556,
             "#d8576b"
            ],
            [
             0.6666666666666666,
             "#ed7953"
            ],
            [
             0.7777777777777778,
             "#fb9f3a"
            ],
            [
             0.8888888888888888,
             "#fdca26"
            ],
            [
             1,
             "#f0f921"
            ]
           ]
          },
          "colorway": [
           "#636efa",
           "#EF553B",
           "#00cc96",
           "#ab63fa",
           "#FFA15A",
           "#19d3f3",
           "#FF6692",
           "#B6E880",
           "#FF97FF",
           "#FECB52"
          ],
          "font": {
           "color": "#2a3f5f"
          },
          "geo": {
           "bgcolor": "white",
           "lakecolor": "white",
           "landcolor": "#E5ECF6",
           "showlakes": true,
           "showland": true,
           "subunitcolor": "white"
          },
          "hoverlabel": {
           "align": "left"
          },
          "hovermode": "closest",
          "mapbox": {
           "style": "light"
          },
          "paper_bgcolor": "white",
          "plot_bgcolor": "#E5ECF6",
          "polar": {
           "angularaxis": {
            "gridcolor": "white",
            "linecolor": "white",
            "ticks": ""
           },
           "bgcolor": "#E5ECF6",
           "radialaxis": {
            "gridcolor": "white",
            "linecolor": "white",
            "ticks": ""
           }
          },
          "scene": {
           "xaxis": {
            "backgroundcolor": "#E5ECF6",
            "gridcolor": "white",
            "gridwidth": 2,
            "linecolor": "white",
            "showbackground": true,
            "ticks": "",
            "zerolinecolor": "white"
           },
           "yaxis": {
            "backgroundcolor": "#E5ECF6",
            "gridcolor": "white",
            "gridwidth": 2,
            "linecolor": "white",
            "showbackground": true,
            "ticks": "",
            "zerolinecolor": "white"
           },
           "zaxis": {
            "backgroundcolor": "#E5ECF6",
            "gridcolor": "white",
            "gridwidth": 2,
            "linecolor": "white",
            "showbackground": true,
            "ticks": "",
            "zerolinecolor": "white"
           }
          },
          "shapedefaults": {
           "line": {
            "color": "#2a3f5f"
           }
          },
          "ternary": {
           "aaxis": {
            "gridcolor": "white",
            "linecolor": "white",
            "ticks": ""
           },
           "baxis": {
            "gridcolor": "white",
            "linecolor": "white",
            "ticks": ""
           },
           "bgcolor": "#E5ECF6",
           "caxis": {
            "gridcolor": "white",
            "linecolor": "white",
            "ticks": ""
           }
          },
          "title": {
           "x": 0.05
          },
          "xaxis": {
           "automargin": true,
           "gridcolor": "white",
           "linecolor": "white",
           "ticks": "",
           "title": {
            "standoff": 15
           },
           "zerolinecolor": "white",
           "zerolinewidth": 2
          },
          "yaxis": {
           "automargin": true,
           "gridcolor": "white",
           "linecolor": "white",
           "ticks": "",
           "title": {
            "standoff": 15
           },
           "zerolinecolor": "white",
           "zerolinewidth": 2
          }
         }
        },
        "title": {
         "text": "Power Score vs. Positive Vote Ratio"
        },
        "xaxis": {
         "anchor": "y",
         "domain": [
          0,
          1
         ],
         "title": {
          "text": "Power Score"
         }
        },
        "yaxis": {
         "anchor": "x",
         "domain": [
          0,
          1
         ],
         "title": {
          "text": "Positive Vote Ratio (0: All Negative, 1: All Positive)"
         }
        }
       }
      }
     },
     "metadata": {},
     "output_type": "display_data"
    }
   ],
   "source": [
    "\n",
    "# Plot 1: Positive Vote Ratio vs. Average Polarity\n",
    "fig1 = px.scatter(\n",
    "    final_df,\n",
    "    x=\"Average_Polarity\",\n",
    "    y=\"Positive_Vote_Ratio\",\n",
    "    trendline=\"ols\",\n",
    "    title=\"Sentiment vs. Positive Vote Ratio\",\n",
    "    labels={\"Average_Polarity\": \"Average Sentiment Polarity (-1: Negative, +1: Positive)\",\n",
    "            \"Positive_Vote_Ratio\": \"Positive Vote Ratio (0: All Negative, 1: All Positive)\"},\n",
    "    hover_data=[\"User\"]\n",
    ")\n",
    "fig1.update_traces(marker=dict(size=8, color=\"blue\"), selector=dict(mode='markers'))\n",
    "fig1.update_traces(line=dict(color=\"red\"), selector=dict(mode='lines'))  # Red trendline\n",
    "fig1.show()\n",
    "\n",
    "with open(\"../../docs/_includes/plots/pvr_ap.html\", \"w\") as f:\n",
    "    f.write(fig1.to_html(full_html=False, include_plotlyjs='cdn'))\n",
    "\n",
    "# Plot 2: Average Polarity vs. Power Score\n",
    "fig2 = px.scatter(\n",
    "    final_df,\n",
    "    x=\"Average_Polarity\",\n",
    "    y=\"Power Score\",\n",
    "    trendline=\"ols\",\n",
    "    title=\"Sentiment vs. Power Score\",\n",
    "    labels={\"Average_Polarity\": \"Average Sentiment Polarity (-1: Negative, +1: Positive)\",\n",
    "            \"Power Score\": \"Power Score\"},\n",
    "    hover_data=[\"User\"],\n",
    ")\n",
    "fig2.update_traces(marker=dict(size=8, color=\"green\"), selector=dict(mode='markers'))\n",
    "fig2.update_traces(line=dict(color=\"purple\"), selector=dict(mode='lines'))  # Purple trendline\n",
    "fig2.show()\n",
    "\n",
    "with open(\"../../docs/_includes/plots/ps_ap.html\", \"w\") as f:\n",
    "    f.write(fig2.to_html(full_html=False, include_plotlyjs='cdn'))\n",
    "\n",
    "# Plot 3: Positive Vote Ratio vs. Power Score\n",
    "fig3 = px.scatter(\n",
    "    final_df,\n",
    "    x=\"Power Score\",\n",
    "    y=\"Positive_Vote_Ratio\",\n",
    "    trendline=\"ols\",\n",
    "    title=\"Power Score vs. Positive Vote Ratio\",\n",
    "    labels={\"Power Score\": \"Power Score\",\n",
    "            \"Positive_Vote_Ratio\": \"Positive Vote Ratio (0: All Negative, 1: All Positive)\"},\n",
    "    hover_data=[\"User\"]\n",
    ")\n",
    "fig3.update_traces(marker=dict(size=8, color=\"orange\"), selector=dict(mode='markers'))\n",
    "fig3.update_traces(line=dict(color=\"blue\"), selector=dict(mode='lines'))  # Blue trendline\n",
    "fig3.show()\n",
    "\n",
    "with open(\"../../docs/_includes/plots/pvr_ps.html\", \"w\") as f:\n",
    "    f.write(fig3.to_html(full_html=False, include_plotlyjs='cdn'))\n"
   ]
  }
 ],
 "metadata": {
  "kernelspec": {
   "display_name": ".venv",
   "language": "python",
   "name": "python3"
  },
  "language_info": {
   "codemirror_mode": {
    "name": "ipython",
    "version": 3
   },
   "file_extension": ".py",
   "mimetype": "text/x-python",
   "name": "python",
   "nbconvert_exporter": "python",
   "pygments_lexer": "ipython3",
   "version": "3.12.5"
  }
 },
 "nbformat": 4,
 "nbformat_minor": 2
}
