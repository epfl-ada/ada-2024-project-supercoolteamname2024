{
 "cells": [
  {
   "cell_type": "code",
   "execution_count": 1,
   "metadata": {},
   "outputs": [
    {
     "name": "stdout",
     "output_type": "stream",
     "text": [
      "Sparse Co-occurrence Matrix:\n",
      "                         !---slappdash---!  %D0%90  'sed  (.Y.)  (:Julien:)  \\\n",
      "                   5020                  0       9     0      0           0   \n",
      "!---slappdash---!     0                  0       0     0      0           0   \n",
      "%D0%90                9                  0       0     0      0           0   \n",
      "'sed                  0                  0       0     0      0           0   \n",
      "(.Y.)                 0                  0       0     0      0           0   \n",
      "...                 ...                ...     ...   ...    ...         ...   \n",
      "とある白い猫                1                  0       0     0      0           0   \n",
      "シ                     3                  0       0     0      0           0   \n",
      "石                     0                  0       0     0      0           0   \n",
      "龗                     1                  0       0     0      0           0   \n",
      "완젬스                   0                  0       0     0      0           0   \n",
      "\n",
      "                   (aeropagitica)  *Kat*  *Spark*  *drew  ...  ברוקולי  כתר  \\\n",
      "                              282      3        0     30  ...        0    0   \n",
      "!---slappdash---!               0      0        0      0  ...        0    0   \n",
      "%D0%90                          0      0        0      2  ...        0    0   \n",
      "'sed                            1      0        0      0  ...        0    0   \n",
      "(.Y.)                           1      0        0      0  ...        0    0   \n",
      "...                           ...    ...      ...    ...  ...      ...  ...   \n",
      "とある白い猫                          0      0        0      0  ...        0    0   \n",
      "シ                               0      0        0      0  ...        0    0   \n",
      "石                               0      0        0      0  ...        0    0   \n",
      "龗                               0      0        0      0  ...        0    0   \n",
      "완젬스                             0      0        0      0  ...        0    0   \n",
      "\n",
      "                   පසිඳු කාවින්ද  බිඟුවා  ‎Jetijonez  とある白い猫  シ  石  龗  완젬스  \n",
      "                               1       0           1       1  3  0  1    0  \n",
      "!---slappdash---!              0       0           0       0  0  0  0    0  \n",
      "%D0%90                         0       0           0       0  0  0  0    0  \n",
      "'sed                           0       0           0       0  0  0  0    0  \n",
      "(.Y.)                          0       0           0       0  0  0  0    0  \n",
      "...                          ...     ...         ...     ... .. .. ..  ...  \n",
      "とある白い猫                         0       0           0       0  0  0  0    0  \n",
      "シ                              0       0           0       0  0  0  0    0  \n",
      "石                              0       0           0       0  0  0  0    0  \n",
      "龗                              0       0           0       0  0  0  0    0  \n",
      "완젬스                            0       0           0       0  0  0  0    0  \n",
      "\n",
      "[10417 rows x 10417 columns]\n"
     ]
    }
   ],
   "source": [
    "import pandas as pd\n",
    "from itertools import combinations\n",
    "from scipy.sparse import dok_matrix\n",
    "\n",
    "# File path\n",
    "file_path = \"../../data/wiki-RfA.txt\"\n",
    "\n",
    "# Read and parse the file\n",
    "data = []\n",
    "with open(file_path, \"r\", encoding=\"utf-8\") as file:\n",
    "    current_session = None\n",
    "    for line in file:\n",
    "        if line.startswith(\"SRC:\"):\n",
    "            src = line.split(\"SRC:\")[1].strip()\n",
    "        elif line.startswith(\"TGT:\"):\n",
    "            tgt = line.split(\"TGT:\")[1].strip()\n",
    "            # Check if it's a new session (new TGT indicates a new voting session)\n",
    "            if tgt != current_session:\n",
    "                current_session = tgt\n",
    "                session_id = len(data)  # Increment session ID\n",
    "                data.append({\"Session\": session_id, \"TGT\": tgt, \"SRCs\": []})\n",
    "        elif line.startswith(\"VOT:\"):\n",
    "            vot = int(line.split(\"VOT:\")[1].strip())\n",
    "        elif line.startswith(\"RES:\"):\n",
    "            res = int(line.split(\"RES:\")[1].strip())\n",
    "        elif line.startswith(\"YEA:\"):\n",
    "            yea = int(line.split(\"YEA:\")[1].strip())\n",
    "        elif line.startswith(\"DAT:\"):\n",
    "            dat = line.split(\"DAT:\")[1].strip()\n",
    "        elif line.startswith(\"TXT:\"):\n",
    "            # Add the SRC to the current session's SRC list\n",
    "            if data and \"SRCs\" in data[-1]:\n",
    "                data[-1][\"SRCs\"].append(src)\n",
    "\n",
    "# Create a flat DataFrame\n",
    "records = []\n",
    "for session in data:\n",
    "    for src in session[\"SRCs\"]:\n",
    "        records.append({\"Session\": session[\"Session\"], \"TGT\": session[\"TGT\"], \"SRC\": src})\n",
    "\n",
    "df = pd.DataFrame(records)\n",
    "\n",
    "# Group SRC values by session\n",
    "grouped = df.groupby(\"Session\")[\"SRC\"].apply(list)\n",
    "\n",
    "# Create a list of all unique SRCs and a mapping to indices\n",
    "users = sorted(df[\"SRC\"].unique())\n",
    "user_to_idx = {user: idx for idx, user in enumerate(users)}\n",
    "idx_to_user = {idx: user for user, idx in user_to_idx.items()}\n",
    "\n",
    "# Initialize a sparse matrix\n",
    "n_users = len(users)\n",
    "co_occurrence = dok_matrix((n_users, n_users), dtype=int)\n",
    "\n",
    "# Populate the co-occurrence matrix\n",
    "for user_list in grouped:\n",
    "    for user1, user2 in combinations(user_list, 2):\n",
    "        idx1, idx2 = user_to_idx[user1], user_to_idx[user2]\n",
    "        co_occurrence[idx1, idx2] += 1\n",
    "        co_occurrence[idx2, idx1] += 1\n",
    "\n",
    "# Convert the sparse matrix to a DataFrame for display\n",
    "co_occurrence_df = pd.DataFrame.sparse.from_spmatrix(\n",
    "    co_occurrence, index=users, columns=users\n",
    ")\n",
    "\n",
    "# Display the sparse co-occurrence matrix\n",
    "print(\"Sparse Co-occurrence Matrix:\")\n",
    "print(co_occurrence_df)\n",
    "\n",
    "# Optionally save to a CSV\n",
    "# co_occurrence_df.to_csv(\"wiki_rfa_co_occurrence.csv\")\n"
   ]
  },
  {
   "cell_type": "code",
   "execution_count": 2,
   "metadata": {},
   "outputs": [],
   "source": [
    "import pandas as pd\n",
    "\n",
    "# Assuming `co_occurrence_df` is the co-occurrence DataFrame from the previous step\n",
    "\n",
    "# Calculate Weighted Participation (sum of co-occurrence values)\n",
    "weighted_participation = co_occurrence_df.sum(axis=1)\n",
    "\n",
    "# Combine results into a DataFrame for ranking\n",
    "power_voters = pd.DataFrame({\n",
    "    \"User\": co_occurrence_df.index,\n",
    "    \"Weighted Participation\": weighted_participation\n",
    "})\n",
    "\n",
    "# Load scores.csv\n",
    "scores = pd.read_csv(\"../../data/scores.csv\")  # Update the path as needed\n",
    "\n",
    "# Merge the power voters DataFrame with the scores DataFrame\n",
    "power_voters = power_voters.merge(scores, left_on=\"User\", right_on=\"username\", how=\"left\")\n",
    "\n",
    "# Remove rows with missing data (users without total_score or Weighted Participation)\n",
    "power_voters = power_voters.dropna(subset=[\"Weighted Participation\", \"total_score\"])\n",
    "\n",
    "# Sort primarily by Weighted Participation and then by Admin Score (total_score)\n",
    "power_voters = power_voters.sort_values(\n",
    "    by=[\"Weighted Participation\", \"total_score\"],\n",
    "    ascending=[False, False]\n",
    ")\n",
    "\n",
    "# Reset index for better readability\n",
    "power_voters.reset_index(drop=True, inplace=True)"
   ]
  },
  {
   "cell_type": "code",
   "execution_count": 3,
   "metadata": {},
   "outputs": [
    {
     "name": "stdout",
     "output_type": "stream",
     "text": [
      "Top 10 Power Voters:\n",
      "User: \"Siva1979\", Weighted Participation: 89307, Admin Score: 827.0\n",
      "User: \"Acalamari\", Weighted Participation: 61987, Admin Score: 1300.0\n",
      "User: \"Stifle\", Weighted Participation: 57998, Admin Score: 1297.0\n",
      "User: \"Bearian\", Weighted Participation: 56537, Admin Score: 1300.0\n",
      "User: \"Xoloz\", Weighted Participation: 53741, Admin Score: 865.0\n",
      "User: \"Newyorkbrad\", Weighted Participation: 47998, Admin Score: 1017.0\n",
      "User: \"Axl\", Weighted Participation: 47218, Admin Score: 837.0\n",
      "User: \"Malinaccier\", Weighted Participation: 47010, Admin Score: 1180.0\n",
      "User: \"Merovingian\", Weighted Participation: 46465, Admin Score: 933.0\n",
      "User: \"MONGO\", Weighted Participation: 43164, Admin Score: 1039.0\n"
     ]
    }
   ],
   "source": [
    "top_n = 10  # Adjust as needed\n",
    "print(f\"Top {top_n} Power Voters:\")\n",
    "for _, row in power_voters.head(top_n).iterrows():\n",
    "    user = f'\"{row[\"User\"]}\"'  # Add quotes around the username\n",
    "    weighted_participation = row[\"Weighted Participation\"]\n",
    "    total_score = row[\"total_score\"]\n",
    "    print(f\"User: {user}, Weighted Participation: {weighted_participation}, Admin Score: {total_score}\")\n"
   ]
  },
  {
   "cell_type": "code",
   "execution_count": 4,
   "metadata": {},
   "outputs": [],
   "source": [
    "# Optionally save the results to a CSV file\n",
    "power_voters.to_csv(\"../../data/power_voters_with_scores.csv\", index=False)"
   ]
  },
  {
   "cell_type": "code",
   "execution_count": 8,
   "metadata": {},
   "outputs": [
    {
     "name": "stdout",
     "output_type": "stream",
     "text": [
      "Loading and parsing data...\n",
      "Parsed 198275 votes.\n",
      "Filtering users with sufficient voting history...\n",
      "Filtered down to 1021 users.\n",
      "Analyzing sentiment...\n",
      "Calculating correlation metrics...\n",
      "Correlation coefficient: 0.32\n",
      "Visualizing results...\n"
     ]
    },
    {
     "data": {
      "application/vnd.plotly.v1+json": {
       "config": {
        "plotlyServerURL": "https://plot.ly"
       },
       "data": [
        {
         "customdata": [
          [
           ""
          ],
          [
           "172"
          ],
          [
           "28bytes"
          ],
          [
           "5 albert square"
          ],
          [
           "6SJ7"
          ],
          [
           "7"
          ],
          [
           "A Stop at Willoughby"
          ],
          [
           "A. B."
          ],
          [
           "AGK"
          ],
          [
           "AKMask"
          ],
          [
           "Aaron Brenneman"
          ],
          [
           "Abd"
          ],
          [
           "Abecedare"
          ],
          [
           "Aboutmovies"
          ],
          [
           "Acalamari"
          ],
          [
           "Accounting4Taste"
          ],
          [
           "Ace of Spades"
          ],
          [
           "Acroterion"
          ],
          [
           "Adam Bishop"
          ],
          [
           "Addshore"
          ],
          [
           "Admrboltz"
          ],
          [
           "Aervanath"
          ],
          [
           "Agathoclea"
          ],
          [
           "Airplaneman"
          ],
          [
           "Ajraddatz"
          ],
          [
           "Akhilleus"
          ],
          [
           "Alabamaboy"
          ],
          [
           "Alai"
          ],
          [
           "Alansohn"
          ],
          [
           "Aldux"
          ],
          [
           "Ale jrb"
          ],
          [
           "Alex Bakharev"
          ],
          [
           "Alex43223"
          ],
          [
           "AlexandrDmitri"
          ],
          [
           "AlexiusHoratius"
          ],
          [
           "Alison"
          ],
          [
           "Alkivar"
          ],
          [
           "Alphax"
          ],
          [
           "Amalthea"
          ],
          [
           "Amatulic"
          ],
          [
           "America69"
          ],
          [
           "Amerique"
          ],
          [
           "Andrevan"
          ],
          [
           "Anetode"
          ],
          [
           "Angr"
          ],
          [
           "Angusmclellan"
          ],
          [
           "AniMate"
          ],
          [
           "Anonymous Dissident"
          ],
          [
           "Antandrus"
          ],
          [
           "Anthony Bradbury"
          ],
          [
           "Anthony.bradbury"
          ],
          [
           "Anthonyhcole"
          ],
          [
           "AntonioMartin"
          ],
          [
           "Apoc2400"
          ],
          [
           "Aquillion"
          ],
          [
           "Aqwis"
          ],
          [
           "Arakunem"
          ],
          [
           "ArcAngel"
          ],
          [
           "Arjun01"
          ],
          [
           "Armbrust"
          ],
          [
           "Arwel Parry"
          ],
          [
           "Astrotrain"
          ],
          [
           "Atama"
          ],
          [
           "Athaenara"
          ],
          [
           "Atlan"
          ],
          [
           "AuburnPilot"
          ],
          [
           "Aude"
          ],
          [
           "Auger Martel"
          ],
          [
           "Avenue"
          ],
          [
           "Avraham"
          ],
          [
           "Axl"
          ],
          [
           "B"
          ],
          [
           "BD2412"
          ],
          [
           "BOZ"
          ],
          [
           "Badagnani"
          ],
          [
           "Badger Drink"
          ],
          [
           "Bali ultimate"
          ],
          [
           "Balloonman"
          ],
          [
           "Banana04131"
          ],
          [
           "BanyanTree"
          ],
          [
           "BarkingFish"
          ],
          [
           "Barryob"
          ],
          [
           "Bart133"
          ],
          [
           "Baseball Bugs"
          ],
          [
           "Basket of Puppies"
          ],
          [
           "Bastique"
          ],
          [
           "Bduke"
          ],
          [
           "Bearian"
          ],
          [
           "Becksguy"
          ],
          [
           "Bedford"
          ],
          [
           "Beeblebrox"
          ],
          [
           "Beetstra"
          ],
          [
           "Begoon"
          ],
          [
           "Ben MacDui"
          ],
          [
           "Bencherlite"
          ],
          [
           "Benjiboi"
          ],
          [
           "Berig"
          ],
          [
           "Betacommand"
          ],
          [
           "Bhadani"
          ],
          [
           "Bibliomaniac15"
          ],
          [
           "Bigtimepeace"
          ],
          [
           "Bilby"
          ],
          [
           "Binksternet"
          ],
          [
           "Bishonen"
          ],
          [
           "Bkonrad"
          ],
          [
           "Black Falcon"
          ],
          [
           "Black Kite"
          ],
          [
           "Blurpeace"
          ],
          [
           "Bobrayner"
          ],
          [
           "Boing! said Zebedee"
          ],
          [
           "Booksworm"
          ],
          [
           "BorgQueen"
          ],
          [
           "Brewcrewer"
          ],
          [
           "Briangotts"
          ],
          [
           "Brianherman"
          ],
          [
           "Brookie"
          ],
          [
           "BrownHairedGirl"
          ],
          [
           "Bsadowski1"
          ],
          [
           "Bubba hotep"
          ],
          [
           "Buggie111"
          ],
          [
           "BuickCenturyDriver"
          ],
          [
           "Bunchofgrapes"
          ],
          [
           "Buster7"
          ],
          [
           "BusterD"
          ],
          [
           "Bwilkins"
          ],
          [
           "CJLL Wright"
          ],
          [
           "COGDEN"
          ],
          [
           "CactusWriter"
          ],
          [
           "Cailil"
          ],
          [
           "Calmer Waters"
          ],
          [
           "Calton"
          ],
          [
           "CambridgeBayWeather"
          ],
          [
           "Candlewicke"
          ],
          [
           "CapitalR"
          ],
          [
           "Capitalistroadster"
          ],
          [
           "Captain panda"
          ],
          [
           "Carcharoth"
          ],
          [
           "Cardamon"
          ],
          [
           "Carioca"
          ],
          [
           "Carnildo"
          ],
          [
           "Carrite"
          ],
          [
           "Casliber"
          ],
          [
           "Casmith 789"
          ],
          [
           "Cbrown1023"
          ],
          [
           "Celestianpower"
          ],
          [
           "Ceoil"
          ],
          [
           "Ceranthor"
          ],
          [
           "Chalst"
          ],
          [
           "Charles Matthews"
          ],
          [
           "CharlotteWebb"
          ],
          [
           "Chase me ladies, I'm the Cavalry"
          ],
          [
           "Chaser"
          ],
          [
           "Chick Bowen"
          ],
          [
           "Chris 73"
          ],
          [
           "Chris G"
          ],
          [
           "Christopher Parham"
          ],
          [
           "Chuq"
          ],
          [
           "Cindamuse"
          ],
          [
           "Cirt"
          ],
          [
           "Cla68"
          ],
          [
           "Closedmouth"
          ],
          [
           "Coemgenus"
          ],
          [
           "Coffee"
          ],
          [
           "Collect"
          ],
          [
           "Colonel Warden"
          ],
          [
           "Connormah"
          ],
          [
           "Conti"
          ],
          [
           "ContiE"
          ],
          [
           "Cool Hand Luke"
          ],
          [
           "Coren"
          ],
          [
           "Count Iblis"
          ],
          [
           "Courcelles"
          ],
          [
           "Croat Canuck"
          ],
          [
           "Crohnie"
          ],
          [
           "Crotalus horridus"
          ],
          [
           "Cryptic"
          ],
          [
           "Ctjf83"
          ],
          [
           "Cube lurker"
          ],
          [
           "Cunard"
          ],
          [
           "Cyde"
          ],
          [
           "Cynical"
          ],
          [
           "DDima"
          ],
          [
           "DESiegel"
          ],
          [
           "DGG"
          ],
          [
           "DS1953"
          ],
          [
           "DVD R W"
          ],
          [
           "DaGizza"
          ],
          [
           "Dana boomer"
          ],
          [
           "Danaman5"
          ],
          [
           "Daniel"
          ],
          [
           "Daniel Case"
          ],
          [
           "Dank"
          ],
          [
           "Danny"
          ],
          [
           "DarkFalls"
          ],
          [
           "Darwinek"
          ],
          [
           "Dave souza"
          ],
          [
           "Davewild"
          ],
          [
           "David Fuchs"
          ],
          [
           "David Gerard"
          ],
          [
           "DavidJJJ"
          ],
          [
           "Davidcannon"
          ],
          [
           "Davidruben"
          ],
          [
           "Dayewalker"
          ],
          [
           "Dbachmann"
          ],
          [
           "Deb"
          ],
          [
           "Deckiller"
          ],
          [
           "Dekimasu"
          ],
          [
           "Dekkappai"
          ],
          [
           "Deli nk"
          ],
          [
           "Delirium"
          ],
          [
           "DeltaQuad"
          ],
          [
           "Denelson83"
          ],
          [
           "Deor"
          ],
          [
           "DerHexer"
          ],
          [
           "Deryck Chan"
          ],
          [
           "Deskana"
          ],
          [
           "Diannaa"
          ],
          [
           "Dincher"
          ],
          [
           "Dirtlawyer1"
          ],
          [
           "Djsasso"
          ],
          [
           "Dlohcierekim"
          ],
          [
           "Dmcdevit"
          ],
          [
           "Doc Tropics"
          ],
          [
           "Doc glasgow"
          ],
          [
           "Doc9871"
          ],
          [
           "Doctorfluffy"
          ],
          [
           "DoriSmith"
          ],
          [
           "Doug"
          ],
          [
           "Dougweller"
          ],
          [
           "Download"
          ],
          [
           "Dr. Blofeld"
          ],
          [
           "DragonflySixtyseven"
          ],
          [
           "Dragons flight"
          ],
          [
           "Dravecky"
          ],
          [
           "Dreadstar"
          ],
          [
           "Dream Focus"
          ],
          [
           "Drmies"
          ],
          [
           "Dtobias"
          ],
          [
           "Duk"
          ],
          [
           "Durova"
          ],
          [
           "Dwaipayanc"
          ],
          [
           "Dweller"
          ],
          [
           "Dylan620"
          ],
          [
           "ESkog"
          ],
          [
           "EVula"
          ],
          [
           "Eagles247"
          ],
          [
           "Ealdgyth"
          ],
          [
           "Ed Poor"
          ],
          [
           "EdJohnston"
          ],
          [
           "Edgar181"
          ],
          [
           "Edison"
          ],
          [
           "EdwinHJ"
          ],
          [
           "El C"
          ],
          [
           "ElKevbo"
          ],
          [
           "Elen of the Roads"
          ],
          [
           "Elkman"
          ],
          [
           "Elockid"
          ],
          [
           "Eluchil404"
          ],
          [
           "Emufarmers"
          ],
          [
           "Encephalon"
          ],
          [
           "Epbr123"
          ],
          [
           "Epeefleche"
          ],
          [
           "Ericorbit"
          ],
          [
           "Erik"
          ],
          [
           "Espresso Addict"
          ],
          [
           "Esteffect"
          ],
          [
           "Euryalus"
          ],
          [
           "Eusebeus"
          ],
          [
           "Everyking"
          ],
          [
           "Evilphoenix"
          ],
          [
           "Excirial"
          ],
          [
           "Exploding Boy"
          ],
          [
           "EyeSerene"
          ],
          [
           "Ezhiki"
          ],
          [
           "FCYTravis"
          ],
          [
           "FT2"
          ],
          [
           "Fabrictramp"
          ],
          [
           "Faithlessthewonderboy"
          ],
          [
           "Fang Aili"
          ],
          [
           "Fastily"
          ],
          [
           "FayssalF"
          ],
          [
           "Feezo"
          ],
          [
           "FeloniousMonk"
          ],
          [
           "Fetchcomms"
          ],
          [
           "FeydHuxtable"
          ],
          [
           "Feydey"
          ],
          [
           "Filelakeshoe"
          ],
          [
           "Finlay McWalter"
          ],
          [
           "Fire Star"
          ],
          [
           "Firsfron"
          ],
          [
           "Fladrif"
          ],
          [
           "FloNight"
          ],
          [
           "Floquenbeam"
          ],
          [
           "Flowerparty"
          ],
          [
           "Folantin"
          ],
          [
           "Fr33kman"
          ],
          [
           "Fram"
          ],
          [
           "Franamax"
          ],
          [
           "Frank"
          ],
          [
           "Fred Bauder"
          ],
          [
           "Friday"
          ],
          [
           "Fuhghettaboutit"
          ],
          [
           "Future Perfect at Sunrise"
          ],
          [
           "Fuzheado"
          ],
          [
           "GB fan"
          ],
          [
           "GDonato"
          ],
          [
           "GRBerry"
          ],
          [
           "GTBacchus"
          ],
          [
           "Gamaliel"
          ],
          [
           "Garion96"
          ],
          [
           "Gatoclass"
          ],
          [
           "Ged UK"
          ],
          [
           "Geni"
          ],
          [
           "Geo Swan"
          ],
          [
           "Geogre"
          ],
          [
           "Geometry guy"
          ],
          [
           "Gerda Arendt"
          ],
          [
           "Ghirlandajo"
          ],
          [
           "Ghmyrtle"
          ],
          [
           "Giano"
          ],
          [
           "Giano II"
          ],
          [
           "Giants2008"
          ],
          [
           "Giants27"
          ],
          [
           "Gidonb"
          ],
          [
           "Gigs"
          ],
          [
           "Gimmetrow"
          ],
          [
           "GlassCobra"
          ],
          [
           "Gmaxwell"
          ],
          [
           "Gnangarra"
          ],
          [
           "Gogo Dodo"
          ],
          [
           "Good Olfactory"
          ],
          [
           "GoodDay"
          ],
          [
           "GorillaWarfare"
          ],
          [
           "Grace Note"
          ],
          [
           "Graeme Bartlett"
          ],
          [
           "Graham87"
          ],
          [
           "GrahamColm"
          ],
          [
           "Gran2"
          ],
          [
           "Grandmasterka"
          ],
          [
           "Gray62"
          ],
          [
           "GregAsche"
          ],
          [
           "Grutness"
          ],
          [
           "Guerillero"
          ],
          [
           "Guettarda"
          ],
          [
           "Gungadin"
          ],
          [
           "Gurch"
          ],
          [
           "Gwen Gale"
          ],
          [
           "HJ Mitchell"
          ],
          [
           "Hahnchen"
          ],
          [
           "Hal peridol"
          ],
          [
           "Halibutt"
          ],
          [
           "Hammersoft"
          ],
          [
           "Hamster Sandwich"
          ],
          [
           "Hans Adler"
          ],
          [
           "Happy-melon"
          ],
          [
           "Harland1"
          ],
          [
           "Haukurth"
          ],
          [
           "Hawkeye7"
          ],
          [
           "Haza-w"
          ],
          [
           "Hbdragon88"
          ],
          [
           "Headbomb"
          ],
          [
           "Heimstern"
          ],
          [
           "Herbythyme"
          ],
          [
           "Herostratus"
          ],
          [
           "Hersfold"
          ],
          [
           "Hesperian"
          ],
          [
           "HiDrNick"
          ],
          [
           "Hiberniantears"
          ],
          [
           "Hiding"
          ],
          [
           "Hipocrite"
          ],
          [
           "Hit bull, win steak"
          ],
          [
           "Hoary"
          ],
          [
           "Hobit"
          ],
          [
           "Hokeman"
          ],
          [
           "Horologium"
          ],
          [
           "Hu12"
          ],
          [
           "Huldra"
          ],
          [
           "Hullaballoo Wolfowitz"
          ],
          [
           "Humus sapiens"
          ],
          [
           "Hurricanehink"
          ],
          [
           "Husond"
          ],
          [
           "Hut 8.5"
          ],
          [
           "Hydnjo"
          ],
          [
           "IShadowed"
          ],
          [
           "IZAK"
          ],
          [
           "Icestorm815"
          ],
          [
           "Icewedge"
          ],
          [
           "ImperfectlyInformed"
          ],
          [
           "Imzadi1979"
          ],
          [
           "Infrogmation"
          ],
          [
           "Ioeth"
          ],
          [
           "Iridescent"
          ],
          [
           "IronDuke"
          ],
          [
           "IronGargoyle"
          ],
          [
           "Ironholds"
          ],
          [
           "Irpen"
          ],
          [
           "It Is Me Here"
          ],
          [
           "Ixfd64"
          ],
          [
           "J Milburn"
          ],
          [
           "J04n"
          ],
          [
           "JIP"
          ],
          [
           "JPD"
          ],
          [
           "JPG-GR"
          ],
          [
           "Jac16888"
          ],
          [
           "Jack Merridew"
          ],
          [
           "Jacoplane"
          ],
          [
           "Jafeluv"
          ],
          [
           "Jahiegel"
          ],
          [
           "Jakew"
          ],
          [
           "James086"
          ],
          [
           "JamesBWatson"
          ],
          [
           "Jan eissfeldt"
          ],
          [
           "Jauerback"
          ],
          [
           "JayHenry"
          ],
          [
           "Jayen466"
          ],
          [
           "Jayjg"
          ],
          [
           "Jayron32"
          ],
          [
           "Jc37"
          ],
          [
           "Jclemens"
          ],
          [
           "Jdforrester"
          ],
          [
           "Jehochman"
          ],
          [
           "Jenks24"
          ],
          [
           "Jennavecia"
          ],
          [
           "Jerry"
          ],
          [
           "Jfdwolff"
          ],
          [
           "Jiang"
          ],
          [
           "JimMillerJr"
          ],
          [
           "Jimbo Wales"
          ],
          [
           "Jimfbleak"
          ],
          [
           "Jitse Niesen"
          ],
          [
           "Jkelly"
          ],
          [
           "Jmabel"
          ],
          [
           "Jmh649"
          ],
          [
           "Jni"
          ],
          [
           "Joe Decker"
          ],
          [
           "John"
          ],
          [
           "John Broughton"
          ],
          [
           "John Kenney"
          ],
          [
           "John Nevard"
          ],
          [
           "John254"
          ],
          [
           "Johnbod"
          ],
          [
           "Johnfos"
          ],
          [
           "Johnleemk"
          ],
          [
           "Johnuniq"
          ],
          [
           "Jonathunder"
          ],
          [
           "Jondel"
          ],
          [
           "Joopercoopers"
          ],
          [
           "JoshuaZ"
          ],
          [
           "Jossi"
          ],
          [
           "Journalist"
          ],
          [
           "Jpgordon"
          ],
          [
           "Juliancolton"
          ],
          [
           "Juppiter"
          ],
          [
           "Jusdafax"
          ],
          [
           "Jusjih"
          ],
          [
           "Jwrosenzweig"
          ],
          [
           "JzG"
          ],
          [
           "KTC"
          ],
          [
           "Kaaveh Ahangar"
          ],
          [
           "Kablammo"
          ],
          [
           "Kafka Liz"
          ],
          [
           "Kafziel"
          ],
          [
           "Kaldari"
          ],
          [
           "Karanacs"
          ],
          [
           "Katalaveno"
          ],
          [
           "Katr67"
          ],
          [
           "Kbdank71"
          ],
          [
           "Kcowolf"
          ],
          [
           "Keegan"
          ],
          [
           "Keeper76"
          ],
          [
           "Keepscases"
          ],
          [
           "Keilana"
          ],
          [
           "Kevin"
          ],
          [
           "Khoikhoi"
          ],
          [
           "Khukri"
          ],
          [
           "Kicking222"
          ],
          [
           "KillerChihuahua"
          ],
          [
           "Killiondude"
          ],
          [
           "Kim Bruning"
          ],
          [
           "Kim Dent-Brown"
          ],
          [
           "Kimchi.sg"
          ],
          [
           "King Pickle"
          ],
          [
           "King of Hearts"
          ],
          [
           "Kingturtle"
          ],
          [
           "Kirill Lokshin"
          ],
          [
           "Kittybrewster"
          ],
          [
           "Kjetil r"
          ],
          [
           "Kmccoy"
          ],
          [
           "Kmweber"
          ],
          [
           "KnightLago"
          ],
          [
           "KnowledgeOfSelf"
          ],
          [
           "Kraftlos"
          ],
          [
           "KrakatoaKatie"
          ],
          [
           "Kralizec!"
          ],
          [
           "Krashlandon"
          ],
          [
           "Ks0stm"
          ],
          [
           "Ktr101"
          ],
          [
           "Kubigula"
          ],
          [
           "Kudpung"
          ],
          [
           "Kumioko"
          ],
          [
           "Kuru"
          ],
          [
           "Kusma"
          ],
          [
           "Kww"
          ],
          [
           "LAAFan"
          ],
          [
           "LadyofShalott"
          ],
          [
           "Lankiveil"
          ],
          [
           "Lar"
          ],
          [
           "Laser brain"
          ],
          [
           "Laurascudder"
          ],
          [
           "Lawrencekhoo"
          ],
          [
           "Leaky caldron"
          ],
          [
           "Lectonar"
          ],
          [
           "Legoktm"
          ],
          [
           "Leifern"
          ],
          [
           "Leithp"
          ],
          [
           "Lenticel"
          ],
          [
           "Leonard^Bloom"
          ],
          [
           "LessHeard vanU"
          ],
          [
           "LindsayH"
          ],
          [
           "Ling.Nut"
          ],
          [
           "Little Mountain 5"
          ],
          [
           "Littleolive oil"
          ],
          [
           "Livitup"
          ],
          [
           "Llywrch"
          ],
          [
           "Logan"
          ],
          [
           "Longhair"
          ],
          [
           "Lord Roem"
          ],
          [
           "Lostintherush"
          ],
          [
           "Lupo"
          ],
          [
           "M.K"
          ],
          [
           "MBK004"
          ],
          [
           "MBisanz"
          ],
          [
           "MC10"
          ],
          [
           "MER-C"
          ],
          [
           "MJ94"
          ],
          [
           "MJCdetroit"
          ],
          [
           "MONGO"
          ],
          [
           "MPerel"
          ],
          [
           "MSGJ"
          ],
          [
           "MZMcBride"
          ],
          [
           "MacGyverMagic"
          ],
          [
           "Mackensen"
          ],
          [
           "Maclean25"
          ],
          [
           "Madman"
          ],
          [
           "Mailer diablo"
          ],
          [
           "Majoreditor"
          ],
          [
           "Majorly"
          ],
          [
           "Malcolmxl5"
          ],
          [
           "Malik Shabazz"
          ],
          [
           "Malinaccier"
          ],
          [
           "Malinaccier Public"
          ],
          [
           "Malleus Fatuorum"
          ],
          [
           "Mangojuice"
          ],
          [
           "Manning Bartlett"
          ],
          [
           "Manxruler"
          ],
          [
           "Marek69"
          ],
          [
           "Marine 69-71"
          ],
          [
           "Mark"
          ],
          [
           "Mark Dingemanse"
          ],
          [
           "Marlith"
          ],
          [
           "Marskell"
          ],
          [
           "Martijn Hoekstra"
          ],
          [
           "Martinp"
          ],
          [
           "Martinp23"
          ],
          [
           "MastCell"
          ],
          [
           "Master Jay"
          ],
          [
           "Master of Puppets"
          ],
          [
           "Master&Expert"
          ],
          [
           "Materialscientist"
          ],
          [
           "Matt Yeager"
          ],
          [
           "Mattinbgn"
          ],
          [
           "Mattisse"
          ],
          [
           "Maunus"
          ],
          [
           "Maurreen"
          ],
          [
           "MaxSem"
          ],
          [
           "Maximillion Pegasus"
          ],
          [
           "Mazca"
          ],
          [
           "Melburnian"
          ],
          [
           "Mendaliv"
          ],
          [
           "Mentifisto"
          ],
          [
           "Merovingian"
          ],
          [
           "Messedrocker"
          ],
          [
           "Michael Snow"
          ],
          [
           "MichaelQSchmidt"
          ],
          [
           "Michig"
          ],
          [
           "Mifter"
          ],
          [
           "Mike 7"
          ],
          [
           "Mike Christie"
          ],
          [
           "Mike Halterman"
          ],
          [
           "Mike Peel"
          ],
          [
           "Mikhailov Kusserow"
          ],
          [
           "MilborneOne"
          ],
          [
           "Milowent"
          ],
          [
           "Minimac"
          ],
          [
           "Miranda"
          ],
          [
           "Mitchazenia"
          ],
          [
           "Mjroots"
          ],
          [
           "Mkdw"
          ],
          [
           "Mlpearc"
          ],
          [
           "MoRsE"
          ],
          [
           "Modernist"
          ],
          [
           "Moe Epsilon"
          ],
          [
           "Moncrief"
          ],
          [
           "Moni3"
          ],
          [
           "Monty845"
          ],
          [
           "Moondyne"
          ],
          [
           "Moonriddengirl"
          ],
          [
           "Moreschi"
          ],
          [
           "Moriori"
          ],
          [
           "Morven"
          ],
          [
           "Moshe Constantine Hassan Al-Silverburg"
          ],
          [
           "Mr.Z-man"
          ],
          [
           "Mscuthbert"
          ],
          [
           "MuZemike"
          ],
          [
           "My76Strat"
          ],
          [
           "NHRHS2010"
          ],
          [
           "Nakon"
          ],
          [
           "Nancy"
          ],
          [
           "Nandesuka"
          ],
          [
           "Nathan"
          ],
          [
           "NativeForeigner"
          ],
          [
           "Natl1"
          ],
          [
           "NawlinWiki"
          ],
          [
           "Ncmvocalist"
          ],
          [
           "Nehrams2020"
          ],
          [
           "NeilN"
          ],
          [
           "Neutralhomer"
          ],
          [
           "Neutrality"
          ],
          [
           "Nev1"
          ],
          [
           "Newyorkbrad"
          ],
          [
           "Nichalp"
          ],
          [
           "Nick"
          ],
          [
           "Nick mallory"
          ],
          [
           "Nick-D"
          ],
          [
           "Nightstallion"
          ],
          [
           "Nihiltres"
          ],
          [
           "Nihonjoe"
          ],
          [
           "Nikkimaria"
          ],
          [
           "Nlu"
          ],
          [
           "NoSeptember"
          ],
          [
           "Noetica"
          ],
          [
           "Nolelover"
          ],
          [
           "Nomader"
          ],
          [
           "Nomoskedasticity"
          ],
          [
           "Novickas"
          ],
          [
           "Nsk92"
          ],
          [
           "NuclearWarfare"
          ],
          [
           "Number 57"
          ],
          [
           "Nunh-huh"
          ],
          [
           "Nyttend"
          ],
          [
           "Oakshade"
          ],
          [
           "OhanaUnited"
          ],
          [
           "Ohconfucius"
          ],
          [
           "Ohnoitsjamie"
          ],
          [
           "OlEnglish"
          ],
          [
           "Oldelpaso"
          ],
          [
           "Olve"
          ],
          [
           "One"
          ],
          [
           "Orangemarlin"
          ],
          [
           "Orangemike"
          ],
          [
           "Orderinchaos"
          ],
          [
           "Orfen"
          ],
          [
           "Orlady"
          ],
          [
           "Ottawa4ever"
          ],
          [
           "Outriggr"
          ],
          [
           "OwenX"
          ],
          [
           "PGWG"
          ],
          [
           "PMC"
          ],
          [
           "Pagrashtak"
          ],
          [
           "Pakaran"
          ],
          [
           "Pascal.Tesson"
          ],
          [
           "Patar knight"
          ],
          [
           "Paul August"
          ],
          [
           "Paul Erik"
          ],
          [
           "Pax:Vobiscum"
          ],
          [
           "Pdcook"
          ],
          [
           "Pedant"
          ],
          [
           "Pedro"
          ],
          [
           "Peregrine Fisher"
          ],
          [
           "Peridon"
          ],
          [
           "Peripitus"
          ],
          [
           "Pete.Hurd"
          ],
          [
           "Peteforsyth"
          ],
          [
           "PeterSymonds"
          ],
          [
           "Pgallert"
          ],
          [
           "Phantomsteve"
          ],
          [
           "Pharaoh of the Wizards"
          ],
          [
           "Phil Bridger"
          ],
          [
           "PhilKnight"
          ],
          [
           "Philippe"
          ],
          [
           "Philosopher"
          ],
          [
           "Philwelch"
          ],
          [
           "Physchim62"
          ],
          [
           "Pichpich"
          ],
          [
           "Piotrus"
          ],
          [
           "Plastikspork"
          ],
          [
           "Plutonium27"
          ],
          [
           "Pmanderson"
          ],
          [
           "Pointillist"
          ],
          [
           "Pol430"
          ],
          [
           "Polaron"
          ],
          [
           "Ponyo"
          ],
          [
           "Postdlf"
          ],
          [
           "Prodego"
          ],
          [
           "Protonk"
          ],
          [
           "Punkmorten"
          ],
          [
           "Quadell"
          ],
          [
           "Quarl"
          ],
          [
           "Quartermaster"
          ],
          [
           "Quiddity"
          ],
          [
           "QuiteUnusual"
          ],
          [
           "R'n'B"
          ],
          [
           "R.D.H. (Ghost In The Machine)"
          ],
          [
           "RFD"
          ],
          [
           "RGTraynor"
          ],
          [
           "RHaworth"
          ],
          [
           "RMHED"
          ],
          [
           "RN"
          ],
          [
           "RP459"
          ],
          [
           "Radiant!"
          ],
          [
           "Ragesoss"
          ],
          [
           "Ral315"
          ],
          [
           "Rami R"
          ],
          [
           "Raul654"
          ],
          [
           "RayAYang"
          ],
          [
           "Rd232"
          ],
          [
           "Rdsmith4"
          ],
          [
           "Reaper Eternal"
          ],
          [
           "Rebecca"
          ],
          [
           "Rednblu"
          ],
          [
           "Redvers"
          ],
          [
           "Reedy"
          ],
          [
           "RegentsPark"
          ],
          [
           "Resident Mario"
          ],
          [
           "Resolute"
          ],
          [
           "Ret.Prof"
          ],
          [
           "Rettetast"
          ],
          [
           "RexxS"
          ],
          [
           "ReyBrujo"
          ],
          [
           "Reyk"
          ],
          [
           "Reywas92"
          ],
          [
           "Rhobite"
          ],
          [
           "Riana"
          ],
          [
           "Rich Farmbrough"
          ],
          [
           "Richardcavell"
          ],
          [
           "Richwales"
          ],
          [
           "Rick Block"
          ],
          [
           "Ripberger"
          ],
          [
           "Risker"
          ],
          [
           "Rivertorch"
          ],
          [
           "Rjd0060"
          ],
          [
           "Rje"
          ],
          [
           "Rl"
          ],
          [
           "Rlendog"
          ],
          [
           "Robofish"
          ],
          [
           "Rockfang"
          ],
          [
           "Rocksanddirt"
          ],
          [
           "Rodhullandemu"
          ],
          [
           "Roger Davies"
          ],
          [
           "Rogerd"
          ],
          [
           "Ron Ritzman"
          ],
          [
           "Ronhjones"
          ],
          [
           "Rosiestep"
          ],
          [
           "Roux"
          ],
          [
           "RoyBoy"
          ],
          [
           "Royalbroil"
          ],
          [
           "Rschen7754"
          ],
          [
           "Rspeer"
          ],
          [
           "Ruhrfisch"
          ],
          [
           "Ruslik0"
          ],
          [
           "Rx StrangeLove"
          ],
          [
           "RxS"
          ],
          [
           "Ryan Postlethwaite"
          ],
          [
           "RyanGerbil10"
          ],
          [
           "Ryulong"
          ],
          [
           "S Marshall"
          ],
          [
           "SB Johnny"
          ],
          [
           "SCZenz"
          ],
          [
           "SQL"
          ],
          [
           "Sabine's Sunbird"
          ],
          [
           "Salih"
          ],
          [
           "Salix alba"
          ],
          [
           "Sallicio"
          ],
          [
           "Salvio giuliano"
          ],
          [
           "Sam Blacketer"
          ],
          [
           "Sam Korn"
          ],
          [
           "Sam Spade"
          ],
          [
           "Samir"
          ],
          [
           "Samsara"
          ],
          [
           "SamuelWantman"
          ],
          [
           "Sandahl"
          ],
          [
           "Sandstein"
          ],
          [
           "SandyGeorgia"
          ],
          [
           "Sannse"
          ],
          [
           "Sarah"
          ],
          [
           "SarekOfVulcan"
          ],
          [
           "Sarge Baldy"
          ],
          [
           "Satori Son"
          ],
          [
           "SatuSuro"
          ],
          [
           "Scarian"
          ],
          [
           "Sceptre"
          ],
          [
           "SchmuckyTheCat"
          ],
          [
           "ScienceApologist"
          ],
          [
           "Scientizzle"
          ],
          [
           "Scorpion0422"
          ],
          [
           "Scott MacDonald"
          ],
          [
           "Scott5114"
          ],
          [
           "Seav"
          ],
          [
           "Secret"
          ],
          [
           "Secretlondon"
          ],
          [
           "Sephiroth BCR"
          ],
          [
           "Seraphimblade"
          ],
          [
           "Sgeureka"
          ],
          [
           "Shadowjams"
          ],
          [
           "Shanel"
          ],
          [
           "Sharkface217"
          ],
          [
           "Shawn in Montreal"
          ],
          [
           "Shell Kinney"
          ],
          [
           "Shimgray"
          ],
          [
           "Shirik"
          ],
          [
           "Shoessss"
          ],
          [
           "Short Brigade Harvester Boris"
          ],
          [
           "Shyamsunder"
          ],
          [
           "SilkTork"
          ],
          [
           "Silsor"
          ],
          [
           "Singopo"
          ],
          [
           "Sir Nicholas de Mimsy-Porpington"
          ],
          [
           "SirFozzie"
          ],
          [
           "Siva1979"
          ],
          [
           "Sj"
          ],
          [
           "Sjakkalle"
          ],
          [
           "Sjones23"
          ],
          [
           "Skater"
          ],
          [
           "Skier Dude"
          ],
          [
           "Skinny87"
          ],
          [
           "Skinwalker"
          ],
          [
           "Skomorokh"
          ],
          [
           "Slgrandson"
          ],
          [
           "SlimVirgin"
          ],
          [
           "Slowking Man"
          ],
          [
           "Slp1"
          ],
          [
           "Slrubenstein"
          ],
          [
           "Sluzzelin"
          ],
          [
           "Smallman12q"
          ],
          [
           "Smartse"
          ],
          [
           "SmokeyJoe"
          ],
          [
           "Snowolf"
          ],
          [
           "SoWhy"
          ],
          [
           "Soap"
          ],
          [
           "Someguy1221"
          ],
          [
           "Someone another"
          ],
          [
           "SpacemanSpiff"
          ],
          [
           "Spartaz"
          ],
          [
           "Spawn Man"
          ],
          [
           "Spencer"
          ],
          [
           "Sphilbrick"
          ],
          [
           "Spike Wilbury"
          ],
          [
           "Splash"
          ],
          [
           "Springeragh"
          ],
          [
           "SqueakBox"
          ],
          [
           "Stanistani"
          ],
          [
           "Star Mississippi"
          ],
          [
           "Starblind"
          ],
          [
           "Staxringold"
          ],
          [
           "Stephan Schulz"
          ],
          [
           "Stephen"
          ],
          [
           "Stephen B Streater"
          ],
          [
           "StephenBuxton"
          ],
          [
           "Steven Walling"
          ],
          [
           "Steven Zhang"
          ],
          [
           "Stifle"
          ],
          [
           "Stillnotelf"
          ],
          [
           "Stormie"
          ],
          [
           "Str1977"
          ],
          [
           "Strikerforce"
          ],
          [
           "Stubbleboy"
          ],
          [
           "Stwalkerster"
          ],
          [
           "SunCreator"
          ],
          [
           "Sunderland06"
          ],
          [
           "Sunray"
          ],
          [
           "SusanLesch"
          ],
          [
           "Sven Manguard"
          ],
          [
           "Swarm"
          ],
          [
           "Swatjester"
          ],
          [
           "Sxeptomaniac"
          ],
          [
           "Syrthiss"
          ],
          [
           "TDC"
          ],
          [
           "TUF-KAT"
          ],
          [
           "Ta bu shi da yu"
          ],
          [
           "Tarc"
          ],
          [
           "Tariqabjotu"
          ],
          [
           "Tavix"
          ],
          [
           "Tawker"
          ],
          [
           "Taxman"
          ],
          [
           "TeaDrinker"
          ],
          [
           "TenOfAllTrades"
          ],
          [
           "TenPoundHammer"
          ],
          [
           "TerriersFan"
          ],
          [
           "Terrillja"
          ],
          [
           "Tex"
          ],
          [
           "The Blade of the Northern Lights"
          ],
          [
           "The Fat Man Who Never Came Back"
          ],
          [
           "The Interior"
          ],
          [
           "The Land"
          ],
          [
           "The Rambling Man"
          ],
          [
           "The Transhumanist"
          ],
          [
           "The Utahraptor"
          ],
          [
           "The ed17"
          ],
          [
           "The undertow"
          ],
          [
           "Thebainer"
          ],
          [
           "Thehelpfulone"
          ],
          [
           "Theleftorium"
          ],
          [
           "Themfromspace"
          ],
          [
           "Theresa knott"
          ],
          [
           "Thincat"
          ],
          [
           "Thingg"
          ],
          [
           "ThinkBlue"
          ],
          [
           "Thryduulf"
          ],
          [
           "ThuranX"
          ],
          [
           "Tickle me"
          ],
          [
           "TigerShark"
          ],
          [
           "Tiggerjay"
          ],
          [
           "Tikiwont"
          ],
          [
           "Tim Q. Wells"
          ],
          [
           "TimVickers"
          ],
          [
           "TimidGuy"
          ],
          [
           "Timmeh"
          ],
          [
           "Timotheus Canens"
          ],
          [
           "Tinucherian"
          ],
          [
           "Tiptoety"
          ],
          [
           "Titoxd"
          ],
          [
           "Tnxman307"
          ],
          [
           "Toddst1"
          ],
          [
           "Tom harrison"
          ],
          [
           "TomStar81"
          ],
          [
           "Tone"
          ],
          [
           "Tony Fox"
          ],
          [
           "Tony1"
          ],
          [
           "TonyTheTiger"
          ],
          [
           "Townlake"
          ],
          [
           "TravisTX"
          ],
          [
           "TreasuryTag"
          ],
          [
           "Trebor"
          ],
          [
           "Trevor MacInnis"
          ],
          [
           "Triona"
          ],
          [
           "Trusilver"
          ],
          [
           "Truthkeeper88"
          ],
          [
           "Tryptofish"
          ],
          [
           "Trödel"
          ],
          [
           "Tyrenius"
          ],
          [
           "Tznkai"
          ],
          [
           "Ucucha"
          ],
          [
           "Ugen64"
          ],
          [
           "Ultraexactzz"
          ],
          [
           "UpstateNYer"
          ],
          [
           "Useight"
          ],
          [
           "Useight's Public Sock"
          ],
          [
           "Utcursch"
          ],
          [
           "UtherSRG"
          ],
          [
           "Valley2city"
          ],
          [
           "VegaDark"
          ],
          [
           "Vejvančický"
          ],
          [
           "Viridae"
          ],
          [
           "Viriditas"
          ],
          [
           "Vision Thing"
          ],
          [
           "Vodello"
          ],
          [
           "Vsmith"
          ],
          [
           "W.marsh"
          ],
          [
           "WFCforLife"
          ],
          [
           "WJBscribe"
          ],
          [
           "WOSlinker"
          ],
          [
           "Walkerma"
          ],
          [
           "Walton One"
          ],
          [
           "Warofdreams"
          ],
          [
           "WarthogDemon"
          ],
          [
           "Wehwalt"
          ],
          [
           "Werdna"
          ],
          [
           "WereSpielChequers"
          ],
          [
           "Whispering"
          ],
          [
           "Wifione"
          ],
          [
           "Wiki alf"
          ],
          [
           "Wile E. Heresiarch"
          ],
          [
           "Will Beback"
          ],
          [
           "William M. Connolley"
          ],
          [
           "WilliamH"
          ],
          [
           "Williamborg"
          ],
          [
           "WillowW"
          ],
          [
           "WilyD"
          ],
          [
           "Wimvandorst"
          ],
          [
           "Wisdom89"
          ],
          [
           "Wizardman"
          ],
          [
           "Woody"
          ],
          [
           "Wsiegmund"
          ],
          [
           "Ww2censor"
          ],
          [
           "X!"
          ],
          [
           "Xaosflux"
          ],
          [
           "Xavexgoem"
          ],
          [
           "Xezbeth"
          ],
          [
           "Xoloz"
          ],
          [
           "Xxanthippe"
          ],
          [
           "Xymmax"
          ],
          [
           "Yamamoto Ichiro"
          ],
          [
           "Yanksox"
          ],
          [
           "Ynhockey"
          ],
          [
           "Youngamerican"
          ],
          [
           "Zagalejo"
          ],
          [
           "Zaxem"
          ],
          [
           "Zocky"
          ],
          [
           "Zscout370"
          ],
          [
           "^demon"
          ],
          [
           "ais523"
          ],
          [
           "delldot"
          ],
          [
           "gadfium"
          ],
          [
           "henrik"
          ],
          [
           "hmwith"
          ],
          [
           "mikkalai"
          ],
          [
           "teh tennisman"
          ],
          [
           "the ed17"
          ],
          [
           "the wub"
          ],
          [
           "thumperward"
          ],
          [
           "zzuuzz"
          ]
         ],
         "hovertemplate": "Average Sentiment Polarity (-1: Negative, +1: Positive)=%{x}<br>Positive Vote Ratio (0: All Negative, 1: All Positive)=%{y}<br>SRC=%{customdata[0]}<extra></extra>",
         "legendgroup": "",
         "marker": {
          "color": "#636efa",
          "opacity": 0.7,
          "size": 10,
          "symbol": "circle"
         },
         "mode": "markers",
         "name": "",
         "showlegend": false,
         "type": "scattergl",
         "x": [
          0,
          0.07161613847666727,
          0.23327571052340765,
          0.31173828124999997,
          0.1343317381403319,
          0.20563075660011132,
          0.23669744394737532,
          0.20772289011716688,
          0.2812881210686154,
          0.18426370183314628,
          0.11555489910077453,
          0.268342151675485,
          0.26576391729295773,
          0.1057589676381947,
          0.3407818630413221,
          0.31889241160074494,
          0.1568287037037037,
          0.3471776090506498,
          0.05897030651340996,
          0.21117752498726763,
          -0.04791237997256516,
          0.12860131931560503,
          0.11248046262312567,
          0.3092105143259366,
          0.2365179643330258,
          0.36103726660544844,
          0.23658452479708517,
          0.14257546788796788,
          0.15684399381980027,
          0.3167584423814767,
          0.3854169849758085,
          0.3061774837736873,
          0.10782118807118805,
          0.23379344356774912,
          0.28673763571085004,
          0.3023031154032983,
          0.16735038984919276,
          0.059886964886964884,
          0.12282165841742933,
          0.18399460789189373,
          0.1848982607227288,
          0.2678436447811448,
          0.07278899177308608,
          0.2470995670995671,
          0.3463904431856559,
          0.1359947491545916,
          0.11719342338258268,
          0.2559603104631926,
          0.4493413388149237,
          0.13426817065209923,
          0.17019726523747064,
          0.37582539682539684,
          0.15351521164021165,
          0.14261330336330336,
          0.14754654463893593,
          0.2703156065759637,
          0.26536556036556036,
          0.09845573381872642,
          0.21986668407038776,
          0.08490582411415745,
          0.09605263157894736,
          0.08618923611111111,
          0.23734387090852002,
          0.20365705487558003,
          -0.0013775510204081648,
          0.258643998536978,
          0.30286970722632484,
          0.0341358024691358,
          0.3633986928104575,
          0.24148703560634427,
          0.306431795137813,
          0.08580810442437627,
          0.18675903990765907,
          0.30786657555407554,
          0.5115277777777778,
          0.07902963280554375,
          0.0328169392336059,
          0.09710250841786046,
          0.2101229256854257,
          0.1090270596173374,
          0.1717039748799953,
          0.43177777777777776,
          0.1322562865185816,
          0.21488095238095237,
          0.3627155483405483,
          0.11788039458207526,
          0.4174232554657083,
          0.22050074236890885,
          0.28178266450325273,
          0.04005902777777778,
          0.11314340086778997,
          0.16955743145743146,
          0.25842194535914753,
          0.18749280596664317,
          0.1857888563384253,
          0.1996131346362828,
          0.24904761904761905,
          0.18860189193522528,
          0.12961193866485543,
          0.09086728918934332,
          0.35389409214297607,
          0.3430545292140215,
          0.26660842051467054,
          0.18806612458336333,
          0.04909672195088862,
          0.24673130146680744,
          0.20363046044864225,
          0.11310350529100528,
          0.20895152087168628,
          0.28210868932752964,
          0.08438681027966742,
          0.10741758241758241,
          0.1025508281105296,
          0.10411485260770975,
          0.3229166666666667,
          0.1737970504072199,
          0.2102706883705379,
          0.26779761904761906,
          0.20216719114125542,
          0.28259082066174795,
          0.17065354017752274,
          0.12266102276276694,
          0.1389633967223253,
          0.2554244213678738,
          0.0704078226266389,
          0.22513782485581268,
          0.08373778998778998,
          0.24171482163669664,
          0.2231864478114478,
          0.2114670751526812,
          0.0321953958739673,
          0.10658096571962118,
          0.1812365163201431,
          0.3748438092188092,
          0.2630914588057445,
          0.2480259974847493,
          0.19215304919947776,
          0.010578231292517004,
          0.6057655423280424,
          0.04434233920841063,
          0.17885743277147345,
          0.24257172466369908,
          0.29127425532913337,
          0.27592427654927654,
          0.14591755766767603,
          0.2772084517886757,
          0.3082578382874436,
          0.11904987373737373,
          0.07170815295815296,
          0.13394604052200423,
          0.12446224323062559,
          0.1786991389076115,
          0.15228475821636062,
          0.0797715820334868,
          0.13735340616590616,
          -0.1288148820961321,
          0.13946759259259262,
          0.25432525021265295,
          0.2463385447486167,
          0.2935946573751452,
          0.01631652661064426,
          0.26788939871740625,
          0.19478736187471388,
          0.1359059350766668,
          0.07421324639986238,
          0.2907942710711698,
          0.16504794973544973,
          0.08165281385281385,
          0.20795568695931013,
          0.05440177517287907,
          0.19205721088435374,
          0.06807322542363527,
          0.10668005069592372,
          0.43644444444444447,
          0.204567791005291,
          0.12370324870324871,
          0.19919765840220388,
          0.12798599727709023,
          0.1413269412878788,
          0.13128864857631364,
          0.08528502633692366,
          0.31140350877192985,
          0.1685972361717528,
          0.17492677684127594,
          0.10326661867398475,
          0.14426308539944904,
          0.1469986312346006,
          0.29390271765271764,
          0.2577263014763015,
          0.11729786480819017,
          0.2679021872087348,
          0.26517371141463836,
          0.01654433703305884,
          0.09923045634816935,
          0.2779663636780689,
          0.4046950015638439,
          0.20426649182123635,
          0.1144591140745054,
          0.07283775629248687,
          0.17916666666666667,
          0.06062764458645411,
          0.2568507495590829,
          0.15700757575757576,
          0.13784109011521292,
          0.2310403726216696,
          0.2354312101402322,
          0.16843735740323312,
          0.19397057844482793,
          0.21658369408369407,
          0.12676296296296297,
          0.08636642414711612,
          0.05334880784590087,
          0.24221288515406164,
          0.03985342789598109,
          0.13634168035030103,
          0.09892315321605576,
          0.27832270865335385,
          0.14166666666666666,
          0.21521192817903345,
          0.18376410684223185,
          0.14079657026832323,
          0.20143550912402813,
          0.42237816220238095,
          0.10494332563584108,
          0.06762231815803244,
          0.12339015151515152,
          0.0673430752509337,
          0.22916129298941798,
          0.19181998556998556,
          0.23936242678889738,
          0.1684202046506734,
          0.15344243404923016,
          0.08647992584186553,
          0.2139781746031746,
          0.49233076535171266,
          0.2694653829273645,
          0.167281070652718,
          0.004784601972101968,
          0.027174908424908422,
          0.19822227128513678,
          0.2786809747373128,
          0.23722259553372663,
          0.16515769085411944,
          0.21710286421731223,
          0.08178961746579622,
          0.2529167900700987,
          0.1451388888888889,
          0.050380093225487955,
          0.2015229535421843,
          0.1819760101010101,
          0.13111307432503086,
          0.10809114131482551,
          0.04010029239195906,
          0.18230311355311357,
          0.1457067064242707,
          0.12937913417824132,
          0.4275673400673401,
          0.24716693367293255,
          0.23397619047619048,
          0.21173023737811877,
          0.12365916619962379,
          0.3041922606428779,
          0.2126539855072464,
          0.3593226911976912,
          0.0994867297979798,
          0.1567210051281559,
          0.3174423508552203,
          0.16280501748722087,
          0.15183546254470168,
          0.19187276196026196,
          0.13678523538602044,
          0.00681818181818182,
          0.22925249373652024,
          0.12465465129365345,
          0.27660430839002265,
          0.29357678008719673,
          0.21579477716247197,
          0.22605716962814246,
          0.08982233747493487,
          0.04328928161489931,
          0.2012871219665421,
          0.44330182072829133,
          0.09091544185322063,
          0.10799465527179615,
          0.2080386397041534,
          0.24719030410840756,
          0.07693650793650793,
          0.037347830546359956,
          0.13425843937207574,
          0.29316927225387046,
          0.15876112974327258,
          0.3480107835286407,
          0.11720164538916138,
          0.16457689832689834,
          0.19995740270196793,
          0.12164204545454546,
          0.34723657628920784,
          0.15681822191352468,
          0.12426601619705976,
          0.0421875,
          0.05016453852216331,
          0.24658175158175158,
          0.20631889470764153,
          0.20323529411764707,
          0.130802984876615,
          0.30919031346069387,
          0.11837688560272594,
          0.22544096984886458,
          0.035481086601307193,
          0.09941228414442699,
          0.20401120754245755,
          0.20332646672110957,
          0.09628401360544217,
          0.21845238095238093,
          0.11432138621356353,
          0.24542969365521813,
          0.15192307692307694,
          0.10450390656721825,
          0.18235645933014352,
          0.06611539502164501,
          0.06524731184453408,
          0.5163194444444444,
          0.005865398768935189,
          0.5089582713293651,
          0.08065616337803504,
          0.15431897786170742,
          0.3047247095431017,
          0.1136034740042093,
          0.16250231256414413,
          0.02985353980724351,
          0.36775668775668774,
          0.2394751082251082,
          0.15706426401880946,
          0.11827495584755686,
          0.2195657428110925,
          0.06695652173913044,
          0.15690232182940514,
          0.4064236111111111,
          0.16736608226553853,
          0.19261473690313557,
          0.23453112464188416,
          0.1696700139848888,
          0.19036332142284523,
          0.10811608334827509,
          0.1561868686868687,
          0.09431051694476382,
          0.27321357709750566,
          0.1885262074299759,
          -0.08143378396556362,
          0.4303333333333333,
          0.27107225529100526,
          0.06090912722997923,
          0.3517899546797937,
          0.1166399381868132,
          0.2083315295815296,
          0.38226642917267917,
          0.2451513455680122,
          0.20170015371102326,
          0.24704060683763757,
          0.19957837301587303,
          0.0741222287813197,
          0.15477364154554876,
          0.21760653963522816,
          0.1534908099225291,
          0.2723603249678831,
          0.14248366013071898,
          0.10770883898508898,
          0.1510502622318532,
          0.18221177709929115,
          0.05352496526107637,
          0.2311642573696145,
          0.15134671917399203,
          0.17779729924725265,
          0.20233063978116497,
          0.09468501339929912,
          0.3694093406593406,
          0.11971230158730159,
          0.11435174019256483,
          0.17026143790849674,
          0.22510010822510823,
          0.1966024975581415,
          0.10889687508873554,
          0.19234980360981505,
          0.14586976999416404,
          0.09951058201058201,
          0.22523913907080573,
          0.17972721743744471,
          0.1727564484126984,
          0.15687500000000001,
          0.04096153846153846,
          0.30131767290249434,
          0.05957070073511561,
          -0.0028617178276269246,
          0.2535875219325505,
          0.2076495043225039,
          0.16100087802198693,
          0.2229725601548691,
          0.30028138528138526,
          0.2538179798676615,
          0.3285849567099567,
          0.12814424404104244,
          0.3322702991452991,
          0.06237382847231332,
          0.2191436835233828,
          0.23792168718392911,
          0.3012378246753247,
          0.15877899735060383,
          0.12136067272688571,
          0.44600478225478235,
          0.3018562391120681,
          0.13265577820066568,
          0.05,
          0.26011043707754233,
          0.2222212488455192,
          0.2711203443021625,
          0.21500974706845682,
          0.25847023809523806,
          0.16391478698714668,
          0.08512549496537154,
          0.09538832199546485,
          0.22533667649647032,
          0.3128103568409304,
          0.1618863924340591,
          0.21792923229898017,
          0.18180722444741138,
          0.031028053977272724,
          0.23133096590909094,
          0.1294054383116883,
          0.11583333333333334,
          0.18351411857409333,
          0.10328056917211328,
          0.11574170274170274,
          0.23271697130030464,
          0.08958310859403092,
          0.19866613213026849,
          0.0790373084721887,
          0.13669973908633182,
          0.02806897759103641,
          0.171875,
          0.0020068874293012228,
          0.2641032682239509,
          0.4219047619047619,
          0.08800971329140343,
          0.32758173572459287,
          0.11957449568049873,
          0.16064548546691404,
          0.07039094650205763,
          0.10408899424056971,
          0.17993153011010155,
          0.13145413122235258,
          0.10909267526455026,
          0.18938703323428444,
          0.10668350168350169,
          0.27571502849358753,
          0.08694766881322773,
          0.2512462070996449,
          0.18419890637832814,
          0.0660793045688879,
          0.2586324786324786,
          0.22192594380094383,
          0.48354444444444444,
          0.1488955662393162,
          0.10606060606060606,
          0.25302093591013847,
          0.40238497613497615,
          0.19956445406445406,
          0.06783532533383724,
          0.03170833333333334,
          0.1069774021138487,
          0.2577976253657124,
          0.07058526592455164,
          0.23929322343194293,
          0.1681547619047619,
          0.15526679841897234,
          0.35881485038175176,
          0.18608518716062844,
          0.08653313392488486,
          0.21671244492115027,
          0.15289488942878612,
          0.1936593956106668,
          0.1716743493132382,
          0.17758353625541126,
          0.27905700396705935,
          0.11573002394430965,
          0.1190749951074706,
          0.1962121212121212,
          0.18333333333333332,
          0.194424126984127,
          0.029842133379086744,
          0.16993006993006993,
          0.30047149461325845,
          0.15914401033886327,
          0.25159316217017114,
          0.269833845095473,
          0.35610500610500606,
          0.113517380895119,
          0.1660386280784961,
          0.3332357047413866,
          0.14447859029543836,
          0.16922064560953448,
          0.21347021086879575,
          0.22523575505916776,
          0.11774135201218534,
          0.056772929799245586,
          0.29601004464285713,
          0.12245701995151083,
          0.18051153967499492,
          0.23191318564734462,
          0.07750610500610501,
          0.36237832727788083,
          0.14735640618948664,
          0.06323524100959166,
          0.08644974177868915,
          0.17934771825396825,
          0.32716836734693877,
          0.27517399965513173,
          0.3830973505158288,
          0.14239663548561574,
          0.06122508150285928,
          0.08003339554969989,
          0.23815175288101556,
          0.28995336013193157,
          0.30093952043627364,
          0.15962998035914702,
          0.11227246334583292,
          0.225821088667596,
          0.2810851381399627,
          0.2337372719267705,
          0.12730592966704077,
          0.052238906926406925,
          0.22980608189624582,
          0.15268993217683172,
          0.2660289439673528,
          0.08951622315592904,
          0.16884759993093326,
          0.21224190566378065,
          0.12314273387551215,
          0.30923355052172785,
          0.27444550547491725,
          -0.04479166666666667,
          0.18504156144781145,
          0.09861266785717335,
          0.07707323232323232,
          0.2657082732082732,
          0.02412158190840556,
          0.22461984564511803,
          0.24407357439956667,
          0.4691628264208909,
          0.09999999999999999,
          0.3556517435419465,
          0.3119630871212121,
          0.09071124710421896,
          0.23421005832633668,
          0.21184148027898028,
          0.4211111111111111,
          0.6421137716450217,
          0.3963400247514831,
          0.279985104016354,
          0.2973285577726367,
          0.22545555748322924,
          0.2864407089363054,
          0.1577078124947443,
          0.12042447196818999,
          0.22983281226029767,
          0.29848952280709756,
          0.10836916234747866,
          0.22401567179270135,
          0.1779100697643234,
          0.19417941056528013,
          0.14868393524038684,
          0.21255686443186445,
          0.17319291211434068,
          0.3572230601642366,
          0.22681818181818184,
          0.07590434419381788,
          0.11381804365846919,
          0.2838700012518254,
          0.2486098484848485,
          0.14544081141674725,
          0.26514329339910736,
          0.0016572962154294017,
          0.1601321271193301,
          0.07518374164081863,
          0.16138074990097048,
          0.2956988613238613,
          0.5411769413713858,
          0.05910771395653401,
          0.2464229828042328,
          0.18526232919450814,
          0.13196003401360545,
          0.02222222222222222,
          0.2876691017316017,
          0.23431982159254885,
          0.15285166927428834,
          0.05140260449600337,
          0.19583369806255835,
          0.1654395141895142,
          0.20435245151673725,
          0.23043042971240643,
          0.2011300505050505,
          0.2908299737387415,
          0.08356605982981916,
          0.14669393106893108,
          0.1522466683643154,
          0.22802639622439513,
          0.2760346513605442,
          0.27855278628138386,
          0.13867533366576734,
          0.13534488196988198,
          0.19384238095238096,
          0.2302821987380811,
          0.1390054824879493,
          0.49470418470418476,
          0.20687099517675497,
          0.21414166175360214,
          0.07149274335710303,
          0.010452473958333335,
          0.2774025364103489,
          0.1541182498057498,
          0.053013285024154595,
          0.13298518510181526,
          0.3395905483405483,
          0.42267045454545454,
          0.20837131263193762,
          0.5424494949494949,
          0.30614197530864196,
          0.17562792070922154,
          0.09929278910496527,
          0.18398493759518605,
          0.13495493990260182,
          0.09727580595505124,
          0.08823992438093699,
          0.22451671370886794,
          0.3217629247406033,
          0.13707125486994448,
          0.23810178649852562,
          0.2534082726051951,
          0.16562317620650951,
          0.1013888888888889,
          0.21465322425099653,
          0.1111462508684731,
          0.2415455830023499,
          0.21779291455072705,
          0.06500000000000002,
          0.2785905349794238,
          0.22051180610552376,
          0.11708670271931965,
          0.26136316872427984,
          0.034829209461562406,
          0.11713181578715583,
          0.3210027472527472,
          0.13763099258505884,
          0.07853157659214882,
          0.5088143130815544,
          0.2912375600052095,
          0.1983459595959596,
          0.3274074074074074,
          0.10626487108629966,
          0.13539685362920992,
          0.4425,
          0.23458824099065326,
          0.3372352886948751,
          0.1575472075911319,
          0.1754357165010712,
          0.16884032634032634,
          0.2198309169938904,
          0.06391450928457508,
          0.1864269841269841,
          0.4126543209876543,
          0.09228009259259258,
          0.1420505953492459,
          0.15858813700918964,
          0.23791824494949493,
          0.2689673306455594,
          0.38055555555555554,
          0.2764159640030804,
          0.18779318489139918,
          0.1522700970555101,
          0.23404761904761906,
          0.16674609845340843,
          0.2248184974747475,
          0.05961564771706281,
          0.2289398286190378,
          0.24699396178954083,
          0.16797558404239438,
          0.2114482817670821,
          0.22901273161509272,
          0.10014873737373736,
          0.0755200429797204,
          0.20011434074192433,
          0.17016895141895141,
          0.11543977591036414,
          0.04889081790123457,
          0.1574844057507748,
          0.12024791593988023,
          0.12772349486932819,
          0.13618907368178412,
          0.06268760629251702,
          0.10297527569026631,
          0.13172281713993303,
          0.2654761904761905,
          0.36102545073973646,
          0.10588541666666666,
          0.1693840225262531,
          0.1106969413188529,
          0.06666666666666667,
          0.23331864966630592,
          0.09708125349706982,
          0.19093860648208474,
          0.2957239906832298,
          0.1898391550977758,
          0.5865384615384616,
          0.14108937707617178,
          0.8264444444444445,
          0.08254263829081951,
          0.02238636363636366,
          0.16381128541759382,
          0.14006814129287878,
          0.1336846781391501,
          0.1238639512739828,
          0.2192732043305814,
          0.08166701499071229,
          -0.0043583315458315475,
          0.1817356810045329,
          0.2720217615555701,
          0.13928804855275445,
          0.12516056166056166,
          0.16630953666634637,
          0.059886009959539376,
          0.18885437710437708,
          0.05696441909029937,
          0,
          0.23122754543660817,
          0.06671875000000001,
          0.24644037780401415,
          0.23723195552719806,
          0.06714181286549707,
          0.29549131186274047,
          0.012570581498512116,
          0.18868202173546186,
          0.34520202020202023,
          0.10600779967159278,
          0.2140106840830745,
          0.21063515337708885,
          0.1423306248906489,
          0.2234427166380835,
          0.0443194904224316,
          0.07290895061728396,
          0.18375725547600547,
          0.3383333333333333,
          0.2846218976982122,
          0.27305403782664595,
          0.1682907647907648,
          0.34706221476556404,
          0.16888374959157385,
          0.11657363104731527,
          0.08981201668701669,
          0.1870330446621007,
          0.25767163936281584,
          0.3681605840280409,
          0.024356060606060607,
          0.20288633879258877,
          0.15571928967090257,
          0.042007427898641474,
          0.25472148736037625,
          0.2930152295152295,
          0.09446205302150425,
          0.17057652477474966,
          0.226003071003071,
          0.13210901532330105,
          0.234353300146314,
          0.12456267217630855,
          0.36070999505724105,
          0.08406486251498706,
          0.06259416729654825,
          0.16441258128125516,
          0.10532186948853614,
          0.18913255835756604,
          0.25954665302042534,
          0.20578703703703705,
          0.24019886363636364,
          0.25041169561258847,
          0.1271856210918711,
          0.0316084995135747,
          0.20127777777777775,
          0.17719627594627596,
          0.16009856200352987,
          0.21740470177970178,
          0.1430850392521311,
          0.03297217498110355,
          0.20611235119047616,
          0.15391999148548,
          0.20999217503451278,
          0.11130478395061728,
          0.14802027772338575,
          0.15016487363022016,
          0.11355196886446886,
          0.20773238335738334,
          0.33327558867899776,
          0.2649942286948137,
          0.07212687913247615,
          0.1644020391960733,
          0.2935654761904762,
          0.2499386409445933,
          0.23747894166579286,
          0.1367004917740212,
          0.2554342122523941,
          0.49976190476190474,
          0.09268014881625129,
          0.030555555555555558,
          0.4426366058793595,
          0.23718417277741008,
          0.25349248983339895,
          0.17199399699180462,
          0.24743610619178802,
          0.21744867928740055,
          0.23923107121776493,
          0.3162057902806258,
          0.1642573051948052,
          0.10195192167290382,
          0.14735964143908506,
          0.13218480153003961,
          0.3096875,
          0.15514512405437678,
          0.17953570795676058,
          0.10291733663162235,
          0.135212040697559,
          0.3164370629370629,
          0.012753651439716065,
          0.13060520287793015,
          0.37233044698081236,
          0.27111694677871145,
          0.1612172476646161,
          0.18743884154040402,
          0.2075627572016461,
          0.026155113025718497,
          0.13701891429904278,
          0.12502520026010194,
          0.23651626459468814,
          0.16490501846324826,
          0.29633322310405646,
          0.14076287825736358,
          0.23831410533910535,
          0.15279313876088071,
          0.2792169784580499,
          0.17935524748619985,
          0.18675377596648604,
          0.17330380882873753,
          0.20385245587693637,
          0.0344760101010101,
          0.3065501792114695,
          0.13285003395297515,
          0.09081255857273522,
          0.12976622738372737,
          0.3022852668165168,
          0.21534738443565501,
          0.21078204388096636,
          0.1418818203447892,
          0.17235844017094018,
          0.0784489927284045,
          0.22082571279511384,
          0.14480218855218854,
          0.24362118176395137,
          0.3495895562770563,
          0.2733244047619048,
          0.19971556778397573,
          0.1584342166251257,
          0.25635152116402116,
          0.23909976214753662,
          0.13731479654463935,
          0.07356813793219048,
          0.21855681245562197,
          0.3048330533760221,
          0.08958333333333335,
          0.09957881515656877,
          0.30416666666666664,
          0.26475334105899173,
          0.2428216835248085,
          0.3012191358024691,
          0.2482280643738977,
          0.29339977152477154,
          0.09838886525151684,
          0.17861100029858226,
          0.16506978276443532,
          0.2841898148148148,
          0.1932534120971621,
          0.07910879629629629,
          0.05791294642857143,
          0.26317100354546474,
          0.16634920634920633,
          0.1216208174380515,
          0.087146814353447,
          0.13911510814380032,
          0.2546024543752797,
          0.2777777777777778,
          0.14547457063633534,
          0.12795557616986186,
          0.06844082584082584,
          0.1978410218253968,
          0.145137432012432,
          0.26087480433616994,
          0.08869127785794453,
          0.2917443703956862,
          0.14974471215918586,
          0.3678182631461852,
          0.1518309673175445,
          0.1807133658008658,
          0.18396686740831997,
          0.15452069045700326,
          0.19251013234077752,
          0.1262930946758869,
          0.32210724188665363,
          0.18265731548544048,
          0.0178541366041366,
          0.1891468253968254,
          0.270306188026053,
          0.1526191668753652,
          0.21549403021442495,
          0.1708989097322431,
          0.11955128205128206,
          0.11442878536800187,
          0.3531453861531986,
          0.11954874613772919,
          0.02451923076923077,
          0.18225509774616916,
          0.32894097222222224,
          0.20805369805559198,
          0.06878641752059474,
          0.18669821065285408,
          0.1831206654724189,
          0.1568143560859891,
          0.1620654167986485,
          0.13935572042479938,
          0.2549350209411185,
          0.2788044532056195,
          0.318895785586962,
          0.2700709510151,
          0.2817719459859967,
          0.274427911414594,
          0.11885750461997224,
          0.38902944624819624,
          0.12866309897865622,
          0.12378046336379672,
          0.21055555555555555,
          0.08921875,
          0.1986378589648763,
          0.14225337162837162,
          0.20954517632156947,
          0.1580159514398645,
          0.23940856927464071,
          0.11970096801346801,
          0.18161674187307827,
          0.0834220619624455,
          0.2869728059514532,
          0.30127630471380473,
          0.22182707356734918,
          0.2565340909090909,
          0.24907754372998278,
          0.14042874396135266,
          0.2494622142790771,
          0.14608086019671385,
          0.23953257060399916,
          0.16178845136345135,
          0.14985127775450358,
          0.40681818181818186,
          0.003962224306276109,
          0.06763285024154589,
          0.1901435278939044,
          0.1634318474813798,
          0.16921173193671116,
          0.17922839506172838,
          0.3698220298220299,
          0.17054296772268585,
          0.10842823472823473,
          0.05209183673469388,
          0.1243917689067636,
          -0.02923767752715121,
          0.2239543824536074,
          -0.00012239583333334414,
          0.1525894049401935,
          0.20165461196325393,
          0.07257547545047545,
          0.3573348528173895,
          0.06066975308641975,
          0.14527218399986258,
          0.17066263803552337,
          0.37482024131933556,
          0.09339652101370853,
          0.4822916666666666,
          0.1113651188264516,
          0.14921757091351032,
          0.3441470639364661,
          0.14642220193001443,
          0.33331078643578643,
          0.24384473894811276,
          0.20122216450216449,
          0.10353327228327228,
          0.15881410256410255,
          0.2526499682764953,
          0.18257783882783882,
          0.22056578700646495,
          0.10403125644197073,
          0.12027694494841298,
          0.15466854100006272,
          0.18538809144072302,
          0.16250518797262495,
          0.1776624127469637,
          0.05999355633401685,
          0.11242283634320938,
          0.20845336240556828,
          0.0950679173578742,
          0.3003170026178658,
          0.20555432156495984,
          0.15505985206177783,
          0.24986662990006286,
          0.0832999610542714,
          0.1911784284436628,
          0.20285398099289564,
          0.13431257084666176,
          0.15410952801056968,
          0.10594752084335418
         ],
         "xaxis": "x",
         "y": [
          0.5291396854764108,
          0.8967391304347826,
          0.7155963302752294,
          0.625,
          0.5,
          0.896551724137931,
          0.7702702702702703,
          0.8716577540106952,
          0.9010416666666666,
          0.4444444444444444,
          0.7307692307692307,
          1,
          0.7674418604651163,
          0.38461538461538464,
          0.9763560500695411,
          1,
          0.8333333333333334,
          1,
          0.8571428571428571,
          1,
          0.5094339622641509,
          1,
          0.8444444444444444,
          0.905940594059406,
          0.8333333333333334,
          0.9393939393939394,
          0.8260869565217391,
          0.6571428571428571,
          0.6333333333333333,
          0.8192771084337349,
          0.8823529411764706,
          0.8427947598253275,
          0.8309859154929577,
          0.855072463768116,
          1,
          0.8980582524271845,
          0.6778523489932886,
          0.8356164383561644,
          0.7391304347826086,
          0.6363636363636364,
          0.6446540880503144,
          0.9333333333333333,
          0.8501529051987767,
          0.9215686274509803,
          0.8333333333333334,
          0.8493975903614458,
          0.6545454545454545,
          0.7529411764705882,
          0.9773584905660377,
          0.7407407407407407,
          0.6299559471365639,
          0.9,
          0.9444444444444444,
          0.5384615384615384,
          0.9130434782608695,
          0.8080808080808081,
          1,
          0.3177083333333333,
          0.6835443037974683,
          0.6444444444444445,
          0.9473684210526315,
          0.6129032258064516,
          0.72,
          0.7819548872180451,
          0.2857142857142857,
          0.8857142857142857,
          0.8235294117647058,
          0.16666666666666666,
          0.8235294117647058,
          0.773972602739726,
          0.7142857142857143,
          0.44594594594594594,
          0.9681274900398407,
          0.8571428571428571,
          0.8,
          0.19642857142857142,
          0.23333333333333334,
          0.5594059405940595,
          0.8461538461538461,
          0.9420289855072463,
          0.5,
          0.8,
          0.9491525423728814,
          0.16666666666666666,
          0.9,
          0.86,
          0.9811320754716981,
          0.9071428571428571,
          1,
          0.6388888888888888,
          0.5444444444444444,
          0.9090909090909091,
          0.7846153846153846,
          0.9523809523809523,
          0.9814814814814815,
          0.9622641509433962,
          0.4166666666666667,
          0.7222222222222222,
          0.9488636363636364,
          0.9300699300699301,
          0.7142857142857143,
          0.7,
          0.8666666666666667,
          0.7516339869281046,
          0.9310344827586207,
          0.875,
          0.7358490566037735,
          0.8888888888888888,
          0.890625,
          0.7276422764227642,
          1,
          0.9230769230769231,
          0.9545454545454546,
          0.8133333333333334,
          0.9166666666666666,
          0.9122807017543859,
          0.34285714285714286,
          1,
          0.9259259259259259,
          0.8108108108108109,
          0.9940119760479041,
          0.6511627906976745,
          0.5,
          0.8787878787878788,
          0.31746031746031744,
          1,
          1,
          0.9333333333333333,
          0.8888888888888888,
          0.875,
          0.6176470588235294,
          0.9663865546218487,
          0.9705882352941176,
          0.8378378378378378,
          0.8888888888888888,
          0.7863013698630137,
          0.8857142857142857,
          0.42857142857142855,
          0.9295774647887324,
          0.8225806451612904,
          0.8414634146341463,
          0.9372093023255814,
          0.7567567567567568,
          0.9,
          0.9692307692307692,
          0.8181818181818182,
          0.9137931034482759,
          0.875,
          0.7575757575757576,
          0.5869565217391305,
          0.6470588235294118,
          0.775,
          0.8194444444444444,
          0.7666666666666667,
          0.9666666666666667,
          0.8983050847457628,
          1,
          0.5609756097560976,
          0.48175182481751827,
          0.95,
          0.8823529411764706,
          0.8387096774193549,
          0.581081081081081,
          0.6216216216216216,
          0.36633663366336633,
          0.8472222222222222,
          0.625,
          0.9130434782608695,
          0.6666666666666666,
          0.7313432835820896,
          1,
          0.7049180327868853,
          1,
          1,
          0.8275862068965517,
          0.6216216216216216,
          0.5555555555555556,
          0.2692307692307692,
          0.6875,
          0.4473684210526316,
          0.32967032967032966,
          0.8421052631578947,
          0.6470588235294118,
          0.5909090909090909,
          0.995475113122172,
          1,
          0.753731343283582,
          0.8333333333333334,
          0.76,
          0.4892966360856269,
          0.9772727272727273,
          0.8295964125560538,
          0.9307692307692308,
          0.6543778801843319,
          0.9825581395348837,
          0.84,
          0.9296296296296296,
          0.4424778761061947,
          0.9126984126984127,
          1,
          0.859375,
          1,
          0.8181818181818182,
          0.9506172839506173,
          0.9576271186440678,
          0.9615384615384616,
          0.5423728813559322,
          0.375,
          0.8095238095238095,
          1,
          0.5714285714285714,
          0.7887323943661971,
          0.9411764705882353,
          0.9772727272727273,
          0.9259259259259259,
          0.44642857142857145,
          0.7741935483870968,
          1,
          1,
          0.3695652173913043,
          0.8118971061093248,
          0.8791208791208791,
          0.9375,
          0.6624203821656051,
          0.8461538461538461,
          0.6666666666666666,
          0.5483870967741935,
          1,
          0.6363636363636364,
          0.7606837606837606,
          0.5483870967741935,
          0.5274725274725275,
          0.5869565217391305,
          0.7857142857142857,
          0.8604651162790697,
          0.5483870967741935,
          0.7176470588235294,
          0.7142857142857143,
          0.9666666666666667,
          0.8518518518518519,
          0.9859154929577465,
          0.7183098591549296,
          0.74,
          0.7384615384615385,
          0.675,
          0.717391304347826,
          0.8823529411764706,
          0.9444444444444444,
          1,
          0.90625,
          0.9090909090909091,
          0.7894736842105263,
          0.960960960960961,
          0.3,
          0.7692307692307693,
          0.7172413793103448,
          0.9411764705882353,
          0.7565217391304347,
          0.4,
          0.9213483146067416,
          0.736318407960199,
          0.6351351351351351,
          0.9565217391304348,
          0.7777777777777778,
          0.43795620437956206,
          0.4857142857142857,
          0.9074074074074074,
          0.8135593220338984,
          0.6376146788990825,
          0.5,
          0.7333333333333333,
          0.9090909090909091,
          0.7142857142857143,
          0.8771929824561403,
          0.9512195121951219,
          1,
          0.6323529411764706,
          0.8857142857142857,
          0.8767123287671232,
          0.5353535353535354,
          0.9395161290322581,
          1,
          0.6949152542372882,
          0.618421052631579,
          0.9874213836477987,
          0.8607594936708861,
          0.7058823529411765,
          0.8787878787878788,
          0.979381443298969,
          0.7916666666666666,
          0.8888888888888888,
          0.7745098039215687,
          0.75,
          0.972972972972973,
          0.6086956521739131,
          0.8888888888888888,
          0.8888888888888888,
          0.4444444444444444,
          0.7661290322580645,
          0.625,
          0.38461538461538464,
          0.6153846153846154,
          0.8163265306122449,
          1,
          0.8142857142857143,
          0.9775280898876404,
          0.40540540540540543,
          0.7777777777777778,
          0.4666666666666667,
          0.9281767955801105,
          0.7894736842105263,
          0.9016393442622951,
          0.9142857142857143,
          0.7777777777777778,
          0.6031746031746031,
          0.84,
          1,
          0.6486486486486487,
          1,
          0.38461538461538464,
          0.19230769230769232,
          0.8,
          0.7164948453608248,
          0.96875,
          0.5813953488372093,
          0.8461538461538461,
          0.8019559902200489,
          0.65,
          0.7021276595744681,
          0.9056603773584906,
          0.9166666666666666,
          1,
          0.6190476190476191,
          0.4479166666666667,
          0.7916666666666666,
          0.8181818181818182,
          0.7666666666666667,
          1,
          0.8121212121212121,
          0.4583333333333333,
          0.8552631578947368,
          0.9595141700404858,
          0.7037037037037037,
          0.8757396449704142,
          1,
          0.828125,
          1,
          0.7654320987654321,
          0.9122807017543859,
          1,
          0.875,
          0.47368421052631576,
          0.9104477611940298,
          0.5,
          1,
          0.7209302325581395,
          0.9823008849557522,
          0.9565217391304348,
          0.9210526315789473,
          0.5333333333333333,
          0.6,
          0.8222222222222222,
          0.9,
          0.9615384615384616,
          0.65,
          0.8235294117647058,
          0.8367346938775511,
          0.7929292929292929,
          0.864406779661017,
          0.36607142857142855,
          0.7857142857142857,
          0.8484848484848485,
          0.7431192660550459,
          0.7124183006535948,
          0.6470588235294118,
          1,
          0.625,
          0.2857142857142857,
          0.7941176470588235,
          0.46153846153846156,
          0.7237237237237237,
          0.6666666666666666,
          0.8611111111111112,
          0.6944444444444444,
          0.5555555555555556,
          0.6521739130434783,
          0.780952380952381,
          0.5,
          0.8,
          0.8846153846153846,
          0.8214285714285714,
          0.4405940594059406,
          0.8823529411764706,
          0.8275862068965517,
          0.587378640776699,
          0.5897435897435898,
          0.6190476190476191,
          1,
          0.6153846153846154,
          1,
          0.8314176245210728,
          0.9583333333333334,
          0.21875,
          0.6842105263157895,
          1,
          0.9090909090909091,
          0.8169014084507042,
          0.8211678832116789,
          0.7777777777777778,
          0.9364161849710982,
          0.3548387096774194,
          1,
          0.8444444444444444,
          0.7294117647058823,
          0.7619047619047619,
          0.8613861386138614,
          0.8461538461538461,
          0.5686274509803921,
          0.49572649572649574,
          0.9523809523809523,
          0.8709677419354839,
          0.9375,
          0.88,
          0.5333333333333333,
          0.9528301886792453,
          0.96875,
          0.6666666666666666,
          0.6666666666666666,
          1,
          0.9814814814814815,
          0.5882352941176471,
          1,
          0.7333333333333333,
          0.9393939393939394,
          0.941747572815534,
          0.6274509803921569,
          0.7096774193548387,
          0.8709677419354839,
          0.75,
          0.896551724137931,
          0.7227722772277227,
          0.9285714285714286,
          0.8548387096774194,
          0.6428571428571429,
          0.4506172839506173,
          0.9523809523809523,
          0.3333333333333333,
          0.8156862745098039,
          0.8582677165354331,
          0.836,
          0.6956521739130435,
          0.7878787878787878,
          0.6363636363636364,
          0.5955056179775281,
          0.7800687285223368,
          0.9538461538461539,
          0.7961165048543689,
          0.5849056603773585,
          0.5135135135135135,
          0.8918918918918919,
          0.8,
          0.8301886792452831,
          0.9090909090909091,
          0.6538461538461539,
          0.8888888888888888,
          0.7142857142857143,
          0.8235294117647058,
          0,
          0.8931297709923665,
          0.9221311475409836,
          0.6619217081850534,
          0.868421052631579,
          0.6666666666666666,
          0.9723320158102767,
          0.8857142857142857,
          0.6288659793814433,
          0.6320754716981132,
          0.75,
          0.8734177215189873,
          0.7678571428571429,
          0.71875,
          0.8695652173913043,
          0.8958333333333334,
          0.6611111111111111,
          0.9509803921568627,
          0.9090909090909091,
          0.7777777777777778,
          1,
          0.052941176470588235,
          0.6153846153846154,
          0.898876404494382,
          0.3523809523809524,
          0.7647058823529411,
          0.6976744186046512,
          0.9333333333333333,
          0.9523809523809523,
          0.9137380191693291,
          0.9868421052631579,
          0.621301775147929,
          0.8888888888888888,
          1,
          0.9032258064516129,
          0.5555555555555556,
          0.6530612244897959,
          0.875,
          0.7979274611398963,
          0.8725490196078431,
          0.6129032258064516,
          0.46153846153846156,
          0.9565217391304348,
          0.1509433962264151,
          0.9215686274509803,
          0.8421052631578947,
          0.375,
          0.7894736842105263,
          0.54,
          1,
          0.9337349397590361,
          0.8,
          0.7209302325581395,
          0.8701923076923077,
          0.7142857142857143,
          0.9090909090909091,
          1,
          0.35555555555555557,
          0.8484848484848485,
          0.8166666666666667,
          0.9534883720930233,
          0.88,
          0.6666666666666666,
          0.8793103448275862,
          0.8287037037037037,
          0.7610062893081762,
          0.875,
          0.7105263157894737,
          0.8,
          0.9456928838951311,
          0.9290780141843972,
          0.7941176470588235,
          1,
          0.84375,
          0.5925925925925926,
          0.8,
          0.9565217391304348,
          0.8707557502738226,
          0.6642335766423357,
          0.8290398126463701,
          0.9666666666666667,
          1,
          0.915948275862069,
          0.9367088607594937,
          0.32051282051282054,
          0.5961538461538461,
          0.9333333333333333,
          1,
          1,
          0.9154929577464789,
          0.9523809523809523,
          0.8421052631578947,
          0.7716535433070866,
          0.7888888888888889,
          0.631578947368421,
          0.6363636363636364,
          0.7804878048780488,
          0.7916666666666666,
          0.9514563106796117,
          0.7822222222222223,
          0.9435483870967742,
          0.8695652173913043,
          0.9426229508196722,
          0.9803921568627451,
          0.7272727272727273,
          0.9230769230769231,
          1,
          0.8035714285714286,
          1,
          0.9116279069767442,
          1,
          0.5555555555555556,
          0.9302325581395349,
          0.9358669833729216,
          0.78125,
          0.8583333333333333,
          0.9090909090909091,
          0.6666666666666666,
          0.9230769230769231,
          0.6595744680851063,
          0.8717948717948718,
          0.7741935483870968,
          1,
          1,
          1,
          0.9545454545454546,
          0.6685393258426966,
          0.48502994011976047,
          0.7241379310344828,
          0.90625,
          0.7727272727272727,
          0.8214285714285714,
          0.9655172413793104,
          0.8047619047619048,
          0.5899581589958159,
          0.5384615384615384,
          0.8571428571428571,
          0.8627450980392157,
          0.825,
          0.8125,
          0.6181818181818182,
          0.6153846153846154,
          0.96,
          0.5833333333333334,
          0.5108695652173914,
          1,
          0.6272727272727273,
          0.8395061728395061,
          0.7909967845659164,
          0.2711864406779661,
          0.8723404255319149,
          0.7307692307692307,
          0.7619047619047619,
          0.88,
          0.9879518072289156,
          1,
          0.6530612244897959,
          0.9285714285714286,
          0.7777777777777778,
          0.95,
          0.856353591160221,
          0.7272727272727273,
          0.9918864097363083,
          0.8446601941747572,
          0.5174418604651163,
          0.648936170212766,
          0.875,
          0.944,
          0.9318181818181818,
          0.7924528301886793,
          0.5952380952380952,
          0.9090909090909091,
          0.9896907216494846,
          0.5555555555555556,
          0.8536585365853658,
          0.6,
          0.8333333333333334,
          0.6666666666666666,
          0.5596330275229358,
          0.7598039215686274,
          0.8518518518518519,
          0.8235294117647058,
          0.9411764705882353,
          0.3076923076923077,
          0.6503496503496503,
          0.5625,
          0.9298245614035088,
          0.89375,
          1,
          0.5,
          0.7068965517241379,
          0.26881720430107525,
          1,
          0.8532110091743119,
          0.72,
          0.8627450980392157,
          0.8778625954198473,
          0.6666666666666666,
          0.589041095890411,
          0.7027027027027027,
          0.9130434782608695,
          0.7777777777777778,
          0.9130434782608695,
          0.8222222222222222,
          0.8035714285714286,
          0.9375,
          0.8571428571428571,
          0.8333333333333334,
          0.7777777777777778,
          0.7096774193548387,
          0.7615131578947368,
          0.782608695652174,
          0.9041095890410958,
          0.8461538461538461,
          0.44554455445544555,
          0.8461538461538461,
          0.782258064516129,
          0.6451612903225806,
          0.7130434782608696,
          0.9239373601789709,
          0.32,
          0.9420289855072463,
          0.8571428571428571,
          0.7666666666666667,
          0.8823529411764706,
          0.5555555555555556,
          0.8846153846153846,
          0.9629629629629629,
          0.803921568627451,
          0.4336283185840708,
          0.58,
          0.6153846153846154,
          0.64,
          0.8333333333333334,
          0.9692307692307692,
          0.7,
          0.7267080745341615,
          0.8916666666666667,
          0.7142857142857143,
          0.864406779661017,
          0.9032258064516129,
          0.868421052631579,
          0.7619047619047619,
          0.5714285714285714,
          1,
          0.8505747126436781,
          1,
          0.6122448979591837,
          0.6,
          0.8130841121495327,
          0.9534883720930233,
          0.8177339901477833,
          0.6061538461538462,
          0.9833333333333333,
          0.6092436974789915,
          0.5277777777777778,
          0.765625,
          0.8848920863309353,
          0.8,
          0.828125,
          0.7815126050420168,
          0.5,
          1,
          0.8169014084507042,
          0.8333333333333334,
          0.8823529411764706,
          1,
          0.8181818181818182,
          0.8955223880597015,
          0.9868421052631579,
          0.96,
          0.7333333333333333,
          0.8125,
          0.8181818181818182,
          0.6896551724137931,
          0.8416289592760181,
          1,
          0.7074235807860262,
          0.7407407407407407,
          0.8823529411764706,
          0.6666666666666666,
          0.9642857142857143,
          1,
          0.76,
          0.8081761006289309,
          1,
          0.8888888888888888,
          0.6697247706422018,
          0.11764705882352941,
          0.9629629629629629,
          0.8888888888888888,
          0.96,
          0.9260869565217391,
          0.9523809523809523,
          0.7534246575342466,
          0.8333333333333334,
          0.425,
          1,
          0.981651376146789,
          0.575,
          0.6293103448275862,
          1,
          0.9523809523809523,
          0.5254237288135594,
          0.18181818181818182,
          0.8470149253731343,
          0.9496644295302014,
          0.7,
          0.6666666666666666,
          0.8888888888888888,
          0.5217391304347826,
          1,
          0.8888888888888888,
          0.5625,
          0.8333333333333334,
          0.9130434782608695,
          0.4126984126984127,
          1,
          0.84,
          0.7142857142857143,
          0.8428571428571429,
          0.5957446808510638,
          0.6,
          0.6346153846153846,
          0.46153846153846156,
          0.7,
          0.9166666666666666,
          0.528,
          0.7835051546391752,
          1,
          0.9583333333333334,
          1,
          0.6991150442477876,
          0.8983957219251337,
          0.7948717948717948,
          0.7142857142857143,
          0.7441860465116279,
          0.7647058823529411,
          0.6,
          0.9047619047619048,
          1,
          0.8482142857142857,
          0.813953488372093,
          0.855072463768116,
          0.8407079646017699,
          0.9090909090909091,
          0.5906040268456376,
          1,
          0.910828025477707,
          0.7865168539325843,
          0.6666666666666666,
          1,
          0.6181818181818182,
          0.589041095890411,
          0.5238095238095238,
          0.8571428571428571,
          0.5319148936170213,
          0.875,
          0.34,
          0.8220858895705522,
          0.7692307692307693,
          0.8500851788756388,
          0.9692307692307692,
          0.9130434782608695,
          0.75,
          0.7058823529411765,
          1,
          0.5925925925925926,
          0.25806451612903225,
          0.8333333333333334,
          0.762962962962963,
          0.7802547770700637,
          0.8411214953271028,
          0.9411764705882353,
          0.7692307692307693,
          0.9565217391304348,
          0.8709677419354839,
          0.6923076923076923,
          0.9705882352941176,
          0.73,
          0.7410358565737052,
          0.8092105263157895,
          0.6923076923076923,
          0.8,
          0.8529411764705882,
          0.6695652173913044,
          0.5517241379310345,
          0.875,
          0.625,
          0.8857142857142857,
          0.46794871794871795,
          0.94,
          0.673469387755102,
          0.9672131147540983,
          0.6666666666666666,
          0.7626262626262627,
          0.8297872340425532,
          0.7777777777777778,
          0.8656716417910447,
          0.75,
          0.6,
          0.7890625,
          0.7192982456140351,
          0.6229205175600739,
          0.8,
          0.8703703703703703,
          0.75,
          0.6190476190476191,
          0.7948717948717948,
          0.927536231884058,
          0.7857142857142857,
          1,
          0.5142857142857142,
          1,
          0.5747126436781609,
          0.782258064516129,
          0.9012345679012346,
          0.6666666666666666,
          0.9491525423728814,
          0.5833333333333334,
          0.9903846153846154,
          0.9038461538461539,
          0.6666666666666666,
          0.5,
          0.5306122448979592,
          0.7822878228782287,
          0.7294117647058823,
          1,
          0.8541666666666666,
          0.8571428571428571,
          0.13333333333333333,
          0.5714285714285714,
          0.6153846153846154,
          0.958904109589041,
          0.5,
          0.9705882352941176,
          0.8378378378378378,
          0.795,
          0.8689655172413793,
          0.6730769230769231,
          0.9384615384615385,
          0.9607843137254902,
          0.8,
          0.8627450980392157,
          0.8627450980392157,
          0.7739130434782608,
          0.9,
          0.8,
          0.9836065573770492,
          0.9393939393939394,
          0.9101123595505618,
          0.625,
          0.38461538461538464,
          0.24786324786324787,
          0.8571428571428571,
          0.6481481481481481,
          0.6923076923076923,
          0.8987341772151899,
          0.75,
          0.6918238993710691,
          0.8947368421052632,
          0.9107142857142857,
          0.4475806451612903,
          0.8883720930232558,
          0.975609756097561,
          0.6792452830188679,
          0.8292682926829268,
          1,
          0.9292035398230089,
          0.9347826086956522,
          0.6730769230769231,
          0.84375,
          0.3050847457627119,
          0.75,
          0.4745762711864407,
          0.7058823529411765,
          1,
          0.8909090909090909,
          0.7978142076502732,
          0.68,
          0.9125,
          0.45454545454545453,
          0.6923076923076923,
          0.8333333333333334,
          0.9032258064516129,
          0.9175824175824175,
          0.8877005347593583,
          1,
          0.5703971119133574,
          0.875,
          0.93,
          0.7619047619047619,
          0.8690476190476191,
          0.8987341772151899,
          0.8095238095238095,
          0.6880733944954128,
          0.8,
          0.8,
          0.25757575757575757,
          0.9130434782608695,
          0.8571428571428571,
          0.6833333333333333,
          0.7746031746031746,
          0.6666666666666666,
          1,
          0.9393939393939394,
          0.9733333333333334,
          0.5652173913043478,
          0.7586206896551724,
          0.6842105263157895,
          0.8410404624277457,
          0.875,
          0.851063829787234,
          0.9937106918238994,
          0.7640449438202247,
          0.9841269841269841,
          0.9047619047619048,
          0.5333333333333333,
          0.9655172413793104,
          1,
          0.5245901639344263,
          1,
          0.4408817635270541,
          0.8095854922279793,
          0.8043478260869565,
          0.9206349206349206,
          0.5714285714285714,
          0.7916666666666666,
          0.44537815126050423,
          0.8260869565217391,
          1,
          0.47129909365558914,
          0.42857142857142855,
          0.9636363636363636,
          1,
          0.7831325301204819,
          0.6818181818181818,
          0.918918918918919,
          0.7647058823529411,
          0.5423728813559322,
          0.6666666666666666,
          0.8055555555555556,
          0.6666666666666666,
          0.5,
          0.9411764705882353,
          0.9148936170212766,
          0.8461538461538461,
          0.9230769230769231,
          0.3448275862068966,
          0.7469879518072289,
          0.8695652173913043,
          0.9424460431654677,
          0.7368421052631579,
          0.85
         ],
         "yaxis": "y"
        },
        {
         "hovertemplate": "<b>OLS trendline</b><br>Positive_Vote_Ratio = 0.575521 * Average_Polarity + 0.668832<br>R<sup>2</sup>=0.104343<br><br>Average_Polarity=%{x}<br>Positive_Vote_Ratio=%{y} <b>(trend)</b><extra></extra>",
         "legendgroup": "",
         "line": {
          "color": "red"
         },
         "marker": {
          "color": "#636efa",
          "symbol": "circle"
         },
         "mode": "lines",
         "name": "",
         "showlegend": false,
         "type": "scattergl",
         "x": [
          -0.1288148820961321,
          -0.08143378396556362,
          -0.04791237997256516,
          -0.04479166666666667,
          -0.02923767752715121,
          -0.0043583315458315475,
          -0.0028617178276269246,
          -0.0013775510204081648,
          -0.00012239583333334414,
          0,
          0,
          0.0016572962154294017,
          0.0020068874293012228,
          0.003962224306276109,
          0.004784601972101968,
          0.005865398768935189,
          0.00681818181818182,
          0.010452473958333335,
          0.010578231292517004,
          0.012570581498512116,
          0.012753651439716065,
          0.01631652661064426,
          0.01654433703305884,
          0.0178541366041366,
          0.02222222222222222,
          0.02238636363636366,
          0.02412158190840556,
          0.024356060606060607,
          0.02451923076923077,
          0.026155113025718497,
          0.027174908424908422,
          0.02806897759103641,
          0.029842133379086744,
          0.02985353980724351,
          0.030555555555555558,
          0.031028053977272724,
          0.0316084995135747,
          0.03170833333333334,
          0.0321953958739673,
          0.0328169392336059,
          0.03297217498110355,
          0.0341358024691358,
          0.0344760101010101,
          0.034829209461562406,
          0.035481086601307193,
          0.037347830546359956,
          0.03985342789598109,
          0.04005902777777778,
          0.04010029239195906,
          0.04096153846153846,
          0.042007427898641474,
          0.0421875,
          0.04328928161489931,
          0.0443194904224316,
          0.04434233920841063,
          0.04889081790123457,
          0.04909672195088862,
          0.05,
          0.05016453852216331,
          0.050380093225487955,
          0.05140260449600337,
          0.05209183673469388,
          0.052238906926406925,
          0.053013285024154595,
          0.05334880784590087,
          0.05352496526107637,
          0.05440177517287907,
          0.056772929799245586,
          0.05696441909029937,
          0.05791294642857143,
          0.05897030651340996,
          0.05910771395653401,
          0.05957070073511561,
          0.05961564771706281,
          0.059886009959539376,
          0.059886964886964884,
          0.05999355633401685,
          0.06062764458645411,
          0.06066975308641975,
          0.06090912722997923,
          0.06122508150285928,
          0.06237382847231332,
          0.06259416729654825,
          0.06268760629251702,
          0.06323524100959166,
          0.06391450928457508,
          0.06500000000000002,
          0.06524731184453408,
          0.0660793045688879,
          0.06611539502164501,
          0.06666666666666667,
          0.06671875000000001,
          0.06695652173913044,
          0.06714181286549707,
          0.0673430752509337,
          0.06762231815803244,
          0.06763285024154589,
          0.06783532533383724,
          0.06807322542363527,
          0.06844082584082584,
          0.06878641752059474,
          0.07039094650205763,
          0.0704078226266389,
          0.07058526592455164,
          0.07149274335710303,
          0.07161613847666727,
          0.07170815295815296,
          0.07212687913247615,
          0.07257547545047545,
          0.07278899177308608,
          0.07283775629248687,
          0.07290895061728396,
          0.07356813793219048,
          0.0741222287813197,
          0.07421324639986238,
          0.07518374164081863,
          0.0755200429797204,
          0.07590434419381788,
          0.07693650793650793,
          0.07707323232323232,
          0.07750610500610501,
          0.0784489927284045,
          0.07853157659214882,
          0.07902963280554375,
          0.0790373084721887,
          0.07910879629629629,
          0.0797715820334868,
          0.08003339554969989,
          0.08065616337803504,
          0.08165281385281385,
          0.08166701499071229,
          0.08178961746579622,
          0.08254263829081951,
          0.0832999610542714,
          0.0834220619624455,
          0.08356605982981916,
          0.08373778998778998,
          0.08406486251498706,
          0.08438681027966742,
          0.08490582411415745,
          0.08512549496537154,
          0.08528502633692366,
          0.08580810442437627,
          0.08618923611111111,
          0.08636642414711612,
          0.08644974177868915,
          0.08647992584186553,
          0.08653313392488486,
          0.08694766881322773,
          0.087146814353447,
          0.08800971329140343,
          0.08823992438093699,
          0.08869127785794453,
          0.08921875,
          0.08951622315592904,
          0.08958310859403092,
          0.08958333333333335,
          0.08981201668701669,
          0.08982233747493487,
          0.09071124710421896,
          0.09081255857273522,
          0.09086728918934332,
          0.09091544185322063,
          0.09228009259259258,
          0.09268014881625129,
          0.09339652101370853,
          0.09431051694476382,
          0.09446205302150425,
          0.09468501339929912,
          0.0950679173578742,
          0.09538832199546485,
          0.09605263157894736,
          0.09628401360544217,
          0.09708125349706982,
          0.09710250841786046,
          0.09727580595505124,
          0.09838886525151684,
          0.09845573381872642,
          0.09861266785717335,
          0.09892315321605576,
          0.09923045634816935,
          0.09929278910496527,
          0.09941228414442699,
          0.0994867297979798,
          0.09951058201058201,
          0.09957881515656877,
          0.09999999999999999,
          0.10014873737373736,
          0.1013888888888889,
          0.10195192167290382,
          0.1025508281105296,
          0.10291733663162235,
          0.10297527569026631,
          0.10326661867398475,
          0.10328056917211328,
          0.10353327228327228,
          0.10403125644197073,
          0.10408899424056971,
          0.10411485260770975,
          0.10450390656721825,
          0.10494332563584108,
          0.10532186948853614,
          0.1057589676381947,
          0.10588541666666666,
          0.10594752084335418,
          0.10600779967159278,
          0.10606060606060606,
          0.10626487108629966,
          0.10658096571962118,
          0.10668005069592372,
          0.10668350168350169,
          0.1069774021138487,
          0.10741758241758241,
          0.10770883898508898,
          0.10782118807118805,
          0.10799465527179615,
          0.10809114131482551,
          0.10811608334827509,
          0.10836916234747866,
          0.10842823472823473,
          0.10889687508873554,
          0.1090270596173374,
          0.10909267526455026,
          0.1106969413188529,
          0.1111462508684731,
          0.11130478395061728,
          0.1113651188264516,
          0.11227246334583292,
          0.11242283634320938,
          0.11248046262312567,
          0.11310350529100528,
          0.11314340086778997,
          0.113517380895119,
          0.11355196886446886,
          0.1136034740042093,
          0.11381804365846919,
          0.11432138621356353,
          0.11435174019256483,
          0.11442878536800187,
          0.1144591140745054,
          0.11543977591036414,
          0.11555489910077453,
          0.11573002394430965,
          0.11574170274170274,
          0.11583333333333334,
          0.11657363104731527,
          0.1166399381868132,
          0.11708670271931965,
          0.11713181578715583,
          0.11719342338258268,
          0.11720164538916138,
          0.11729786480819017,
          0.11774135201218534,
          0.11788039458207526,
          0.11827495584755686,
          0.11837688560272594,
          0.11885750461997224,
          0.11904987373737373,
          0.1190749951074706,
          0.11954874613772919,
          0.11955128205128206,
          0.11957449568049873,
          0.11970096801346801,
          0.11971230158730159,
          0.12024791593988023,
          0.12027694494841298,
          0.12042447196818999,
          0.12136067272688571,
          0.1216208174380515,
          0.12164204545454546,
          0.12245701995151083,
          0.12266102276276694,
          0.12282165841742933,
          0.12314273387551215,
          0.12339015151515152,
          0.12365916619962379,
          0.12370324870324871,
          0.12378046336379672,
          0.1238639512739828,
          0.12426601619705976,
          0.1243917689067636,
          0.12446224323062559,
          0.12456267217630855,
          0.12465465129365345,
          0.12502520026010194,
          0.12516056166056166,
          0.1262930946758869,
          0.12676296296296297,
          0.1271856210918711,
          0.12730592966704077,
          0.12772349486932819,
          0.12795557616986186,
          0.12798599727709023,
          0.12814424404104244,
          0.12860131931560503,
          0.12866309897865622,
          0.12937913417824132,
          0.1294054383116883,
          0.12961193866485543,
          0.12976622738372737,
          0.13060520287793015,
          0.130802984876615,
          0.13111307432503086,
          0.13128864857631364,
          0.13145413122235258,
          0.13172281713993303,
          0.13196003401360545,
          0.13210901532330105,
          0.13218480153003961,
          0.1322562865185816,
          0.13265577820066568,
          0.13285003395297515,
          0.13298518510181526,
          0.1336846781391501,
          0.13394604052200423,
          0.13425843937207574,
          0.13426817065209923,
          0.13431257084666176,
          0.1343317381403319,
          0.13495493990260182,
          0.135212040697559,
          0.13534488196988198,
          0.13539685362920992,
          0.1359059350766668,
          0.1359947491545916,
          0.13618907368178412,
          0.13634168035030103,
          0.13669973908633182,
          0.1367004917740212,
          0.13678523538602044,
          0.13701891429904278,
          0.13707125486994448,
          0.13731479654463935,
          0.13735340616590616,
          0.13763099258505884,
          0.13784109011521292,
          0.13867533366576734,
          0.1389633967223253,
          0.1390054824879493,
          0.13911510814380032,
          0.13928804855275445,
          0.13935572042479938,
          0.13946759259259262,
          0.14006814129287878,
          0.14042874396135266,
          0.14076287825736358,
          0.14079657026832323,
          0.14108937707617178,
          0.1413269412878788,
          0.14166666666666666,
          0.1418818203447892,
          0.1420505953492459,
          0.14225337162837162,
          0.1423306248906489,
          0.14239663548561574,
          0.14248366013071898,
          0.14257546788796788,
          0.14261330336330336,
          0.1430850392521311,
          0.14426308539944904,
          0.14447859029543836,
          0.14480218855218854,
          0.145137432012432,
          0.1451388888888889,
          0.14527218399986258,
          0.14544081141674725,
          0.14547457063633534,
          0.1457067064242707,
          0.14586976999416404,
          0.14591755766767603,
          0.14608086019671385,
          0.14642220193001443,
          0.14669393106893108,
          0.1469986312346006,
          0.14735640618948664,
          0.14735964143908506,
          0.14754654463893593,
          0.14802027772338575,
          0.14868393524038684,
          0.1488955662393162,
          0.14921757091351032,
          0.14974471215918586,
          0.14985127775450358,
          0.15016487363022016,
          0.1510502622318532,
          0.15134671917399203,
          0.1518309673175445,
          0.15183546254470168,
          0.15192307692307694,
          0.1522466683643154,
          0.1522700970555101,
          0.15228475821636062,
          0.1525894049401935,
          0.1526191668753652,
          0.15268993217683172,
          0.15279313876088071,
          0.15285166927428834,
          0.15289488942878612,
          0.15344243404923016,
          0.1534908099225291,
          0.15351521164021165,
          0.15391999148548,
          0.15410952801056968,
          0.1541182498057498,
          0.15431897786170742,
          0.15452069045700326,
          0.15466854100006272,
          0.15477364154554876,
          0.15505985206177783,
          0.15514512405437678,
          0.15526679841897234,
          0.15571928967090257,
          0.1561868686868687,
          0.1567210051281559,
          0.1568143560859891,
          0.15681822191352468,
          0.1568287037037037,
          0.15684399381980027,
          0.15687500000000001,
          0.15690232182940514,
          0.15700757575757576,
          0.15706426401880946,
          0.1574844057507748,
          0.1575472075911319,
          0.1577078124947443,
          0.1580159514398645,
          0.1584342166251257,
          0.15858813700918964,
          0.15876112974327258,
          0.15877899735060383,
          0.15881410256410255,
          0.15914401033886327,
          0.15962998035914702,
          0.16009856200352987,
          0.1601321271193301,
          0.16064548546691404,
          0.16100087802198693,
          0.1612172476646161,
          0.16138074990097048,
          0.16178845136345135,
          0.1618863924340591,
          0.1620654167986485,
          0.16250231256414413,
          0.16250518797262495,
          0.16280501748722087,
          0.1634318474813798,
          0.16381128541759382,
          0.16391478698714668,
          0.1642573051948052,
          0.1644020391960733,
          0.16441258128125516,
          0.16457689832689834,
          0.16490501846324826,
          0.16504794973544973,
          0.16506978276443532,
          0.16515769085411944,
          0.1654395141895142,
          0.16562317620650951,
          0.1660386280784961,
          0.16630953666634637,
          0.16634920634920633,
          0.16674609845340843,
          0.167281070652718,
          0.16735038984919276,
          0.16736608226553853,
          0.16797558404239438,
          0.1681547619047619,
          0.1682907647907648,
          0.1684202046506734,
          0.16843735740323312,
          0.1685972361717528,
          0.16884032634032634,
          0.16884759993093326,
          0.16888374959157385,
          0.16921173193671116,
          0.16922064560953448,
          0.1693840225262531,
          0.16955743145743146,
          0.1696700139848888,
          0.16993006993006993,
          0.17016895141895141,
          0.17019726523747064,
          0.17026143790849674,
          0.17054296772268585,
          0.17057652477474966,
          0.17065354017752274,
          0.17066263803552337,
          0.1708989097322431,
          0.1716743493132382,
          0.1717039748799953,
          0.171875,
          0.17199399699180462,
          0.17235844017094018,
          0.1727564484126984,
          0.17319291211434068,
          0.17330380882873753,
          0.1737970504072199,
          0.17492677684127594,
          0.1754357165010712,
          0.17562792070922154,
          0.17719627594627596,
          0.17758353625541126,
          0.1776624127469637,
          0.17779729924725265,
          0.1779100697643234,
          0.17861100029858226,
          0.1786991389076115,
          0.17885743277147345,
          0.17916666666666667,
          0.17922839506172838,
          0.17934771825396825,
          0.17935524748619985,
          0.17953570795676058,
          0.17972721743744471,
          0.17993153011010155,
          0.18051153967499492,
          0.1807133658008658,
          0.1812365163201431,
          0.18161674187307827,
          0.1817356810045329,
          0.18180722444741138,
          0.1819760101010101,
          0.18221177709929115,
          0.18225509774616916,
          0.18230311355311357,
          0.18235645933014352,
          0.18257783882783882,
          0.18265731548544048,
          0.1831206654724189,
          0.18333333333333332,
          0.18351411857409333,
          0.18375725547600547,
          0.18376410684223185,
          0.18396686740831997,
          0.18398493759518605,
          0.18399460789189373,
          0.18419890637832814,
          0.18426370183314628,
          0.1848982607227288,
          0.18504156144781145,
          0.18526232919450814,
          0.18538809144072302,
          0.1857888563384253,
          0.18608518716062844,
          0.1864269841269841,
          0.18669821065285408,
          0.18675377596648604,
          0.18675903990765907,
          0.1870330446621007,
          0.18743884154040402,
          0.18749280596664317,
          0.18779318489139918,
          0.18806612458336333,
          0.1885262074299759,
          0.18860189193522528,
          0.18868202173546186,
          0.18885437710437708,
          0.18913255835756604,
          0.1891468253968254,
          0.18938703323428444,
          0.1898391550977758,
          0.1901435278939044,
          0.19036332142284523,
          0.19093860648208474,
          0.1911784284436628,
          0.19181998556998556,
          0.19187276196026196,
          0.19205721088435374,
          0.19215304919947776,
          0.19234980360981505,
          0.19251013234077752,
          0.19261473690313557,
          0.1932534120971621,
          0.1936593956106668,
          0.19384238095238096,
          0.19397057844482793,
          0.19417941056528013,
          0.194424126984127,
          0.19478736187471388,
          0.19583369806255835,
          0.1962121212121212,
          0.1966024975581415,
          0.1978410218253968,
          0.19822227128513678,
          0.1983459595959596,
          0.1986378589648763,
          0.19866613213026849,
          0.19919765840220388,
          0.19956445406445406,
          0.19957837301587303,
          0.1996131346362828,
          0.19971556778397573,
          0.19995740270196793,
          0.20011434074192433,
          0.2011300505050505,
          0.20122216450216449,
          0.20127777777777775,
          0.2012871219665421,
          0.20143550912402813,
          0.2015229535421843,
          0.20165461196325393,
          0.20170015371102326,
          0.20216719114125542,
          0.20233063978116497,
          0.20285398099289564,
          0.20288633879258877,
          0.20323529411764707,
          0.20332646672110957,
          0.20363046044864225,
          0.20365705487558003,
          0.20385245587693637,
          0.20401120754245755,
          0.20426649182123635,
          0.20435245151673725,
          0.204567791005291,
          0.20555432156495984,
          0.20563075660011132,
          0.20578703703703705,
          0.20611235119047616,
          0.20631889470764153,
          0.20687099517675497,
          0.2075627572016461,
          0.2076495043225039,
          0.20772289011716688,
          0.20773238335738334,
          0.20795568695931013,
          0.2080386397041534,
          0.20805369805559198,
          0.2083315295815296,
          0.20837131263193762,
          0.20845336240556828,
          0.20895152087168628,
          0.20954517632156947,
          0.20999217503451278,
          0.2101229256854257,
          0.2102706883705379,
          0.21055555555555555,
          0.21063515337708885,
          0.21078204388096636,
          0.21117752498726763,
          0.2114482817670821,
          0.2114670751526812,
          0.21173023737811877,
          0.21184148027898028,
          0.21224190566378065,
          0.21255686443186445,
          0.2126539855072464,
          0.21347021086879575,
          0.2139781746031746,
          0.2140106840830745,
          0.21414166175360214,
          0.21465322425099653,
          0.21488095238095237,
          0.21500974706845682,
          0.21521192817903345,
          0.21534738443565501,
          0.21549403021442495,
          0.21579477716247197,
          0.21658369408369407,
          0.21671244492115027,
          0.21710286421731223,
          0.21740470177970178,
          0.21744867928740055,
          0.21760653963522816,
          0.21779291455072705,
          0.21792923229898017,
          0.21845238095238093,
          0.21855681245562197,
          0.2191436835233828,
          0.2192732043305814,
          0.2195657428110925,
          0.2198309169938904,
          0.21986668407038776,
          0.22050074236890885,
          0.22051180610552376,
          0.22056578700646495,
          0.22082571279511384,
          0.22182707356734918,
          0.22192594380094383,
          0.2222212488455192,
          0.2229725601548691,
          0.2231864478114478,
          0.2234427166380835,
          0.2239543824536074,
          0.22401567179270135,
          0.22451671370886794,
          0.22461984564511803,
          0.2248184974747475,
          0.22510010822510823,
          0.22513782485581268,
          0.22523575505916776,
          0.22523913907080573,
          0.22533667649647032,
          0.22544096984886458,
          0.22545555748322924,
          0.225821088667596,
          0.226003071003071,
          0.22605716962814246,
          0.22681818181818184,
          0.22802639622439513,
          0.2289398286190378,
          0.22901273161509272,
          0.22916129298941798,
          0.22925249373652024,
          0.22980608189624582,
          0.22983281226029767,
          0.2302821987380811,
          0.23043042971240643,
          0.2310403726216696,
          0.2311642573696145,
          0.23122754543660817,
          0.23133096590909094,
          0.23191318564734462,
          0.23271697130030464,
          0.23327571052340765,
          0.23331864966630592,
          0.2337372719267705,
          0.23379344356774912,
          0.23397619047619048,
          0.23404761904761906,
          0.23421005832633668,
          0.23431982159254885,
          0.234353300146314,
          0.23453112464188416,
          0.23458824099065326,
          0.2354312101402322,
          0.23651626459468814,
          0.2365179643330258,
          0.23658452479708517,
          0.23669744394737532,
          0.23718417277741008,
          0.23722259553372663,
          0.23723195552719806,
          0.23734387090852002,
          0.23747894166579286,
          0.23791824494949493,
          0.23792168718392911,
          0.23810178649852562,
          0.23815175288101556,
          0.23831410533910535,
          0.23909976214753662,
          0.23923107121776493,
          0.23929322343194293,
          0.23936242678889738,
          0.23940856927464071,
          0.2394751082251082,
          0.23953257060399916,
          0.24019886363636364,
          0.24148703560634427,
          0.2415455830023499,
          0.24171482163669664,
          0.24221288515406164,
          0.24257172466369908,
          0.2428216835248085,
          0.24362118176395137,
          0.24384473894811276,
          0.24407357439956667,
          0.2451513455680122,
          0.24542969365521813,
          0.2463385447486167,
          0.2464229828042328,
          0.24644037780401415,
          0.24658175158175158,
          0.24673130146680744,
          0.24699396178954083,
          0.24704060683763757,
          0.2470995670995671,
          0.24716693367293255,
          0.24719030410840756,
          0.24743610619178802,
          0.2480259974847493,
          0.2482280643738977,
          0.2486098484848485,
          0.24904761904761905,
          0.24907754372998278,
          0.2494622142790771,
          0.24986662990006286,
          0.2499386409445933,
          0.25041169561258847,
          0.2512462070996449,
          0.25159316217017114,
          0.2526499682764953,
          0.2529167900700987,
          0.25302093591013847,
          0.2534082726051951,
          0.25349248983339895,
          0.2535875219325505,
          0.2538179798676615,
          0.25432525021265295,
          0.2546024543752797,
          0.25472148736037625,
          0.2549350209411185,
          0.2554244213678738,
          0.2554342122523941,
          0.2559603104631926,
          0.25635152116402116,
          0.2565340909090909,
          0.2568507495590829,
          0.25767163936281584,
          0.2577263014763015,
          0.2577976253657124,
          0.25842194535914753,
          0.25847023809523806,
          0.2586324786324786,
          0.258643998536978,
          0.25954665302042534,
          0.26011043707754233,
          0.26087480433616994,
          0.26136316872427984,
          0.2630914588057445,
          0.26317100354546474,
          0.2641032682239509,
          0.26475334105899173,
          0.2649942286948137,
          0.26514329339910736,
          0.26517371141463836,
          0.26536556036556036,
          0.2654761904761905,
          0.2657082732082732,
          0.26576391729295773,
          0.2660289439673528,
          0.26660842051467054,
          0.26779761904761906,
          0.2678436447811448,
          0.26788939871740625,
          0.2679021872087348,
          0.268342151675485,
          0.2689673306455594,
          0.2694653829273645,
          0.269833845095473,
          0.2700709510151,
          0.270306188026053,
          0.2703156065759637,
          0.27107225529100526,
          0.27111694677871145,
          0.2711203443021625,
          0.2720217615555701,
          0.2723603249678831,
          0.27305403782664595,
          0.27321357709750566,
          0.2733244047619048,
          0.274427911414594,
          0.27444550547491725,
          0.27517399965513173,
          0.27571502849358753,
          0.27592427654927654,
          0.2760346513605442,
          0.2764159640030804,
          0.27660430839002265,
          0.2772084517886757,
          0.2774025364103489,
          0.2777777777777778,
          0.2779663636780689,
          0.27832270865335385,
          0.27855278628138386,
          0.2785905349794238,
          0.2786809747373128,
          0.2788044532056195,
          0.27905700396705935,
          0.2792169784580499,
          0.279985104016354,
          0.2810851381399627,
          0.2812881210686154,
          0.2817719459859967,
          0.28178266450325273,
          0.28210868932752964,
          0.28259082066174795,
          0.2838700012518254,
          0.2841898148148148,
          0.2846218976982122,
          0.2864407089363054,
          0.28673763571085004,
          0.2869728059514532,
          0.2876691017316017,
          0.28995336013193157,
          0.2907942710711698,
          0.2908299737387415,
          0.2912375600052095,
          0.29127425532913337,
          0.2917443703956862,
          0.2930152295152295,
          0.29316927225387046,
          0.29339977152477154,
          0.2935654761904762,
          0.29357678008719673,
          0.2935946573751452,
          0.29390271765271764,
          0.29549131186274047,
          0.2956988613238613,
          0.2957239906832298,
          0.29601004464285713,
          0.29633322310405646,
          0.2973285577726367,
          0.29848952280709756,
          0.30028138528138526,
          0.3003170026178658,
          0.30047149461325845,
          0.30093952043627364,
          0.3012191358024691,
          0.3012378246753247,
          0.30127630471380473,
          0.30131767290249434,
          0.3018562391120681,
          0.3022852668165168,
          0.3023031154032983,
          0.30286970722632484,
          0.30416666666666664,
          0.3041922606428779,
          0.3047247095431017,
          0.3048330533760221,
          0.30614197530864196,
          0.3061774837736873,
          0.306431795137813,
          0.3065501792114695,
          0.30786657555407554,
          0.3082578382874436,
          0.30919031346069387,
          0.3092105143259366,
          0.30923355052172785,
          0.3096875,
          0.31140350877192985,
          0.31173828124999997,
          0.3119630871212121,
          0.3128103568409304,
          0.3162057902806258,
          0.3164370629370629,
          0.3167584423814767,
          0.3174423508552203,
          0.31889241160074494,
          0.318895785586962,
          0.3210027472527472,
          0.3217629247406033,
          0.32210724188665363,
          0.3229166666666667,
          0.32716836734693877,
          0.3274074074074074,
          0.32758173572459287,
          0.3285849567099567,
          0.32894097222222224,
          0.3322702991452991,
          0.3332357047413866,
          0.33327558867899776,
          0.33331078643578643,
          0.3372352886948751,
          0.3383333333333333,
          0.3395905483405483,
          0.3407818630413221,
          0.3430545292140215,
          0.3441470639364661,
          0.34520202020202023,
          0.3463904431856559,
          0.34706221476556404,
          0.3471776090506498,
          0.34723657628920784,
          0.3480107835286407,
          0.3495895562770563,
          0.3517899546797937,
          0.3531453861531986,
          0.35389409214297607,
          0.3556517435419465,
          0.35610500610500606,
          0.3572230601642366,
          0.3573348528173895,
          0.35881485038175176,
          0.3593226911976912,
          0.36070999505724105,
          0.36102545073973646,
          0.36103726660544844,
          0.36237832727788083,
          0.3627155483405483,
          0.3633986928104575,
          0.36775668775668774,
          0.3678182631461852,
          0.3681605840280409,
          0.3694093406593406,
          0.3698220298220299,
          0.37233044698081236,
          0.37482024131933556,
          0.3748438092188092,
          0.37582539682539684,
          0.38055555555555554,
          0.38226642917267917,
          0.3830973505158288,
          0.3854169849758085,
          0.38902944624819624,
          0.3963400247514831,
          0.40238497613497615,
          0.4046950015638439,
          0.4064236111111111,
          0.40681818181818186,
          0.4126543209876543,
          0.4174232554657083,
          0.4211111111111111,
          0.4219047619047619,
          0.42237816220238095,
          0.42267045454545454,
          0.4275673400673401,
          0.4303333333333333,
          0.43177777777777776,
          0.43644444444444447,
          0.4425,
          0.4426366058793595,
          0.44330182072829133,
          0.44600478225478235,
          0.4493413388149237,
          0.4691628264208909,
          0.4822916666666666,
          0.48354444444444444,
          0.49233076535171266,
          0.49470418470418476,
          0.49976190476190474,
          0.5088143130815544,
          0.5089582713293651,
          0.5115277777777778,
          0.5163194444444444,
          0.5411769413713858,
          0.5424494949494949,
          0.5865384615384616,
          0.6057655423280424,
          0.6421137716450217,
          0.8264444444444445
         ],
         "xaxis": "x",
         "y": [
          0.5946959789803294,
          0.6219647947100417,
          0.6412570657749157,
          0.6430531017352749,
          0.652004748709319,
          0.6663233341327891,
          0.6671846667170999,
          0.6680388358430808,
          0.6687612039784544,
          0.6688316453476277,
          0.6688316453476277,
          0.6697854540791931,
          0.6699866511549876,
          0.6711119885382792,
          0.6715852841332407,
          0.6722073053580948,
          0.6727556519862946,
          0.6748472633373999,
          0.6749196393208156,
          0.6760662786512638,
          0.6761716392420754,
          0.6782221486295167,
          0.6783532583056372,
          0.6791070754300979,
          0.6816210003180974,
          0.6817154671445839,
          0.6827141216540413,
          0.6828490690624209,
          0.6829429769136026,
          0.6838844614626678,
          0.6844713751037549,
          0.6849859306607743,
          0.6860064190063836,
          0.6860129836450225,
          0.6864170084320235,
          0.6866889411837482,
          0.6870229997639639,
          0.6870804562211166,
          0.687360770928741,
          0.687718482168259,
          0.6878078235968075,
          0.6884775156217102,
          0.6886733122492569,
          0.688876585889142,
          0.6892517548553219,
          0.6903261051481734,
          0.691768128974455,
          0.6918864560186134,
          0.6919102046695452,
          0.69240586984608,
          0.6930078011532739,
          0.6931114364243787,
          0.6937455348521585,
          0.6943384416281541,
          0.694351591583708,
          0.6969693364697244,
          0.6970878385688641,
          0.6976076940311844,
          0.6977023894016663,
          0.6978264456544031,
          0.6984149223363998,
          0.6988115899454965,
          0.6988962319254292,
          0.6993419027622345,
          0.6995350031832949,
          0.699636385470396,
          0.7001410079645612,
          0.7015056571838525,
          0.7016158632870874,
          0.7021617606643634,
          0.7027702935699106,
          0.7028493744353671,
          0.7031158330369732,
          0.703141700967787,
          0.7032973001088211,
          0.7032978496895828,
          0.7033591953029752,
          0.7037241263914112,
          0.7037483607163113,
          0.7038861255564843,
          0.7040679638672478,
          0.7047290918416098,
          0.7048559014562711,
          0.7049096775582099,
          0.7052248528237968,
          0.7056157859627992,
          0.7062405086362514,
          0.7063828417898181,
          0.7068616710526255,
          0.7068824418651365,
          0.7071997102590366,
          0.7072296853097487,
          0.7073665279325645,
          0.7074731668620237,
          0.7075889975860535,
          0.7077497077358378,
          0.7077557691707962,
          0.7078722978330558,
          0.7080092143243729,
          0.7082207760743964,
          0.7084196713344295,
          0.7093431114161246,
          0.7093528239797755,
          0.7094549463193616,
          0.7099772186149281,
          0.710048235094286,
          0.7101011913582626,
          0.7103421770538106,
          0.7106003536435308,
          0.7107232367654144,
          0.7107513017691005,
          0.7107922755962276,
          0.7111716517215343,
          0.7114905426265274,
          0.7115429251749723,
          0.7121014655409906,
          0.7122950140150023,
          0.7125161874239226,
          0.7131102193061037,
          0.7131889070582759,
          0.7134380343661985,
          0.7139806860261988,
          0.7140282147718705,
          0.7143148565687465,
          0.7143192740758876,
          0.7143604168180235,
          0.7147418639108268,
          0.714892543080598,
          0.7152509590275326,
          0.7158245522791871,
          0.7158327253318976,
          0.7159032856277323,
          0.7163366649061444,
          0.7167725200403495,
          0.7168427916739081,
          0.7169256654667455,
          0.7170244997744696,
          0.7172127368737831,
          0.7173980245647832,
          0.7176967279121577,
          0.7178231530943355,
          0.7179149667446223,
          0.7182160091548191,
          0.7184353584342656,
          0.7185373338652702,
          0.7185852849097171,
          0.7186026564711456,
          0.718633278838892,
          0.7188718523614519,
          0.7189864647966611,
          0.7194830812336136,
          0.7196155725440119,
          0.719875335936569,
          0.7201789072173492,
          0.7203501092576905,
          0.7203886032301513,
          0.7203887325723335,
          0.7205203446387077,
          0.7205262844686194,
          0.7210378706039706,
          0.7210961774789751,
          0.7211276760967351,
          0.7211553889647346,
          0.721940774086979,
          0.7221710148343423,
          0.7225833020589338,
          0.7231093258871062,
          0.7231965380775381,
          0.7233248564512568,
          0.7235452257103184,
          0.7237296252993133,
          0.7241119493976182,
          0.7242451146067965,
          0.7247039428854756,
          0.7247161755381842,
          0.7248159119055231,
          0.7254565008755787,
          0.7254949851384872,
          0.7255853039690963,
          0.7257639948051509,
          0.7259408542029571,
          0.7259767280118399,
          0.7260454999132998,
          0.7260883449483181,
          0.7261020723969391,
          0.7261413420035541,
          0.7263837427147412,
          0.7264693441928958,
          0.7271830774003955,
          0.7275071145764606,
          0.7278517977925808,
          0.7280627311334988,
          0.7280960762769433,
          0.7282637502746051,
          0.7282717790788713,
          0.7284172150194552,
          0.7287038153473422,
          0.7287370446614094,
          0.7287519266940434,
          0.7289758354076304,
          0.7292287302978538,
          0.7294465902245342,
          0.7296981493772154,
          0.7297709234452014,
          0.7298066657014377,
          0.7298413574313574,
          0.7298717486157783,
          0.7299893074222524,
          0.7301712265133938,
          0.7302282519954317,
          0.7302302381111627,
          0.7303993839729983,
          0.730652716969994,
          0.7308203412333135,
          0.7308850004887364,
          0.7309848345009303,
          0.7310403642423603,
          0.7310547189057365,
          0.7312003711777738,
          0.7312343685718636,
          0.7315040809284407,
          0.7315790048550985,
          0.7316167680362705,
          0.7325400567978704,
          0.7327986438673475,
          0.7328898829811422,
          0.7329246069676287,
          0.7334468027688782,
          0.7335333455827422,
          0.7335665107154686,
          0.7339250848383253,
          0.7339480455795216,
          0.7341632789289836,
          0.7341831850307812,
          0.7342128273189537,
          0.7343363166552935,
          0.7346260008526916,
          0.7346434702042411,
          0.7346878113186254,
          0.7347052661253225,
          0.735269657579938,
          0.7353359133905751,
          0.7354367014110404,
          0.7354434228038874,
          0.7354961581312007,
          0.7359222149923581,
          0.7359603761418434,
          0.7362174985005931,
          0.7362434620173196,
          0.7362789184806251,
          0.7362836504178568,
          0.7363390267115824,
          0.7365942628990364,
          0.7366742848142411,
          0.736901363097924,
          0.736960025809865,
          0.7372366321346354,
          0.7373473445963866,
          0.7373618024717647,
          0.7376344561259769,
          0.7376359155974139,
          0.7376492755279032,
          0.737722063008116,
          0.737728585717564,
          0.7380368430112723,
          0.7380535498145278,
          0.7381384547085926,
          0.7386772578807889,
          0.7388269766182544,
          0.738839193786976,
          0.7393082287029867,
          0.7394256365995525,
          0.7395180857879301,
          0.7397028714481878,
          0.7398452654890565,
          0.7400000890821958,
          0.7400254594876039,
          0.7400698981442242,
          0.7401179471875842,
          0.7403493439835924,
          0.740421717305523,
          0.7404622767570108,
          0.740520075721615,
          0.7405730116327869,
          0.7407862703347501,
          0.7408641736597402,
          0.7415159701634348,
          0.7417863892175101,
          0.7420296378353893,
          0.7420988779437119,
          0.7423391954755035,
          0.7424727631315575,
          0.7424902711168098,
          0.7425813454484799,
          0.7428444018555371,
          0.7428799573473694,
          0.7432920506226175,
          0.7433071892031105,
          0.7434260344874286,
          0.7435148308811402,
          0.7439976788744501,
          0.7441115065629078,
          0.7442899695441852,
          0.7443910162082351,
          0.7444862549418091,
          0.7446408893227068,
          0.7447774126088139,
          0.7448631544772287,
          0.7449067710287217,
          0.7449479121389303,
          0.7451778279807768,
          0.7452896262404872,
          0.7453674085612605,
          0.7457699814751836,
          0.7459204010082447,
          0.7461001930986116,
          0.7461057936543658,
          0.7461313468975717,
          0.7461423780770874,
          0.7465010437621025,
          0.7466490106619479,
          0.7467254636003389,
          0.7467553743803186,
          0.7470483614306369,
          0.7470994757952399,
          0.747211313636338,
          0.7472991419747915,
          0.7475052122871834,
          0.7475056454747353,
          0.7475544172008255,
          0.7476889043163745,
          0.7477190274127024,
          0.7478591907544523,
          0.7478814114012768,
          0.7480411682075054,
          0.7481620837426256,
          0.7486422084031196,
          0.7488079947339085,
          0.748832215974718,
          0.7488953078389128,
          0.7489948386714611,
          0.7490337852531506,
          0.7490981700320857,
          0.7494437984048113,
          0.7496513328036798,
          0.749843634099057,
          0.7498630245580094,
          0.7500315410171599,
          0.750168264203591,
          0.7503637832843717,
          0.7504876087386937,
          0.75058474229359,
          0.7507014442951898,
          0.750745905167915,
          0.7507838956498029,
          0.7508339801582861,
          0.7508868174481285,
          0.7509085925577329,
          0.7511800864557866,
          0.7518580767215206,
          0.7519821043090913,
          0.7521683418928944,
          0.7523612815355506,
          0.7523621199985076,
          0.7524388341305608,
          0.7525358827457139,
          0.7525553118846416,
          0.7526889108993381,
          0.7527827574038534,
          0.7528102602122425,
          0.7529042442427573,
          0.7531006935694611,
          0.7532570793880652,
          0.7534324407240891,
          0.7536383477144802,
          0.7536402096684791,
          0.7537477763800395,
          0.7540204197060624,
          0.7544023685264309,
          0.7545241666049938,
          0.7547094870486126,
          0.7550128678915861,
          0.7550741986267632,
          0.7552546796304949,
          0.755764239340584,
          0.7559348565285753,
          0.756213551491651,
          0.7562161385891615,
          0.7562665625015116,
          0.7564527961628448,
          0.756466279866013,
          0.7564747176715808,
          0.7566500482507068,
          0.7566671768686152,
          0.7567079037838174,
          0.7567673013375584,
          0.7568009868756242,
          0.7568258609810231,
          0.7571409843941095,
          0.7571688257238126,
          0.7571828694241325,
          0.7574158287148038,
          0.7575249109602697,
          0.7575299305363239,
          0.7576454537425318,
          0.7577615435717782,
          0.7578466346602776,
          0.7579071222285491,
          0.7580718423835241,
          0.7581209182037315,
          0.7581909443525143,
          0.758451362558403,
          0.75872046408894,
          0.7590278708137028,
          0.7590815962478481,
          0.7590838211126754,
          0.759089853602765,
          0.7590986533852685,
          0.7591164980922869,
          0.7591322223781486,
          0.7591927982213721,
          0.759225423504673,
          0.7594672238833335,
          0.7595033676596442,
          0.7595957991501476,
          0.7597731395758691,
          0.7600138599625434,
          0.7601024443718477,
          0.7602020053186052,
          0.7602122885013737,
          0.7602324922880274,
          0.7604223611317793,
          0.7607020470710281,
          0.7609717256352476,
          0.7609910430633744,
          0.7612864915594181,
          0.7614910274287491,
          0.7616155526961479,
          0.761709651662412,
          0.7619442924050661,
          0.7620006595453848,
          0.7621036918220041,
          0.7623551344983549,
          0.7623567893562435,
          0.7625293475304191,
          0.7628901013389837,
          0.7631084758294814,
          0.7631680431535669,
          0.7633651695659386,
          0.7634484670192718,
          0.7634545342104002,
          0.7635491021164995,
          0.7637379421368526,
          0.7638202020817981,
          0.7638327674478981,
          0.7638833603972667,
          0.7640455556376563,
          0.7641512569805039,
          0.7643903582463831,
          0.7645462718206386,
          0.7645691025551433,
          0.7647975222853961,
          0.7651054100064297,
          0.765145304657879,
          0.7651543359726136,
          0.765505117028684,
          0.765608237646494,
          0.7656865101598684,
          0.7657610055140749,
          0.7657708772829293,
          0.7658628908674571,
          0.7660027943579644,
          0.7660069804619125,
          0.7660277853498023,
          0.7662165460684227,
          0.766221676074085,
          0.7663157029162702,
          0.7664155033931852,
          0.7664802969990059,
          0.7666299646497855,
          0.7667674459568585,
          0.7667837411532611,
          0.7668206738713731,
          0.7669827001841527,
          0.76700201297143,
          0.7670463369510216,
          0.7670515729591164,
          0.7671875522760635,
          0.767633834018741,
          0.7676508841537666,
          0.7677493126973539,
          0.7678177979619412,
          0.7680275426552451,
          0.7682566047460709,
          0.7685077987606123,
          0.7685716221456588,
          0.7688554930191621,
          0.7695056742764721,
          0.7697985797250173,
          0.7699091972780356,
          0.7708118186111275,
          0.7710346950413052,
          0.7710800901165231,
          0.7711577201265045,
          0.7712226219242905,
          0.771626022147843,
          0.7716767477659295,
          0.7717678492045855,
          0.7719458197970392,
          0.7719813457830683,
          0.7720500187828477,
          0.7720543520139127,
          0.772158210799639,
          0.7722684285224295,
          0.7723860147507303,
          0.7727198224202564,
          0.7728359775887298,
          0.7731370616849609,
          0.7733558894654008,
          0.7734243414301432,
          0.7734655161820483,
          0.7735626558657491,
          0.7736983447181593,
          0.7737232766590307,
          0.773750910762995,
          0.7737816123765324,
          0.7739090209205969,
          0.7739547614039639,
          0.7742214290396203,
          0.7743438238540022,
          0.7744478695517899,
          0.7745877999383137,
          0.7745917430432753,
          0.7747084360016925,
          0.774718835773232,
          0.774724401231809,
          0.7748419792956411,
          0.7748792704388876,
          0.7752444723888718,
          0.7753269449616992,
          0.7754540014302332,
          0.7755263802406258,
          0.7757570288447647,
          0.7759275734480878,
          0.7761242847709626,
          0.7762803813252168,
          0.7763123603286206,
          0.7763153898371699,
          0.7764730853202366,
          0.7767066299347505,
          0.7767376875938832,
          0.7769105619651291,
          0.7770676444824018,
          0.7773324318102537,
          0.7773759898304066,
          0.7774221062110588,
          0.7775213003407944,
          0.7776813994864867,
          0.7776896104668126,
          0.7778278551153105,
          0.778088060730405,
          0.778263233658392,
          0.7783897294441746,
          0.7787208180616066,
          0.7788588406304418,
          0.7792280702124487,
          0.7792584441319674,
          0.7793645983563533,
          0.7794197553167885,
          0.7795329916065998,
          0.7796252641539508,
          0.7796854662735296,
          0.7800530372430554,
          0.780286689270042,
          0.7803920011720729,
          0.7804657815177481,
          0.7805859687830446,
          0.7807268082146928,
          0.7809358575125946,
          0.7815380459342102,
          0.7817558363937063,
          0.781980506168466,
          0.7826933028606722,
          0.7829127199209533,
          0.7829839051380298,
          0.7831518993470428,
          0.783168171146718,
          0.7834740756642741,
          0.7836851742609506,
          0.7836931849094237,
          0.7837131909510484,
          0.7837721433759448,
          0.7839113244434154,
          0.7840016455769772,
          0.7845862078488187,
          0.7846392213861265,
          0.7846712279926565,
          0.7846766057692723,
          0.784762005690629,
          0.7848123317873084,
          0.7848881039699943,
          0.7849143142010132,
          0.7851831040376013,
          0.7852771721579873,
          0.7855783660017247,
          0.78559698859411,
          0.7857978197025552,
          0.7858502914480722,
          0.7860252462141316,
          0.7860405518646171,
          0.786153009239174,
          0.7862443741522867,
          0.7863912956089724,
          0.7864407672166236,
          0.7865646996087459,
          0.7871324686370028,
          0.7871764586028558,
          0.787266401272081,
          0.7874536263904173,
          0.7875724965165217,
          0.7878902419160703,
          0.7882883654701842,
          0.7883382902576435,
          0.7883805253216416,
          0.7883859888804943,
          0.7885145047868994,
          0.7885622458313803,
          0.7885709122284621,
          0.7887308100987863,
          0.7887537060786928,
          0.7888009274443022,
          0.7890876280897648,
          0.7894292892523068,
          0.7896865463868097,
          0.7897617961287313,
          0.7898468366531393,
          0.7900107836928276,
          0.7900565939085785,
          0.7901411324743932,
          0.7903687401457602,
          0.7905245663513071,
          0.7905353823388857,
          0.790686837719103,
          0.7907508603417208,
          0.7909813135490638,
          0.7911625789259376,
          0.7912184741418054,
          0.7916882289566194,
          0.7919805727396186,
          0.7919992826271443,
          0.7920746630236155,
          0.7923690779702095,
          0.792500140285294,
          0.7925742643292503,
          0.7926906237988672,
          0.7927685817155679,
          0.7928529794369503,
          0.793026065613319,
          0.7934801038479664,
          0.7935542026553002,
          0.7937788971487673,
          0.7939526109965642,
          0.7939779209746146,
          0.7940687729157004,
          0.7941760355885362,
          0.7942544893117396,
          0.7945555723341196,
          0.7946156748545468,
          0.7949534314628839,
          0.7950279734039535,
          0.7951963354350935,
          0.7953489487389698,
          0.7953695334416608,
          0.79573444729099,
          0.795740814703459,
          0.7957718818441284,
          0.7959214745870938,
          0.7964977787137268,
          0.7965546806068323,
          0.7967246348536163,
          0.7971570302699035,
          0.7972801271022739,
          0.7974276151869009,
          0.7977220895952454,
          0.7977573628953564,
          0.7980457230267987,
          0.7981050776191658,
          0.7982194059135758,
          0.7983814788068196,
          0.7984031855188463,
          0.798459546404833,
          0.7984614939745058,
          0.7985176288086937,
          0.7985776518204111,
          0.7985860473099442,
          0.798796418173078,
          0.7989011528239816,
          0.798932287717357,
          0.799370266193944,
          0.8000656189254114,
          0.800591318426559,
          0.800633275629832,
          0.8007187758166336,
          0.8007712637594054,
          0.8010898653561035,
          0.8011052492412492,
          0.8013638805844977,
          0.8014491906191696,
          0.8018002255561927,
          0.8018715238269529,
          0.8019079474368909,
          0.8019674680879116,
          0.8023025477585619,
          0.8027651432601763,
          0.8030867094018849,
          0.8031114217792144,
          0.8033523476701573,
          0.803384675627666,
          0.8034898503063476,
          0.8035309589473241,
          0.8036244461591742,
          0.8036876172210179,
          0.8037068848308779,
          0.803809226557711,
          0.8038420982143671,
          0.8043272446401075,
          0.8049517162362222,
          0.8049526944712853,
          0.8049910014143687,
          0.8050559887536899,
          0.8053361114038653,
          0.8053582245059917,
          0.805363611378548,
          0.8054280210277751,
          0.8055057570815153,
          0.8057585853350884,
          0.8057605664132016,
          0.8058642173460957,
          0.8058929740471971,
          0.8059864112919548,
          0.8064385732633146,
          0.8065141443872642,
          0.8065499142900837,
          0.8065897422734595,
          0.806616298241782,
          0.8066545928033422,
          0.806687663607591,
          0.8070711292223277,
          0.8078124992087468,
          0.8078461944631019,
          0.8079435948467238,
          0.8082302408471879,
          0.8084367605111661,
          0.8085806170782894,
          0.8090407450833293,
          0.8091694069316291,
          0.8093011065334603,
          0.8099213864457188,
          0.810081581607887,
          0.8106046444740818,
          0.8106532403460649,
          0.8106632515332761,
          0.8107446151074911,
          0.8108306842029509,
          0.8109818507276352,
          0.8110086959311327,
          0.8110426287984863,
          0.8110813996743824,
          0.8110948498501622,
          0.8112363141045197,
          0.8115758089158049,
          0.8116921026485943,
          0.8119118274118609,
          0.8121637735523911,
          0.8121809958347219,
          0.8124023818036792,
          0.8126351314756368,
          0.8126765753421,
          0.8129488282252243,
          0.8134291070887947,
          0.8136287870088041,
          0.8142370010880974,
          0.8143905626265487,
          0.8144505007418122,
          0.8146734211336898,
          0.8147218899148655,
          0.8147765828810992,
          0.8149092162563045,
          0.8152011609791685,
          0.8153606977887491,
          0.8154292037682309,
          0.8155520968225312,
          0.8158337570326525,
          0.8158393918920447,
          0.8161421724465701,
          0.8163673224100215,
          0.8164723951274669,
          0.8166546388220317,
          0.8171270781211528,
          0.817158537313929,
          0.8171995857082087,
          0.8175588949587129,
          0.817586688441209,
          0.8176800612731706,
          0.8176866912198246,
          0.8182061878070269,
          0.8185306573565191,
          0.8189705667454468,
          0.8192516306935982,
          0.8202462978840689,
          0.820292077550123,
          0.8208286154256046,
          0.8212027459765845,
          0.8213413818632981,
          0.8214271717270532,
          0.8214446779329687,
          0.8215550910280012,
          0.8216187609769883,
          0.8217523294569289,
          0.8217843537947255,
          0.8219368822044222,
          0.8222703831111541,
          0.8229547918087249,
          0.8229812805836976,
          0.823007612933644,
          0.8230149729786252,
          0.82326818175691,
          0.8236279853664858,
          0.8239146249006495,
          0.8241266826064003,
          0.8242631420361273,
          0.8243985258697144,
          0.8244039464427295,
          0.8248394136479373,
          0.8248651345364568,
          0.8248670898824614,
          0.8253858744178265,
          0.8255807247625303,
          0.8259799710624537,
          0.8260717892589576,
          0.8261355729042823,
          0.8267706641274906,
          0.8267807898782187,
          0.8272000535581294,
          0.8275114270020216,
          0.8276318536467706,
          0.8276953766656201,
          0.8279148300889256,
          0.8280232262338842,
          0.828370923430914,
          0.8284826232013539,
          0.8286985824784983,
          0.8288071176194545,
          0.8290122016265933,
          0.829144616127097,
          0.8291663412945478,
          0.8292183912720666,
          0.8292894557203739,
          0.8294348039804993,
          0.8295268726553167,
          0.8299689450245336,
          0.8306020377344243,
          0.8307188586671611,
          0.8309973100546988,
          0.8310034787861862,
          0.831191112910495,
          0.8314685896054017,
          0.8322047848641043,
          0.8323888442772692,
          0.8326375170390288,
          0.8336842810537001,
          0.833855168640095,
          0.8339905140459455,
          0.8343912468712996,
          0.8357058854899739,
          0.836189847372495,
          0.8362103950064985,
          0.8364449694514312,
          0.836466088379985,
          0.836736649460825,
          0.8374680555387034,
          0.8375567103656331,
          0.8376893675304525,
          0.8377847340410007,
          0.8377912396706476,
          0.8378015284248143,
          0.8379788235757122,
          0.8388930928622328,
          0.839012541930182,
          0.8390270044035535,
          0.8391916344569207,
          0.8393776304395797,
          0.8399504664171696,
          0.8406186261442007,
          0.8416498805800875,
          0.8416703791042583,
          0.8417592924878712,
          0.8420286511652361,
          0.8421895756730423,
          0.8422003315113449,
          0.8422224775805579,
          0.8422462858407915,
          0.8425562419901118,
          0.842803156432308,
          0.8428134286683512,
          0.8431395141460135,
          0.843885941505931,
          0.8439006713760402,
          0.8442071068855271,
          0.8442694610337407,
          0.8450227730588616,
          0.8450432089252381,
          0.8451895704491353,
          0.8452577029664733,
          0.846015316671307,
          0.8462404965805762,
          0.8467771556002094,
          0.8467887816218429,
          0.8468020394356743,
          0.847063296881407,
          0.8480508959206563,
          0.8482435645031935,
          0.8483729449970805,
          0.8488605664911348,
          0.8508147096503839,
          0.8509478119148001,
          0.851132772525567,
          0.8515263761962779,
          0.8523609165684245,
          0.8523628583682573,
          0.8535754589976378,
          0.8540129570856115,
          0.8542111188247581,
          0.8546769597622648,
          0.8571239026775331,
          0.8572614752458805,
          0.8573618048487255,
          0.8579391795670295,
          0.8581440739612904,
          0.8600601714337293,
          0.860615782602377,
          0.8606387366449849,
          0.860658993692243,
          0.8629176270535682,
          0.8635495747730281,
          0.8642731283780944,
          0.8649587549746325,
          0.8662667220231739,
          0.8668954986704047,
          0.8675026481275369,
          0.8681866104802121,
          0.8685732291139654,
          0.868639640945274,
          0.8686735778278236,
          0.8691191503320852,
          0.8700277671614589,
          0.8712941425926667,
          0.8720742218339852,
          0.8725051178342154,
          0.8735166830787252,
          0.8737775451903459,
          0.8744210087511313,
          0.8744853477677231,
          0.8753371174069957,
          0.8756293904478551,
          0.876427812915881,
          0.8766093642774209,
          0.8766161645559603,
          0.8773879730999106,
          0.8775820508942394,
          0.8779752148647195,
          0.8804833323594279,
          0.8805187702875457,
          0.8807157831347792,
          0.8814344687671031,
          0.8816719800358375,
          0.8831156267214334,
          0.8845485555833812,
          0.8845621194038336,
          0.8851270436589205,
          0.8878493492169204,
          0.8888339928668756,
          0.8893122055273293,
          0.8906472038102978,
          0.8927262510391317,
          0.8969336422974427,
          0.9004126386034652,
          0.9017421066874922,
          0.9027369577372327,
          0.9029640414547482,
          0.9063228619520431,
          0.9090674837662267,
          0.9111899220380275,
          0.9116466847155442,
          0.9119191365157662,
          0.9120873568896485,
          0.9149056172131602,
          0.9164975043507724,
          0.9173288124238529,
          0.9200145769676515,
          0.9234996761971046,
          0.9235782957458027,
          0.9239611408433605,
          0.9255167518928822,
          0.9274370101730836,
          0.93884469201968,
          0.9464006149411017,
          0.947121614827562,
          0.9521783267910999,
          0.9535442794077647,
          0.9564551033799397,
          0.9616649542301332,
          0.961747805221081,
          0.9632266100741258,
          0.9659843147396334,
          0.9802903255740538,
          0.9810227068483759,
          1.006396831827812,
          1.0174624200846851,
          1.0383815884124148,
          1.144467756699394
         ],
         "yaxis": "y"
        }
       ],
       "layout": {
        "legend": {
         "tracegroupgap": 0
        },
        "template": {
         "data": {
          "bar": [
           {
            "error_x": {
             "color": "#2a3f5f"
            },
            "error_y": {
             "color": "#2a3f5f"
            },
            "marker": {
             "line": {
              "color": "white",
              "width": 0.5
             },
             "pattern": {
              "fillmode": "overlay",
              "size": 10,
              "solidity": 0.2
             }
            },
            "type": "bar"
           }
          ],
          "barpolar": [
           {
            "marker": {
             "line": {
              "color": "white",
              "width": 0.5
             },
             "pattern": {
              "fillmode": "overlay",
              "size": 10,
              "solidity": 0.2
             }
            },
            "type": "barpolar"
           }
          ],
          "carpet": [
           {
            "aaxis": {
             "endlinecolor": "#2a3f5f",
             "gridcolor": "#C8D4E3",
             "linecolor": "#C8D4E3",
             "minorgridcolor": "#C8D4E3",
             "startlinecolor": "#2a3f5f"
            },
            "baxis": {
             "endlinecolor": "#2a3f5f",
             "gridcolor": "#C8D4E3",
             "linecolor": "#C8D4E3",
             "minorgridcolor": "#C8D4E3",
             "startlinecolor": "#2a3f5f"
            },
            "type": "carpet"
           }
          ],
          "choropleth": [
           {
            "colorbar": {
             "outlinewidth": 0,
             "ticks": ""
            },
            "type": "choropleth"
           }
          ],
          "contour": [
           {
            "colorbar": {
             "outlinewidth": 0,
             "ticks": ""
            },
            "colorscale": [
             [
              0,
              "#0d0887"
             ],
             [
              0.1111111111111111,
              "#46039f"
             ],
             [
              0.2222222222222222,
              "#7201a8"
             ],
             [
              0.3333333333333333,
              "#9c179e"
             ],
             [
              0.4444444444444444,
              "#bd3786"
             ],
             [
              0.5555555555555556,
              "#d8576b"
             ],
             [
              0.6666666666666666,
              "#ed7953"
             ],
             [
              0.7777777777777778,
              "#fb9f3a"
             ],
             [
              0.8888888888888888,
              "#fdca26"
             ],
             [
              1,
              "#f0f921"
             ]
            ],
            "type": "contour"
           }
          ],
          "contourcarpet": [
           {
            "colorbar": {
             "outlinewidth": 0,
             "ticks": ""
            },
            "type": "contourcarpet"
           }
          ],
          "heatmap": [
           {
            "colorbar": {
             "outlinewidth": 0,
             "ticks": ""
            },
            "colorscale": [
             [
              0,
              "#0d0887"
             ],
             [
              0.1111111111111111,
              "#46039f"
             ],
             [
              0.2222222222222222,
              "#7201a8"
             ],
             [
              0.3333333333333333,
              "#9c179e"
             ],
             [
              0.4444444444444444,
              "#bd3786"
             ],
             [
              0.5555555555555556,
              "#d8576b"
             ],
             [
              0.6666666666666666,
              "#ed7953"
             ],
             [
              0.7777777777777778,
              "#fb9f3a"
             ],
             [
              0.8888888888888888,
              "#fdca26"
             ],
             [
              1,
              "#f0f921"
             ]
            ],
            "type": "heatmap"
           }
          ],
          "heatmapgl": [
           {
            "colorbar": {
             "outlinewidth": 0,
             "ticks": ""
            },
            "colorscale": [
             [
              0,
              "#0d0887"
             ],
             [
              0.1111111111111111,
              "#46039f"
             ],
             [
              0.2222222222222222,
              "#7201a8"
             ],
             [
              0.3333333333333333,
              "#9c179e"
             ],
             [
              0.4444444444444444,
              "#bd3786"
             ],
             [
              0.5555555555555556,
              "#d8576b"
             ],
             [
              0.6666666666666666,
              "#ed7953"
             ],
             [
              0.7777777777777778,
              "#fb9f3a"
             ],
             [
              0.8888888888888888,
              "#fdca26"
             ],
             [
              1,
              "#f0f921"
             ]
            ],
            "type": "heatmapgl"
           }
          ],
          "histogram": [
           {
            "marker": {
             "pattern": {
              "fillmode": "overlay",
              "size": 10,
              "solidity": 0.2
             }
            },
            "type": "histogram"
           }
          ],
          "histogram2d": [
           {
            "colorbar": {
             "outlinewidth": 0,
             "ticks": ""
            },
            "colorscale": [
             [
              0,
              "#0d0887"
             ],
             [
              0.1111111111111111,
              "#46039f"
             ],
             [
              0.2222222222222222,
              "#7201a8"
             ],
             [
              0.3333333333333333,
              "#9c179e"
             ],
             [
              0.4444444444444444,
              "#bd3786"
             ],
             [
              0.5555555555555556,
              "#d8576b"
             ],
             [
              0.6666666666666666,
              "#ed7953"
             ],
             [
              0.7777777777777778,
              "#fb9f3a"
             ],
             [
              0.8888888888888888,
              "#fdca26"
             ],
             [
              1,
              "#f0f921"
             ]
            ],
            "type": "histogram2d"
           }
          ],
          "histogram2dcontour": [
           {
            "colorbar": {
             "outlinewidth": 0,
             "ticks": ""
            },
            "colorscale": [
             [
              0,
              "#0d0887"
             ],
             [
              0.1111111111111111,
              "#46039f"
             ],
             [
              0.2222222222222222,
              "#7201a8"
             ],
             [
              0.3333333333333333,
              "#9c179e"
             ],
             [
              0.4444444444444444,
              "#bd3786"
             ],
             [
              0.5555555555555556,
              "#d8576b"
             ],
             [
              0.6666666666666666,
              "#ed7953"
             ],
             [
              0.7777777777777778,
              "#fb9f3a"
             ],
             [
              0.8888888888888888,
              "#fdca26"
             ],
             [
              1,
              "#f0f921"
             ]
            ],
            "type": "histogram2dcontour"
           }
          ],
          "mesh3d": [
           {
            "colorbar": {
             "outlinewidth": 0,
             "ticks": ""
            },
            "type": "mesh3d"
           }
          ],
          "parcoords": [
           {
            "line": {
             "colorbar": {
              "outlinewidth": 0,
              "ticks": ""
             }
            },
            "type": "parcoords"
           }
          ],
          "pie": [
           {
            "automargin": true,
            "type": "pie"
           }
          ],
          "scatter": [
           {
            "fillpattern": {
             "fillmode": "overlay",
             "size": 10,
             "solidity": 0.2
            },
            "type": "scatter"
           }
          ],
          "scatter3d": [
           {
            "line": {
             "colorbar": {
              "outlinewidth": 0,
              "ticks": ""
             }
            },
            "marker": {
             "colorbar": {
              "outlinewidth": 0,
              "ticks": ""
             }
            },
            "type": "scatter3d"
           }
          ],
          "scattercarpet": [
           {
            "marker": {
             "colorbar": {
              "outlinewidth": 0,
              "ticks": ""
             }
            },
            "type": "scattercarpet"
           }
          ],
          "scattergeo": [
           {
            "marker": {
             "colorbar": {
              "outlinewidth": 0,
              "ticks": ""
             }
            },
            "type": "scattergeo"
           }
          ],
          "scattergl": [
           {
            "marker": {
             "colorbar": {
              "outlinewidth": 0,
              "ticks": ""
             }
            },
            "type": "scattergl"
           }
          ],
          "scattermapbox": [
           {
            "marker": {
             "colorbar": {
              "outlinewidth": 0,
              "ticks": ""
             }
            },
            "type": "scattermapbox"
           }
          ],
          "scatterpolar": [
           {
            "marker": {
             "colorbar": {
              "outlinewidth": 0,
              "ticks": ""
             }
            },
            "type": "scatterpolar"
           }
          ],
          "scatterpolargl": [
           {
            "marker": {
             "colorbar": {
              "outlinewidth": 0,
              "ticks": ""
             }
            },
            "type": "scatterpolargl"
           }
          ],
          "scatterternary": [
           {
            "marker": {
             "colorbar": {
              "outlinewidth": 0,
              "ticks": ""
             }
            },
            "type": "scatterternary"
           }
          ],
          "surface": [
           {
            "colorbar": {
             "outlinewidth": 0,
             "ticks": ""
            },
            "colorscale": [
             [
              0,
              "#0d0887"
             ],
             [
              0.1111111111111111,
              "#46039f"
             ],
             [
              0.2222222222222222,
              "#7201a8"
             ],
             [
              0.3333333333333333,
              "#9c179e"
             ],
             [
              0.4444444444444444,
              "#bd3786"
             ],
             [
              0.5555555555555556,
              "#d8576b"
             ],
             [
              0.6666666666666666,
              "#ed7953"
             ],
             [
              0.7777777777777778,
              "#fb9f3a"
             ],
             [
              0.8888888888888888,
              "#fdca26"
             ],
             [
              1,
              "#f0f921"
             ]
            ],
            "type": "surface"
           }
          ],
          "table": [
           {
            "cells": {
             "fill": {
              "color": "#EBF0F8"
             },
             "line": {
              "color": "white"
             }
            },
            "header": {
             "fill": {
              "color": "#C8D4E3"
             },
             "line": {
              "color": "white"
             }
            },
            "type": "table"
           }
          ]
         },
         "layout": {
          "annotationdefaults": {
           "arrowcolor": "#2a3f5f",
           "arrowhead": 0,
           "arrowwidth": 1
          },
          "autotypenumbers": "strict",
          "coloraxis": {
           "colorbar": {
            "outlinewidth": 0,
            "ticks": ""
           }
          },
          "colorscale": {
           "diverging": [
            [
             0,
             "#8e0152"
            ],
            [
             0.1,
             "#c51b7d"
            ],
            [
             0.2,
             "#de77ae"
            ],
            [
             0.3,
             "#f1b6da"
            ],
            [
             0.4,
             "#fde0ef"
            ],
            [
             0.5,
             "#f7f7f7"
            ],
            [
             0.6,
             "#e6f5d0"
            ],
            [
             0.7,
             "#b8e186"
            ],
            [
             0.8,
             "#7fbc41"
            ],
            [
             0.9,
             "#4d9221"
            ],
            [
             1,
             "#276419"
            ]
           ],
           "sequential": [
            [
             0,
             "#0d0887"
            ],
            [
             0.1111111111111111,
             "#46039f"
            ],
            [
             0.2222222222222222,
             "#7201a8"
            ],
            [
             0.3333333333333333,
             "#9c179e"
            ],
            [
             0.4444444444444444,
             "#bd3786"
            ],
            [
             0.5555555555555556,
             "#d8576b"
            ],
            [
             0.6666666666666666,
             "#ed7953"
            ],
            [
             0.7777777777777778,
             "#fb9f3a"
            ],
            [
             0.8888888888888888,
             "#fdca26"
            ],
            [
             1,
             "#f0f921"
            ]
           ],
           "sequentialminus": [
            [
             0,
             "#0d0887"
            ],
            [
             0.1111111111111111,
             "#46039f"
            ],
            [
             0.2222222222222222,
             "#7201a8"
            ],
            [
             0.3333333333333333,
             "#9c179e"
            ],
            [
             0.4444444444444444,
             "#bd3786"
            ],
            [
             0.5555555555555556,
             "#d8576b"
            ],
            [
             0.6666666666666666,
             "#ed7953"
            ],
            [
             0.7777777777777778,
             "#fb9f3a"
            ],
            [
             0.8888888888888888,
             "#fdca26"
            ],
            [
             1,
             "#f0f921"
            ]
           ]
          },
          "colorway": [
           "#636efa",
           "#EF553B",
           "#00cc96",
           "#ab63fa",
           "#FFA15A",
           "#19d3f3",
           "#FF6692",
           "#B6E880",
           "#FF97FF",
           "#FECB52"
          ],
          "font": {
           "color": "#2a3f5f"
          },
          "geo": {
           "bgcolor": "white",
           "lakecolor": "white",
           "landcolor": "white",
           "showlakes": true,
           "showland": true,
           "subunitcolor": "#C8D4E3"
          },
          "hoverlabel": {
           "align": "left"
          },
          "hovermode": "closest",
          "mapbox": {
           "style": "light"
          },
          "paper_bgcolor": "white",
          "plot_bgcolor": "white",
          "polar": {
           "angularaxis": {
            "gridcolor": "#EBF0F8",
            "linecolor": "#EBF0F8",
            "ticks": ""
           },
           "bgcolor": "white",
           "radialaxis": {
            "gridcolor": "#EBF0F8",
            "linecolor": "#EBF0F8",
            "ticks": ""
           }
          },
          "scene": {
           "xaxis": {
            "backgroundcolor": "white",
            "gridcolor": "#DFE8F3",
            "gridwidth": 2,
            "linecolor": "#EBF0F8",
            "showbackground": true,
            "ticks": "",
            "zerolinecolor": "#EBF0F8"
           },
           "yaxis": {
            "backgroundcolor": "white",
            "gridcolor": "#DFE8F3",
            "gridwidth": 2,
            "linecolor": "#EBF0F8",
            "showbackground": true,
            "ticks": "",
            "zerolinecolor": "#EBF0F8"
           },
           "zaxis": {
            "backgroundcolor": "white",
            "gridcolor": "#DFE8F3",
            "gridwidth": 2,
            "linecolor": "#EBF0F8",
            "showbackground": true,
            "ticks": "",
            "zerolinecolor": "#EBF0F8"
           }
          },
          "shapedefaults": {
           "line": {
            "color": "#2a3f5f"
           }
          },
          "ternary": {
           "aaxis": {
            "gridcolor": "#DFE8F3",
            "linecolor": "#A2B1C6",
            "ticks": ""
           },
           "baxis": {
            "gridcolor": "#DFE8F3",
            "linecolor": "#A2B1C6",
            "ticks": ""
           },
           "bgcolor": "white",
           "caxis": {
            "gridcolor": "#DFE8F3",
            "linecolor": "#A2B1C6",
            "ticks": ""
           }
          },
          "title": {
           "x": 0.05
          },
          "xaxis": {
           "automargin": true,
           "gridcolor": "#EBF0F8",
           "linecolor": "#EBF0F8",
           "ticks": "",
           "title": {
            "standoff": 15
           },
           "zerolinecolor": "#EBF0F8",
           "zerolinewidth": 2
          },
          "yaxis": {
           "automargin": true,
           "gridcolor": "#EBF0F8",
           "linecolor": "#EBF0F8",
           "ticks": "",
           "title": {
            "standoff": 15
           },
           "zerolinecolor": "#EBF0F8",
           "zerolinewidth": 2
          }
         }
        },
        "title": {
         "text": "Sentiment vs. Positive Vote Ratio<br>Pearson Correlation: 0.32"
        },
        "xaxis": {
         "anchor": "y",
         "domain": [
          0,
          1
         ],
         "title": {
          "text": "Average Sentiment Polarity (-1: Negative, +1: Positive)"
         }
        },
        "yaxis": {
         "anchor": "x",
         "domain": [
          0,
          1
         ],
         "title": {
          "text": "Positive Vote Ratio (0: All Negative, 1: All Positive)"
         }
        }
       }
      }
     },
     "metadata": {},
     "output_type": "display_data"
    }
   ],
   "source": [
    "import pandas as pd\n",
    "from GalPlots import *\n",
    "from textblob import TextBlob\n",
    "import nltk\n",
    "import os\n",
    "\n",
    "\n",
    "\n",
    "\n",
    "# Step 1: Parse the dataset\n",
    "def parse_rfa_file(file_path):\n",
    "    \"\"\"\n",
    "    Reads and parses the wiki-RfA.txt file, returning a DataFrame.\n",
    "\n",
    "    Args:\n",
    "        file_path (str): Path to the input file.\n",
    "\n",
    "    Returns:\n",
    "        pd.DataFrame: Parsed data as a DataFrame.\n",
    "    \"\"\"\n",
    "    if not os.path.exists(file_path):\n",
    "        raise FileNotFoundError(f\"The file {file_path} does not exist.\")\n",
    "\n",
    "    with open(file_path, 'r', encoding='utf-8') as file:\n",
    "        raw_data = file.read()\n",
    "\n",
    "    entries = raw_data.strip().split('\\n\\n')\n",
    "    votes = []\n",
    "\n",
    "    for entry in entries:\n",
    "        vote = {}\n",
    "        lines = entry.strip().split('\\n')\n",
    "        for line in lines:\n",
    "            if ':' not in line:\n",
    "                continue\n",
    "            key, value = line.split(':', 1)\n",
    "            key = key.strip()\n",
    "            value = value.strip().strip(\"'''\").strip('\"').strip(\"'\")\n",
    "            vote[key] = value\n",
    "        votes.append(vote)\n",
    "\n",
    "    df = pd.DataFrame(votes)\n",
    "\n",
    "    numeric_fields = ['VOT', 'RES', 'YEA']\n",
    "    for field in numeric_fields:\n",
    "        if field in df.columns:\n",
    "            df[field] = pd.to_numeric(df[field], errors='coerce')\n",
    "\n",
    "    return df\n",
    "\n",
    "# Step 2: Filter users with diverse voting history\n",
    "def filter_users(df, min_years=4):\n",
    "    \"\"\"\n",
    "    Keeps users with votes spanning at least a minimum number of years.\n",
    "\n",
    "    Args:\n",
    "        df (pd.DataFrame): Input DataFrame.\n",
    "        min_years (int): Minimum distinct voting years.\n",
    "\n",
    "    Returns:\n",
    "        pd.DataFrame: Filtered data.\n",
    "    \"\"\"\n",
    "    vote_counts = df.groupby('SRC')['YEA'].nunique().reset_index()\n",
    "    eligible_users = vote_counts[vote_counts['YEA'] >= min_years]['SRC']\n",
    "    return df[df['SRC'].isin(eligible_users)]\n",
    "\n",
    "# Step 3: Analyze sentiment of votes\n",
    "def analyze_sentiment(df):\n",
    "    \"\"\"\n",
    "    Adds a sentiment polarity score for each vote.\n",
    "\n",
    "    Args:\n",
    "        df (pd.DataFrame): Input DataFrame.\n",
    "\n",
    "    Returns:\n",
    "        pd.DataFrame: DataFrame with sentiment polarity.\n",
    "    \"\"\"\n",
    "    def compute_polarity(text):\n",
    "        try:\n",
    "            return TextBlob(text).sentiment.polarity\n",
    "        except Exception:\n",
    "            return 0.0\n",
    "\n",
    "    df = df.copy()  # Create a copy to avoid chained assignment issues\n",
    "    df['Polarity'] = df['TXT'].apply(compute_polarity)\n",
    "    return df\n",
    "\n",
    "\n",
    "# Step 4: Calculate correlation metrics\n",
    "def compute_correlation_ratio(df):\n",
    "    \"\"\"\n",
    "    Computes the correlation between sentiment polarity and vote positivity.\n",
    "\n",
    "    Args:\n",
    "        df (pd.DataFrame): DataFrame with sentiment data.\n",
    "\n",
    "    Returns:\n",
    "        pd.DataFrame: Aggregated data.\n",
    "        float: Correlation coefficient.\n",
    "    \"\"\"\n",
    "    vote_aggregation = df.groupby('SRC').agg(\n",
    "        Positive_Votes=('VOT', lambda x: (x > 0).sum()),\n",
    "        Negative_Votes=('VOT', lambda x: (x < 0).sum())\n",
    "    ).reset_index()\n",
    "\n",
    "    vote_aggregation['Positive_Vote_Ratio'] = vote_aggregation.apply(\n",
    "        lambda row: row['Positive_Votes'] / (row['Positive_Votes'] + row['Negative_Votes'])\n",
    "        if (row['Positive_Votes'] + row['Negative_Votes']) > 0 else None,\n",
    "        axis=1\n",
    "    )\n",
    "\n",
    "    vote_aggregation.dropna(subset=['Positive_Vote_Ratio'], inplace=True)\n",
    "\n",
    "    avg_polarity = df.groupby('SRC')['Polarity'].mean().reset_index().rename(columns={'Polarity': 'Average_Polarity'})\n",
    "    merged_df = pd.merge(vote_aggregation, avg_polarity, on='SRC')\n",
    "\n",
    "    correlation = merged_df['Average_Polarity'].corr(merged_df['Positive_Vote_Ratio'])\n",
    "    return merged_df, correlation\n",
    "\n",
    "# Step 5: Visualize the results\n",
    "def plot_correlation_ratio(merged_df, correlation):\n",
    "    \"\"\"\n",
    "    Creates an interactive scatterplot with a regression line to visualize correlation using Plotly.\n",
    "\n",
    "    Args:\n",
    "        merged_df (pd.DataFrame): Data with calculated metrics.\n",
    "        correlation (float): Correlation coefficient.\n",
    "    \"\"\"\n",
    "    fig = px.scatter(\n",
    "        merged_df,\n",
    "        x='Average_Polarity',\n",
    "        y='Positive_Vote_Ratio',\n",
    "        title=f\"Sentiment vs. Positive Vote Ratio<br>Pearson Correlation: {correlation:.2f}\",\n",
    "        labels={\n",
    "            \"Average_Polarity\": \"Average Sentiment Polarity (-1: Negative, +1: Positive)\",\n",
    "            \"Positive_Vote_Ratio\": \"Positive Vote Ratio (0: All Negative, 1: All Positive)\"\n",
    "        },\n",
    "        hover_data=['SRC'],\n",
    "        template=\"plotly_white\"\n",
    "    )\n",
    "\n",
    "    # Add regression trendline\n",
    "    fig.update_traces(marker=dict(size=10, opacity=0.7))\n",
    "\n",
    "    # Use trendline to show regression in Plotly (if desired)\n",
    "    trendline = px.scatter(\n",
    "        merged_df,\n",
    "        x='Average_Polarity',\n",
    "        y='Positive_Vote_Ratio',\n",
    "        trendline=\"ols\"\n",
    "    ).data[1]  # Extract the trendline layer\n",
    "    trendline['line']['color'] = 'red'\n",
    "    fig.add_trace(trendline)\n",
    "\n",
    "    fig.show()\n",
    "\n",
    "\n",
    "\n",
    "file_path = '../../data/wiki-RfA.txt'\n",
    "\n",
    "print(\"Loading and parsing data...\")\n",
    "df = parse_rfa_file(file_path)\n",
    "print(f\"Parsed {len(df)} votes.\")\n",
    "\n",
    "print(\"Filtering users with sufficient voting history...\")\n",
    "filtered_df = filter_users(df, min_years=4)\n",
    "print(f\"Filtered down to {filtered_df['SRC'].nunique()} users.\")\n",
    "\n",
    "if filtered_df.empty:\n",
    "    print(\"No users meet the criteria for analysis.\")\n",
    "    \n",
    "else:\n",
    "    print(\"Analyzing sentiment...\")\n",
    "    filtered_df = analyze_sentiment(filtered_df)\n",
    "\n",
    "    print(\"Calculating correlation metrics...\")\n",
    "    merged_df, correlation = compute_correlation_ratio(filtered_df)\n",
    "    print(f\"Correlation coefficient: {correlation:.2f}\")\n",
    "\n",
    "    print(\"Visualizing results...\")\n",
    "    plot_correlation_ratio(merged_df, correlation)\n",
    "\n",
    "\n"
   ]
  },
  {
   "cell_type": "code",
   "execution_count": null,
   "metadata": {},
   "outputs": [],
   "source": [
    "## TODO POWER VOTERS and "
   ]
  }
 ],
 "metadata": {
  "kernelspec": {
   "display_name": ".venv",
   "language": "python",
   "name": "python3"
  },
  "language_info": {
   "codemirror_mode": {
    "name": "ipython",
    "version": 3
   },
   "file_extension": ".py",
   "mimetype": "text/x-python",
   "name": "python",
   "nbconvert_exporter": "python",
   "pygments_lexer": "ipython3",
   "version": "3.12.5"
  }
 },
 "nbformat": 4,
 "nbformat_minor": 2
}
