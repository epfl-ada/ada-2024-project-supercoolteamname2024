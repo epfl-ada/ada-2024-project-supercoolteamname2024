{
 "cells": [
  {
   "cell_type": "code",
   "execution_count": 5,
   "id": "0d5cefb9-374c-45e7-a965-1ad13162ae7e",
   "metadata": {},
   "outputs": [],
   "source": [
    "import json\n",
    "\n",
    "# Fonction pour lire un dictionnaire depuis un fichier JSON\n",
    "def read_dict_from_json(file_path):\n",
    "    with open(file_path, 'r', encoding='utf-8') as file:  # Lire en UTF-8\n",
    "        data = json.load(file)\n",
    "    if not isinstance(data, dict):\n",
    "        raise ValueError(\"Le fichier JSON ne contient pas un dictionnaire valide.\")\n",
    "    return data\n",
    "\n",
    "\n",
    "# Utilisation\n",
    "input_json_file = \"../../data/new_usernames_with_data.json\"  # Nom du fichier JSON d'entrée\n",
    "output_txt_file = \"../../data/new_usernames.txt\"  # Nom du fichier texte de sortie\n",
    "\n",
    "try:\n",
    "    # Lire le dictionnaire depuis le fichier JSON\n",
    "    my_dict = read_dict_from_json(input_json_file)\n",
    "\n",
    "except Exception as e:\n",
    "    print(f\"Une erreur s'est produite : {e}\")\n"
   ]
  },
  {
   "cell_type": "code",
   "execution_count": 11,
   "id": "91d4fddf-30fd-4279-9905-54f069feb275",
   "metadata": {},
   "outputs": [],
   "source": [
    "list = list(my_dict['new_usernames_with_data'].keys())"
   ]
  },
  {
   "cell_type": "code",
   "execution_count": 12,
   "id": "3ab67448-257e-4fe3-aac1-b59667a8c157",
   "metadata": {},
   "outputs": [],
   "source": [
    "with open(\"../../data/new_usernames.txt\", \"w\", encoding=\"utf-8\") as file: file.writelines(f\"{item}\\n\" for item in list)"
   ]
  },
  {
   "cell_type": "code",
   "execution_count": null,
   "id": "288d2c92-8e29-4483-9961-b83bea4c57fa",
   "metadata": {},
   "outputs": [],
   "source": []
  }
 ],
 "metadata": {
  "kernelspec": {
   "display_name": "Python 3 (ipykernel)",
   "language": "python",
   "name": "python3"
  },
  "language_info": {
   "codemirror_mode": {
    "name": "ipython",
    "version": 3
   },
   "file_extension": ".py",
   "mimetype": "text/x-python",
   "name": "python",
   "nbconvert_exporter": "python",
   "pygments_lexer": "ipython3",
   "version": "3.11.9"
  }
 },
 "nbformat": 4,
 "nbformat_minor": 5
}
