{
 "cells": [
  {
   "cell_type": "code",
   "execution_count": 6,
   "id": "8862f5e9-3237-449b-b974-7960e04df664",
   "metadata": {},
   "outputs": [],
   "source": [
    "import json"
   ]
  },
  {
   "cell_type": "code",
   "execution_count": 7,
   "id": "94cd1810-9b19-4a7b-81c4-f35599b9af6f",
   "metadata": {},
   "outputs": [],
   "source": [
    "users_with_data = '../../data/usernames_with_data.json'\n",
    "new_users_with_data = '../../data/new_usernames_with_data.json'"
   ]
  },
  {
   "cell_type": "code",
   "execution_count": 8,
   "id": "ce1d09bf-d824-4fd3-a218-736fc237cedb",
   "metadata": {},
   "outputs": [],
   "source": [
    "f1 = open(users_with_data, 'r', encoding='utf-8')\n",
    "data1 = json.load(f1)\n",
    "f2 = open(new_users_with_data, 'r', encoding='utf-8')\n",
    "data2 = json.load(f2) "
   ]
  },
  {
   "cell_type": "code",
   "execution_count": 12,
   "id": "f6d75e74-f943-4333-9410-f44f5b1e9f57",
   "metadata": {},
   "outputs": [],
   "source": [
    "merged_dict  = data1['usernames_with_data']| data2['new_usernames_with_data']"
   ]
  },
  {
   "cell_type": "code",
   "execution_count": 16,
   "id": "19b6038f-ebc4-4761-8c5d-c0f12a6cdb43",
   "metadata": {},
   "outputs": [],
   "source": [
    "json.dump(merged_dict, open(\"../../data/usernames_with_titles_updated.json\", \"w\", encoding=\"utf-8\"), indent=4, ensure_ascii=False)"
   ]
  },
  {
   "cell_type": "code",
   "execution_count": null,
   "id": "029d7029-0410-49fc-abf4-28f75a68785e",
   "metadata": {},
   "outputs": [],
   "source": []
  }
 ],
 "metadata": {
  "kernelspec": {
   "display_name": "Python 3 (ipykernel)",
   "language": "python",
   "name": "python3"
  },
  "language_info": {
   "codemirror_mode": {
    "name": "ipython",
    "version": 3
   },
   "file_extension": ".py",
   "mimetype": "text/x-python",
   "name": "python",
   "nbconvert_exporter": "python",
   "pygments_lexer": "ipython3",
   "version": "3.11.9"
  }
 },
 "nbformat": 4,
 "nbformat_minor": 5
}
