{
 "cells": [
  {
   "cell_type": "code",
   "execution_count": 6,
   "id": "8862f5e9-3237-449b-b974-7960e04df664",
   "metadata": {},
   "outputs": [],
   "source": [
    "import json"
   ]
  },
  {
   "cell_type": "markdown",
   "id": "bc04f788-a77d-405a-891e-2f81d58fd30e",
   "metadata": {},
   "source": [
    "Merge users that have data available from xtools as well as users that have data available from xtool after we recovered their new username"
   ]
  },
  {
   "cell_type": "code",
   "execution_count": 7,
   "id": "94cd1810-9b19-4a7b-81c4-f35599b9af6f",
   "metadata": {},
   "outputs": [],
   "source": [
    "users_with_data = '../../data/usernames_with_data.json'\n",
    "new_users_with_data = '../../data/new_usernames_with_data.json'"
   ]
  },
  {
   "cell_type": "code",
   "execution_count": 8,
   "id": "ce1d09bf-d824-4fd3-a218-736fc237cedb",
   "metadata": {},
   "outputs": [],
   "source": [
    "f1 = open(users_with_data, 'r', encoding='utf-8')\n",
    "data1 = json.load(f1)\n",
    "f2 = open(new_users_with_data, 'r', encoding='utf-8')\n",
    "data2 = json.load(f2) "
   ]
  },
  {
   "cell_type": "code",
   "execution_count": 12,
   "id": "f6d75e74-f943-4333-9410-f44f5b1e9f57",
   "metadata": {},
   "outputs": [],
   "source": [
    "merged_dict  = data1['usernames_with_data']| data2['new_usernames_with_data']"
   ]
  },
  {
   "cell_type": "code",
   "execution_count": 16,
   "id": "19b6038f-ebc4-4761-8c5d-c0f12a6cdb43",
   "metadata": {},
   "outputs": [],
   "source": [
    "json.dump(merged_dict, open(\"../../data/usernames_with_titles_updated.json\", \"w\", encoding=\"utf-8\"), indent=4, ensure_ascii=False)"
   ]
  },
  {
   "cell_type": "markdown",
   "id": "09cee741-1bb1-40c9-87f7-7ffdb0cc8ba2",
   "metadata": {},
   "source": [
    "Merge datafiles that associate user categories, because we did the LLM classification in two separate steps since the new usernames weren't available at this time"
   ]
  },
  {
   "cell_type": "code",
   "execution_count": 18,
   "id": "071e06b9-71cc-416c-8b9e-7565cc488223",
   "metadata": {},
   "outputs": [],
   "source": [
    "user_cat = '../../data/user_categories.json'\n",
    "new_user_cat = '../../data/user_categories_new.json'"
   ]
  },
  {
   "cell_type": "code",
   "execution_count": 21,
   "id": "364e465d-4df6-4748-8527-09c511594bb0",
   "metadata": {},
   "outputs": [],
   "source": [
    "f1 = open(user_cat, 'r', encoding='utf-8')\n",
    "cat = json.load(f1)\n",
    "f2 = open(new_user_cat, 'r', encoding='utf-8')\n",
    "new_cat = json.load(f2) "
   ]
  },
  {
   "cell_type": "code",
   "execution_count": 23,
   "id": "ffc742b0-95d2-49dc-9aa4-b386ca55ab2b",
   "metadata": {},
   "outputs": [],
   "source": [
    "merged_cat = cat | new_cat"
   ]
  },
  {
   "cell_type": "code",
   "execution_count": 25,
   "id": "452a2db4-52c7-47c2-a737-e82d27c60b33",
   "metadata": {},
   "outputs": [],
   "source": [
    "json.dump(merged_dict, open(\"../../data/user_categories_updated.json\", \"w\", encoding=\"utf-8\"), indent=4, ensure_ascii=False)"
   ]
  },
  {
   "cell_type": "code",
   "execution_count": null,
   "id": "f78d2d20-b7ad-4c6e-8477-0924b489be9c",
   "metadata": {},
   "outputs": [],
   "source": []
  }
 ],
 "metadata": {
  "kernelspec": {
   "display_name": "Python 3 (ipykernel)",
   "language": "python",
   "name": "python3"
  },
  "language_info": {
   "codemirror_mode": {
    "name": "ipython",
    "version": 3
   },
   "file_extension": ".py",
   "mimetype": "text/x-python",
   "name": "python",
   "nbconvert_exporter": "python",
   "pygments_lexer": "ipython3",
   "version": "3.11.9"
  }
 },
 "nbformat": 4,
 "nbformat_minor": 5
}
